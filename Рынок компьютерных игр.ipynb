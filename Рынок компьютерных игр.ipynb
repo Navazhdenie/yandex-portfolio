{
 "cells": [
  {
   "cell_type": "markdown",
   "metadata": {},
   "source": []
  },
  {
   "cell_type": "markdown",
   "metadata": {},
   "source": [
    "**Рекомендации по планированию на 2017 год:**\n",
    "\n",
    "При планировании на 2017 год следует учесть, что для Североамериканского и Европейского региона популярны игры маркировки E, M, T, жанра Shooter, и выпущенные для платформы PS4. Для Японского сектора характернее в основном \"детские\" игры жанра RPG, выпущенные для платформы 3DS.\n",
    "\n",
    "Следует обращать внимание на отзывы критиков, а возможно и оплатить \"рекламные отзывы\" популярных критиков. Отзывы пользователей существенного влияния на продажи не оказывают."
   ]
  },
  {
   "cell_type": "markdown",
   "metadata": {},
   "source": [
    "**Описание проекта**\n",
    "\n",
    "Вы работаете в интернет-магазине «Стримчик», который продаёт по всему миру компьютерные игры. Из открытых источников доступны исторические данные о продажах игр, оценки пользователей и экспертов, жанры и платформы (например, Xbox или PlayStation). \n",
    "\n",
    "Вам нужно выявить определяющие успешность игры закономерности. Это позволит сделать ставку на потенциально популярный продукт и спланировать рекламные кампании."
   ]
  },
  {
   "cell_type": "markdown",
   "metadata": {},
   "source": [
    "**Описание данных:**\n",
    "\n",
    "Name — название игр\n",
    "\n",
    "Platform — платформа\n",
    "\n",
    "Year_of_Release — год выпуска\n",
    "\n",
    "Genre — жанр игры\n",
    "\n",
    "NA_sales — продажи в Северной Америке (миллионы проданных копий)\n",
    "\n",
    "EU_sales — продажи в Европе (миллионы проданных копий)\n",
    "\n",
    "JP_sales — продажи в Японии (миллионы проданных копий)\n",
    "\n",
    "Other_sales — продажи в других странах (миллионы проданных копий)\n",
    "\n",
    "Critic_Score — оценка критиков (максимум 100)\n",
    "\n",
    "User_Score — оценка пользователей (максимум 10)\n",
    "\n",
    "Rating — рейтинг от организации ESRB (англ. Entertainment Software Rating Board). Эта ассоциация определяет рейтинг \n",
    "компьютерных игр и присваивает им подходящую возрастную категорию."
   ]
  },
  {
   "cell_type": "markdown",
   "metadata": {},
   "source": [
    "##  Подготовка данных к работе \n"
   ]
  },
  {
   "cell_type": "code",
   "execution_count": 2,
   "metadata": {},
   "outputs": [],
   "source": [
    "# импортируем нужные в работе библиотеки \n",
    "import pandas as pd\n",
    "import matplotlib.pyplot as plt\n",
    "import seaborn as sns\n",
    "import numpy as np\n",
    "from scipy import stats as st\n",
    "\n",
    "# отобразим все колонки таблицы \n",
    "pd.set_option('display.max_columns', None)"
   ]
  },
  {
   "cell_type": "code",
   "execution_count": 3,
   "metadata": {},
   "outputs": [],
   "source": [
    "# считываем файл посмотрим первые строки\n",
    "df = pd.read_csv('/datasets/games.csv')"
   ]
  },
  {
   "cell_type": "code",
   "execution_count": 4,
   "metadata": {},
   "outputs": [
    {
     "data": {
      "text/html": [
       "<div>\n",
       "<style scoped>\n",
       "    .dataframe tbody tr th:only-of-type {\n",
       "        vertical-align: middle;\n",
       "    }\n",
       "\n",
       "    .dataframe tbody tr th {\n",
       "        vertical-align: top;\n",
       "    }\n",
       "\n",
       "    .dataframe thead th {\n",
       "        text-align: right;\n",
       "    }\n",
       "</style>\n",
       "<table border=\"1\" class=\"dataframe\">\n",
       "  <thead>\n",
       "    <tr style=\"text-align: right;\">\n",
       "      <th></th>\n",
       "      <th>Name</th>\n",
       "      <th>Platform</th>\n",
       "      <th>Year_of_Release</th>\n",
       "      <th>Genre</th>\n",
       "      <th>NA_sales</th>\n",
       "      <th>EU_sales</th>\n",
       "      <th>JP_sales</th>\n",
       "      <th>Other_sales</th>\n",
       "      <th>Critic_Score</th>\n",
       "      <th>User_Score</th>\n",
       "      <th>Rating</th>\n",
       "    </tr>\n",
       "  </thead>\n",
       "  <tbody>\n",
       "    <tr>\n",
       "      <th>0</th>\n",
       "      <td>Wii Sports</td>\n",
       "      <td>Wii</td>\n",
       "      <td>2006.0</td>\n",
       "      <td>Sports</td>\n",
       "      <td>41.36</td>\n",
       "      <td>28.96</td>\n",
       "      <td>3.77</td>\n",
       "      <td>8.45</td>\n",
       "      <td>76.0</td>\n",
       "      <td>8</td>\n",
       "      <td>E</td>\n",
       "    </tr>\n",
       "    <tr>\n",
       "      <th>1</th>\n",
       "      <td>Super Mario Bros.</td>\n",
       "      <td>NES</td>\n",
       "      <td>1985.0</td>\n",
       "      <td>Platform</td>\n",
       "      <td>29.08</td>\n",
       "      <td>3.58</td>\n",
       "      <td>6.81</td>\n",
       "      <td>0.77</td>\n",
       "      <td>NaN</td>\n",
       "      <td>NaN</td>\n",
       "      <td>NaN</td>\n",
       "    </tr>\n",
       "    <tr>\n",
       "      <th>2</th>\n",
       "      <td>Mario Kart Wii</td>\n",
       "      <td>Wii</td>\n",
       "      <td>2008.0</td>\n",
       "      <td>Racing</td>\n",
       "      <td>15.68</td>\n",
       "      <td>12.76</td>\n",
       "      <td>3.79</td>\n",
       "      <td>3.29</td>\n",
       "      <td>82.0</td>\n",
       "      <td>8.3</td>\n",
       "      <td>E</td>\n",
       "    </tr>\n",
       "    <tr>\n",
       "      <th>3</th>\n",
       "      <td>Wii Sports Resort</td>\n",
       "      <td>Wii</td>\n",
       "      <td>2009.0</td>\n",
       "      <td>Sports</td>\n",
       "      <td>15.61</td>\n",
       "      <td>10.93</td>\n",
       "      <td>3.28</td>\n",
       "      <td>2.95</td>\n",
       "      <td>80.0</td>\n",
       "      <td>8</td>\n",
       "      <td>E</td>\n",
       "    </tr>\n",
       "    <tr>\n",
       "      <th>4</th>\n",
       "      <td>Pokemon Red/Pokemon Blue</td>\n",
       "      <td>GB</td>\n",
       "      <td>1996.0</td>\n",
       "      <td>Role-Playing</td>\n",
       "      <td>11.27</td>\n",
       "      <td>8.89</td>\n",
       "      <td>10.22</td>\n",
       "      <td>1.00</td>\n",
       "      <td>NaN</td>\n",
       "      <td>NaN</td>\n",
       "      <td>NaN</td>\n",
       "    </tr>\n",
       "  </tbody>\n",
       "</table>\n",
       "</div>"
      ],
      "text/plain": [
       "                       Name Platform  Year_of_Release         Genre  NA_sales  \\\n",
       "0                Wii Sports      Wii           2006.0        Sports     41.36   \n",
       "1         Super Mario Bros.      NES           1985.0      Platform     29.08   \n",
       "2            Mario Kart Wii      Wii           2008.0        Racing     15.68   \n",
       "3         Wii Sports Resort      Wii           2009.0        Sports     15.61   \n",
       "4  Pokemon Red/Pokemon Blue       GB           1996.0  Role-Playing     11.27   \n",
       "\n",
       "   EU_sales  JP_sales  Other_sales  Critic_Score User_Score Rating  \n",
       "0     28.96      3.77         8.45          76.0          8      E  \n",
       "1      3.58      6.81         0.77           NaN        NaN    NaN  \n",
       "2     12.76      3.79         3.29          82.0        8.3      E  \n",
       "3     10.93      3.28         2.95          80.0          8      E  \n",
       "4      8.89     10.22         1.00           NaN        NaN    NaN  "
      ]
     },
     "execution_count": 4,
     "metadata": {},
     "output_type": "execute_result"
    }
   ],
   "source": [
    "df.head()"
   ]
  },
  {
   "cell_type": "code",
   "execution_count": 5,
   "metadata": {},
   "outputs": [
    {
     "data": {
      "text/plain": [
       "0"
      ]
     },
     "execution_count": 5,
     "metadata": {},
     "output_type": "execute_result"
    }
   ],
   "source": [
    "# проверка на явные дубликаты\n",
    "df.duplicated().sum()"
   ]
  },
  {
   "cell_type": "code",
   "execution_count": 6,
   "metadata": {},
   "outputs": [
    {
     "name": "stdout",
     "output_type": "stream",
     "text": [
      "<class 'pandas.core.frame.DataFrame'>\n",
      "RangeIndex: 16715 entries, 0 to 16714\n",
      "Data columns (total 11 columns):\n",
      " #   Column           Non-Null Count  Dtype  \n",
      "---  ------           --------------  -----  \n",
      " 0   Name             16713 non-null  object \n",
      " 1   Platform         16715 non-null  object \n",
      " 2   Year_of_Release  16446 non-null  float64\n",
      " 3   Genre            16713 non-null  object \n",
      " 4   NA_sales         16715 non-null  float64\n",
      " 5   EU_sales         16715 non-null  float64\n",
      " 6   JP_sales         16715 non-null  float64\n",
      " 7   Other_sales      16715 non-null  float64\n",
      " 8   Critic_Score     8137 non-null   float64\n",
      " 9   User_Score       10014 non-null  object \n",
      " 10  Rating           9949 non-null   object \n",
      "dtypes: float64(6), object(5)\n",
      "memory usage: 1.4+ MB\n"
     ]
    }
   ],
   "source": [
    "# смотрим информацию о типах данных и пропусках\n",
    "df.info()"
   ]
  },
  {
   "cell_type": "markdown",
   "metadata": {},
   "source": [
    "### Переименование столбцов"
   ]
  },
  {
   "cell_type": "markdown",
   "metadata": {},
   "source": [
    "Помимо пропусков видим, что названия столбцов в не самом удобном формате, приведем их к нижнему регистру:"
   ]
  },
  {
   "cell_type": "code",
   "execution_count": 7,
   "metadata": {
    "scrolled": true
   },
   "outputs": [
    {
     "data": {
      "text/html": [
       "<div>\n",
       "<style scoped>\n",
       "    .dataframe tbody tr th:only-of-type {\n",
       "        vertical-align: middle;\n",
       "    }\n",
       "\n",
       "    .dataframe tbody tr th {\n",
       "        vertical-align: top;\n",
       "    }\n",
       "\n",
       "    .dataframe thead th {\n",
       "        text-align: right;\n",
       "    }\n",
       "</style>\n",
       "<table border=\"1\" class=\"dataframe\">\n",
       "  <thead>\n",
       "    <tr style=\"text-align: right;\">\n",
       "      <th></th>\n",
       "      <th>name</th>\n",
       "      <th>platform</th>\n",
       "      <th>year_of_release</th>\n",
       "      <th>genre</th>\n",
       "      <th>na_sales</th>\n",
       "      <th>eu_sales</th>\n",
       "      <th>jp_sales</th>\n",
       "      <th>other_sales</th>\n",
       "      <th>critic_score</th>\n",
       "      <th>user_score</th>\n",
       "      <th>rating</th>\n",
       "    </tr>\n",
       "  </thead>\n",
       "  <tbody>\n",
       "    <tr>\n",
       "      <th>0</th>\n",
       "      <td>Wii Sports</td>\n",
       "      <td>Wii</td>\n",
       "      <td>2006.0</td>\n",
       "      <td>Sports</td>\n",
       "      <td>41.36</td>\n",
       "      <td>28.96</td>\n",
       "      <td>3.77</td>\n",
       "      <td>8.45</td>\n",
       "      <td>76.0</td>\n",
       "      <td>8</td>\n",
       "      <td>E</td>\n",
       "    </tr>\n",
       "    <tr>\n",
       "      <th>1</th>\n",
       "      <td>Super Mario Bros.</td>\n",
       "      <td>NES</td>\n",
       "      <td>1985.0</td>\n",
       "      <td>Platform</td>\n",
       "      <td>29.08</td>\n",
       "      <td>3.58</td>\n",
       "      <td>6.81</td>\n",
       "      <td>0.77</td>\n",
       "      <td>NaN</td>\n",
       "      <td>NaN</td>\n",
       "      <td>NaN</td>\n",
       "    </tr>\n",
       "    <tr>\n",
       "      <th>2</th>\n",
       "      <td>Mario Kart Wii</td>\n",
       "      <td>Wii</td>\n",
       "      <td>2008.0</td>\n",
       "      <td>Racing</td>\n",
       "      <td>15.68</td>\n",
       "      <td>12.76</td>\n",
       "      <td>3.79</td>\n",
       "      <td>3.29</td>\n",
       "      <td>82.0</td>\n",
       "      <td>8.3</td>\n",
       "      <td>E</td>\n",
       "    </tr>\n",
       "    <tr>\n",
       "      <th>3</th>\n",
       "      <td>Wii Sports Resort</td>\n",
       "      <td>Wii</td>\n",
       "      <td>2009.0</td>\n",
       "      <td>Sports</td>\n",
       "      <td>15.61</td>\n",
       "      <td>10.93</td>\n",
       "      <td>3.28</td>\n",
       "      <td>2.95</td>\n",
       "      <td>80.0</td>\n",
       "      <td>8</td>\n",
       "      <td>E</td>\n",
       "    </tr>\n",
       "    <tr>\n",
       "      <th>4</th>\n",
       "      <td>Pokemon Red/Pokemon Blue</td>\n",
       "      <td>GB</td>\n",
       "      <td>1996.0</td>\n",
       "      <td>Role-Playing</td>\n",
       "      <td>11.27</td>\n",
       "      <td>8.89</td>\n",
       "      <td>10.22</td>\n",
       "      <td>1.00</td>\n",
       "      <td>NaN</td>\n",
       "      <td>NaN</td>\n",
       "      <td>NaN</td>\n",
       "    </tr>\n",
       "  </tbody>\n",
       "</table>\n",
       "</div>"
      ],
      "text/plain": [
       "                       name platform  year_of_release         genre  na_sales  \\\n",
       "0                Wii Sports      Wii           2006.0        Sports     41.36   \n",
       "1         Super Mario Bros.      NES           1985.0      Platform     29.08   \n",
       "2            Mario Kart Wii      Wii           2008.0        Racing     15.68   \n",
       "3         Wii Sports Resort      Wii           2009.0        Sports     15.61   \n",
       "4  Pokemon Red/Pokemon Blue       GB           1996.0  Role-Playing     11.27   \n",
       "\n",
       "   eu_sales  jp_sales  other_sales  critic_score user_score rating  \n",
       "0     28.96      3.77         8.45          76.0          8      E  \n",
       "1      3.58      6.81         0.77           NaN        NaN    NaN  \n",
       "2     12.76      3.79         3.29          82.0        8.3      E  \n",
       "3     10.93      3.28         2.95          80.0          8      E  \n",
       "4      8.89     10.22         1.00           NaN        NaN    NaN  "
      ]
     },
     "execution_count": 7,
     "metadata": {},
     "output_type": "execute_result"
    }
   ],
   "source": [
    "df.columns = df.columns.str.lower()\n",
    "df.head()"
   ]
  },
  {
   "cell_type": "markdown",
   "metadata": {},
   "source": [
    "### Замена типов данных"
   ]
  },
  {
   "cell_type": "markdown",
   "metadata": {},
   "source": [
    "Далее видим, что в некоторых столбцах необходимо заменить тип данных.  В столбце year_of_release с float на int, так как номер года целочисленен, user_score с object на float так как в этом столбце явно используются вещественные числа от 0 до 10:"
   ]
  },
  {
   "cell_type": "code",
   "execution_count": 8,
   "metadata": {},
   "outputs": [
    {
     "data": {
      "text/plain": [
       "array([2006., 1985., 2008., 2009., 1996., 1989., 1984., 2005., 1999.,\n",
       "       2007., 2010., 2013., 2004., 1990., 1988., 2002., 2001., 2011.,\n",
       "       1998., 2015., 2012., 2014., 1992., 1997., 1993., 1994., 1982.,\n",
       "       2016., 2003., 1986., 2000.,   nan, 1995., 1991., 1981., 1987.,\n",
       "       1980., 1983.])"
      ]
     },
     "execution_count": 8,
     "metadata": {},
     "output_type": "execute_result"
    }
   ],
   "source": [
    "df.year_of_release.unique()"
   ]
  },
  {
   "cell_type": "code",
   "execution_count": 9,
   "metadata": {},
   "outputs": [
    {
     "data": {
      "text/plain": [
       "array(['8', nan, '8.3', '8.5', '6.6', '8.4', '8.6', '7.7', '6.3', '7.4',\n",
       "       '8.2', '9', '7.9', '8.1', '8.7', '7.1', '3.4', '5.3', '4.8', '3.2',\n",
       "       '8.9', '6.4', '7.8', '7.5', '2.6', '7.2', '9.2', '7', '7.3', '4.3',\n",
       "       '7.6', '5.7', '5', '9.1', '6.5', 'tbd', '8.8', '6.9', '9.4', '6.8',\n",
       "       '6.1', '6.7', '5.4', '4', '4.9', '4.5', '9.3', '6.2', '4.2', '6',\n",
       "       '3.7', '4.1', '5.8', '5.6', '5.5', '4.4', '4.6', '5.9', '3.9',\n",
       "       '3.1', '2.9', '5.2', '3.3', '4.7', '5.1', '3.5', '2.5', '1.9', '3',\n",
       "       '2.7', '2.2', '2', '9.5', '2.1', '3.6', '2.8', '1.8', '3.8', '0',\n",
       "       '1.6', '9.6', '2.4', '1.7', '1.1', '0.3', '1.5', '0.7', '1.2',\n",
       "       '2.3', '0.5', '1.3', '0.2', '0.6', '1.4', '0.9', '1', '9.7'],\n",
       "      dtype=object)"
      ]
     },
     "execution_count": 9,
     "metadata": {},
     "output_type": "execute_result"
    }
   ],
   "source": [
    "df.user_score.unique()"
   ]
  },
  {
   "cell_type": "code",
   "execution_count": 10,
   "metadata": {},
   "outputs": [],
   "source": [
    "# меняем тип данных в year_of_release\n",
    "df['year_of_release'] = df['year_of_release'].astype(pd.Int64Dtype())"
   ]
  },
  {
   "cell_type": "markdown",
   "metadata": {},
   "source": [
    "В столбце user_score есть также значение tbd. Что означает \"To Be Determined\" (будет определено) или \"To Be Decided\" (будет решено) и используется, когда информация еще не была получена. \n",
    "\n",
    "Полагаю, что значения tbd можно заменить на nan и после этого поменять тип столбца:"
   ]
  },
  {
   "cell_type": "code",
   "execution_count": 11,
   "metadata": {
    "scrolled": true
   },
   "outputs": [],
   "source": [
    "# меняем 'tbd' на nan\n",
    "df.loc[df['user_score'] == 'tbd', 'user_score'] = np.nan\n",
    "\n",
    "# преобразуем тип данных\n",
    "df['user_score'] = df['user_score'].astype('float64',  errors='ignore')"
   ]
  },
  {
   "cell_type": "code",
   "execution_count": 12,
   "metadata": {
    "scrolled": true
   },
   "outputs": [
    {
     "name": "stdout",
     "output_type": "stream",
     "text": [
      "<class 'pandas.core.frame.DataFrame'>\n",
      "RangeIndex: 16715 entries, 0 to 16714\n",
      "Data columns (total 11 columns):\n",
      " #   Column           Non-Null Count  Dtype  \n",
      "---  ------           --------------  -----  \n",
      " 0   name             16713 non-null  object \n",
      " 1   platform         16715 non-null  object \n",
      " 2   year_of_release  16446 non-null  Int64  \n",
      " 3   genre            16713 non-null  object \n",
      " 4   na_sales         16715 non-null  float64\n",
      " 5   eu_sales         16715 non-null  float64\n",
      " 6   jp_sales         16715 non-null  float64\n",
      " 7   other_sales      16715 non-null  float64\n",
      " 8   critic_score     8137 non-null   float64\n",
      " 9   user_score       7590 non-null   float64\n",
      " 10  rating           9949 non-null   object \n",
      "dtypes: Int64(1), float64(6), object(4)\n",
      "memory usage: 1.4+ MB\n"
     ]
    }
   ],
   "source": [
    "df.info()"
   ]
  },
  {
   "cell_type": "markdown",
   "metadata": {},
   "source": [
    "### Работа с пропусками\n"
   ]
  },
  {
   "cell_type": "code",
   "execution_count": 13,
   "metadata": {},
   "outputs": [
    {
     "data": {
      "text/plain": [
       "platform              0\n",
       "na_sales              0\n",
       "eu_sales              0\n",
       "jp_sales              0\n",
       "other_sales           0\n",
       "name                  2\n",
       "genre                 2\n",
       "year_of_release     269\n",
       "rating             6766\n",
       "critic_score       8578\n",
       "user_score         9125\n",
       "dtype: int64"
      ]
     },
     "execution_count": 13,
     "metadata": {},
     "output_type": "execute_result"
    }
   ],
   "source": [
    "# суммируем пропуски\n",
    "df.isna().sum().sort_values()"
   ]
  },
  {
   "cell_type": "code",
   "execution_count": 14,
   "metadata": {},
   "outputs": [
    {
     "data": {
      "text/html": [
       "<style  type=\"text/css\" >\n",
       "#T_41ef9_row0_col0,#T_41ef9_row1_col0,#T_41ef9_row2_col0,#T_41ef9_row3_col0,#T_41ef9_row4_col0,#T_41ef9_row5_col0,#T_41ef9_row6_col0{\n",
       "            background-color:  #f7fcf0;\n",
       "            color:  #000000;\n",
       "        }#T_41ef9_row7_col0{\n",
       "            background-color:  #f2faeb;\n",
       "            color:  #000000;\n",
       "        }#T_41ef9_row8_col0{\n",
       "            background-color:  #2d8fbf;\n",
       "            color:  #000000;\n",
       "        }#T_41ef9_row9_col0{\n",
       "            background-color:  #085395;\n",
       "            color:  #f1f1f1;\n",
       "        }#T_41ef9_row10_col0{\n",
       "            background-color:  #084081;\n",
       "            color:  #f1f1f1;\n",
       "        }</style><table id=\"T_41ef9_\" ><thead>    <tr>        <th class=\"blank level0\" ></th>        <th class=\"col_heading level0 col0\" >0</th>    </tr></thead><tbody>\n",
       "                <tr>\n",
       "                        <th id=\"T_41ef9_level0_row0\" class=\"row_heading level0 row0\" >platform</th>\n",
       "                        <td id=\"T_41ef9_row0_col0\" class=\"data row0 col0\" >0.00%</td>\n",
       "            </tr>\n",
       "            <tr>\n",
       "                        <th id=\"T_41ef9_level0_row1\" class=\"row_heading level0 row1\" >na_sales</th>\n",
       "                        <td id=\"T_41ef9_row1_col0\" class=\"data row1 col0\" >0.00%</td>\n",
       "            </tr>\n",
       "            <tr>\n",
       "                        <th id=\"T_41ef9_level0_row2\" class=\"row_heading level0 row2\" >eu_sales</th>\n",
       "                        <td id=\"T_41ef9_row2_col0\" class=\"data row2 col0\" >0.00%</td>\n",
       "            </tr>\n",
       "            <tr>\n",
       "                        <th id=\"T_41ef9_level0_row3\" class=\"row_heading level0 row3\" >jp_sales</th>\n",
       "                        <td id=\"T_41ef9_row3_col0\" class=\"data row3 col0\" >0.00%</td>\n",
       "            </tr>\n",
       "            <tr>\n",
       "                        <th id=\"T_41ef9_level0_row4\" class=\"row_heading level0 row4\" >other_sales</th>\n",
       "                        <td id=\"T_41ef9_row4_col0\" class=\"data row4 col0\" >0.00%</td>\n",
       "            </tr>\n",
       "            <tr>\n",
       "                        <th id=\"T_41ef9_level0_row5\" class=\"row_heading level0 row5\" >name</th>\n",
       "                        <td id=\"T_41ef9_row5_col0\" class=\"data row5 col0\" >0.01%</td>\n",
       "            </tr>\n",
       "            <tr>\n",
       "                        <th id=\"T_41ef9_level0_row6\" class=\"row_heading level0 row6\" >genre</th>\n",
       "                        <td id=\"T_41ef9_row6_col0\" class=\"data row6 col0\" >0.01%</td>\n",
       "            </tr>\n",
       "            <tr>\n",
       "                        <th id=\"T_41ef9_level0_row7\" class=\"row_heading level0 row7\" >year_of_release</th>\n",
       "                        <td id=\"T_41ef9_row7_col0\" class=\"data row7 col0\" >1.61%</td>\n",
       "            </tr>\n",
       "            <tr>\n",
       "                        <th id=\"T_41ef9_level0_row8\" class=\"row_heading level0 row8\" >rating</th>\n",
       "                        <td id=\"T_41ef9_row8_col0\" class=\"data row8 col0\" >40.48%</td>\n",
       "            </tr>\n",
       "            <tr>\n",
       "                        <th id=\"T_41ef9_level0_row9\" class=\"row_heading level0 row9\" >critic_score</th>\n",
       "                        <td id=\"T_41ef9_row9_col0\" class=\"data row9 col0\" >51.32%</td>\n",
       "            </tr>\n",
       "            <tr>\n",
       "                        <th id=\"T_41ef9_level0_row10\" class=\"row_heading level0 row10\" >user_score</th>\n",
       "                        <td id=\"T_41ef9_row10_col0\" class=\"data row10 col0\" >54.59%</td>\n",
       "            </tr>\n",
       "    </tbody></table>"
      ],
      "text/plain": [
       "<pandas.io.formats.style.Styler at 0x7f30ac2062e0>"
      ]
     },
     "execution_count": 14,
     "metadata": {},
     "output_type": "execute_result"
    }
   ],
   "source": [
    "# посмотрим сколько пропусков в процентном соотношении к общему количеству\n",
    "df.isna().mean().round(4).to_frame().sort_values(by=0).style.format('{:.2%}').background_gradient('GnBu')"
   ]
  },
  {
   "cell_type": "markdown",
   "metadata": {},
   "source": [
    "Начнем с пропусков в столбцах 'name' и 'genre', их всего по два:"
   ]
  },
  {
   "cell_type": "code",
   "execution_count": 15,
   "metadata": {},
   "outputs": [
    {
     "data": {
      "text/html": [
       "<div>\n",
       "<style scoped>\n",
       "    .dataframe tbody tr th:only-of-type {\n",
       "        vertical-align: middle;\n",
       "    }\n",
       "\n",
       "    .dataframe tbody tr th {\n",
       "        vertical-align: top;\n",
       "    }\n",
       "\n",
       "    .dataframe thead th {\n",
       "        text-align: right;\n",
       "    }\n",
       "</style>\n",
       "<table border=\"1\" class=\"dataframe\">\n",
       "  <thead>\n",
       "    <tr style=\"text-align: right;\">\n",
       "      <th></th>\n",
       "      <th>name</th>\n",
       "      <th>platform</th>\n",
       "      <th>year_of_release</th>\n",
       "      <th>genre</th>\n",
       "      <th>na_sales</th>\n",
       "      <th>eu_sales</th>\n",
       "      <th>jp_sales</th>\n",
       "      <th>other_sales</th>\n",
       "      <th>critic_score</th>\n",
       "      <th>user_score</th>\n",
       "      <th>rating</th>\n",
       "    </tr>\n",
       "  </thead>\n",
       "  <tbody>\n",
       "    <tr>\n",
       "      <th>659</th>\n",
       "      <td>NaN</td>\n",
       "      <td>GEN</td>\n",
       "      <td>1993</td>\n",
       "      <td>NaN</td>\n",
       "      <td>1.78</td>\n",
       "      <td>0.53</td>\n",
       "      <td>0.00</td>\n",
       "      <td>0.08</td>\n",
       "      <td>NaN</td>\n",
       "      <td>NaN</td>\n",
       "      <td>NaN</td>\n",
       "    </tr>\n",
       "    <tr>\n",
       "      <th>14244</th>\n",
       "      <td>NaN</td>\n",
       "      <td>GEN</td>\n",
       "      <td>1993</td>\n",
       "      <td>NaN</td>\n",
       "      <td>0.00</td>\n",
       "      <td>0.00</td>\n",
       "      <td>0.03</td>\n",
       "      <td>0.00</td>\n",
       "      <td>NaN</td>\n",
       "      <td>NaN</td>\n",
       "      <td>NaN</td>\n",
       "    </tr>\n",
       "  </tbody>\n",
       "</table>\n",
       "</div>"
      ],
      "text/plain": [
       "      name platform  year_of_release genre  na_sales  eu_sales  jp_sales  \\\n",
       "659    NaN      GEN             1993   NaN      1.78      0.53      0.00   \n",
       "14244  NaN      GEN             1993   NaN      0.00      0.00      0.03   \n",
       "\n",
       "       other_sales  critic_score  user_score rating  \n",
       "659           0.08           NaN         NaN    NaN  \n",
       "14244         0.00           NaN         NaN    NaN  "
      ]
     },
     "execution_count": 15,
     "metadata": {},
     "output_type": "execute_result"
    }
   ],
   "source": [
    "df[df['name'].isna()]"
   ]
  },
  {
   "cell_type": "code",
   "execution_count": 16,
   "metadata": {},
   "outputs": [
    {
     "data": {
      "text/html": [
       "<div>\n",
       "<style scoped>\n",
       "    .dataframe tbody tr th:only-of-type {\n",
       "        vertical-align: middle;\n",
       "    }\n",
       "\n",
       "    .dataframe tbody tr th {\n",
       "        vertical-align: top;\n",
       "    }\n",
       "\n",
       "    .dataframe thead th {\n",
       "        text-align: right;\n",
       "    }\n",
       "</style>\n",
       "<table border=\"1\" class=\"dataframe\">\n",
       "  <thead>\n",
       "    <tr style=\"text-align: right;\">\n",
       "      <th></th>\n",
       "      <th>name</th>\n",
       "      <th>platform</th>\n",
       "      <th>year_of_release</th>\n",
       "      <th>genre</th>\n",
       "      <th>na_sales</th>\n",
       "      <th>eu_sales</th>\n",
       "      <th>jp_sales</th>\n",
       "      <th>other_sales</th>\n",
       "      <th>critic_score</th>\n",
       "      <th>user_score</th>\n",
       "      <th>rating</th>\n",
       "    </tr>\n",
       "  </thead>\n",
       "  <tbody>\n",
       "    <tr>\n",
       "      <th>659</th>\n",
       "      <td>NaN</td>\n",
       "      <td>GEN</td>\n",
       "      <td>1993</td>\n",
       "      <td>NaN</td>\n",
       "      <td>1.78</td>\n",
       "      <td>0.53</td>\n",
       "      <td>0.00</td>\n",
       "      <td>0.08</td>\n",
       "      <td>NaN</td>\n",
       "      <td>NaN</td>\n",
       "      <td>NaN</td>\n",
       "    </tr>\n",
       "    <tr>\n",
       "      <th>14244</th>\n",
       "      <td>NaN</td>\n",
       "      <td>GEN</td>\n",
       "      <td>1993</td>\n",
       "      <td>NaN</td>\n",
       "      <td>0.00</td>\n",
       "      <td>0.00</td>\n",
       "      <td>0.03</td>\n",
       "      <td>0.00</td>\n",
       "      <td>NaN</td>\n",
       "      <td>NaN</td>\n",
       "      <td>NaN</td>\n",
       "    </tr>\n",
       "  </tbody>\n",
       "</table>\n",
       "</div>"
      ],
      "text/plain": [
       "      name platform  year_of_release genre  na_sales  eu_sales  jp_sales  \\\n",
       "659    NaN      GEN             1993   NaN      1.78      0.53      0.00   \n",
       "14244  NaN      GEN             1993   NaN      0.00      0.00      0.03   \n",
       "\n",
       "       other_sales  critic_score  user_score rating  \n",
       "659           0.08           NaN         NaN    NaN  \n",
       "14244         0.00           NaN         NaN    NaN  "
      ]
     },
     "execution_count": 16,
     "metadata": {},
     "output_type": "execute_result"
    }
   ],
   "source": [
    "df[df['genre'].isna()]"
   ]
  },
  {
   "cell_type": "markdown",
   "metadata": {},
   "source": [
    "Две строки с пропущенными значениями в 'name' и 'genre' одинаковы и также имеют пропуски  в рейтинге и оценках юзеров и критиков. \n",
    "\n",
    "Так как заполнить пропуски невозможно и строк всего две, принимаю решение их просто удалить."
   ]
  },
  {
   "cell_type": "code",
   "execution_count": 17,
   "metadata": {},
   "outputs": [],
   "source": [
    "df = df.dropna(subset = ['name', 'genre'] )"
   ]
  },
  {
   "cell_type": "markdown",
   "metadata": {},
   "source": [
    "Далее смотрим на пропуски в year_of_release:"
   ]
  },
  {
   "cell_type": "code",
   "execution_count": 18,
   "metadata": {},
   "outputs": [
    {
     "data": {
      "text/html": [
       "<div>\n",
       "<style scoped>\n",
       "    .dataframe tbody tr th:only-of-type {\n",
       "        vertical-align: middle;\n",
       "    }\n",
       "\n",
       "    .dataframe tbody tr th {\n",
       "        vertical-align: top;\n",
       "    }\n",
       "\n",
       "    .dataframe thead th {\n",
       "        text-align: right;\n",
       "    }\n",
       "</style>\n",
       "<table border=\"1\" class=\"dataframe\">\n",
       "  <thead>\n",
       "    <tr style=\"text-align: right;\">\n",
       "      <th></th>\n",
       "      <th>name</th>\n",
       "      <th>platform</th>\n",
       "      <th>year_of_release</th>\n",
       "      <th>genre</th>\n",
       "      <th>na_sales</th>\n",
       "      <th>eu_sales</th>\n",
       "      <th>jp_sales</th>\n",
       "      <th>other_sales</th>\n",
       "      <th>critic_score</th>\n",
       "      <th>user_score</th>\n",
       "      <th>rating</th>\n",
       "    </tr>\n",
       "  </thead>\n",
       "  <tbody>\n",
       "    <tr>\n",
       "      <th>183</th>\n",
       "      <td>Madden NFL 2004</td>\n",
       "      <td>PS2</td>\n",
       "      <td>&lt;NA&gt;</td>\n",
       "      <td>Sports</td>\n",
       "      <td>4.26</td>\n",
       "      <td>0.26</td>\n",
       "      <td>0.01</td>\n",
       "      <td>0.71</td>\n",
       "      <td>94.0</td>\n",
       "      <td>8.5</td>\n",
       "      <td>E</td>\n",
       "    </tr>\n",
       "    <tr>\n",
       "      <th>377</th>\n",
       "      <td>FIFA Soccer 2004</td>\n",
       "      <td>PS2</td>\n",
       "      <td>&lt;NA&gt;</td>\n",
       "      <td>Sports</td>\n",
       "      <td>0.59</td>\n",
       "      <td>2.36</td>\n",
       "      <td>0.04</td>\n",
       "      <td>0.51</td>\n",
       "      <td>84.0</td>\n",
       "      <td>6.4</td>\n",
       "      <td>E</td>\n",
       "    </tr>\n",
       "    <tr>\n",
       "      <th>456</th>\n",
       "      <td>LEGO Batman: The Videogame</td>\n",
       "      <td>Wii</td>\n",
       "      <td>&lt;NA&gt;</td>\n",
       "      <td>Action</td>\n",
       "      <td>1.80</td>\n",
       "      <td>0.97</td>\n",
       "      <td>0.00</td>\n",
       "      <td>0.29</td>\n",
       "      <td>74.0</td>\n",
       "      <td>7.9</td>\n",
       "      <td>E10+</td>\n",
       "    </tr>\n",
       "    <tr>\n",
       "      <th>475</th>\n",
       "      <td>wwe Smackdown vs. Raw 2006</td>\n",
       "      <td>PS2</td>\n",
       "      <td>&lt;NA&gt;</td>\n",
       "      <td>Fighting</td>\n",
       "      <td>1.57</td>\n",
       "      <td>1.02</td>\n",
       "      <td>0.00</td>\n",
       "      <td>0.41</td>\n",
       "      <td>NaN</td>\n",
       "      <td>NaN</td>\n",
       "      <td>NaN</td>\n",
       "    </tr>\n",
       "    <tr>\n",
       "      <th>609</th>\n",
       "      <td>Space Invaders</td>\n",
       "      <td>2600</td>\n",
       "      <td>&lt;NA&gt;</td>\n",
       "      <td>Shooter</td>\n",
       "      <td>2.36</td>\n",
       "      <td>0.14</td>\n",
       "      <td>0.00</td>\n",
       "      <td>0.03</td>\n",
       "      <td>NaN</td>\n",
       "      <td>NaN</td>\n",
       "      <td>NaN</td>\n",
       "    </tr>\n",
       "    <tr>\n",
       "      <th>...</th>\n",
       "      <td>...</td>\n",
       "      <td>...</td>\n",
       "      <td>...</td>\n",
       "      <td>...</td>\n",
       "      <td>...</td>\n",
       "      <td>...</td>\n",
       "      <td>...</td>\n",
       "      <td>...</td>\n",
       "      <td>...</td>\n",
       "      <td>...</td>\n",
       "      <td>...</td>\n",
       "    </tr>\n",
       "    <tr>\n",
       "      <th>16373</th>\n",
       "      <td>PDC World Championship Darts 2008</td>\n",
       "      <td>PSP</td>\n",
       "      <td>&lt;NA&gt;</td>\n",
       "      <td>Sports</td>\n",
       "      <td>0.01</td>\n",
       "      <td>0.00</td>\n",
       "      <td>0.00</td>\n",
       "      <td>0.00</td>\n",
       "      <td>43.0</td>\n",
       "      <td>NaN</td>\n",
       "      <td>E10+</td>\n",
       "    </tr>\n",
       "    <tr>\n",
       "      <th>16405</th>\n",
       "      <td>Freaky Flyers</td>\n",
       "      <td>GC</td>\n",
       "      <td>&lt;NA&gt;</td>\n",
       "      <td>Racing</td>\n",
       "      <td>0.01</td>\n",
       "      <td>0.00</td>\n",
       "      <td>0.00</td>\n",
       "      <td>0.00</td>\n",
       "      <td>69.0</td>\n",
       "      <td>6.5</td>\n",
       "      <td>T</td>\n",
       "    </tr>\n",
       "    <tr>\n",
       "      <th>16448</th>\n",
       "      <td>Inversion</td>\n",
       "      <td>PC</td>\n",
       "      <td>&lt;NA&gt;</td>\n",
       "      <td>Shooter</td>\n",
       "      <td>0.01</td>\n",
       "      <td>0.00</td>\n",
       "      <td>0.00</td>\n",
       "      <td>0.00</td>\n",
       "      <td>59.0</td>\n",
       "      <td>6.7</td>\n",
       "      <td>M</td>\n",
       "    </tr>\n",
       "    <tr>\n",
       "      <th>16458</th>\n",
       "      <td>Hakuouki: Shinsengumi Kitan</td>\n",
       "      <td>PS3</td>\n",
       "      <td>&lt;NA&gt;</td>\n",
       "      <td>Adventure</td>\n",
       "      <td>0.01</td>\n",
       "      <td>0.00</td>\n",
       "      <td>0.00</td>\n",
       "      <td>0.00</td>\n",
       "      <td>NaN</td>\n",
       "      <td>NaN</td>\n",
       "      <td>NaN</td>\n",
       "    </tr>\n",
       "    <tr>\n",
       "      <th>16522</th>\n",
       "      <td>Virtua Quest</td>\n",
       "      <td>GC</td>\n",
       "      <td>&lt;NA&gt;</td>\n",
       "      <td>Role-Playing</td>\n",
       "      <td>0.01</td>\n",
       "      <td>0.00</td>\n",
       "      <td>0.00</td>\n",
       "      <td>0.00</td>\n",
       "      <td>55.0</td>\n",
       "      <td>5.5</td>\n",
       "      <td>T</td>\n",
       "    </tr>\n",
       "  </tbody>\n",
       "</table>\n",
       "<p>269 rows × 11 columns</p>\n",
       "</div>"
      ],
      "text/plain": [
       "                                    name platform  year_of_release  \\\n",
       "183                      Madden NFL 2004      PS2             <NA>   \n",
       "377                     FIFA Soccer 2004      PS2             <NA>   \n",
       "456           LEGO Batman: The Videogame      Wii             <NA>   \n",
       "475           wwe Smackdown vs. Raw 2006      PS2             <NA>   \n",
       "609                       Space Invaders     2600             <NA>   \n",
       "...                                  ...      ...              ...   \n",
       "16373  PDC World Championship Darts 2008      PSP             <NA>   \n",
       "16405                      Freaky Flyers       GC             <NA>   \n",
       "16448                          Inversion       PC             <NA>   \n",
       "16458        Hakuouki: Shinsengumi Kitan      PS3             <NA>   \n",
       "16522                       Virtua Quest       GC             <NA>   \n",
       "\n",
       "              genre  na_sales  eu_sales  jp_sales  other_sales  critic_score  \\\n",
       "183          Sports      4.26      0.26      0.01         0.71          94.0   \n",
       "377          Sports      0.59      2.36      0.04         0.51          84.0   \n",
       "456          Action      1.80      0.97      0.00         0.29          74.0   \n",
       "475        Fighting      1.57      1.02      0.00         0.41           NaN   \n",
       "609         Shooter      2.36      0.14      0.00         0.03           NaN   \n",
       "...             ...       ...       ...       ...          ...           ...   \n",
       "16373        Sports      0.01      0.00      0.00         0.00          43.0   \n",
       "16405        Racing      0.01      0.00      0.00         0.00          69.0   \n",
       "16448       Shooter      0.01      0.00      0.00         0.00          59.0   \n",
       "16458     Adventure      0.01      0.00      0.00         0.00           NaN   \n",
       "16522  Role-Playing      0.01      0.00      0.00         0.00          55.0   \n",
       "\n",
       "       user_score rating  \n",
       "183           8.5      E  \n",
       "377           6.4      E  \n",
       "456           7.9   E10+  \n",
       "475           NaN    NaN  \n",
       "609           NaN    NaN  \n",
       "...           ...    ...  \n",
       "16373         NaN   E10+  \n",
       "16405         6.5      T  \n",
       "16448         6.7      M  \n",
       "16458         NaN    NaN  \n",
       "16522         5.5      T  \n",
       "\n",
       "[269 rows x 11 columns]"
      ]
     },
     "execution_count": 18,
     "metadata": {},
     "output_type": "execute_result"
    }
   ],
   "source": [
    "df[df['year_of_release'].isna()]"
   ]
  },
  {
   "cell_type": "markdown",
   "metadata": {},
   "source": [
    "В некоторых названиях присутствует год, однако он может не быть годом релиза и пропусков всего 1.6%, кроме того, в некоторых строках, где не проставлен год релиза, также отсутствуют сведения в других столбцах. Поэтому полагаю, что пропуски  можно удалить, при дальнейшей фильтрации эти сведения всё равно уйдут."
   ]
  },
  {
   "cell_type": "code",
   "execution_count": 19,
   "metadata": {},
   "outputs": [],
   "source": [
    "df = df.dropna(subset = ['year_of_release'] )"
   ]
  },
  {
   "cell_type": "markdown",
   "metadata": {},
   "source": [
    "Далее рассмотрим пропуски в столбце rating: "
   ]
  },
  {
   "cell_type": "code",
   "execution_count": 20,
   "metadata": {
    "scrolled": true
   },
   "outputs": [
    {
     "data": {
      "text/html": [
       "<div>\n",
       "<style scoped>\n",
       "    .dataframe tbody tr th:only-of-type {\n",
       "        vertical-align: middle;\n",
       "    }\n",
       "\n",
       "    .dataframe tbody tr th {\n",
       "        vertical-align: top;\n",
       "    }\n",
       "\n",
       "    .dataframe thead th {\n",
       "        text-align: right;\n",
       "    }\n",
       "</style>\n",
       "<table border=\"1\" class=\"dataframe\">\n",
       "  <thead>\n",
       "    <tr style=\"text-align: right;\">\n",
       "      <th></th>\n",
       "      <th>name</th>\n",
       "      <th>platform</th>\n",
       "      <th>year_of_release</th>\n",
       "      <th>genre</th>\n",
       "      <th>na_sales</th>\n",
       "      <th>eu_sales</th>\n",
       "      <th>jp_sales</th>\n",
       "      <th>other_sales</th>\n",
       "      <th>critic_score</th>\n",
       "      <th>user_score</th>\n",
       "      <th>rating</th>\n",
       "    </tr>\n",
       "  </thead>\n",
       "  <tbody>\n",
       "    <tr>\n",
       "      <th>1</th>\n",
       "      <td>Super Mario Bros.</td>\n",
       "      <td>NES</td>\n",
       "      <td>1985</td>\n",
       "      <td>Platform</td>\n",
       "      <td>29.08</td>\n",
       "      <td>3.58</td>\n",
       "      <td>6.81</td>\n",
       "      <td>0.77</td>\n",
       "      <td>NaN</td>\n",
       "      <td>NaN</td>\n",
       "      <td>NaN</td>\n",
       "    </tr>\n",
       "    <tr>\n",
       "      <th>4</th>\n",
       "      <td>Pokemon Red/Pokemon Blue</td>\n",
       "      <td>GB</td>\n",
       "      <td>1996</td>\n",
       "      <td>Role-Playing</td>\n",
       "      <td>11.27</td>\n",
       "      <td>8.89</td>\n",
       "      <td>10.22</td>\n",
       "      <td>1.00</td>\n",
       "      <td>NaN</td>\n",
       "      <td>NaN</td>\n",
       "      <td>NaN</td>\n",
       "    </tr>\n",
       "    <tr>\n",
       "      <th>5</th>\n",
       "      <td>Tetris</td>\n",
       "      <td>GB</td>\n",
       "      <td>1989</td>\n",
       "      <td>Puzzle</td>\n",
       "      <td>23.20</td>\n",
       "      <td>2.26</td>\n",
       "      <td>4.22</td>\n",
       "      <td>0.58</td>\n",
       "      <td>NaN</td>\n",
       "      <td>NaN</td>\n",
       "      <td>NaN</td>\n",
       "    </tr>\n",
       "    <tr>\n",
       "      <th>9</th>\n",
       "      <td>Duck Hunt</td>\n",
       "      <td>NES</td>\n",
       "      <td>1984</td>\n",
       "      <td>Shooter</td>\n",
       "      <td>26.93</td>\n",
       "      <td>0.63</td>\n",
       "      <td>0.28</td>\n",
       "      <td>0.47</td>\n",
       "      <td>NaN</td>\n",
       "      <td>NaN</td>\n",
       "      <td>NaN</td>\n",
       "    </tr>\n",
       "    <tr>\n",
       "      <th>10</th>\n",
       "      <td>Nintendogs</td>\n",
       "      <td>DS</td>\n",
       "      <td>2005</td>\n",
       "      <td>Simulation</td>\n",
       "      <td>9.05</td>\n",
       "      <td>10.95</td>\n",
       "      <td>1.93</td>\n",
       "      <td>2.74</td>\n",
       "      <td>NaN</td>\n",
       "      <td>NaN</td>\n",
       "      <td>NaN</td>\n",
       "    </tr>\n",
       "    <tr>\n",
       "      <th>...</th>\n",
       "      <td>...</td>\n",
       "      <td>...</td>\n",
       "      <td>...</td>\n",
       "      <td>...</td>\n",
       "      <td>...</td>\n",
       "      <td>...</td>\n",
       "      <td>...</td>\n",
       "      <td>...</td>\n",
       "      <td>...</td>\n",
       "      <td>...</td>\n",
       "      <td>...</td>\n",
       "    </tr>\n",
       "    <tr>\n",
       "      <th>16710</th>\n",
       "      <td>Samurai Warriors: Sanada Maru</td>\n",
       "      <td>PS3</td>\n",
       "      <td>2016</td>\n",
       "      <td>Action</td>\n",
       "      <td>0.00</td>\n",
       "      <td>0.00</td>\n",
       "      <td>0.01</td>\n",
       "      <td>0.00</td>\n",
       "      <td>NaN</td>\n",
       "      <td>NaN</td>\n",
       "      <td>NaN</td>\n",
       "    </tr>\n",
       "    <tr>\n",
       "      <th>16711</th>\n",
       "      <td>LMA Manager 2007</td>\n",
       "      <td>X360</td>\n",
       "      <td>2006</td>\n",
       "      <td>Sports</td>\n",
       "      <td>0.00</td>\n",
       "      <td>0.01</td>\n",
       "      <td>0.00</td>\n",
       "      <td>0.00</td>\n",
       "      <td>NaN</td>\n",
       "      <td>NaN</td>\n",
       "      <td>NaN</td>\n",
       "    </tr>\n",
       "    <tr>\n",
       "      <th>16712</th>\n",
       "      <td>Haitaka no Psychedelica</td>\n",
       "      <td>PSV</td>\n",
       "      <td>2016</td>\n",
       "      <td>Adventure</td>\n",
       "      <td>0.00</td>\n",
       "      <td>0.00</td>\n",
       "      <td>0.01</td>\n",
       "      <td>0.00</td>\n",
       "      <td>NaN</td>\n",
       "      <td>NaN</td>\n",
       "      <td>NaN</td>\n",
       "    </tr>\n",
       "    <tr>\n",
       "      <th>16713</th>\n",
       "      <td>Spirits &amp; Spells</td>\n",
       "      <td>GBA</td>\n",
       "      <td>2003</td>\n",
       "      <td>Platform</td>\n",
       "      <td>0.01</td>\n",
       "      <td>0.00</td>\n",
       "      <td>0.00</td>\n",
       "      <td>0.00</td>\n",
       "      <td>NaN</td>\n",
       "      <td>NaN</td>\n",
       "      <td>NaN</td>\n",
       "    </tr>\n",
       "    <tr>\n",
       "      <th>16714</th>\n",
       "      <td>Winning Post 8 2016</td>\n",
       "      <td>PSV</td>\n",
       "      <td>2016</td>\n",
       "      <td>Simulation</td>\n",
       "      <td>0.00</td>\n",
       "      <td>0.00</td>\n",
       "      <td>0.01</td>\n",
       "      <td>0.00</td>\n",
       "      <td>NaN</td>\n",
       "      <td>NaN</td>\n",
       "      <td>NaN</td>\n",
       "    </tr>\n",
       "  </tbody>\n",
       "</table>\n",
       "<p>6676 rows × 11 columns</p>\n",
       "</div>"
      ],
      "text/plain": [
       "                                name platform  year_of_release         genre  \\\n",
       "1                  Super Mario Bros.      NES             1985      Platform   \n",
       "4           Pokemon Red/Pokemon Blue       GB             1996  Role-Playing   \n",
       "5                             Tetris       GB             1989        Puzzle   \n",
       "9                          Duck Hunt      NES             1984       Shooter   \n",
       "10                        Nintendogs       DS             2005    Simulation   \n",
       "...                              ...      ...              ...           ...   \n",
       "16710  Samurai Warriors: Sanada Maru      PS3             2016        Action   \n",
       "16711               LMA Manager 2007     X360             2006        Sports   \n",
       "16712        Haitaka no Psychedelica      PSV             2016     Adventure   \n",
       "16713               Spirits & Spells      GBA             2003      Platform   \n",
       "16714            Winning Post 8 2016      PSV             2016    Simulation   \n",
       "\n",
       "       na_sales  eu_sales  jp_sales  other_sales  critic_score  user_score  \\\n",
       "1         29.08      3.58      6.81         0.77           NaN         NaN   \n",
       "4         11.27      8.89     10.22         1.00           NaN         NaN   \n",
       "5         23.20      2.26      4.22         0.58           NaN         NaN   \n",
       "9         26.93      0.63      0.28         0.47           NaN         NaN   \n",
       "10         9.05     10.95      1.93         2.74           NaN         NaN   \n",
       "...         ...       ...       ...          ...           ...         ...   \n",
       "16710      0.00      0.00      0.01         0.00           NaN         NaN   \n",
       "16711      0.00      0.01      0.00         0.00           NaN         NaN   \n",
       "16712      0.00      0.00      0.01         0.00           NaN         NaN   \n",
       "16713      0.01      0.00      0.00         0.00           NaN         NaN   \n",
       "16714      0.00      0.00      0.01         0.00           NaN         NaN   \n",
       "\n",
       "      rating  \n",
       "1        NaN  \n",
       "4        NaN  \n",
       "5        NaN  \n",
       "9        NaN  \n",
       "10       NaN  \n",
       "...      ...  \n",
       "16710    NaN  \n",
       "16711    NaN  \n",
       "16712    NaN  \n",
       "16713    NaN  \n",
       "16714    NaN  \n",
       "\n",
       "[6676 rows x 11 columns]"
      ]
     },
     "execution_count": 20,
     "metadata": {},
     "output_type": "execute_result"
    }
   ],
   "source": [
    "df[df['rating'].isna()]"
   ]
  },
  {
   "cell_type": "code",
   "execution_count": 21,
   "metadata": {},
   "outputs": [
    {
     "data": {
      "text/plain": [
       "array(['E', nan, 'M', 'T', 'E10+', 'K-A', 'AO', 'EC', 'RP'], dtype=object)"
      ]
     },
     "execution_count": 21,
     "metadata": {},
     "output_type": "execute_result"
    }
   ],
   "source": [
    "df.rating.unique()"
   ]
  },
  {
   "cell_type": "markdown",
   "metadata": {},
   "source": [
    "Класс рейтинга игры определяется по многим показателям, так что самостоятельно заполнить не видится возможным. Так как рейтинг выставлен по системе ESRB, преполагаю просто преобразовать nan в 'RP', как Rating Pending — «Рейтинг ожидается»(такая категория в ESRB есть). Скорее всего эти пропуски результат  тех ошибки при заполнении, а еще может быть что для разных стран рейтинг этих игр различается и поэтому предпочли оставить nan."
   ]
  },
  {
   "cell_type": "code",
   "execution_count": 22,
   "metadata": {},
   "outputs": [],
   "source": [
    "df.loc[df.rating.isna(), 'rating'] = 'RP'"
   ]
  },
  {
   "cell_type": "markdown",
   "metadata": {},
   "source": [
    "Также в рейтинге ESRB у нас в датасете встречается маркировка \"К-А\", которая была заменена на \"Е\" в 1998 году.  Для удобства работы, предлагаю заменить \"К-А\" на \"Е\":"
   ]
  },
  {
   "cell_type": "code",
   "execution_count": 23,
   "metadata": {},
   "outputs": [],
   "source": [
    "df.rating = df.rating.replace('K-A','E')"
   ]
  },
  {
   "cell_type": "code",
   "execution_count": 24,
   "metadata": {},
   "outputs": [
    {
     "data": {
      "text/plain": [
       "array(['E', 'RP', 'M', 'T', 'E10+', 'AO', 'EC'], dtype=object)"
      ]
     },
     "execution_count": 24,
     "metadata": {},
     "output_type": "execute_result"
    }
   ],
   "source": [
    "df.rating.unique()"
   ]
  },
  {
   "cell_type": "markdown",
   "metadata": {},
   "source": [
    "Самые обширные пропуски в колонках critic_score - 51.31% и user_score - 54.59%.  Видимо на эти игры пользователи не хотели ставить оценки или их очень мало.  По оценкам критиков, наверняка можно было бы поискать какие-то данные и заполнить из них, но у нас нет доступа к такой информации и неизвестно рейтинг какого сайта или фирмы использован в этом датасете. Поэтому пропуски решено заменить на -1, как на некоторое асбурдное значение, так как в этих столбцах только неотрицательные значения."
   ]
  },
  {
   "cell_type": "code",
   "execution_count": 25,
   "metadata": {},
   "outputs": [],
   "source": [
    "df['user_score'] = df.user_score.fillna(-1)\n",
    "df['critic_score'] = df.critic_score.fillna(-1)"
   ]
  },
  {
   "cell_type": "markdown",
   "metadata": {},
   "source": [
    "Проверим на пропуски теперь:"
   ]
  },
  {
   "cell_type": "code",
   "execution_count": 26,
   "metadata": {},
   "outputs": [
    {
     "data": {
      "text/plain": [
       "name               0\n",
       "platform           0\n",
       "year_of_release    0\n",
       "genre              0\n",
       "na_sales           0\n",
       "eu_sales           0\n",
       "jp_sales           0\n",
       "other_sales        0\n",
       "critic_score       0\n",
       "user_score         0\n",
       "rating             0\n",
       "dtype: int64"
      ]
     },
     "execution_count": 26,
     "metadata": {},
     "output_type": "execute_result"
    }
   ],
   "source": [
    "df.isna().sum().sort_values()"
   ]
  },
  {
   "cell_type": "markdown",
   "metadata": {},
   "source": [
    "### Обогащение датасета"
   ]
  },
  {
   "cell_type": "markdown",
   "metadata": {},
   "source": [
    "Для дальнейшей работы создаём столбец, содержащий суммарные продажи по всем регионам."
   ]
  },
  {
   "cell_type": "code",
   "execution_count": 27,
   "metadata": {},
   "outputs": [
    {
     "data": {
      "text/html": [
       "<div>\n",
       "<style scoped>\n",
       "    .dataframe tbody tr th:only-of-type {\n",
       "        vertical-align: middle;\n",
       "    }\n",
       "\n",
       "    .dataframe tbody tr th {\n",
       "        vertical-align: top;\n",
       "    }\n",
       "\n",
       "    .dataframe thead th {\n",
       "        text-align: right;\n",
       "    }\n",
       "</style>\n",
       "<table border=\"1\" class=\"dataframe\">\n",
       "  <thead>\n",
       "    <tr style=\"text-align: right;\">\n",
       "      <th></th>\n",
       "      <th>name</th>\n",
       "      <th>platform</th>\n",
       "      <th>year_of_release</th>\n",
       "      <th>genre</th>\n",
       "      <th>na_sales</th>\n",
       "      <th>eu_sales</th>\n",
       "      <th>jp_sales</th>\n",
       "      <th>other_sales</th>\n",
       "      <th>critic_score</th>\n",
       "      <th>user_score</th>\n",
       "      <th>rating</th>\n",
       "      <th>all_sales</th>\n",
       "    </tr>\n",
       "  </thead>\n",
       "  <tbody>\n",
       "    <tr>\n",
       "      <th>0</th>\n",
       "      <td>Wii Sports</td>\n",
       "      <td>Wii</td>\n",
       "      <td>2006</td>\n",
       "      <td>Sports</td>\n",
       "      <td>41.36</td>\n",
       "      <td>28.96</td>\n",
       "      <td>3.77</td>\n",
       "      <td>8.45</td>\n",
       "      <td>76.0</td>\n",
       "      <td>8.0</td>\n",
       "      <td>E</td>\n",
       "      <td>82.54</td>\n",
       "    </tr>\n",
       "    <tr>\n",
       "      <th>1</th>\n",
       "      <td>Super Mario Bros.</td>\n",
       "      <td>NES</td>\n",
       "      <td>1985</td>\n",
       "      <td>Platform</td>\n",
       "      <td>29.08</td>\n",
       "      <td>3.58</td>\n",
       "      <td>6.81</td>\n",
       "      <td>0.77</td>\n",
       "      <td>-1.0</td>\n",
       "      <td>-1.0</td>\n",
       "      <td>RP</td>\n",
       "      <td>40.24</td>\n",
       "    </tr>\n",
       "    <tr>\n",
       "      <th>2</th>\n",
       "      <td>Mario Kart Wii</td>\n",
       "      <td>Wii</td>\n",
       "      <td>2008</td>\n",
       "      <td>Racing</td>\n",
       "      <td>15.68</td>\n",
       "      <td>12.76</td>\n",
       "      <td>3.79</td>\n",
       "      <td>3.29</td>\n",
       "      <td>82.0</td>\n",
       "      <td>8.3</td>\n",
       "      <td>E</td>\n",
       "      <td>35.52</td>\n",
       "    </tr>\n",
       "    <tr>\n",
       "      <th>3</th>\n",
       "      <td>Wii Sports Resort</td>\n",
       "      <td>Wii</td>\n",
       "      <td>2009</td>\n",
       "      <td>Sports</td>\n",
       "      <td>15.61</td>\n",
       "      <td>10.93</td>\n",
       "      <td>3.28</td>\n",
       "      <td>2.95</td>\n",
       "      <td>80.0</td>\n",
       "      <td>8.0</td>\n",
       "      <td>E</td>\n",
       "      <td>32.77</td>\n",
       "    </tr>\n",
       "    <tr>\n",
       "      <th>4</th>\n",
       "      <td>Pokemon Red/Pokemon Blue</td>\n",
       "      <td>GB</td>\n",
       "      <td>1996</td>\n",
       "      <td>Role-Playing</td>\n",
       "      <td>11.27</td>\n",
       "      <td>8.89</td>\n",
       "      <td>10.22</td>\n",
       "      <td>1.00</td>\n",
       "      <td>-1.0</td>\n",
       "      <td>-1.0</td>\n",
       "      <td>RP</td>\n",
       "      <td>31.38</td>\n",
       "    </tr>\n",
       "  </tbody>\n",
       "</table>\n",
       "</div>"
      ],
      "text/plain": [
       "                       name platform  year_of_release         genre  na_sales  \\\n",
       "0                Wii Sports      Wii             2006        Sports     41.36   \n",
       "1         Super Mario Bros.      NES             1985      Platform     29.08   \n",
       "2            Mario Kart Wii      Wii             2008        Racing     15.68   \n",
       "3         Wii Sports Resort      Wii             2009        Sports     15.61   \n",
       "4  Pokemon Red/Pokemon Blue       GB             1996  Role-Playing     11.27   \n",
       "\n",
       "   eu_sales  jp_sales  other_sales  critic_score  user_score rating  all_sales  \n",
       "0     28.96      3.77         8.45          76.0         8.0      E      82.54  \n",
       "1      3.58      6.81         0.77          -1.0        -1.0     RP      40.24  \n",
       "2     12.76      3.79         3.29          82.0         8.3      E      35.52  \n",
       "3     10.93      3.28         2.95          80.0         8.0      E      32.77  \n",
       "4      8.89     10.22         1.00          -1.0        -1.0     RP      31.38  "
      ]
     },
     "execution_count": 27,
     "metadata": {},
     "output_type": "execute_result"
    }
   ],
   "source": [
    "df['all_sales'] = df.na_sales + df.eu_sales + df.jp_sales + df.other_sales\n",
    "df.head()"
   ]
  },
  {
   "cell_type": "markdown",
   "metadata": {},
   "source": [
    "Для удобства восприятия расположим столбцы в удобном порядке:"
   ]
  },
  {
   "cell_type": "code",
   "execution_count": 28,
   "metadata": {},
   "outputs": [],
   "source": [
    "df = df.reindex(columns=['name', 'platform', 'year_of_release', 'genre', \\\n",
    "                         'all_sales', 'na_sales', 'eu_sales', 'jp_sales', \\\n",
    "                         'other_sales', 'critic_score', 'user_score', 'rating'])"
   ]
  },
  {
   "cell_type": "code",
   "execution_count": 29,
   "metadata": {
    "scrolled": true
   },
   "outputs": [
    {
     "data": {
      "text/html": [
       "<div>\n",
       "<style scoped>\n",
       "    .dataframe tbody tr th:only-of-type {\n",
       "        vertical-align: middle;\n",
       "    }\n",
       "\n",
       "    .dataframe tbody tr th {\n",
       "        vertical-align: top;\n",
       "    }\n",
       "\n",
       "    .dataframe thead th {\n",
       "        text-align: right;\n",
       "    }\n",
       "</style>\n",
       "<table border=\"1\" class=\"dataframe\">\n",
       "  <thead>\n",
       "    <tr style=\"text-align: right;\">\n",
       "      <th></th>\n",
       "      <th>name</th>\n",
       "      <th>platform</th>\n",
       "      <th>year_of_release</th>\n",
       "      <th>genre</th>\n",
       "      <th>all_sales</th>\n",
       "      <th>na_sales</th>\n",
       "      <th>eu_sales</th>\n",
       "      <th>jp_sales</th>\n",
       "      <th>other_sales</th>\n",
       "      <th>critic_score</th>\n",
       "      <th>user_score</th>\n",
       "      <th>rating</th>\n",
       "    </tr>\n",
       "  </thead>\n",
       "  <tbody>\n",
       "    <tr>\n",
       "      <th>0</th>\n",
       "      <td>Wii Sports</td>\n",
       "      <td>Wii</td>\n",
       "      <td>2006</td>\n",
       "      <td>Sports</td>\n",
       "      <td>82.54</td>\n",
       "      <td>41.36</td>\n",
       "      <td>28.96</td>\n",
       "      <td>3.77</td>\n",
       "      <td>8.45</td>\n",
       "      <td>76.0</td>\n",
       "      <td>8.0</td>\n",
       "      <td>E</td>\n",
       "    </tr>\n",
       "    <tr>\n",
       "      <th>1</th>\n",
       "      <td>Super Mario Bros.</td>\n",
       "      <td>NES</td>\n",
       "      <td>1985</td>\n",
       "      <td>Platform</td>\n",
       "      <td>40.24</td>\n",
       "      <td>29.08</td>\n",
       "      <td>3.58</td>\n",
       "      <td>6.81</td>\n",
       "      <td>0.77</td>\n",
       "      <td>-1.0</td>\n",
       "      <td>-1.0</td>\n",
       "      <td>RP</td>\n",
       "    </tr>\n",
       "    <tr>\n",
       "      <th>2</th>\n",
       "      <td>Mario Kart Wii</td>\n",
       "      <td>Wii</td>\n",
       "      <td>2008</td>\n",
       "      <td>Racing</td>\n",
       "      <td>35.52</td>\n",
       "      <td>15.68</td>\n",
       "      <td>12.76</td>\n",
       "      <td>3.79</td>\n",
       "      <td>3.29</td>\n",
       "      <td>82.0</td>\n",
       "      <td>8.3</td>\n",
       "      <td>E</td>\n",
       "    </tr>\n",
       "    <tr>\n",
       "      <th>3</th>\n",
       "      <td>Wii Sports Resort</td>\n",
       "      <td>Wii</td>\n",
       "      <td>2009</td>\n",
       "      <td>Sports</td>\n",
       "      <td>32.77</td>\n",
       "      <td>15.61</td>\n",
       "      <td>10.93</td>\n",
       "      <td>3.28</td>\n",
       "      <td>2.95</td>\n",
       "      <td>80.0</td>\n",
       "      <td>8.0</td>\n",
       "      <td>E</td>\n",
       "    </tr>\n",
       "    <tr>\n",
       "      <th>4</th>\n",
       "      <td>Pokemon Red/Pokemon Blue</td>\n",
       "      <td>GB</td>\n",
       "      <td>1996</td>\n",
       "      <td>Role-Playing</td>\n",
       "      <td>31.38</td>\n",
       "      <td>11.27</td>\n",
       "      <td>8.89</td>\n",
       "      <td>10.22</td>\n",
       "      <td>1.00</td>\n",
       "      <td>-1.0</td>\n",
       "      <td>-1.0</td>\n",
       "      <td>RP</td>\n",
       "    </tr>\n",
       "  </tbody>\n",
       "</table>\n",
       "</div>"
      ],
      "text/plain": [
       "                       name platform  year_of_release         genre  \\\n",
       "0                Wii Sports      Wii             2006        Sports   \n",
       "1         Super Mario Bros.      NES             1985      Platform   \n",
       "2            Mario Kart Wii      Wii             2008        Racing   \n",
       "3         Wii Sports Resort      Wii             2009        Sports   \n",
       "4  Pokemon Red/Pokemon Blue       GB             1996  Role-Playing   \n",
       "\n",
       "   all_sales  na_sales  eu_sales  jp_sales  other_sales  critic_score  \\\n",
       "0      82.54     41.36     28.96      3.77         8.45          76.0   \n",
       "1      40.24     29.08      3.58      6.81         0.77          -1.0   \n",
       "2      35.52     15.68     12.76      3.79         3.29          82.0   \n",
       "3      32.77     15.61     10.93      3.28         2.95          80.0   \n",
       "4      31.38     11.27      8.89     10.22         1.00          -1.0   \n",
       "\n",
       "   user_score rating  \n",
       "0         8.0      E  \n",
       "1        -1.0     RP  \n",
       "2         8.3      E  \n",
       "3         8.0      E  \n",
       "4        -1.0     RP  "
      ]
     },
     "execution_count": 29,
     "metadata": {},
     "output_type": "execute_result"
    }
   ],
   "source": [
    "df.head()"
   ]
  },
  {
   "cell_type": "markdown",
   "metadata": {},
   "source": [
    "### Выводы"
   ]
  },
  {
   "cell_type": "markdown",
   "metadata": {},
   "source": [
    "\n",
    "В наших данных были пропуски в разных столбцах:\n",
    "\n",
    "Две строки с пропусками в 'name' и ''genre' было решено удалить, в виду невозможности восполнить сведения и малому количеству пропусков. \n",
    "\n",
    "В столбце 'year_of_release' было решено  удалить пропуски,их всего 1.6%, строки с пропусками в годе релиза иногда содержат пропуски и в лругих колонках, да и в далнейшем, при фильтрации датасета, эти пропуски всё равно уйдут. \n",
    "\n",
    "В столбце 'rating' было организавно новое значение 'RP', как Rating Pending — «Рейтинг ожидается»(такая категория в ESRB есть). Скорее всего эти пропуски результат  тех ошибкти при заполнении, а еще может быть что для разных стран рейтинг этих игр различается и поэтому препочли оставить nan.\n",
    "\n",
    "В столбцах 'user_score' и 'critic_score' пропуски были заменены на -1, так как заполнить не видится возможным.\n",
    "\n",
    "Рейтинг \"К-А\" был заменен на \"Е\" в 1998 году, так что,для удобства, была произведена замена и в нашем датасете.\n",
    "\n",
    "Дубликатов в датафрейме не обнаружено.\n",
    "\n",
    "Названия столбцов были приведены к нижнему регистру.\n",
    "\n",
    "Датасет был обогащен сведениями по продажам со всего мира.\n",
    "\n",
    "У столбцов year_of_release и user_score был изменен тип данных на более соответствующий. "
   ]
  },
  {
   "cell_type": "code",
   "execution_count": 30,
   "metadata": {},
   "outputs": [
    {
     "name": "stdout",
     "output_type": "stream",
     "text": [
      "<class 'pandas.core.frame.DataFrame'>\n",
      "Int64Index: 16444 entries, 0 to 16714\n",
      "Data columns (total 12 columns):\n",
      " #   Column           Non-Null Count  Dtype  \n",
      "---  ------           --------------  -----  \n",
      " 0   name             16444 non-null  object \n",
      " 1   platform         16444 non-null  object \n",
      " 2   year_of_release  16444 non-null  Int64  \n",
      " 3   genre            16444 non-null  object \n",
      " 4   all_sales        16444 non-null  float64\n",
      " 5   na_sales         16444 non-null  float64\n",
      " 6   eu_sales         16444 non-null  float64\n",
      " 7   jp_sales         16444 non-null  float64\n",
      " 8   other_sales      16444 non-null  float64\n",
      " 9   critic_score     16444 non-null  float64\n",
      " 10  user_score       16444 non-null  float64\n",
      " 11  rating           16444 non-null  object \n",
      "dtypes: Int64(1), float64(7), object(4)\n",
      "memory usage: 1.6+ MB\n",
      "None\n",
      "-------------------------\n",
      "name [' Beyblade Burst' ' Fire Emblem Fates' \" Frozen: Olaf's Quest\" ...\n",
      " 'uDraw Studio' 'uDraw Studio: Instant Artist'\n",
      " '¡Shin Chan Flipa en colores!']\n",
      "name : кол-во NaN 0 , процент NaN 0.0 %\n",
      "-------------------------\n",
      "platform ['2600' '3DO' '3DS' 'DC' 'DS' 'GB' 'GBA' 'GC' 'GEN' 'GG' 'N64' 'NES' 'NG'\n",
      " 'PC' 'PCFX' 'PS' 'PS2' 'PS3' 'PS4' 'PSP' 'PSV' 'SAT' 'SCD' 'SNES' 'TG16'\n",
      " 'WS' 'Wii' 'WiiU' 'X360' 'XB' 'XOne']\n",
      "platform : кол-во NaN 0 , процент NaN 0.0 %\n",
      "-------------------------\n",
      "year_of_release <IntegerArray>\n",
      "[1980, 1981, 1982, 1983, 1984, 1985, 1986, 1987, 1988, 1989, 1990, 1991, 1992,\n",
      " 1993, 1994, 1995, 1996, 1997, 1998, 1999, 2000, 2001, 2002, 2003, 2004, 2005,\n",
      " 2006, 2007, 2008, 2009, 2010, 2011, 2012, 2013, 2014, 2015, 2016]\n",
      "Length: 37, dtype: Int64\n",
      "year_of_release : кол-во NaN 0 , процент NaN 0.0 %\n",
      "-------------------------\n",
      "genre ['Action' 'Adventure' 'Fighting' 'Misc' 'Platform' 'Puzzle' 'Racing'\n",
      " 'Role-Playing' 'Shooter' 'Simulation' 'Sports' 'Strategy']\n",
      "genre : кол-во NaN 0 , процент NaN 0.0 %\n",
      "-------------------------\n",
      "critic_score [-1. 13. 17. 19. 20. 21. 23. 24. 25. 26. 27. 28. 29. 30. 31. 32. 33. 34.\n",
      " 35. 36. 37. 38. 39. 40. 41. 42. 43. 44. 45. 46. 47. 48. 49. 50. 51. 52.\n",
      " 53. 54. 55. 56. 57. 58. 59. 60. 61. 62. 63. 64. 65. 66. 67. 68. 69. 70.\n",
      " 71. 72. 73. 74. 75. 76. 77. 78. 79. 80. 81. 82. 83. 84. 85. 86. 87. 88.\n",
      " 89. 90. 91. 92. 93. 94. 95. 96. 97. 98.]\n",
      "critic_score : кол-во NaN 0 , процент NaN 0.0 %\n",
      "-------------------------\n",
      "user_score [-1.   0.   0.2  0.3  0.5  0.6  0.7  0.9  1.   1.1  1.2  1.3  1.4  1.5\n",
      "  1.6  1.7  1.8  1.9  2.   2.1  2.2  2.3  2.4  2.5  2.6  2.7  2.8  2.9\n",
      "  3.   3.1  3.2  3.3  3.4  3.5  3.6  3.7  3.8  3.9  4.   4.1  4.2  4.3\n",
      "  4.4  4.5  4.6  4.7  4.8  4.9  5.   5.1  5.2  5.3  5.4  5.5  5.6  5.7\n",
      "  5.8  5.9  6.   6.1  6.2  6.3  6.4  6.5  6.6  6.7  6.8  6.9  7.   7.1\n",
      "  7.2  7.3  7.4  7.5  7.6  7.7  7.8  7.9  8.   8.1  8.2  8.3  8.4  8.5\n",
      "  8.6  8.7  8.8  8.9  9.   9.1  9.2  9.3  9.4  9.5  9.6  9.7]\n",
      "user_score : кол-во NaN 0 , процент NaN 0.0 %\n",
      "-------------------------\n",
      "rating ['AO' 'E' 'E10+' 'EC' 'M' 'RP' 'T']\n",
      "rating : кол-во NaN 0 , процент NaN 0.0 %\n"
     ]
    }
   ],
   "source": [
    "# Комментарий ревьюера\n",
    "# Посмотрим, что у нас осталось\n",
    "temp = df.copy() \n",
    "list_c = ['name', 'platform', 'year_of_release', 'genre', 'critic_score', 'user_score', 'rating']\n",
    "print(temp.info())\n",
    "for col_l in list_c:\n",
    "  print('-'* 25)\n",
    "  print(col_l, temp[col_l].sort_values().unique())\n",
    "  print(col_l,': кол-во NaN',temp[col_l].isna().sum(),\n",
    "        ', процент NaN', round(temp[col_l].isna().sum()/len(temp)*100, 2),'%')"
   ]
  },
  {
   "cell_type": "markdown",
   "metadata": {},
   "source": [
    "## Исследовательский анализ данных"
   ]
  },
  {
   "cell_type": "markdown",
   "metadata": {},
   "source": [
    "В рамках исследовательского анализа данных произведём анализ данных по следующим показателям:\n",
    "\n",
    "- Количество игр по году выпуска. Посмотрим важны ли эти данные за все периоды.\n",
    "\n",
    "- Уровень продаж по игровым платформам. Оценим есть ли характерный срок иссчезновения старых платформ и появления новых.\n",
    "\n",
    "- Определим актуальный период, данные в котором помогут построить прогноз на 2017 год;\n",
    "\n",
    "- Выберем несколько потенциально прибыльных платформ. Посмотрим влияют ли на на продажи внутри одной популярной платформы отзывы пользователей и критиков. Соотнесём выводы с продажами игр на других платформах.\n",
    "\n",
    "- Посмотрим на общее распределение игр по жанрам. Оценим самые прибыльные жанры и посмотрим выделяются ли чем-то самые прибыльные и самые не прибыльные жанры."
   ]
  },
  {
   "cell_type": "markdown",
   "metadata": {},
   "source": [
    "### Сколько игр выпускалось в разные годы"
   ]
  },
  {
   "cell_type": "code",
   "execution_count": 31,
   "metadata": {},
   "outputs": [],
   "source": [
    "pivot_years = df.pivot_table \\\n",
    "                (index='year_of_release', values='name', aggfunc='count') \\\n",
    "                .sort_values('year_of_release', ascending=False\n",
    "                     )"
   ]
  },
  {
   "cell_type": "code",
   "execution_count": 32,
   "metadata": {},
   "outputs": [
    {
     "data": {
      "image/png": "[encoded data removed]",
      "text/plain": [
       "<Figure size 1224x360 with 1 Axes>"
      ]
     },
     "metadata": {
      "needs_background": "light"
     },
     "output_type": "display_data"
    }
   ],
   "source": [
    "pivot_years.plot  \\\n",
    "            (figsize=(17,5), \\\n",
    "             grid=True, linewidth=3, \\\n",
    "             title='Количество выпущенных игр \\n',color = 'teal',\n",
    "             xlabel='Год релиза' ,ylabel='Количество игр'\n",
    "                );"
   ]
  },
  {
   "cell_type": "markdown",
   "metadata": {},
   "source": [
    "Видим, как с 2000-ого года резко увеличивается количество игр, хотя плавный рост налюдается примерно с 90-ых.  Самые первые видеогры начинают появляться только в 40-ых, а в нашем датасете самые поздние игры из 80-ых годов. "
   ]
  },
  {
   "cell_type": "code",
   "execution_count": 33,
   "metadata": {},
   "outputs": [
    {
     "data": {
      "text/html": [
       "<div>\n",
       "<style scoped>\n",
       "    .dataframe tbody tr th:only-of-type {\n",
       "        vertical-align: middle;\n",
       "    }\n",
       "\n",
       "    .dataframe tbody tr th {\n",
       "        vertical-align: top;\n",
       "    }\n",
       "\n",
       "    .dataframe thead th {\n",
       "        text-align: right;\n",
       "    }\n",
       "</style>\n",
       "<table border=\"1\" class=\"dataframe\">\n",
       "  <thead>\n",
       "    <tr style=\"text-align: right;\">\n",
       "      <th></th>\n",
       "      <th>name</th>\n",
       "      <th>platform</th>\n",
       "      <th>year_of_release</th>\n",
       "      <th>genre</th>\n",
       "      <th>all_sales</th>\n",
       "      <th>na_sales</th>\n",
       "      <th>eu_sales</th>\n",
       "      <th>jp_sales</th>\n",
       "      <th>other_sales</th>\n",
       "      <th>critic_score</th>\n",
       "      <th>user_score</th>\n",
       "      <th>rating</th>\n",
       "    </tr>\n",
       "  </thead>\n",
       "  <tbody>\n",
       "    <tr>\n",
       "      <th>262</th>\n",
       "      <td>Asteroids</td>\n",
       "      <td>2600</td>\n",
       "      <td>1980</td>\n",
       "      <td>Shooter</td>\n",
       "      <td>4.31</td>\n",
       "      <td>4.00</td>\n",
       "      <td>0.26</td>\n",
       "      <td>0.0</td>\n",
       "      <td>0.05</td>\n",
       "      <td>-1.0</td>\n",
       "      <td>-1.0</td>\n",
       "      <td>RP</td>\n",
       "    </tr>\n",
       "    <tr>\n",
       "      <th>546</th>\n",
       "      <td>Missile Command</td>\n",
       "      <td>2600</td>\n",
       "      <td>1980</td>\n",
       "      <td>Shooter</td>\n",
       "      <td>2.76</td>\n",
       "      <td>2.56</td>\n",
       "      <td>0.17</td>\n",
       "      <td>0.0</td>\n",
       "      <td>0.03</td>\n",
       "      <td>-1.0</td>\n",
       "      <td>-1.0</td>\n",
       "      <td>RP</td>\n",
       "    </tr>\n",
       "    <tr>\n",
       "      <th>1764</th>\n",
       "      <td>Kaboom!</td>\n",
       "      <td>2600</td>\n",
       "      <td>1980</td>\n",
       "      <td>Misc</td>\n",
       "      <td>1.15</td>\n",
       "      <td>1.07</td>\n",
       "      <td>0.07</td>\n",
       "      <td>0.0</td>\n",
       "      <td>0.01</td>\n",
       "      <td>-1.0</td>\n",
       "      <td>-1.0</td>\n",
       "      <td>RP</td>\n",
       "    </tr>\n",
       "    <tr>\n",
       "      <th>1968</th>\n",
       "      <td>Defender</td>\n",
       "      <td>2600</td>\n",
       "      <td>1980</td>\n",
       "      <td>Misc</td>\n",
       "      <td>1.05</td>\n",
       "      <td>0.99</td>\n",
       "      <td>0.05</td>\n",
       "      <td>0.0</td>\n",
       "      <td>0.01</td>\n",
       "      <td>-1.0</td>\n",
       "      <td>-1.0</td>\n",
       "      <td>RP</td>\n",
       "    </tr>\n",
       "    <tr>\n",
       "      <th>2650</th>\n",
       "      <td>Boxing</td>\n",
       "      <td>2600</td>\n",
       "      <td>1980</td>\n",
       "      <td>Fighting</td>\n",
       "      <td>0.77</td>\n",
       "      <td>0.72</td>\n",
       "      <td>0.04</td>\n",
       "      <td>0.0</td>\n",
       "      <td>0.01</td>\n",
       "      <td>-1.0</td>\n",
       "      <td>-1.0</td>\n",
       "      <td>RP</td>\n",
       "    </tr>\n",
       "    <tr>\n",
       "      <th>4019</th>\n",
       "      <td>Ice Hockey</td>\n",
       "      <td>2600</td>\n",
       "      <td>1980</td>\n",
       "      <td>Sports</td>\n",
       "      <td>0.50</td>\n",
       "      <td>0.46</td>\n",
       "      <td>0.03</td>\n",
       "      <td>0.0</td>\n",
       "      <td>0.01</td>\n",
       "      <td>-1.0</td>\n",
       "      <td>-1.0</td>\n",
       "      <td>RP</td>\n",
       "    </tr>\n",
       "    <tr>\n",
       "      <th>5360</th>\n",
       "      <td>Freeway</td>\n",
       "      <td>2600</td>\n",
       "      <td>1980</td>\n",
       "      <td>Action</td>\n",
       "      <td>0.34</td>\n",
       "      <td>0.32</td>\n",
       "      <td>0.02</td>\n",
       "      <td>0.0</td>\n",
       "      <td>0.00</td>\n",
       "      <td>-1.0</td>\n",
       "      <td>-1.0</td>\n",
       "      <td>RP</td>\n",
       "    </tr>\n",
       "    <tr>\n",
       "      <th>6300</th>\n",
       "      <td>Bridge</td>\n",
       "      <td>2600</td>\n",
       "      <td>1980</td>\n",
       "      <td>Misc</td>\n",
       "      <td>0.27</td>\n",
       "      <td>0.25</td>\n",
       "      <td>0.02</td>\n",
       "      <td>0.0</td>\n",
       "      <td>0.00</td>\n",
       "      <td>-1.0</td>\n",
       "      <td>-1.0</td>\n",
       "      <td>RP</td>\n",
       "    </tr>\n",
       "    <tr>\n",
       "      <th>6875</th>\n",
       "      <td>Checkers</td>\n",
       "      <td>2600</td>\n",
       "      <td>1980</td>\n",
       "      <td>Misc</td>\n",
       "      <td>0.23</td>\n",
       "      <td>0.22</td>\n",
       "      <td>0.01</td>\n",
       "      <td>0.0</td>\n",
       "      <td>0.00</td>\n",
       "      <td>-1.0</td>\n",
       "      <td>-1.0</td>\n",
       "      <td>RP</td>\n",
       "    </tr>\n",
       "  </tbody>\n",
       "</table>\n",
       "</div>"
      ],
      "text/plain": [
       "                 name platform  year_of_release     genre  all_sales  \\\n",
       "262         Asteroids     2600             1980   Shooter       4.31   \n",
       "546   Missile Command     2600             1980   Shooter       2.76   \n",
       "1764          Kaboom!     2600             1980      Misc       1.15   \n",
       "1968         Defender     2600             1980      Misc       1.05   \n",
       "2650           Boxing     2600             1980  Fighting       0.77   \n",
       "4019       Ice Hockey     2600             1980    Sports       0.50   \n",
       "5360          Freeway     2600             1980    Action       0.34   \n",
       "6300           Bridge     2600             1980      Misc       0.27   \n",
       "6875         Checkers     2600             1980      Misc       0.23   \n",
       "\n",
       "      na_sales  eu_sales  jp_sales  other_sales  critic_score  user_score  \\\n",
       "262       4.00      0.26       0.0         0.05          -1.0        -1.0   \n",
       "546       2.56      0.17       0.0         0.03          -1.0        -1.0   \n",
       "1764      1.07      0.07       0.0         0.01          -1.0        -1.0   \n",
       "1968      0.99      0.05       0.0         0.01          -1.0        -1.0   \n",
       "2650      0.72      0.04       0.0         0.01          -1.0        -1.0   \n",
       "4019      0.46      0.03       0.0         0.01          -1.0        -1.0   \n",
       "5360      0.32      0.02       0.0         0.00          -1.0        -1.0   \n",
       "6300      0.25      0.02       0.0         0.00          -1.0        -1.0   \n",
       "6875      0.22      0.01       0.0         0.00          -1.0        -1.0   \n",
       "\n",
       "     rating  \n",
       "262      RP  \n",
       "546      RP  \n",
       "1764     RP  \n",
       "1968     RP  \n",
       "2650     RP  \n",
       "4019     RP  \n",
       "5360     RP  \n",
       "6300     RP  \n",
       "6875     RP  "
      ]
     },
     "execution_count": 33,
     "metadata": {},
     "output_type": "execute_result"
    }
   ],
   "source": [
    "df.query(\"year_of_release >= 1940 and year_of_release <= 1980\")"
   ]
  },
  {
   "cell_type": "markdown",
   "metadata": {},
   "source": [
    "Полагаю, что важнее всего рассмотреть игры 21 века, как наиболее актуальные.  Большинство игр до этого момента уже считаются безнадежно устаревшими и только единицы из них по-прежнему пользуются популярностью. После 2009 года наблюдаеся сплавный спалд в количестве производимых игр, очевидно, что со временем начинают стараться делать качественнее, но меньше, так как разработка игры очень ресурсозатратна, а основная задача разработчика-это заработать на продаже игры. А так же, начиная с поздних 90-ых, начинают выходить массовые онлайн игры (такие как Lineage,  Starcraft, Counter-Strike, World of Warcraft), к которым только выходят разные сезонные обновления, не являющиеся отдельными играми. Множество таких игр как раз обрело популярность после 2010 года (например, League of Legends и Dota 2). "
   ]
  },
  {
   "cell_type": "markdown",
   "metadata": {},
   "source": [
    "### Как менялись продажи по платформам с течением времени"
   ]
  },
  {
   "cell_type": "markdown",
   "metadata": {},
   "source": [
    "Сначала посмотрим самые популярные платформы по всем продажам:"
   ]
  },
  {
   "cell_type": "code",
   "execution_count": 34,
   "metadata": {},
   "outputs": [],
   "source": [
    "platform_sales = df.pivot_table \\\n",
    "                    (index='platform',values='all_sales', aggfunc='sum') \\\n",
    "                    .sort_values('all_sales', ascending=False)               "
   ]
  },
  {
   "cell_type": "markdown",
   "metadata": {},
   "source": [
    "Построим наглядный график по этим данным:"
   ]
  },
  {
   "cell_type": "code",
   "execution_count": 35,
   "metadata": {},
   "outputs": [
    {
     "data": {
      "image/png": "[encoded data removed]",
      "text/plain": [
       "<Figure size 1224x360 with 1 Axes>"
      ]
     },
     "metadata": {
      "needs_background": "light"
     },
     "output_type": "display_data"
    }
   ],
   "source": [
    "platform_sales.plot \\\n",
    "               (kind='bar',title='Сумма продаж по игровым платформам \\n', \\\n",
    "                figsize=(17, 5), color = 'teal')\\\n",
    "               .set(xlabel='Платформа', ylabel='Сумма продаж'\n",
    "                    );"
   ]
  },
  {
   "cell_type": "markdown",
   "metadata": {},
   "source": [
    "Посмотрим на топ-10 платформ по продажам:"
   ]
  },
  {
   "cell_type": "code",
   "execution_count": 36,
   "metadata": {},
   "outputs": [
    {
     "data": {
      "text/html": [
       "<div>\n",
       "<style scoped>\n",
       "    .dataframe tbody tr th:only-of-type {\n",
       "        vertical-align: middle;\n",
       "    }\n",
       "\n",
       "    .dataframe tbody tr th {\n",
       "        vertical-align: top;\n",
       "    }\n",
       "\n",
       "    .dataframe thead th {\n",
       "        text-align: right;\n",
       "    }\n",
       "</style>\n",
       "<table border=\"1\" class=\"dataframe\">\n",
       "  <thead>\n",
       "    <tr style=\"text-align: right;\">\n",
       "      <th></th>\n",
       "      <th>all_sales</th>\n",
       "    </tr>\n",
       "    <tr>\n",
       "      <th>platform</th>\n",
       "      <th></th>\n",
       "    </tr>\n",
       "  </thead>\n",
       "  <tbody>\n",
       "    <tr>\n",
       "      <th>PS2</th>\n",
       "      <td>1233.56</td>\n",
       "    </tr>\n",
       "    <tr>\n",
       "      <th>X360</th>\n",
       "      <td>961.24</td>\n",
       "    </tr>\n",
       "    <tr>\n",
       "      <th>PS3</th>\n",
       "      <td>931.34</td>\n",
       "    </tr>\n",
       "    <tr>\n",
       "      <th>Wii</th>\n",
       "      <td>891.18</td>\n",
       "    </tr>\n",
       "    <tr>\n",
       "      <th>DS</th>\n",
       "      <td>802.78</td>\n",
       "    </tr>\n",
       "    <tr>\n",
       "      <th>PS</th>\n",
       "      <td>727.58</td>\n",
       "    </tr>\n",
       "    <tr>\n",
       "      <th>PS4</th>\n",
       "      <td>314.14</td>\n",
       "    </tr>\n",
       "    <tr>\n",
       "      <th>GBA</th>\n",
       "      <td>312.88</td>\n",
       "    </tr>\n",
       "    <tr>\n",
       "      <th>PSP</th>\n",
       "      <td>289.53</td>\n",
       "    </tr>\n",
       "    <tr>\n",
       "      <th>3DS</th>\n",
       "      <td>257.81</td>\n",
       "    </tr>\n",
       "  </tbody>\n",
       "</table>\n",
       "</div>"
      ],
      "text/plain": [
       "          all_sales\n",
       "platform           \n",
       "PS2         1233.56\n",
       "X360         961.24\n",
       "PS3          931.34\n",
       "Wii          891.18\n",
       "DS           802.78\n",
       "PS           727.58\n",
       "PS4          314.14\n",
       "GBA          312.88\n",
       "PSP          289.53\n",
       "3DS          257.81"
      ]
     },
     "execution_count": 36,
     "metadata": {},
     "output_type": "execute_result"
    }
   ],
   "source": [
    "platform_sales.head(10)"
   ]
  },
  {
   "cell_type": "markdown",
   "metadata": {},
   "source": [
    "Явно видно, что есть шестёрка лидеров продаж. Далее оценим среднюю продолжительноть \"жизни\" платформ:"
   ]
  },
  {
   "cell_type": "code",
   "execution_count": 37,
   "metadata": {},
   "outputs": [],
   "source": [
    "platform_life = df.pivot_table \\\n",
    "                  (index='year_of_release', columns='platform', values='all_sales',aggfunc='sum') \\\n",
    "                  .notna() \\\n",
    "                  .sum()"
   ]
  },
  {
   "cell_type": "code",
   "execution_count": 38,
   "metadata": {},
   "outputs": [
    {
     "data": {
      "image/png": "[encoded data removed]",
      "text/plain": [
       "<Figure size 1224x360 with 1 Axes>"
      ]
     },
     "metadata": {
      "needs_background": "light"
     },
     "output_type": "display_data"
    }
   ],
   "source": [
    "platform_life.plot \\\n",
    "             (kind='bar',title='Среднее время \"жизни\" платформы \\n', figsize=(17, 5), color = 'teal')\\\n",
    "             .set(xlabel='Платформа', ylabel='Годы');"
   ]
  },
  {
   "cell_type": "code",
   "execution_count": 39,
   "metadata": {},
   "outputs": [
    {
     "data": {
      "text/plain": [
       "count    31.000000\n",
       "mean      7.677419\n",
       "std       5.081910\n",
       "min       1.000000\n",
       "25%       4.000000\n",
       "50%       7.000000\n",
       "75%      11.000000\n",
       "max      26.000000\n",
       "dtype: float64"
      ]
     },
     "execution_count": 39,
     "metadata": {},
     "output_type": "execute_result"
    }
   ],
   "source": [
    "platform_life.describe()"
   ]
  },
  {
   "cell_type": "markdown",
   "metadata": {},
   "source": [
    "Видим, что, в среднем, платформа живет 7-8 лет.  При этом есть одна платформа, которая актуальна всё время, это конечно же PC. "
   ]
  },
  {
   "cell_type": "markdown",
   "metadata": {},
   "source": [
    "### Данные для прогноза"
   ]
  },
  {
   "cell_type": "markdown",
   "metadata": {},
   "source": [
    "Так как средний срок жизни платформы составляет 7-8 лет, то, для прогнозирования данных на 2017-ый год, возьмем данные за половину срока жизни платформы (2013-2016) и далее будем работать с уже отфильтрованным датасетом. Это позволит нам работать с наиболее актуальными на  2016 год платформами:"
   ]
  },
  {
   "cell_type": "code",
   "execution_count": 40,
   "metadata": {
    "scrolled": true
   },
   "outputs": [
    {
     "data": {
      "text/html": [
       "<div>\n",
       "<style scoped>\n",
       "    .dataframe tbody tr th:only-of-type {\n",
       "        vertical-align: middle;\n",
       "    }\n",
       "\n",
       "    .dataframe tbody tr th {\n",
       "        vertical-align: top;\n",
       "    }\n",
       "\n",
       "    .dataframe thead th {\n",
       "        text-align: right;\n",
       "    }\n",
       "</style>\n",
       "<table border=\"1\" class=\"dataframe\">\n",
       "  <thead>\n",
       "    <tr style=\"text-align: right;\">\n",
       "      <th></th>\n",
       "      <th>name</th>\n",
       "      <th>platform</th>\n",
       "      <th>year_of_release</th>\n",
       "      <th>genre</th>\n",
       "      <th>all_sales</th>\n",
       "      <th>na_sales</th>\n",
       "      <th>eu_sales</th>\n",
       "      <th>jp_sales</th>\n",
       "      <th>other_sales</th>\n",
       "      <th>critic_score</th>\n",
       "      <th>user_score</th>\n",
       "      <th>rating</th>\n",
       "    </tr>\n",
       "  </thead>\n",
       "  <tbody>\n",
       "    <tr>\n",
       "      <th>16</th>\n",
       "      <td>Grand Theft Auto V</td>\n",
       "      <td>PS3</td>\n",
       "      <td>2013</td>\n",
       "      <td>Action</td>\n",
       "      <td>21.05</td>\n",
       "      <td>7.02</td>\n",
       "      <td>9.09</td>\n",
       "      <td>0.98</td>\n",
       "      <td>3.96</td>\n",
       "      <td>97.0</td>\n",
       "      <td>8.2</td>\n",
       "      <td>M</td>\n",
       "    </tr>\n",
       "    <tr>\n",
       "      <th>23</th>\n",
       "      <td>Grand Theft Auto V</td>\n",
       "      <td>X360</td>\n",
       "      <td>2013</td>\n",
       "      <td>Action</td>\n",
       "      <td>16.27</td>\n",
       "      <td>9.66</td>\n",
       "      <td>5.14</td>\n",
       "      <td>0.06</td>\n",
       "      <td>1.41</td>\n",
       "      <td>97.0</td>\n",
       "      <td>8.1</td>\n",
       "      <td>M</td>\n",
       "    </tr>\n",
       "    <tr>\n",
       "      <th>31</th>\n",
       "      <td>Call of Duty: Black Ops 3</td>\n",
       "      <td>PS4</td>\n",
       "      <td>2015</td>\n",
       "      <td>Shooter</td>\n",
       "      <td>14.63</td>\n",
       "      <td>6.03</td>\n",
       "      <td>5.86</td>\n",
       "      <td>0.36</td>\n",
       "      <td>2.38</td>\n",
       "      <td>-1.0</td>\n",
       "      <td>-1.0</td>\n",
       "      <td>RP</td>\n",
       "    </tr>\n",
       "    <tr>\n",
       "      <th>33</th>\n",
       "      <td>Pokemon X/Pokemon Y</td>\n",
       "      <td>3DS</td>\n",
       "      <td>2013</td>\n",
       "      <td>Role-Playing</td>\n",
       "      <td>14.60</td>\n",
       "      <td>5.28</td>\n",
       "      <td>4.19</td>\n",
       "      <td>4.35</td>\n",
       "      <td>0.78</td>\n",
       "      <td>-1.0</td>\n",
       "      <td>-1.0</td>\n",
       "      <td>RP</td>\n",
       "    </tr>\n",
       "    <tr>\n",
       "      <th>42</th>\n",
       "      <td>Grand Theft Auto V</td>\n",
       "      <td>PS4</td>\n",
       "      <td>2014</td>\n",
       "      <td>Action</td>\n",
       "      <td>12.62</td>\n",
       "      <td>3.96</td>\n",
       "      <td>6.31</td>\n",
       "      <td>0.38</td>\n",
       "      <td>1.97</td>\n",
       "      <td>97.0</td>\n",
       "      <td>8.3</td>\n",
       "      <td>M</td>\n",
       "    </tr>\n",
       "  </tbody>\n",
       "</table>\n",
       "</div>"
      ],
      "text/plain": [
       "                         name platform  year_of_release         genre  \\\n",
       "16         Grand Theft Auto V      PS3             2013        Action   \n",
       "23         Grand Theft Auto V     X360             2013        Action   \n",
       "31  Call of Duty: Black Ops 3      PS4             2015       Shooter   \n",
       "33        Pokemon X/Pokemon Y      3DS             2013  Role-Playing   \n",
       "42         Grand Theft Auto V      PS4             2014        Action   \n",
       "\n",
       "    all_sales  na_sales  eu_sales  jp_sales  other_sales  critic_score  \\\n",
       "16      21.05      7.02      9.09      0.98         3.96          97.0   \n",
       "23      16.27      9.66      5.14      0.06         1.41          97.0   \n",
       "31      14.63      6.03      5.86      0.36         2.38          -1.0   \n",
       "33      14.60      5.28      4.19      4.35         0.78          -1.0   \n",
       "42      12.62      3.96      6.31      0.38         1.97          97.0   \n",
       "\n",
       "    user_score rating  \n",
       "16         8.2      M  \n",
       "23         8.1      M  \n",
       "31        -1.0     RP  \n",
       "33        -1.0     RP  \n",
       "42         8.3      M  "
      ]
     },
     "execution_count": 40,
     "metadata": {},
     "output_type": "execute_result"
    }
   ],
   "source": [
    "df_new = df.query('2013 <= year_of_release <= 2016')\n",
    "df_new.head()"
   ]
  },
  {
   "cell_type": "markdown",
   "metadata": {},
   "source": [
    "### Анализ платформ"
   ]
  },
  {
   "cell_type": "markdown",
   "metadata": {},
   "source": [
    "#### По продажам"
   ]
  },
  {
   "cell_type": "markdown",
   "metadata": {},
   "source": [
    "Оценим продажи по платформам в нашем новом датасете и сразу посмотрим топ-10:"
   ]
  },
  {
   "cell_type": "code",
   "execution_count": 41,
   "metadata": {},
   "outputs": [
    {
     "data": {
      "text/html": [
       "<div>\n",
       "<style scoped>\n",
       "    .dataframe tbody tr th:only-of-type {\n",
       "        vertical-align: middle;\n",
       "    }\n",
       "\n",
       "    .dataframe tbody tr th {\n",
       "        vertical-align: top;\n",
       "    }\n",
       "\n",
       "    .dataframe thead th {\n",
       "        text-align: right;\n",
       "    }\n",
       "</style>\n",
       "<table border=\"1\" class=\"dataframe\">\n",
       "  <thead>\n",
       "    <tr style=\"text-align: right;\">\n",
       "      <th></th>\n",
       "      <th>platform</th>\n",
       "      <th>all_sales</th>\n",
       "    </tr>\n",
       "  </thead>\n",
       "  <tbody>\n",
       "    <tr>\n",
       "      <th>0</th>\n",
       "      <td>PS4</td>\n",
       "      <td>314.14</td>\n",
       "    </tr>\n",
       "    <tr>\n",
       "      <th>1</th>\n",
       "      <td>PS3</td>\n",
       "      <td>181.43</td>\n",
       "    </tr>\n",
       "    <tr>\n",
       "      <th>2</th>\n",
       "      <td>XOne</td>\n",
       "      <td>159.32</td>\n",
       "    </tr>\n",
       "    <tr>\n",
       "      <th>3</th>\n",
       "      <td>3DS</td>\n",
       "      <td>143.25</td>\n",
       "    </tr>\n",
       "    <tr>\n",
       "      <th>4</th>\n",
       "      <td>X360</td>\n",
       "      <td>136.80</td>\n",
       "    </tr>\n",
       "    <tr>\n",
       "      <th>5</th>\n",
       "      <td>WiiU</td>\n",
       "      <td>64.63</td>\n",
       "    </tr>\n",
       "    <tr>\n",
       "      <th>6</th>\n",
       "      <td>PC</td>\n",
       "      <td>39.43</td>\n",
       "    </tr>\n",
       "    <tr>\n",
       "      <th>7</th>\n",
       "      <td>PSV</td>\n",
       "      <td>32.99</td>\n",
       "    </tr>\n",
       "    <tr>\n",
       "      <th>8</th>\n",
       "      <td>Wii</td>\n",
       "      <td>13.66</td>\n",
       "    </tr>\n",
       "    <tr>\n",
       "      <th>9</th>\n",
       "      <td>PSP</td>\n",
       "      <td>3.50</td>\n",
       "    </tr>\n",
       "  </tbody>\n",
       "</table>\n",
       "</div>"
      ],
      "text/plain": [
       "  platform  all_sales\n",
       "0      PS4     314.14\n",
       "1      PS3     181.43\n",
       "2     XOne     159.32\n",
       "3      3DS     143.25\n",
       "4     X360     136.80\n",
       "5     WiiU      64.63\n",
       "6       PC      39.43\n",
       "7      PSV      32.99\n",
       "8      Wii      13.66\n",
       "9      PSP       3.50"
      ]
     },
     "execution_count": 41,
     "metadata": {},
     "output_type": "execute_result"
    }
   ],
   "source": [
    "df_new.pivot_table \\\n",
    "       (index='platform', values='all_sales', aggfunc='sum').nlargest(10, 'all_sales') \\\n",
    "       .reset_index()"
   ]
  },
  {
   "cell_type": "code",
   "execution_count": 42,
   "metadata": {
    "scrolled": true
   },
   "outputs": [
    {
     "data": {
      "image/png": "[encoded data removed]",
      "text/plain": [
       "<Figure size 1224x288 with 1 Axes>"
      ]
     },
     "metadata": {
      "needs_background": "light"
     },
     "output_type": "display_data"
    }
   ],
   "source": [
    "fig, ax = plt.subplots(figsize=(17,4))\n",
    "\n",
    "sns.boxplot\\\n",
    "    (data=df_new,\n",
    "     x='all_sales', y='platform', \\\n",
    "     width=0.7, \\\n",
    "     fliersize=1, \\\n",
    "     ax=ax, \\\n",
    "     palette='GnBu') \\\n",
    "    .set(xlabel='Продажи', ylabel='Платформы', title='Ящики с усами с продажами по платформам \\n')\n",
    "\n",
    "plt.xlim([0,5]) ;"
   ]
  },
  {
   "cell_type": "markdown",
   "metadata": {},
   "source": [
    "Здесь мы видим, что на первом месте PS4, которая как раз появилась в 2013-ом году и является наиболее актуальной.  На втором месте ее боле ранняя версия PS3, для которой еще продолжают выпускать игры. Третье место отошло Xone, которая тоже была релизнута в 2013-ом году, но не стала такой популярной, как PS4. По медиане боксплотов на первом месте Х360, но эта платформа вышла в 2005 году, так что на момент 16-ого года ее популярность будет снижаться. Тем более, что в 2013 вышла Xone, которая является следующим поколением приставок от Майкрософт."
   ]
  },
  {
   "cell_type": "markdown",
   "metadata": {},
   "source": [
    "#### По влиянию на продажи отзывов"
   ]
  },
  {
   "cell_type": "markdown",
   "metadata": {},
   "source": [
    "Посмотрим как влияют на продажи внутри одной популярной платформы отзывы пользователей и критиков. Для этого возьмем платформу PS4, как наиболее прибыльную в нашем отфильтрованном датасете:"
   ]
  },
  {
   "cell_type": "code",
   "execution_count": 44,
   "metadata": {},
   "outputs": [],
   "source": [
    "# создадим выборки с оценками юзеров и критиков по одной платформе\n",
    "ps4_user = df_new.query('(platform == \"PS4\") and (user_score >-1)')\n",
    "ps4_critic = df_new.query('(platform == \"PS4\") and (critic_score >-1)')"
   ]
  },
  {
   "cell_type": "code",
   "execution_count": 46,
   "metadata": {},
   "outputs": [
    {
     "data": {
      "image/png": "[encoded data removed]",
      "text/plain": [
       "<Figure size 1224x792 with 2 Axes>"
      ]
     },
     "metadata": {
      "needs_background": "light"
     },
     "output_type": "display_data"
    },
    {
     "name": "stdout",
     "output_type": "stream",
     "text": [
      "Корреляция продаж с оценкой пользователей составляет: -0.03\n",
      "Корреляция продаж с оценкой критиков составляет: 0.41\n"
     ]
    }
   ],
   "source": [
    "fig, ax = plt.subplots(2, figsize=(17, 11))\n",
    "\n",
    "ax[0].scatter(x = ps4_user.user_score, y = ps4_user.all_sales, c='teal', alpha=0.7)\n",
    "ax[0].set_xlabel('Оценка пользователей')\n",
    "ax[0].set_ylabel('Продажи')\n",
    "ax[0].set_title('PS4')\n",
    "\n",
    "ax[1].scatter(x = ps4_critic.critic_score, y = ps4_critic.all_sales, c='teal', alpha=0.7)\n",
    "ax[1].set_xlabel('Оценка критиков')\n",
    "ax[1].set_ylabel('Продажи')\n",
    "ax[1].set_title('PS4')\n",
    "\n",
    "plt.show() \n",
    "\n",
    "# Комментарий ревьюера 2\n",
    "#print (f'Корреляция продаж с оценкой пользователей составляет: {round(ps4.user_score.corr(ps4.all_sales),2)}')\n",
    "#print (f'Корреляция продаж с оценкой критиков составляет: {round(ps4.critic_score.corr(ps4.all_sales),2)}')\n",
    "\n",
    "print (f'Корреляция продаж с оценкой пользователей составляет: {round(ps4_user.user_score.corr(ps4_user.all_sales),2)}')\n",
    "print (f'Корреляция продаж с оценкой критиков составляет: {round(ps4_critic.critic_score.corr(ps4_critic.all_sales),2)}')"
   ]
  },
  {
   "cell_type": "markdown",
   "metadata": {},
   "source": [
    "Как мы видим,  продажи игр не коррелируют с оценками пользователей, зато положительная корреляция есть с оценками критиков. Всё-таки довольно часто перед покупкой игры, на нее смотрят обзоры и рейтинги популярный агенств и журналов.  А оценки пользователей могут быть ситуативными(когда у человека случился разовый баг и он мог поставить \"1\" или наоборот ему нравится графика в игре и он оценил игру на \"10\", а вот  многим пользовтелям важнее геймплей и они могут оценить эту же игру на \"3\").  А критики всё-таки подходят более комплексно к оценке игры и стараются избегать приплетания излишне личного мнения в такой оценке. Хотя существуют и проплаченные фейковые отзывы \"критиков\" для увеличения продаж. Как мы видим из корреляции,это не самая плохая стратегия повышения прибыльности. \n",
    "\n",
    "Далее рассмотрим корреляции на других платформах:"
   ]
  },
  {
   "cell_type": "code",
   "execution_count": 47,
   "metadata": {},
   "outputs": [
    {
     "name": "stdout",
     "output_type": "stream",
     "text": [
      "Корреляция продаж на PS3 с оценкой пользователей составляет: 0.0\n",
      "Корреляция продаж на XOne с оценкой пользователей составляет: -0.07\n",
      "Корреляция продаж на 3DS с оценкой пользователей составляет: 0.24\n",
      "Корреляция продаж на X360 с оценкой пользователей составляет: -0.01\n"
     ]
    },
    {
     "data": {
      "image/png": "[encoded data removed]",
      "text/plain": [
       "<Figure size 1224x1584 with 4 Axes>"
      ]
     },
     "metadata": {
      "needs_background": "light"
     },
     "output_type": "display_data"
    }
   ],
   "source": [
    "# возьмем список платформ из наших оставшихся из топ-5\n",
    "platforms = ['PS3', 'XOne','3DS','X360']\n",
    "n = 0\n",
    "fig, ax = plt.subplots(4, figsize=(17, 22))\n",
    "\n",
    "for p in platforms:\n",
    "    platform = df_new.query('(platform == @p) and (user_score >-1)')\n",
    "    \n",
    "    ax[n].scatter(x = platform.user_score, y = platform.all_sales, c='teal', alpha=0.7)\n",
    "    ax[n].set_xlabel('Оценка пользователей')\n",
    "    ax[n].set_ylabel('Продажи')\n",
    "    ax[n].set_title(p)\n",
    "    \n",
    "    print (f'Корреляция продаж на {p} с оценкой пользователей составляет: {round(platform.user_score.corr(platform.all_sales),2)}')\n",
    "    n +=1\n",
    "plt.show()"
   ]
  },
  {
   "cell_type": "code",
   "execution_count": 48,
   "metadata": {},
   "outputs": [
    {
     "name": "stdout",
     "output_type": "stream",
     "text": [
      "Корреляция продаж на PS3 с оценкой критиков составляет: 0.33\n",
      "Корреляция продаж на XOne с оценкой критиков составляет: 0.42\n",
      "Корреляция продаж на 3DS с оценкой критиков составляет: 0.36\n",
      "Корреляция продаж на X360 с оценкой критиков составляет: 0.35\n"
     ]
    },
    {
     "data": {
      "image/png": "[encoded data removed]",
      "text/plain": [
       "<Figure size 1224x1584 with 4 Axes>"
      ]
     },
     "metadata": {
      "needs_background": "light"
     },
     "output_type": "display_data"
    }
   ],
   "source": [
    "# сделаем тоже самое для оценок критиков\n",
    "platforms = ['PS3', 'XOne','3DS','X360']\n",
    "n = 0\n",
    "fig, ax = plt.subplots(4, figsize=(17, 22))\n",
    "\n",
    "for p in platforms:\n",
    "   \n",
    "    platform = df_new.query('(platform == @p)  and (critic_score >-1)')\n",
    "\n",
    "    ax[n].scatter(x = platform.critic_score, y = platform.all_sales, c='teal', alpha=0.7)\n",
    "    ax[n].set_xlabel('Оценка критиков')\n",
    "    ax[n].set_ylabel('Продажи')\n",
    "    ax[n].set_title(p)\n",
    "     \n",
    "    print (f'Корреляция продаж на {p} с оценкой критиков составляет: {round(platform.critic_score.corr(platform.all_sales),2)}')\n",
    "    n +=1\n",
    "plt.show()       "
   ]
  },
  {
   "cell_type": "markdown",
   "metadata": {},
   "source": [
    "Как мы видим, на других платформах корреляции с отзывами критиков и пользователей примерно такие же, как и на PS4."
   ]
  },
  {
   "cell_type": "markdown",
   "metadata": {},
   "source": [
    "### Анализ жанров игр"
   ]
  },
  {
   "cell_type": "markdown",
   "metadata": {},
   "source": [
    "Посмотрите на общее распределение игр по жанрам. Что можно сказать о самых прибыльных жанрах? Выделяются ли жанры с высокими и низкими продажами?"
   ]
  },
  {
   "cell_type": "markdown",
   "metadata": {},
   "source": [
    "Построим диаграммы размаха для оценки прибыльности:"
   ]
  },
  {
   "cell_type": "code",
   "execution_count": 50,
   "metadata": {},
   "outputs": [
    {
     "data": {
      "image/png": "[encoded data removed]",
      "text/plain": [
       "<Figure size 1224x576 with 1 Axes>"
      ]
     },
     "metadata": {
      "needs_background": "light"
     },
     "output_type": "display_data"
    }
   ],
   "source": [
    "fig, ax = plt.subplots(figsize=(17,8))\n",
    "\n",
    "sns.boxplot\\\n",
    "    (data=df_new,\n",
    "     x='all_sales', y='genre', \\\n",
    "     width=0.7, \\\n",
    "     fliersize=1, \\\n",
    "     ax=ax, \\\n",
    "     palette='GnBu') \\\n",
    "    .set(xlabel='Продажи', ylabel='Жанры',title='Ящики с усами с продажами по жанрам \\n')\n",
    "plt.xlim([0,5]) ;"
   ]
  },
  {
   "cell_type": "markdown",
   "metadata": {},
   "source": [
    "Также можно оценить самые прибыльные игры и какой у них был жанр:"
   ]
  },
  {
   "cell_type": "code",
   "execution_count": 51,
   "metadata": {
    "scrolled": true
   },
   "outputs": [
    {
     "data": {
      "text/html": [
       "<div>\n",
       "<style scoped>\n",
       "    .dataframe tbody tr th:only-of-type {\n",
       "        vertical-align: middle;\n",
       "    }\n",
       "\n",
       "    .dataframe tbody tr th {\n",
       "        vertical-align: top;\n",
       "    }\n",
       "\n",
       "    .dataframe thead th {\n",
       "        text-align: right;\n",
       "    }\n",
       "</style>\n",
       "<table border=\"1\" class=\"dataframe\">\n",
       "  <thead>\n",
       "    <tr style=\"text-align: right;\">\n",
       "      <th></th>\n",
       "      <th>name</th>\n",
       "      <th>genre</th>\n",
       "      <th>all_sales</th>\n",
       "    </tr>\n",
       "  </thead>\n",
       "  <tbody>\n",
       "    <tr>\n",
       "      <th>0</th>\n",
       "      <td>Grand Theft Auto V</td>\n",
       "      <td>Action</td>\n",
       "      <td>56.58</td>\n",
       "    </tr>\n",
       "    <tr>\n",
       "      <th>1</th>\n",
       "      <td>Call of Duty: Ghosts</td>\n",
       "      <td>Shooter</td>\n",
       "      <td>27.39</td>\n",
       "    </tr>\n",
       "    <tr>\n",
       "      <th>2</th>\n",
       "      <td>Call of Duty: Black Ops 3</td>\n",
       "      <td>Shooter</td>\n",
       "      <td>25.67</td>\n",
       "    </tr>\n",
       "    <tr>\n",
       "      <th>3</th>\n",
       "      <td>Minecraft</td>\n",
       "      <td>Misc</td>\n",
       "      <td>24.16</td>\n",
       "    </tr>\n",
       "    <tr>\n",
       "      <th>4</th>\n",
       "      <td>Call of Duty: Advanced Warfare</td>\n",
       "      <td>Shooter</td>\n",
       "      <td>21.97</td>\n",
       "    </tr>\n",
       "  </tbody>\n",
       "</table>\n",
       "</div>"
      ],
      "text/plain": [
       "                             name    genre  all_sales\n",
       "0              Grand Theft Auto V   Action      56.58\n",
       "1            Call of Duty: Ghosts  Shooter      27.39\n",
       "2       Call of Duty: Black Ops 3  Shooter      25.67\n",
       "3                       Minecraft     Misc      24.16\n",
       "4  Call of Duty: Advanced Warfare  Shooter      21.97"
      ]
     },
     "execution_count": 51,
     "metadata": {},
     "output_type": "execute_result"
    }
   ],
   "source": [
    "top_game_genre = (df_new.pivot_table \\\n",
    "                  (index=['name','genre'], values='all_sales', aggfunc='sum') \\\n",
    "                  .sort_values('all_sales', ascending=False) \\\n",
    "                  .reset_index()\n",
    "                   )\n",
    "top_game_genre.head()"
   ]
  },
  {
   "cell_type": "markdown",
   "metadata": {},
   "source": [
    "Как мы видим самые популярный жанр игр это  Shooter. При этом топе-5 самых популярных игр  целых три места в топе занимают игры этого жанра. На втором месте игры жанра Sport, а на третьем Platform.\n",
    "Самыми непопулярными являются игры жанра Puzzle.  Кто будет собирать паззлы, если есть множество интереснейших игр, а паззл можно пособирать в телефоне, в мобильной игрушке. Так же непопулярными выявлены игры жанров Simulation и Strategy, жанры, в которых нужно думать. Полагаю, что это потому, что многие играют в компьютерные игры, чтобы просто раслабиться, пообщаться и отдохнуть. "
   ]
  },
  {
   "cell_type": "markdown",
   "metadata": {},
   "source": [
    "### Выводы"
   ]
  },
  {
   "cell_type": "markdown",
   "metadata": {},
   "source": [
    "\n",
    "\n",
    "В среднем, платформы живут 7-8 лет, далее они сильно теряют в своей актуальности. За период 2013-2016 гг. самые популярные платформы это  PS4, PS3 и Xone.\n",
    "\n",
    "Отзывы пользователей неоказывают влияния на продажи, а вот отзывы критиков влияют. \n",
    "\n",
    "Самые популярные игры жанра Shooter, Sports и Platform, а самые непопулярные это Puzzle, Simulation и Strategy."
   ]
  },
  {
   "cell_type": "markdown",
   "metadata": {},
   "source": [
    "## Портрет пользователя каждого региона"
   ]
  },
  {
   "cell_type": "markdown",
   "metadata": {},
   "source": [
    "В рамках этой части проекта перед нами соят следующие задачи:\n",
    "\n",
    " - Выбрать самые популярные платформы по регионам (топ-5).\n",
    "\n",
    " - Определить самые популярные жанры по регионам (топ-5).\n",
    "\n",
    " - Выяснить влияет ли рейтинг ESRB на продажи в отдельном регионе\n",
    " \n",
    " - Определить \"портрет\" для пользователя каждого региона (NA, EU, JP)"
   ]
  },
  {
   "cell_type": "markdown",
   "metadata": {},
   "source": [
    "### Самые популярные платформы"
   ]
  },
  {
   "cell_type": "markdown",
   "metadata": {},
   "source": [
    "Определим топ-5 популярных платформ для каждого региона:"
   ]
  },
  {
   "cell_type": "code",
   "execution_count": 52,
   "metadata": {},
   "outputs": [
    {
     "data": {
      "text/html": [
       "<div>\n",
       "<style scoped>\n",
       "    .dataframe tbody tr th:only-of-type {\n",
       "        vertical-align: middle;\n",
       "    }\n",
       "\n",
       "    .dataframe tbody tr th {\n",
       "        vertical-align: top;\n",
       "    }\n",
       "\n",
       "    .dataframe thead th {\n",
       "        text-align: right;\n",
       "    }\n",
       "</style>\n",
       "<table border=\"1\" class=\"dataframe\">\n",
       "  <thead>\n",
       "    <tr style=\"text-align: right;\">\n",
       "      <th></th>\n",
       "      <th>name</th>\n",
       "      <th>platform</th>\n",
       "      <th>year_of_release</th>\n",
       "      <th>genre</th>\n",
       "      <th>all_sales</th>\n",
       "      <th>na_sales</th>\n",
       "      <th>eu_sales</th>\n",
       "      <th>jp_sales</th>\n",
       "      <th>other_sales</th>\n",
       "      <th>critic_score</th>\n",
       "      <th>user_score</th>\n",
       "      <th>rating</th>\n",
       "    </tr>\n",
       "  </thead>\n",
       "  <tbody>\n",
       "    <tr>\n",
       "      <th>16</th>\n",
       "      <td>Grand Theft Auto V</td>\n",
       "      <td>PS3</td>\n",
       "      <td>2013</td>\n",
       "      <td>Action</td>\n",
       "      <td>21.05</td>\n",
       "      <td>7.02</td>\n",
       "      <td>9.09</td>\n",
       "      <td>0.98</td>\n",
       "      <td>3.96</td>\n",
       "      <td>97.0</td>\n",
       "      <td>8.2</td>\n",
       "      <td>M</td>\n",
       "    </tr>\n",
       "    <tr>\n",
       "      <th>23</th>\n",
       "      <td>Grand Theft Auto V</td>\n",
       "      <td>X360</td>\n",
       "      <td>2013</td>\n",
       "      <td>Action</td>\n",
       "      <td>16.27</td>\n",
       "      <td>9.66</td>\n",
       "      <td>5.14</td>\n",
       "      <td>0.06</td>\n",
       "      <td>1.41</td>\n",
       "      <td>97.0</td>\n",
       "      <td>8.1</td>\n",
       "      <td>M</td>\n",
       "    </tr>\n",
       "    <tr>\n",
       "      <th>31</th>\n",
       "      <td>Call of Duty: Black Ops 3</td>\n",
       "      <td>PS4</td>\n",
       "      <td>2015</td>\n",
       "      <td>Shooter</td>\n",
       "      <td>14.63</td>\n",
       "      <td>6.03</td>\n",
       "      <td>5.86</td>\n",
       "      <td>0.36</td>\n",
       "      <td>2.38</td>\n",
       "      <td>-1.0</td>\n",
       "      <td>-1.0</td>\n",
       "      <td>RP</td>\n",
       "    </tr>\n",
       "    <tr>\n",
       "      <th>33</th>\n",
       "      <td>Pokemon X/Pokemon Y</td>\n",
       "      <td>3DS</td>\n",
       "      <td>2013</td>\n",
       "      <td>Role-Playing</td>\n",
       "      <td>14.60</td>\n",
       "      <td>5.28</td>\n",
       "      <td>4.19</td>\n",
       "      <td>4.35</td>\n",
       "      <td>0.78</td>\n",
       "      <td>-1.0</td>\n",
       "      <td>-1.0</td>\n",
       "      <td>RP</td>\n",
       "    </tr>\n",
       "    <tr>\n",
       "      <th>42</th>\n",
       "      <td>Grand Theft Auto V</td>\n",
       "      <td>PS4</td>\n",
       "      <td>2014</td>\n",
       "      <td>Action</td>\n",
       "      <td>12.62</td>\n",
       "      <td>3.96</td>\n",
       "      <td>6.31</td>\n",
       "      <td>0.38</td>\n",
       "      <td>1.97</td>\n",
       "      <td>97.0</td>\n",
       "      <td>8.3</td>\n",
       "      <td>M</td>\n",
       "    </tr>\n",
       "  </tbody>\n",
       "</table>\n",
       "</div>"
      ],
      "text/plain": [
       "                         name platform  year_of_release         genre  \\\n",
       "16         Grand Theft Auto V      PS3             2013        Action   \n",
       "23         Grand Theft Auto V     X360             2013        Action   \n",
       "31  Call of Duty: Black Ops 3      PS4             2015       Shooter   \n",
       "33        Pokemon X/Pokemon Y      3DS             2013  Role-Playing   \n",
       "42         Grand Theft Auto V      PS4             2014        Action   \n",
       "\n",
       "    all_sales  na_sales  eu_sales  jp_sales  other_sales  critic_score  \\\n",
       "16      21.05      7.02      9.09      0.98         3.96          97.0   \n",
       "23      16.27      9.66      5.14      0.06         1.41          97.0   \n",
       "31      14.63      6.03      5.86      0.36         2.38          -1.0   \n",
       "33      14.60      5.28      4.19      4.35         0.78          -1.0   \n",
       "42      12.62      3.96      6.31      0.38         1.97          97.0   \n",
       "\n",
       "    user_score rating  \n",
       "16         8.2      M  \n",
       "23         8.1      M  \n",
       "31        -1.0     RP  \n",
       "33        -1.0     RP  \n",
       "42         8.3      M  "
      ]
     },
     "execution_count": 52,
     "metadata": {},
     "output_type": "execute_result"
    }
   ],
   "source": [
    "df_new.head()"
   ]
  },
  {
   "cell_type": "code",
   "execution_count": 53,
   "metadata": {},
   "outputs": [
    {
     "data": {
      "text/html": [
       "<div>\n",
       "<style scoped>\n",
       "    .dataframe tbody tr th:only-of-type {\n",
       "        vertical-align: middle;\n",
       "    }\n",
       "\n",
       "    .dataframe tbody tr th {\n",
       "        vertical-align: top;\n",
       "    }\n",
       "\n",
       "    .dataframe thead th {\n",
       "        text-align: right;\n",
       "    }\n",
       "</style>\n",
       "<table border=\"1\" class=\"dataframe\">\n",
       "  <thead>\n",
       "    <tr style=\"text-align: right;\">\n",
       "      <th></th>\n",
       "      <th>platform</th>\n",
       "      <th>na_sales</th>\n",
       "    </tr>\n",
       "  </thead>\n",
       "  <tbody>\n",
       "    <tr>\n",
       "      <th>0</th>\n",
       "      <td>PS4</td>\n",
       "      <td>108.74</td>\n",
       "    </tr>\n",
       "    <tr>\n",
       "      <th>1</th>\n",
       "      <td>XOne</td>\n",
       "      <td>93.12</td>\n",
       "    </tr>\n",
       "    <tr>\n",
       "      <th>2</th>\n",
       "      <td>X360</td>\n",
       "      <td>81.66</td>\n",
       "    </tr>\n",
       "    <tr>\n",
       "      <th>3</th>\n",
       "      <td>PS3</td>\n",
       "      <td>63.50</td>\n",
       "    </tr>\n",
       "    <tr>\n",
       "      <th>4</th>\n",
       "      <td>3DS</td>\n",
       "      <td>38.20</td>\n",
       "    </tr>\n",
       "  </tbody>\n",
       "</table>\n",
       "</div>"
      ],
      "text/plain": [
       "  platform  na_sales\n",
       "0      PS4    108.74\n",
       "1     XOne     93.12\n",
       "2     X360     81.66\n",
       "3      PS3     63.50\n",
       "4      3DS     38.20"
      ]
     },
     "execution_count": 53,
     "metadata": {},
     "output_type": "execute_result"
    }
   ],
   "source": [
    "# топ-5 платформ по продажам в Северной Америке\n",
    "na = (df_new.pivot_table \\\n",
    "            (index=['platform'], values='na_sales', aggfunc='sum') \\\n",
    "            .sort_values('na_sales', ascending=False) \\\n",
    "            .reset_index()\n",
    "            )\n",
    "na.head()"
   ]
  },
  {
   "cell_type": "code",
   "execution_count": 54,
   "metadata": {},
   "outputs": [
    {
     "data": {
      "text/html": [
       "<div>\n",
       "<style scoped>\n",
       "    .dataframe tbody tr th:only-of-type {\n",
       "        vertical-align: middle;\n",
       "    }\n",
       "\n",
       "    .dataframe tbody tr th {\n",
       "        vertical-align: top;\n",
       "    }\n",
       "\n",
       "    .dataframe thead th {\n",
       "        text-align: right;\n",
       "    }\n",
       "</style>\n",
       "<table border=\"1\" class=\"dataframe\">\n",
       "  <thead>\n",
       "    <tr style=\"text-align: right;\">\n",
       "      <th></th>\n",
       "      <th>platform</th>\n",
       "      <th>eu_sales</th>\n",
       "    </tr>\n",
       "  </thead>\n",
       "  <tbody>\n",
       "    <tr>\n",
       "      <th>0</th>\n",
       "      <td>PS4</td>\n",
       "      <td>141.09</td>\n",
       "    </tr>\n",
       "    <tr>\n",
       "      <th>1</th>\n",
       "      <td>PS3</td>\n",
       "      <td>67.81</td>\n",
       "    </tr>\n",
       "    <tr>\n",
       "      <th>2</th>\n",
       "      <td>XOne</td>\n",
       "      <td>51.59</td>\n",
       "    </tr>\n",
       "    <tr>\n",
       "      <th>3</th>\n",
       "      <td>X360</td>\n",
       "      <td>42.52</td>\n",
       "    </tr>\n",
       "    <tr>\n",
       "      <th>4</th>\n",
       "      <td>3DS</td>\n",
       "      <td>30.96</td>\n",
       "    </tr>\n",
       "  </tbody>\n",
       "</table>\n",
       "</div>"
      ],
      "text/plain": [
       "  platform  eu_sales\n",
       "0      PS4    141.09\n",
       "1      PS3     67.81\n",
       "2     XOne     51.59\n",
       "3     X360     42.52\n",
       "4      3DS     30.96"
      ]
     },
     "execution_count": 54,
     "metadata": {},
     "output_type": "execute_result"
    }
   ],
   "source": [
    "# топ-5 платформ по продажам в Европе\n",
    "eu = (df_new.pivot_table \\\n",
    "            (index=['platform'], values='eu_sales', aggfunc='sum') \\\n",
    "            .sort_values('eu_sales', ascending=False) \\\n",
    "            .reset_index()\n",
    "            )\n",
    "eu.head()"
   ]
  },
  {
   "cell_type": "code",
   "execution_count": 55,
   "metadata": {},
   "outputs": [
    {
     "data": {
      "text/html": [
       "<div>\n",
       "<style scoped>\n",
       "    .dataframe tbody tr th:only-of-type {\n",
       "        vertical-align: middle;\n",
       "    }\n",
       "\n",
       "    .dataframe tbody tr th {\n",
       "        vertical-align: top;\n",
       "    }\n",
       "\n",
       "    .dataframe thead th {\n",
       "        text-align: right;\n",
       "    }\n",
       "</style>\n",
       "<table border=\"1\" class=\"dataframe\">\n",
       "  <thead>\n",
       "    <tr style=\"text-align: right;\">\n",
       "      <th></th>\n",
       "      <th>platform</th>\n",
       "      <th>jp_sales</th>\n",
       "    </tr>\n",
       "  </thead>\n",
       "  <tbody>\n",
       "    <tr>\n",
       "      <th>0</th>\n",
       "      <td>3DS</td>\n",
       "      <td>67.81</td>\n",
       "    </tr>\n",
       "    <tr>\n",
       "      <th>1</th>\n",
       "      <td>PS3</td>\n",
       "      <td>23.35</td>\n",
       "    </tr>\n",
       "    <tr>\n",
       "      <th>2</th>\n",
       "      <td>PSV</td>\n",
       "      <td>18.59</td>\n",
       "    </tr>\n",
       "    <tr>\n",
       "      <th>3</th>\n",
       "      <td>PS4</td>\n",
       "      <td>15.96</td>\n",
       "    </tr>\n",
       "    <tr>\n",
       "      <th>4</th>\n",
       "      <td>WiiU</td>\n",
       "      <td>10.88</td>\n",
       "    </tr>\n",
       "  </tbody>\n",
       "</table>\n",
       "</div>"
      ],
      "text/plain": [
       "  platform  jp_sales\n",
       "0      3DS     67.81\n",
       "1      PS3     23.35\n",
       "2      PSV     18.59\n",
       "3      PS4     15.96\n",
       "4     WiiU     10.88"
      ]
     },
     "execution_count": 55,
     "metadata": {},
     "output_type": "execute_result"
    }
   ],
   "source": [
    "# топ-5 платформ по продажам в Японии\n",
    "jp = (df_new.pivot_table \\\n",
    "            (index=['platform'], values='jp_sales', aggfunc='sum') \\\n",
    "            .sort_values('jp_sales', ascending=False) \\\n",
    "            .reset_index()\n",
    "            )\n",
    "jp.head()"
   ]
  },
  {
   "cell_type": "markdown",
   "metadata": {},
   "source": [
    "Создадим пайчарты для наглядности:"
   ]
  },
  {
   "cell_type": "code",
   "execution_count": 56,
   "metadata": {},
   "outputs": [
    {
     "data": {
      "image/png": "[encoded data removed]",
      "text/plain": [
       "<Figure size 1224x720 with 3 Axes>"
      ]
     },
     "metadata": {},
     "output_type": "display_data"
    }
   ],
   "source": [
    "colors = ['dodgerblue','teal','cadetblue','yellowgreen', 'steelblue','forestgreen']\n",
    "regions=['na_sales','eu_sales', 'jp_sales']\n",
    "fig, ax = plt.subplots(1,3, figsize=(17, 10))\n",
    "n = 0\n",
    "\n",
    "for r in regions:\n",
    "    # отфильтруем датасет\n",
    "    platform = (df_new.pivot_table \\\n",
    "                    (index='platform', values=r , aggfunc='sum') \\\n",
    "                    .sort_values( r, ascending = False) \\\n",
    "                    .reset_index())\n",
    "    # выберем топ-5 \n",
    "    best = platform[:5].copy()\n",
    "\n",
    "    # остальные объединим в категорию 'others'\n",
    "    new_row = pd.DataFrame(data = {\n",
    "    'platform' : ['others'],\n",
    "        r : [platform[r][5:].sum()]\n",
    "      })\n",
    "\n",
    "    # соединяем вместе\n",
    "    platform_combo = pd.concat([best, new_row])\n",
    "    \n",
    "    # строим пайчарт\n",
    "    platform_combo.plot \\\n",
    "        (kind='pie',y=r,ax=ax[n], autopct='%1.0f%%', \\\n",
    "         legend=False,labels= platform_combo.platform, \\\n",
    "        colors=colors)\\\n",
    "        .set_ylabel('') \n",
    "    \n",
    "    n+=1\n",
    "fig.suptitle('Топ-5 игровых платформ по регионам',\n",
    "             y = 0.8,\n",
    "             fontsize = 15)\n",
    "ax[0].set_title(\"NA\")\n",
    "ax[1].set_title(\"EU\")\n",
    "ax[2].set_title(\"JP\")\n",
    "\n",
    "plt.show()"
   ]
  },
  {
   "cell_type": "markdown",
   "metadata": {},
   "source": [
    "Видим явные различия в популярности платформ, например PS4, занимающая первое место по продажам в Северной Америке и Европе, занимает в Японии только 4-ое место.  А на первом месте в японском секторе 3DS, которая в остальных регионах только пятая.  Смешанная категория из разных платформ, не вошедших в топ-5 показывает, что в Японии такое разнообразие не очень-то популярно(всего 3%), в то время как в Северной Америке и Европе любят разнообразие в выборе игровой платформы."
   ]
  },
  {
   "cell_type": "markdown",
   "metadata": {},
   "source": [
    "### Самые популярные жанры"
   ]
  },
  {
   "cell_type": "markdown",
   "metadata": {},
   "source": [
    "Дальше оценим самые популярные жанры игр по регионам:"
   ]
  },
  {
   "cell_type": "code",
   "execution_count": 57,
   "metadata": {},
   "outputs": [
    {
     "data": {
      "text/html": [
       "<div>\n",
       "<style scoped>\n",
       "    .dataframe tbody tr th:only-of-type {\n",
       "        vertical-align: middle;\n",
       "    }\n",
       "\n",
       "    .dataframe tbody tr th {\n",
       "        vertical-align: top;\n",
       "    }\n",
       "\n",
       "    .dataframe thead th {\n",
       "        text-align: right;\n",
       "    }\n",
       "</style>\n",
       "<table border=\"1\" class=\"dataframe\">\n",
       "  <thead>\n",
       "    <tr style=\"text-align: right;\">\n",
       "      <th></th>\n",
       "      <th>genre</th>\n",
       "      <th>na_sales</th>\n",
       "    </tr>\n",
       "  </thead>\n",
       "  <tbody>\n",
       "    <tr>\n",
       "      <th>0</th>\n",
       "      <td>Action</td>\n",
       "      <td>126.05</td>\n",
       "    </tr>\n",
       "    <tr>\n",
       "      <th>1</th>\n",
       "      <td>Shooter</td>\n",
       "      <td>109.74</td>\n",
       "    </tr>\n",
       "    <tr>\n",
       "      <th>2</th>\n",
       "      <td>Sports</td>\n",
       "      <td>65.27</td>\n",
       "    </tr>\n",
       "    <tr>\n",
       "      <th>3</th>\n",
       "      <td>Role-Playing</td>\n",
       "      <td>46.40</td>\n",
       "    </tr>\n",
       "    <tr>\n",
       "      <th>4</th>\n",
       "      <td>Misc</td>\n",
       "      <td>27.49</td>\n",
       "    </tr>\n",
       "  </tbody>\n",
       "</table>\n",
       "</div>"
      ],
      "text/plain": [
       "          genre  na_sales\n",
       "0        Action    126.05\n",
       "1       Shooter    109.74\n",
       "2        Sports     65.27\n",
       "3  Role-Playing     46.40\n",
       "4          Misc     27.49"
      ]
     },
     "execution_count": 57,
     "metadata": {},
     "output_type": "execute_result"
    }
   ],
   "source": [
    "# топ-5 жанров игр в Северной Америке\n",
    "na_genres = (df_new.pivot_table \\\n",
    "                    (index='genre', values='na_sales', aggfunc='sum') \\\n",
    "                    .sort_values('na_sales', ascending=False) \\\n",
    "                    .reset_index()\n",
    "                        )\n",
    "na_genres.head()"
   ]
  },
  {
   "cell_type": "code",
   "execution_count": 58,
   "metadata": {},
   "outputs": [
    {
     "data": {
      "text/html": [
       "<div>\n",
       "<style scoped>\n",
       "    .dataframe tbody tr th:only-of-type {\n",
       "        vertical-align: middle;\n",
       "    }\n",
       "\n",
       "    .dataframe tbody tr th {\n",
       "        vertical-align: top;\n",
       "    }\n",
       "\n",
       "    .dataframe thead th {\n",
       "        text-align: right;\n",
       "    }\n",
       "</style>\n",
       "<table border=\"1\" class=\"dataframe\">\n",
       "  <thead>\n",
       "    <tr style=\"text-align: right;\">\n",
       "      <th></th>\n",
       "      <th>genre</th>\n",
       "      <th>eu_sales</th>\n",
       "    </tr>\n",
       "  </thead>\n",
       "  <tbody>\n",
       "    <tr>\n",
       "      <th>0</th>\n",
       "      <td>Action</td>\n",
       "      <td>118.13</td>\n",
       "    </tr>\n",
       "    <tr>\n",
       "      <th>1</th>\n",
       "      <td>Shooter</td>\n",
       "      <td>87.86</td>\n",
       "    </tr>\n",
       "    <tr>\n",
       "      <th>2</th>\n",
       "      <td>Sports</td>\n",
       "      <td>60.52</td>\n",
       "    </tr>\n",
       "    <tr>\n",
       "      <th>3</th>\n",
       "      <td>Role-Playing</td>\n",
       "      <td>36.97</td>\n",
       "    </tr>\n",
       "    <tr>\n",
       "      <th>4</th>\n",
       "      <td>Racing</td>\n",
       "      <td>20.19</td>\n",
       "    </tr>\n",
       "  </tbody>\n",
       "</table>\n",
       "</div>"
      ],
      "text/plain": [
       "          genre  eu_sales\n",
       "0        Action    118.13\n",
       "1       Shooter     87.86\n",
       "2        Sports     60.52\n",
       "3  Role-Playing     36.97\n",
       "4        Racing     20.19"
      ]
     },
     "execution_count": 58,
     "metadata": {},
     "output_type": "execute_result"
    }
   ],
   "source": [
    "# топ-5 жанров игр в Европе\n",
    "eu_genres = (df_new.pivot_table \\\n",
    "                    (index='genre', values='eu_sales', aggfunc='sum') \\\n",
    "                    .sort_values('eu_sales', ascending=False) \\\n",
    "                    .reset_index()\n",
    "                        )\n",
    "eu_genres.head()"
   ]
  },
  {
   "cell_type": "code",
   "execution_count": 59,
   "metadata": {
    "scrolled": true
   },
   "outputs": [
    {
     "data": {
      "text/html": [
       "<div>\n",
       "<style scoped>\n",
       "    .dataframe tbody tr th:only-of-type {\n",
       "        vertical-align: middle;\n",
       "    }\n",
       "\n",
       "    .dataframe tbody tr th {\n",
       "        vertical-align: top;\n",
       "    }\n",
       "\n",
       "    .dataframe thead th {\n",
       "        text-align: right;\n",
       "    }\n",
       "</style>\n",
       "<table border=\"1\" class=\"dataframe\">\n",
       "  <thead>\n",
       "    <tr style=\"text-align: right;\">\n",
       "      <th></th>\n",
       "      <th>genre</th>\n",
       "      <th>jp_sales</th>\n",
       "    </tr>\n",
       "  </thead>\n",
       "  <tbody>\n",
       "    <tr>\n",
       "      <th>0</th>\n",
       "      <td>Role-Playing</td>\n",
       "      <td>51.04</td>\n",
       "    </tr>\n",
       "    <tr>\n",
       "      <th>1</th>\n",
       "      <td>Action</td>\n",
       "      <td>40.49</td>\n",
       "    </tr>\n",
       "    <tr>\n",
       "      <th>2</th>\n",
       "      <td>Misc</td>\n",
       "      <td>9.20</td>\n",
       "    </tr>\n",
       "    <tr>\n",
       "      <th>3</th>\n",
       "      <td>Fighting</td>\n",
       "      <td>7.65</td>\n",
       "    </tr>\n",
       "    <tr>\n",
       "      <th>4</th>\n",
       "      <td>Shooter</td>\n",
       "      <td>6.61</td>\n",
       "    </tr>\n",
       "  </tbody>\n",
       "</table>\n",
       "</div>"
      ],
      "text/plain": [
       "          genre  jp_sales\n",
       "0  Role-Playing     51.04\n",
       "1        Action     40.49\n",
       "2          Misc      9.20\n",
       "3      Fighting      7.65\n",
       "4       Shooter      6.61"
      ]
     },
     "execution_count": 59,
     "metadata": {},
     "output_type": "execute_result"
    }
   ],
   "source": [
    "# топ-5 жанров игр в Японии\n",
    "jp_genres = (df_new.pivot_table \\\n",
    "                    (index='genre', values='jp_sales', aggfunc='sum') \\\n",
    "                    .sort_values('jp_sales', ascending=False) \\\n",
    "                    .reset_index()\n",
    "                        )\n",
    "jp_genres.head()"
   ]
  },
  {
   "cell_type": "markdown",
   "metadata": {},
   "source": [
    "Также создадим для наглядности пайчарты:"
   ]
  },
  {
   "cell_type": "code",
   "execution_count": 60,
   "metadata": {},
   "outputs": [
    {
     "data": {
      "image/png": "[encoded data removed]",
      "text/plain": [
       "<Figure size 1224x720 with 3 Axes>"
      ]
     },
     "metadata": {},
     "output_type": "display_data"
    }
   ],
   "source": [
    "regions=['na_sales','eu_sales', 'jp_sales']\n",
    "fig, ax = plt.subplots(1,3, figsize=(17, 10))\n",
    "n = 0\n",
    "\n",
    "for r in regions:\n",
    "    # отфильтруем датасет\n",
    "    genres = (df_new.pivot_table \\\n",
    "                    (index='genre', values=r , aggfunc='sum') \\\n",
    "                    .sort_values( r, ascending = False) \\\n",
    "                    .reset_index())\n",
    "    # выберем топ-5\n",
    "    best = genres[:5].copy()\n",
    "\n",
    "    # остальные объединим в категорию 'others'\n",
    "    new_row = pd.DataFrame(data = {\n",
    "    'genre' : ['others'],\n",
    "        r : [genres[r][5:].sum()]\n",
    "      })\n",
    "\n",
    "    # соединияем вместе\n",
    "    genres_combo = pd.concat([best, new_row])\n",
    "    \n",
    "    \n",
    "    # строим пайчарт\n",
    "    genres_combo.plot \\\n",
    "        (kind='pie',y=r,ax=ax[n], autopct='%1.0f%%', \\\n",
    "         legend=False,labels= genres_combo.genre, \\\n",
    "        colors=colors)\\\n",
    "        .set_ylabel('') \n",
    "    \n",
    "    n+=1\n",
    "    \n",
    "fig.suptitle('Топ-5 жанров по регионам', y = 0.8, fontsize = 15)\n",
    "ax[0].set_title(\"NA\")\n",
    "ax[1].set_title(\"EU\")\n",
    "ax[2].set_title(\"JP\")\n",
    "\n",
    "plt.show()  "
   ]
  },
  {
   "cell_type": "markdown",
   "metadata": {},
   "source": [
    "И снова отличается Япония. У Северной америки и Европы совпадают первые 4 места по популярности жанров и только пятое различается, а вот в Японии самый популярный для других регионов жанр Action был смещен на второе место жанром Role-Playing. Скорее всего это связано с огромной популярностью в Японии разных азиатских РПГ.  Шутеры вообще в японском топе занимают только пятое место, в то время как в других регионах это второе место.  Также на графиках видно, какой большой сегмент занимают игры категории 'others', куда вошли игры жанров, не вошедших в топ-5 по региону.  Видимо у каждого жанра всё-таки есть свой потребитель и, хоть по отдельности их немного, в сумме они составляют внушительый кусок рынка игр. "
   ]
  },
  {
   "cell_type": "markdown",
   "metadata": {},
   "source": [
    "### Влияние рейтина ESRB на продажи игр"
   ]
  },
  {
   "cell_type": "markdown",
   "metadata": {},
   "source": [
    "**ESRB имеет следующие маркировки рейтингов:**\n",
    "\n",
    "«EC» («Early childhood») — «Для детей младшего возраста», 3+\n",
    "\n",
    "«E» («Everyone») — «Для всех», 6+\n",
    "\n",
    "«E10+» («Everyone 10 and older») — «Для всех от 10 лет и старше», 10+\n",
    "\n",
    "«T» («Teen») — «Подросткам», 13+\n",
    "\n",
    "«M» («Mature») — «Для взрослых», 17+\n",
    "\n",
    "«AO» («Adults Only 18+») — «Только для взрослых», 18+\n",
    "\n",
    "«RP» («Rating Pending») — «Рейтинг ожидается»\n",
    "\n",
    "«RP 17+» («Rating Pending») — «Рейтинг ожидается - примерно 17+»"
   ]
  },
  {
   "cell_type": "markdown",
   "metadata": {},
   "source": [
    "Рассмотрим, оказывают ли рейтинги влияние на продажи игр. Посмотрим на топ-5 рейтингов по регионам:"
   ]
  },
  {
   "cell_type": "code",
   "execution_count": 62,
   "metadata": {
    "scrolled": true
   },
   "outputs": [
    {
     "data": {
      "image/png": "[encoded data removed]",
      "text/plain": [
       "<Figure size 720x360 with 1 Axes>"
      ]
     },
     "metadata": {},
     "output_type": "display_data"
    }
   ],
   "source": [
    "colors = ['dodgerblue','teal','cadetblue','yellowgreen', 'steelblue']\n",
    "\n",
    "esrb_na = df_new.pivot_table \\\n",
    "             (index='rating', values='na_sales', aggfunc='sum') \\\n",
    "             .nlargest(5, 'na_sales') \\\n",
    "             .reset_index() \\\n",
    "             .sort_values('na_sales', ascending=False)\n",
    "esrb_na.plot \\\n",
    "        (kind='pie', y='na_sales',autopct='%1.0f%%', \\\n",
    "        figsize=(10, 5), legend=False,labels=esrb_na.rating, \\\n",
    "        colors=colors, title='NA') \\\n",
    "        .set_ylabel('')\n",
    "             \n",
    "\n",
    "plt.show()\n"
   ]
  },
  {
   "cell_type": "code",
   "execution_count": 63,
   "metadata": {},
   "outputs": [
    {
     "data": {
      "text/html": [
       "<div>\n",
       "<style scoped>\n",
       "    .dataframe tbody tr th:only-of-type {\n",
       "        vertical-align: middle;\n",
       "    }\n",
       "\n",
       "    .dataframe tbody tr th {\n",
       "        vertical-align: top;\n",
       "    }\n",
       "\n",
       "    .dataframe thead th {\n",
       "        text-align: right;\n",
       "    }\n",
       "</style>\n",
       "<table border=\"1\" class=\"dataframe\">\n",
       "  <thead>\n",
       "    <tr style=\"text-align: right;\">\n",
       "      <th></th>\n",
       "      <th>rating</th>\n",
       "      <th>na_sales</th>\n",
       "    </tr>\n",
       "  </thead>\n",
       "  <tbody>\n",
       "    <tr>\n",
       "      <th>0</th>\n",
       "      <td>M</td>\n",
       "      <td>165.21</td>\n",
       "    </tr>\n",
       "    <tr>\n",
       "      <th>1</th>\n",
       "      <td>RP</td>\n",
       "      <td>89.42</td>\n",
       "    </tr>\n",
       "    <tr>\n",
       "      <th>2</th>\n",
       "      <td>E</td>\n",
       "      <td>79.05</td>\n",
       "    </tr>\n",
       "    <tr>\n",
       "      <th>3</th>\n",
       "      <td>E10+</td>\n",
       "      <td>54.24</td>\n",
       "    </tr>\n",
       "    <tr>\n",
       "      <th>4</th>\n",
       "      <td>T</td>\n",
       "      <td>49.79</td>\n",
       "    </tr>\n",
       "  </tbody>\n",
       "</table>\n",
       "</div>"
      ],
      "text/plain": [
       "  rating  na_sales\n",
       "0      M    165.21\n",
       "1     RP     89.42\n",
       "2      E     79.05\n",
       "3   E10+     54.24\n",
       "4      T     49.79"
      ]
     },
     "execution_count": 63,
     "metadata": {},
     "output_type": "execute_result"
    }
   ],
   "source": [
    "esrb_na"
   ]
  },
  {
   "cell_type": "code",
   "execution_count": 71,
   "metadata": {
    "scrolled": true
   },
   "outputs": [
    {
     "data": {
      "image/png": "[encoded data removed]",
      "text/plain": [
       "<Figure size 720x360 with 1 Axes>"
      ]
     },
     "metadata": {},
     "output_type": "display_data"
    }
   ],
   "source": [
    "esrb_eu = df_new.pivot_table \\\n",
    "            (index='rating', values='eu_sales', aggfunc='sum') \\\n",
    "            .nlargest(5, 'eu_sales') \\\n",
    "            .reset_index() \\\n",
    "            .sort_values('eu_sales', ascending=False)\n",
    "esrb_eu.plot \\\n",
    "        (kind='pie', y='eu_sales',autopct='%1.0f%%', \\\n",
    "         figsize=(10, 5), legend=False,labels=esrb_eu.rating, \\\n",
    "         colors=colors, title='EU') \\\n",
    "        .set_ylabel('')\n",
    "\n",
    "plt.show()\n"
   ]
  },
  {
   "cell_type": "code",
   "execution_count": 65,
   "metadata": {},
   "outputs": [
    {
     "data": {
      "text/html": [
       "<div>\n",
       "<style scoped>\n",
       "    .dataframe tbody tr th:only-of-type {\n",
       "        vertical-align: middle;\n",
       "    }\n",
       "\n",
       "    .dataframe tbody tr th {\n",
       "        vertical-align: top;\n",
       "    }\n",
       "\n",
       "    .dataframe thead th {\n",
       "        text-align: right;\n",
       "    }\n",
       "</style>\n",
       "<table border=\"1\" class=\"dataframe\">\n",
       "  <thead>\n",
       "    <tr style=\"text-align: right;\">\n",
       "      <th></th>\n",
       "      <th>rating</th>\n",
       "      <th>eu_sales</th>\n",
       "    </tr>\n",
       "  </thead>\n",
       "  <tbody>\n",
       "    <tr>\n",
       "      <th>0</th>\n",
       "      <td>E</td>\n",
       "      <td>704.14</td>\n",
       "    </tr>\n",
       "    <tr>\n",
       "      <th>1</th>\n",
       "      <td>RP</td>\n",
       "      <td>609.68</td>\n",
       "    </tr>\n",
       "    <tr>\n",
       "      <th>2</th>\n",
       "      <td>M</td>\n",
       "      <td>480.00</td>\n",
       "    </tr>\n",
       "    <tr>\n",
       "      <th>3</th>\n",
       "      <td>T</td>\n",
       "      <td>421.79</td>\n",
       "    </tr>\n",
       "    <tr>\n",
       "      <th>4</th>\n",
       "      <td>E10+</td>\n",
       "      <td>183.35</td>\n",
       "    </tr>\n",
       "  </tbody>\n",
       "</table>\n",
       "</div>"
      ],
      "text/plain": [
       "  rating  eu_sales\n",
       "0      E    704.14\n",
       "1     RP    609.68\n",
       "2      M    480.00\n",
       "3      T    421.79\n",
       "4   E10+    183.35"
      ]
     },
     "execution_count": 65,
     "metadata": {},
     "output_type": "execute_result"
    }
   ],
   "source": [
    "esrb_eu"
   ]
  },
  {
   "cell_type": "code",
   "execution_count": 72,
   "metadata": {},
   "outputs": [
    {
     "data": {
      "image/png": "[encoded data removed]",
      "text/plain": [
       "<Figure size 720x360 with 1 Axes>"
      ]
     },
     "metadata": {},
     "output_type": "display_data"
    }
   ],
   "source": [
    "esrb_jp = df_new.pivot_table \\\n",
    "            (index='rating', values='jp_sales', aggfunc='sum') \\\n",
    "            .nlargest(5, 'jp_sales') \\\n",
    "            .reset_index() \\\n",
    "            .sort_values('jp_sales', ascending=False)\n",
    "esrb_jp.plot \\\n",
    "        (kind='pie', y='jp_sales',autopct='%1.0f%%', \\\n",
    "         figsize=(10, 5), legend=False,labels=esrb_jp.rating, \\\n",
    "         colors=colors, title='JP') \\\n",
    "        .set_ylabel('')\n",
    "\n",
    "plt.show()"
   ]
  },
  {
   "cell_type": "code",
   "execution_count": 67,
   "metadata": {},
   "outputs": [
    {
     "data": {
      "text/html": [
       "<div>\n",
       "<style scoped>\n",
       "    .dataframe tbody tr th:only-of-type {\n",
       "        vertical-align: middle;\n",
       "    }\n",
       "\n",
       "    .dataframe tbody tr th {\n",
       "        vertical-align: top;\n",
       "    }\n",
       "\n",
       "    .dataframe thead th {\n",
       "        text-align: right;\n",
       "    }\n",
       "</style>\n",
       "<table border=\"1\" class=\"dataframe\">\n",
       "  <thead>\n",
       "    <tr style=\"text-align: right;\">\n",
       "      <th></th>\n",
       "      <th>rating</th>\n",
       "      <th>jp_sales</th>\n",
       "    </tr>\n",
       "  </thead>\n",
       "  <tbody>\n",
       "    <tr>\n",
       "      <th>0</th>\n",
       "      <td>RP</td>\n",
       "      <td>836.74</td>\n",
       "    </tr>\n",
       "    <tr>\n",
       "      <th>1</th>\n",
       "      <td>E</td>\n",
       "      <td>199.42</td>\n",
       "    </tr>\n",
       "    <tr>\n",
       "      <th>2</th>\n",
       "      <td>T</td>\n",
       "      <td>150.70</td>\n",
       "    </tr>\n",
       "    <tr>\n",
       "      <th>3</th>\n",
       "      <td>M</td>\n",
       "      <td>63.58</td>\n",
       "    </tr>\n",
       "    <tr>\n",
       "      <th>4</th>\n",
       "      <td>E10+</td>\n",
       "      <td>40.20</td>\n",
       "    </tr>\n",
       "  </tbody>\n",
       "</table>\n",
       "</div>"
      ],
      "text/plain": [
       "  rating  jp_sales\n",
       "0     RP    836.74\n",
       "1      E    199.42\n",
       "2      T    150.70\n",
       "3      M     63.58\n",
       "4   E10+     40.20"
      ]
     },
     "execution_count": 67,
     "metadata": {},
     "output_type": "execute_result"
    }
   ],
   "source": [
    "esrb_jp "
   ]
  },
  {
   "cell_type": "markdown",
   "metadata": {},
   "source": [
    "Как мы видим, у многих игр не проставлены рейтинги, это из-за того, что рейтинг ESRB сощдан для североамериканского региона. У других регионов свои рейтинги. Получается, что, если не проставлен рейтинг,значит игра была выпущена не в Североамериканском регионе. Тем не менее, мы видим, что Европа и Северная Америка опять практически дублируют друг дргуа и самыми популярными категориями являются категории для всех (6+) для подростков (13+) и для взрослых (17+). А вот в Япоснком сегменте только 5% ушло на взрослый сегмент и в основном продажи идут в секторе игр для всех (6+) и подростки (13+). Возможно в Японии предпочитают менее жестокие и более детские игры."
   ]
  },
  {
   "cell_type": "markdown",
   "metadata": {},
   "source": [
    "### Выводы"
   ]
  },
  {
   "cell_type": "markdown",
   "metadata": {},
   "source": [
    "Стандартный геймер в Севрной америке препочитает подростоковые игры, игры для взрослых или игры 6+, любит жанры экшн, шутер и спорт и предпочитает играть на PS4,XOne или на X360. Европейский геймер любит те же жанры и возрастные рейтинги в играх, однако играть предпочитает на PS4, PS3 или XOne. В Японии препочтение отдают более \"детским\" по рейтингам играм, жанра РПГ, экшн и смешанному жанру. Играть предпочитают на 3DS, PS3\tили PSV."
   ]
  },
  {
   "cell_type": "markdown",
   "metadata": {},
   "source": [
    "## Проверка гипотез"
   ]
  },
  {
   "cell_type": "markdown",
   "metadata": {},
   "source": [
    " Нам предстоит проверить две гипотезы:\n",
    " - Средние пользовательские рейтинги платформ Xbox One и PC одинаковые\n",
    " - Средние пользовательские рейтинги жанров Action и Sports разные\n",
    " "
   ]
  },
  {
   "cell_type": "markdown",
   "metadata": {},
   "source": [
    "### Средние пользовательские рейтинги платформ Xbox One и PC одинаковые"
   ]
  },
  {
   "cell_type": "markdown",
   "metadata": {},
   "source": [
    "##### **Сформулируем нужные нам данные:**\n",
    "\n",
    "Нулевая гипотеза = Средние пользовательские рейтинги платформ Xbox One и PC одинаковые\n",
    "\n",
    "Альтернативная гипотеза = Средние пользовательские рейтинги платформ Xbox One и PC разные\n",
    "\n",
    "Критический уровень статистической значимости (alpha)  установим 0.05\n",
    "\n",
    "Значение equal_var укажем False, так как наши выборки разные и это может отразиться на наших результатах проверки гипотез"
   ]
  },
  {
   "cell_type": "code",
   "execution_count": 68,
   "metadata": {},
   "outputs": [],
   "source": [
    "['user_score']\n",
    "pc = df_new.query('platform == \"PC\"')['user_score']"
   ]
  },
  {
   "cell_type": "code",
   "execution_count": 69,
   "metadata": {},
   "outputs": [
    {
     "name": "stdout",
     "output_type": "stream",
     "text": [
      "p-значение: 0.14759594013430463\n",
      "Не получилось отвергнуть нулевую гипотезу\n"
     ]
    }
   ],
   "source": [
    "#убираем из под\n",
    "xone = df_new.query('(platform == \"XOne\") and (user_score > -1)')['user_score']\n",
    "pc = df_new.query('(platform == \"PC\") and (user_score > -1)')['user_score']\n",
    "\n",
    "alpha = 0.05\n",
    "\n",
    "res = st.ttest_ind(xone, pc, equal_var=False)\n",
    "\n",
    "print('p-значение:', res.pvalue)\n",
    "\n",
    "if (res.pvalue < alpha):\n",
    "    print(\"Отвергаем нулевую гипотезу\")\n",
    "else:\n",
    "    print(\"Не получилось отвергнуть нулевую гипотезу\")"
   ]
  },
  {
   "cell_type": "markdown",
   "metadata": {},
   "source": [
    "Как мы видим, в нашем случае нулевая гипотеза верна и средние пользовательские рейтинги платформ Xbox One и PC одинаковые."
   ]
  },
  {
   "cell_type": "markdown",
   "metadata": {},
   "source": [
    "### Средние пользовательские рейтинги жанров Action (англ. «действие», экшен-игры) и Sports (англ. «спортивные соревнования») разные."
   ]
  },
  {
   "cell_type": "markdown",
   "metadata": {},
   "source": [
    "**Сформулируем нужные нам данные:**\n",
    "\n",
    "Нулевая гипотеза = Средние пользовательские рейтинги жанров Action и Sports одинаковые. \n",
    "\n",
    "Альтернативная гипотеза = Средние пользовательские рейтинги жанров Action и Sports разные\n",
    "\n",
    "Критический уровень статистической значимости (alpha)  установим 0.01\n",
    "\n",
    "Значение equal_var укажем False, так как наши выборки разные и это может отравззиться на наших результатах проверки гипотез"
   ]
  },
  {
   "cell_type": "code",
   "execution_count": 70,
   "metadata": {},
   "outputs": [
    {
     "name": "stdout",
     "output_type": "stream",
     "text": [
      "p-значение: 1.4460039700704315e-20\n",
      "Отвергаем нулевую гипотезу\n"
     ]
    }
   ],
   "source": [
    "action = df_new.query('genre == \"Action\" and (user_score > -1)')['user_score']\n",
    "sports = df_new.query('genre == \"Sports\" and (user_score > -1)')['user_score']\n",
    "\n",
    "alpha = 0.05\n",
    "\n",
    "res = st.ttest_ind(\n",
    "    action, \n",
    "    sports, \n",
    "    equal_var=False)\n",
    "\n",
    "print('p-значение:', res.pvalue)\n",
    "\n",
    "if (res.pvalue < alpha):\n",
    "    print(\"Отвергаем нулевую гипотезу\")\n",
    "else:\n",
    "    print(\"Не получилось отвергнуть нулевую гипотезу\")"
   ]
  },
  {
   "cell_type": "markdown",
   "metadata": {},
   "source": [
    "Как мы видим нулевая гипотеза отвергнута, а значит средние пользовательские рейтинги жанров Action (англ. «действие», экшен-игры) и Sports (англ. «спортивные соревнования») действительно разные."
   ]
  },
  {
   "cell_type": "markdown",
   "metadata": {},
   "source": [
    "**Выводы**\n",
    "\n",
    "Мы проверили две гипотезы:\n",
    "\n",
    "- Средние пользовательские рейтинги платформ Xbox One и PC одинаковые\n",
    "- Средние пользовательские рейтинги жанров Action и Sports разные\n",
    "\n",
    "Обе гипотезы подтвердились.\n",
    "\n",
    "Нулевые гипотезы были сформулированы именно так, так как нулевая гипотеза всегда подразумевает, что что-либо равно чему-то или одинаково с чем-то. А альтернативая гиоптеза как раз ищет разницу."
   ]
  },
  {
   "cell_type": "markdown",
   "metadata": {},
   "source": [
    "## Общий вывод"
   ]
  },
  {
   "cell_type": "markdown",
   "metadata": {},
   "source": [
    "**В рамках нашего проекта была произведена подготовительная работа с данными:**\n",
    "\n",
    "Названия столбцов были приведены к нижнему регистру.\n",
    "\n",
    "У столбцов year_of_release и user_score был изменен тип данных на более  им int и float. \n",
    "\n",
    "В данных были обнаружены пропуски.\n",
    "\n",
    "В столбцах name' и ''genre' их было решено удалить, в виду невозможности восполнить сведения и малому количеству пропусков (всего два).\n",
    "\n",
    "В столбце 'year_of_release' было решено удалить пропуски, так как в дальнейшем, при фильтрации датасета для работы, эти пропуски всё равно уйдут, их всего 1.6%.\n",
    "\n",
    "В столбцах 'user_score' и 'critic_score'  использовано асбурное значение \"-1\", так как в этих колонках значения только неотрицательные.\n",
    "\n",
    "В столбце 'rating' было организовано новое значение 'RP', как Rating Pending — «Рейтинг ожидается»(такая категория в ESRB есть). Рейтинг ESRB  предназначен для маркировки игр для США и Канады. И логично, что для других регионов он не заполняется.\n",
    "\n",
    "Самые обширные пропуски в колонках critic_score - 51.31% и user_score - 54.59%.  Видимо на эти игры пользователи не хотели ставить оценки или их очень мало.  По оценкам критиков, наверняка можно было бы поискать какие-то данные и заполнить из них, но у нас нет доступа к такой информации и неизвестно рейтинг какого сайта или фирмы использован в этом датасете. Поэтому пропуски в этих колонках останутся.\n",
    "\n",
    "Также датасет был обогащен сведениями по продажам со всего мира.\n",
    "\n",
    "**Следом был проведен исследовательский анализ данных:**\n",
    "\n",
    "Мы выяснили, что, в среднем, платформы живут 7-8 лет, далее они сильно теряют в своей актуальности. За период 2013-2016 гг. самые популярные платформы это PS4 (314.14 млн.копий ), PS3 (181.43 млн.копий) и Xone (159.32 млн.копий ).  Однако есть одна платформа. которая актуальна всегда, это, конечно PC.\n",
    "\n",
    "Далее были сформирован новый датасет с наиболее актуальными данными.\n",
    "\n",
    "Мы также выяснили, что отзывы пользователей не оказывают влияния на продажи(коэффициент корреляции -0.03) , а вот отзывы критиков влияют(коэффициент корреляции 0.41).\n",
    "\n",
    "Как мы видим самые популярный жанр игр это  Shooter. При этом топе-5 самых популярных игр  целых три места в топе занимают игры этого жанра. На втором месте игры жанра Sport, а на третьем Platform. Cамые непопулярные это Puzzle, Simulation и Strategy.  Полагаю, что это из-за того, что многие играют в игры, чтобы расслабиться, отвлечься и не думать, поэтому жанры Симуляторов и Стратегии непопулярны.  А жанр Паззл перекочевал в мобильные телефоны и стал простеньким видом игтры для убивания времени. \n",
    "\n",
    "**Портрет пользователя по регионам:**\n",
    "\n",
    "Был проведен анализ предпочтения платформ и жанров по пользователям разных регионов, а именно по Северной Америке, Европе и Японии). Обнаружилось, что большому проценту игр не был проставлен рейтинг(28% проданных игр для Северной Америки, 25% для Еропы, и 65% для Японии), возможно игры еще не были оценены или, как я уже говорила, для разных регионов рейтинги каких-то игр различны и им не проставили значения конкретно в нашем датасете.  При необходимости, для более точного точного анализа следует поискать дополнительную информацию по рейтингу.\n",
    "\n",
    "Выяснилось, что типичный геймер в Северной америке препочитает подростковые игры (17%), игры для взрослых (17%) или игры 6+ (29%), любит жанры Action (126.05 млн.копий), Shooter (109.74 млн.копий) и Sports (65.27 млн.копий) и предпочитает играть на PS4 (108.74 млн.копий), XOne (93.12 млн.копий) или на X360 (81.66 млн.копий). \n",
    "\n",
    "Европейский геймер любит те же жанры(Action (118.13 млн.копий), Shooter\t(87.86 млн.копий), Sports (60.52 млн.копий)) и возрастные рейтинги(игры 6+(29%),игры для взрослых(20%, подростковые игры(18%)) в играх, однако играть предпочитает на PS4 (141.09 млн.копий), PS3 (67.81 млн.копий) или XOne (51.59 млн.копий). \n",
    "\n",
    "В Японии препочтение отдают более \"детским\" по рейтингам играм(игры 6+(15%),подростковые игры(12%),игры для взрослых(5%)), жанра РПГ, экшн и смешанному жанру. Играть предпочитают на 3DS (67.81 млн.копий),PS3 (23.35 млн.копий) или PSV (18.59 млн.копий).\n",
    "\n",
    "Смешанная категория из разных платформ, не вошедших в топ-5 показывает, что в Японии люди более консервативны, в то время как в Северной Америке и Европе любят разнообразие в выборе игровой платформы.\n",
    "\n",
    "Также на графиках видно, какой большой сегмент занимают игры категории 'others', куда вошли игры жанров, не вошедших в топ-5 по региону.  Видимо у каждого жанра всё-таки есть свой потребитель и, хоть по отдельности их немного, в сумме они составляют внушительый кусок рынка игр. \n",
    "\n",
    "\n",
    "**Проверка гипотез:**\n",
    "\n",
    "Нами было выдвинуто две гипотезы:\n",
    "\n",
    "Средние пользовательские рейтинги платформ Xbox One и PC одинаковые\n",
    "Средние пользовательские рейтинги жанров Action (англ. «действие», экшен-игры) и Sports (англ. «спортивные соревнования») разные\n",
    "\n",
    "Обе гипотезы подтвердились. \n",
    "\n",
    "\n",
    "**Рекомендации по планированию на 2017 год:**\n",
    "\n",
    "При планировании на 2017 год следует учесть, что для Североамериканского и Европейского региона популярны игры маркировки E, M, T, жанра Shooter, и выпущенные для платформы PS4.  Для Японского сектора характернее в основном \"детские\" игры жанра RPG, выпущенные для платформы 3DS.\n",
    "\n",
    "Следует обращать внимание на отзывы критиков, а возможно и оплатить \"рекламные отзывы\" популярных критиков. Отзывы пользователей существенного влияния на продажи не оказывают.\n"
   ]
  }
 ],
 "metadata": {
  "ExecuteTimeLog": [
   {
    "duration": 401,
    "start_time": "2022-10-31T08:37:55.067Z"
   },
   {
    "duration": 98,
    "start_time": "2022-10-31T08:38:15.727Z"
   },
   {
    "duration": 22,
    "start_time": "2022-10-31T08:38:20.953Z"
   },
   {
    "duration": 15,
    "start_time": "2022-10-31T08:45:50.457Z"
   },
   {
    "duration": 11,
    "start_time": "2022-10-31T08:46:11.742Z"
   },
   {
    "duration": 3,
    "start_time": "2022-10-31T08:54:11.446Z"
   },
   {
    "duration": 82,
    "start_time": "2022-10-31T08:54:17.139Z"
   },
   {
    "duration": 15,
    "start_time": "2022-10-31T08:54:23.216Z"
   },
   {
    "duration": 54,
    "start_time": "2022-10-31T08:56:11.772Z"
   },
   {
    "duration": 14,
    "start_time": "2022-10-31T08:56:12.258Z"
   },
   {
    "duration": 922,
    "start_time": "2022-10-31T09:03:47.444Z"
   },
   {
    "duration": 16,
    "start_time": "2022-10-31T09:04:16.912Z"
   },
   {
    "duration": 10,
    "start_time": "2022-10-31T09:04:39.225Z"
   },
   {
    "duration": 17,
    "start_time": "2022-10-31T09:21:16.851Z"
   },
   {
    "duration": 12,
    "start_time": "2022-10-31T09:25:14.050Z"
   },
   {
    "duration": 55,
    "start_time": "2022-10-31T09:25:46.084Z"
   },
   {
    "duration": 14,
    "start_time": "2022-10-31T09:31:29.559Z"
   },
   {
    "duration": 15,
    "start_time": "2022-10-31T09:31:40.672Z"
   },
   {
    "duration": 10,
    "start_time": "2022-10-31T09:34:08.786Z"
   },
   {
    "duration": 6,
    "start_time": "2022-10-31T09:35:12.178Z"
   },
   {
    "duration": 5,
    "start_time": "2022-10-31T09:36:03.731Z"
   },
   {
    "duration": 20,
    "start_time": "2022-10-31T09:38:07.519Z"
   },
   {
    "duration": 4,
    "start_time": "2022-10-31T09:43:49.591Z"
   },
   {
    "duration": 4,
    "start_time": "2022-10-31T09:44:15.040Z"
   },
   {
    "duration": 8,
    "start_time": "2022-10-31T09:47:15.684Z"
   },
   {
    "duration": 4,
    "start_time": "2022-10-31T09:47:48.400Z"
   },
   {
    "duration": 6,
    "start_time": "2022-10-31T09:48:32.369Z"
   },
   {
    "duration": 15,
    "start_time": "2022-10-31T09:48:54.233Z"
   },
   {
    "duration": 4,
    "start_time": "2022-10-31T09:49:06.490Z"
   },
   {
    "duration": 14,
    "start_time": "2022-10-31T09:49:08.977Z"
   },
   {
    "duration": 5,
    "start_time": "2022-10-31T09:49:50.266Z"
   },
   {
    "duration": 13,
    "start_time": "2022-10-31T09:49:53.283Z"
   },
   {
    "duration": 5,
    "start_time": "2022-10-31T09:52:29.100Z"
   },
   {
    "duration": 15,
    "start_time": "2022-10-31T09:52:29.443Z"
   },
   {
    "duration": 11,
    "start_time": "2022-10-31T09:52:42.547Z"
   },
   {
    "duration": 15,
    "start_time": "2022-10-31T09:52:43.051Z"
   },
   {
    "duration": 10,
    "start_time": "2022-10-31T09:52:48.300Z"
   },
   {
    "duration": 9,
    "start_time": "2022-10-31T09:52:48.843Z"
   },
   {
    "duration": 10,
    "start_time": "2022-10-31T09:52:51.619Z"
   },
   {
    "duration": 21,
    "start_time": "2022-10-31T09:52:52.532Z"
   },
   {
    "duration": 50,
    "start_time": "2022-10-31T10:02:59.792Z"
   },
   {
    "duration": 49,
    "start_time": "2022-10-31T10:03:08.448Z"
   },
   {
    "duration": 66,
    "start_time": "2022-10-31T10:03:14.617Z"
   },
   {
    "duration": 45,
    "start_time": "2022-10-31T10:03:22.993Z"
   },
   {
    "duration": 12,
    "start_time": "2022-10-31T10:04:19.418Z"
   },
   {
    "duration": 19,
    "start_time": "2022-10-31T10:04:41.113Z"
   },
   {
    "duration": 6,
    "start_time": "2022-10-31T10:04:47.770Z"
   },
   {
    "duration": 18,
    "start_time": "2022-10-31T10:08:07.773Z"
   },
   {
    "duration": 14,
    "start_time": "2022-10-31T10:08:32.860Z"
   },
   {
    "duration": 5,
    "start_time": "2022-10-31T10:33:11.602Z"
   },
   {
    "duration": 21,
    "start_time": "2022-10-31T10:34:20.003Z"
   },
   {
    "duration": 6,
    "start_time": "2022-10-31T11:16:51.124Z"
   },
   {
    "duration": 12,
    "start_time": "2022-10-31T11:19:21.103Z"
   },
   {
    "duration": 62,
    "start_time": "2022-10-31T11:19:24.852Z"
   },
   {
    "duration": 5,
    "start_time": "2022-10-31T11:20:38.568Z"
   },
   {
    "duration": 5,
    "start_time": "2022-10-31T11:33:19.975Z"
   },
   {
    "duration": 12,
    "start_time": "2022-10-31T11:34:07.512Z"
   },
   {
    "duration": 24,
    "start_time": "2022-10-31T11:36:37.303Z"
   },
   {
    "duration": 8,
    "start_time": "2022-10-31T11:40:15.794Z"
   },
   {
    "duration": 16,
    "start_time": "2022-10-31T11:40:26.171Z"
   },
   {
    "duration": 47,
    "start_time": "2022-10-31T11:52:42.481Z"
   },
   {
    "duration": 4,
    "start_time": "2022-10-31T11:52:49.307Z"
   },
   {
    "duration": 10,
    "start_time": "2022-10-31T11:52:56.396Z"
   },
   {
    "duration": 8,
    "start_time": "2022-10-31T11:53:05.412Z"
   },
   {
    "duration": 4,
    "start_time": "2022-10-31T11:53:53.276Z"
   },
   {
    "duration": 163,
    "start_time": "2022-10-31T11:54:03.749Z"
   },
   {
    "duration": 16,
    "start_time": "2022-10-31T11:55:06.845Z"
   },
   {
    "duration": 386,
    "start_time": "2022-10-31T11:55:19.613Z"
   },
   {
    "duration": 314,
    "start_time": "2022-10-31T11:55:33.701Z"
   },
   {
    "duration": 11,
    "start_time": "2022-10-31T11:56:33.294Z"
   },
   {
    "duration": 51,
    "start_time": "2022-10-31T11:56:49.539Z"
   },
   {
    "duration": 167,
    "start_time": "2022-10-31T11:56:53.303Z"
   },
   {
    "duration": 189,
    "start_time": "2022-10-31T11:56:58.263Z"
   },
   {
    "duration": 107,
    "start_time": "2022-10-31T12:00:03.664Z"
   },
   {
    "duration": 56,
    "start_time": "2022-10-31T12:00:11.976Z"
   },
   {
    "duration": 48,
    "start_time": "2022-10-31T12:00:21.216Z"
   },
   {
    "duration": 13,
    "start_time": "2022-10-31T12:04:42.114Z"
   },
   {
    "duration": 23,
    "start_time": "2022-10-31T12:05:06.426Z"
   },
   {
    "duration": 33,
    "start_time": "2022-10-31T12:06:02.460Z"
   },
   {
    "duration": 21,
    "start_time": "2022-10-31T12:06:10.420Z"
   },
   {
    "duration": 103,
    "start_time": "2022-10-31T12:08:56.573Z"
   },
   {
    "duration": 21,
    "start_time": "2022-10-31T12:10:34.732Z"
   },
   {
    "duration": 22,
    "start_time": "2022-10-31T12:10:38.818Z"
   },
   {
    "duration": 4,
    "start_time": "2022-10-31T12:11:36.995Z"
   },
   {
    "duration": 61,
    "start_time": "2022-10-31T12:11:37.002Z"
   },
   {
    "duration": 16,
    "start_time": "2022-10-31T12:11:37.065Z"
   },
   {
    "duration": 20,
    "start_time": "2022-10-31T12:11:37.084Z"
   },
   {
    "duration": 42,
    "start_time": "2022-10-31T12:11:37.106Z"
   },
   {
    "duration": 27,
    "start_time": "2022-10-31T12:11:37.150Z"
   },
   {
    "duration": 16,
    "start_time": "2022-10-31T12:11:37.179Z"
   },
   {
    "duration": 17,
    "start_time": "2022-10-31T12:11:37.198Z"
   },
   {
    "duration": 18,
    "start_time": "2022-10-31T12:11:37.217Z"
   },
   {
    "duration": 19,
    "start_time": "2022-10-31T12:11:37.239Z"
   },
   {
    "duration": 18,
    "start_time": "2022-10-31T12:11:37.260Z"
   },
   {
    "duration": 16,
    "start_time": "2022-10-31T12:11:37.280Z"
   },
   {
    "duration": 20,
    "start_time": "2022-10-31T12:11:37.298Z"
   },
   {
    "duration": 36,
    "start_time": "2022-10-31T12:11:37.320Z"
   },
   {
    "duration": 18,
    "start_time": "2022-10-31T12:11:37.359Z"
   },
   {
    "duration": 20,
    "start_time": "2022-10-31T12:11:37.379Z"
   },
   {
    "duration": 49,
    "start_time": "2022-10-31T12:11:37.401Z"
   },
   {
    "duration": 3,
    "start_time": "2022-10-31T12:11:37.452Z"
   },
   {
    "duration": 35,
    "start_time": "2022-10-31T12:11:37.456Z"
   },
   {
    "duration": 5,
    "start_time": "2022-10-31T12:11:37.492Z"
   },
   {
    "duration": 14,
    "start_time": "2022-10-31T12:11:37.499Z"
   },
   {
    "duration": 8,
    "start_time": "2022-10-31T12:11:37.515Z"
   },
   {
    "duration": 17,
    "start_time": "2022-10-31T12:11:37.525Z"
   },
   {
    "duration": 17,
    "start_time": "2022-10-31T12:11:37.543Z"
   },
   {
    "duration": 6,
    "start_time": "2022-10-31T12:11:37.561Z"
   },
   {
    "duration": 18,
    "start_time": "2022-10-31T12:11:37.569Z"
   },
   {
    "duration": 15,
    "start_time": "2022-10-31T12:11:37.589Z"
   },
   {
    "duration": 199,
    "start_time": "2022-10-31T12:11:37.607Z"
   },
   {
    "duration": 20,
    "start_time": "2022-10-31T12:11:37.807Z"
   },
   {
    "duration": 9,
    "start_time": "2022-10-31T12:27:41.472Z"
   },
   {
    "duration": 14,
    "start_time": "2022-10-31T12:27:48.193Z"
   },
   {
    "duration": 12,
    "start_time": "2022-10-31T12:28:01.281Z"
   },
   {
    "duration": 14,
    "start_time": "2022-10-31T12:28:07.147Z"
   },
   {
    "duration": 19,
    "start_time": "2022-10-31T12:29:06.321Z"
   },
   {
    "duration": 50,
    "start_time": "2022-10-31T12:29:53.249Z"
   },
   {
    "duration": 273,
    "start_time": "2022-10-31T12:30:05.178Z"
   },
   {
    "duration": 8,
    "start_time": "2022-10-31T12:30:21.978Z"
   },
   {
    "duration": 11,
    "start_time": "2022-10-31T12:30:27.706Z"
   },
   {
    "duration": 263,
    "start_time": "2022-10-31T12:31:50.955Z"
   },
   {
    "duration": 396,
    "start_time": "2022-10-31T12:31:58.534Z"
   },
   {
    "duration": 313,
    "start_time": "2022-10-31T12:32:13.803Z"
   },
   {
    "duration": 9,
    "start_time": "2022-10-31T12:32:26.523Z"
   },
   {
    "duration": 316,
    "start_time": "2022-10-31T12:33:10.636Z"
   },
   {
    "duration": 299,
    "start_time": "2022-10-31T12:33:23.477Z"
   },
   {
    "duration": 291,
    "start_time": "2022-10-31T12:33:31.428Z"
   },
   {
    "duration": 301,
    "start_time": "2022-10-31T12:33:47.916Z"
   },
   {
    "duration": 279,
    "start_time": "2022-10-31T12:34:03.844Z"
   },
   {
    "duration": 295,
    "start_time": "2022-10-31T12:34:34.892Z"
   },
   {
    "duration": 298,
    "start_time": "2022-10-31T12:34:48.060Z"
   },
   {
    "duration": 311,
    "start_time": "2022-10-31T12:34:59.429Z"
   },
   {
    "duration": 188,
    "start_time": "2022-10-31T12:35:08.061Z"
   },
   {
    "duration": 10,
    "start_time": "2022-10-31T12:37:41.574Z"
   },
   {
    "duration": 9,
    "start_time": "2022-10-31T12:37:46.158Z"
   },
   {
    "duration": 9,
    "start_time": "2022-10-31T12:37:54.799Z"
   },
   {
    "duration": 199,
    "start_time": "2022-10-31T12:38:29.127Z"
   },
   {
    "duration": 10,
    "start_time": "2022-10-31T12:48:09.363Z"
   },
   {
    "duration": 11,
    "start_time": "2022-10-31T12:48:15.379Z"
   },
   {
    "duration": 18,
    "start_time": "2022-10-31T12:48:24.756Z"
   },
   {
    "duration": 12,
    "start_time": "2022-10-31T12:48:43.492Z"
   },
   {
    "duration": 7,
    "start_time": "2022-10-31T12:50:48.477Z"
   },
   {
    "duration": 10,
    "start_time": "2022-10-31T12:59:26.858Z"
   },
   {
    "duration": 11,
    "start_time": "2022-10-31T12:59:31.011Z"
   },
   {
    "duration": 14,
    "start_time": "2022-10-31T12:59:36.434Z"
   },
   {
    "duration": 68,
    "start_time": "2022-10-31T12:59:41.226Z"
   },
   {
    "duration": 89,
    "start_time": "2022-10-31T12:59:51.740Z"
   },
   {
    "duration": 16,
    "start_time": "2022-10-31T13:00:30.442Z"
   },
   {
    "duration": 14,
    "start_time": "2022-10-31T13:00:34.131Z"
   },
   {
    "duration": 84,
    "start_time": "2022-10-31T13:00:34.571Z"
   },
   {
    "duration": 15,
    "start_time": "2022-10-31T13:00:42.131Z"
   },
   {
    "duration": 98,
    "start_time": "2022-10-31T13:00:42.500Z"
   },
   {
    "duration": 4,
    "start_time": "2022-10-31T13:02:16.563Z"
   },
   {
    "duration": 15,
    "start_time": "2022-10-31T13:02:20.333Z"
   },
   {
    "duration": 6,
    "start_time": "2022-10-31T13:02:25.435Z"
   },
   {
    "duration": 6,
    "start_time": "2022-10-31T13:02:39.523Z"
   },
   {
    "duration": 5,
    "start_time": "2022-10-31T13:02:55.620Z"
   },
   {
    "duration": 117,
    "start_time": "2022-10-31T13:03:13.028Z"
   },
   {
    "duration": 88,
    "start_time": "2022-10-31T13:04:29.444Z"
   },
   {
    "duration": 9,
    "start_time": "2022-10-31T13:04:56.342Z"
   },
   {
    "duration": 17,
    "start_time": "2022-10-31T13:05:10.685Z"
   },
   {
    "duration": 122,
    "start_time": "2022-10-31T13:05:11.172Z"
   },
   {
    "duration": 57,
    "start_time": "2022-10-31T13:05:11.660Z"
   },
   {
    "duration": 5,
    "start_time": "2022-10-31T13:05:16.621Z"
   },
   {
    "duration": 9,
    "start_time": "2022-10-31T13:05:31.709Z"
   },
   {
    "duration": 286,
    "start_time": "2022-10-31T13:06:53.839Z"
   },
   {
    "duration": 387,
    "start_time": "2022-10-31T13:08:15.623Z"
   },
   {
    "duration": 280,
    "start_time": "2022-10-31T13:08:26.438Z"
   },
   {
    "duration": 19,
    "start_time": "2022-10-31T13:14:34.714Z"
   },
   {
    "duration": 11,
    "start_time": "2022-10-31T13:14:52.202Z"
   },
   {
    "duration": 11,
    "start_time": "2022-10-31T13:14:55.946Z"
   },
   {
    "duration": 5,
    "start_time": "2022-10-31T13:14:58.178Z"
   },
   {
    "duration": 13,
    "start_time": "2022-10-31T13:15:06.147Z"
   },
   {
    "duration": 37,
    "start_time": "2022-10-31T13:15:09.010Z"
   },
   {
    "duration": 11,
    "start_time": "2022-10-31T13:17:36.611Z"
   },
   {
    "duration": 10,
    "start_time": "2022-10-31T13:17:45.508Z"
   },
   {
    "duration": 10,
    "start_time": "2022-10-31T13:17:53.699Z"
   },
   {
    "duration": 12,
    "start_time": "2022-10-31T13:18:22.796Z"
   },
   {
    "duration": 56,
    "start_time": "2022-10-31T13:18:41.572Z"
   },
   {
    "duration": 16,
    "start_time": "2022-10-31T13:18:54.740Z"
   },
   {
    "duration": 13,
    "start_time": "2022-10-31T13:19:01.639Z"
   },
   {
    "duration": 311,
    "start_time": "2022-10-31T13:19:13.501Z"
   },
   {
    "duration": 12,
    "start_time": "2022-10-31T13:19:23.852Z"
   },
   {
    "duration": 17,
    "start_time": "2022-10-31T13:20:02.853Z"
   },
   {
    "duration": 80,
    "start_time": "2022-10-31T13:24:00.471Z"
   },
   {
    "duration": 813,
    "start_time": "2022-10-31T13:24:28.440Z"
   },
   {
    "duration": 16,
    "start_time": "2022-10-31T13:24:36.152Z"
   },
   {
    "duration": 18,
    "start_time": "2022-10-31T13:24:45.384Z"
   },
   {
    "duration": 25,
    "start_time": "2022-10-31T13:26:07.305Z"
   },
   {
    "duration": 17,
    "start_time": "2022-10-31T13:26:09.544Z"
   },
   {
    "duration": 19,
    "start_time": "2022-10-31T13:27:19.793Z"
   },
   {
    "duration": 19,
    "start_time": "2022-10-31T13:27:22.521Z"
   },
   {
    "duration": 9,
    "start_time": "2022-10-31T13:28:36.593Z"
   },
   {
    "duration": 4,
    "start_time": "2022-10-31T13:28:43.241Z"
   },
   {
    "duration": 555,
    "start_time": "2022-10-31T13:33:45.183Z"
   },
   {
    "duration": 456,
    "start_time": "2022-10-31T13:33:55.174Z"
   },
   {
    "duration": 243,
    "start_time": "2022-10-31T13:34:12.717Z"
   },
   {
    "duration": 209,
    "start_time": "2022-10-31T13:34:34.765Z"
   },
   {
    "duration": 351,
    "start_time": "2022-10-31T13:34:41.381Z"
   },
   {
    "duration": 135,
    "start_time": "2022-10-31T13:35:24.782Z"
   },
   {
    "duration": 430,
    "start_time": "2022-10-31T13:35:34.534Z"
   },
   {
    "duration": 42,
    "start_time": "2022-10-31T13:35:51.878Z"
   },
   {
    "duration": 447,
    "start_time": "2022-10-31T13:35:56.335Z"
   },
   {
    "duration": 495,
    "start_time": "2022-10-31T13:36:36.423Z"
   },
   {
    "duration": 474,
    "start_time": "2022-10-31T13:36:40.999Z"
   },
   {
    "duration": 15,
    "start_time": "2022-10-31T13:37:44.095Z"
   },
   {
    "duration": 52,
    "start_time": "2022-10-31T13:37:56.768Z"
   },
   {
    "duration": 587,
    "start_time": "2022-10-31T13:37:59.911Z"
   },
   {
    "duration": 523,
    "start_time": "2022-10-31T13:38:07.159Z"
   },
   {
    "duration": 417,
    "start_time": "2022-10-31T13:38:13.743Z"
   },
   {
    "duration": 419,
    "start_time": "2022-10-31T13:38:20.815Z"
   },
   {
    "duration": 464,
    "start_time": "2022-10-31T13:38:26.177Z"
   },
   {
    "duration": 424,
    "start_time": "2022-10-31T13:39:07.800Z"
   },
   {
    "duration": 597,
    "start_time": "2022-10-31T13:39:14.600Z"
   },
   {
    "duration": 412,
    "start_time": "2022-10-31T13:39:19.736Z"
   },
   {
    "duration": 460,
    "start_time": "2022-10-31T13:39:23.615Z"
   },
   {
    "duration": 409,
    "start_time": "2022-10-31T13:39:27.399Z"
   },
   {
    "duration": 58,
    "start_time": "2022-10-31T13:39:32.056Z"
   },
   {
    "duration": 407,
    "start_time": "2022-10-31T13:39:34.504Z"
   },
   {
    "duration": 527,
    "start_time": "2022-10-31T13:39:46.680Z"
   },
   {
    "duration": 80,
    "start_time": "2022-10-31T13:39:53.081Z"
   },
   {
    "duration": 55,
    "start_time": "2022-10-31T13:39:58.008Z"
   },
   {
    "duration": 132,
    "start_time": "2022-10-31T13:40:01.769Z"
   },
   {
    "duration": 460,
    "start_time": "2022-10-31T13:40:05.496Z"
   },
   {
    "duration": 439,
    "start_time": "2022-10-31T13:40:21.416Z"
   },
   {
    "duration": 86,
    "start_time": "2022-10-31T13:43:18.418Z"
   },
   {
    "duration": 409,
    "start_time": "2022-10-31T13:43:25.778Z"
   },
   {
    "duration": 355,
    "start_time": "2022-10-31T13:43:35.851Z"
   },
   {
    "duration": 341,
    "start_time": "2022-10-31T13:43:55.923Z"
   },
   {
    "duration": 425,
    "start_time": "2022-10-31T13:44:56.188Z"
   },
   {
    "duration": 533,
    "start_time": "2022-10-31T13:45:03.524Z"
   },
   {
    "duration": 429,
    "start_time": "2022-10-31T13:45:11.011Z"
   },
   {
    "duration": 524,
    "start_time": "2022-10-31T13:46:56.876Z"
   },
   {
    "duration": 419,
    "start_time": "2022-10-31T13:47:29.828Z"
   },
   {
    "duration": 7,
    "start_time": "2022-10-31T14:22:39.822Z"
   },
   {
    "duration": 5,
    "start_time": "2022-10-31T14:23:16.813Z"
   },
   {
    "duration": 48,
    "start_time": "2022-10-31T14:27:01.023Z"
   },
   {
    "duration": 52,
    "start_time": "2022-10-31T14:27:44.240Z"
   },
   {
    "duration": 53,
    "start_time": "2022-10-31T14:27:54.199Z"
   },
   {
    "duration": 52,
    "start_time": "2022-10-31T14:28:29.584Z"
   },
   {
    "duration": 4,
    "start_time": "2022-10-31T14:28:53.416Z"
   },
   {
    "duration": 7,
    "start_time": "2022-10-31T14:29:26.879Z"
   },
   {
    "duration": 10,
    "start_time": "2022-10-31T14:29:56.985Z"
   },
   {
    "duration": 5,
    "start_time": "2022-10-31T14:30:05.929Z"
   },
   {
    "duration": 6,
    "start_time": "2022-10-31T14:30:38.089Z"
   },
   {
    "duration": 263,
    "start_time": "2022-10-31T14:31:48.314Z"
   },
   {
    "duration": 254,
    "start_time": "2022-10-31T14:32:46.114Z"
   },
   {
    "duration": 293,
    "start_time": "2022-10-31T14:33:14.906Z"
   },
   {
    "duration": 294,
    "start_time": "2022-10-31T14:33:42.418Z"
   },
   {
    "duration": 9,
    "start_time": "2022-10-31T14:40:27.310Z"
   },
   {
    "duration": 4,
    "start_time": "2022-10-31T14:40:27.805Z"
   },
   {
    "duration": 806,
    "start_time": "2022-10-31T14:40:28.301Z"
   },
   {
    "duration": 455,
    "start_time": "2022-10-31T14:40:43.310Z"
   },
   {
    "duration": 284,
    "start_time": "2022-10-31T14:41:17.463Z"
   },
   {
    "duration": 3,
    "start_time": "2022-10-31T14:44:54.511Z"
   },
   {
    "duration": 3,
    "start_time": "2022-10-31T14:46:24.001Z"
   },
   {
    "duration": 401,
    "start_time": "2022-10-31T14:50:35.363Z"
   },
   {
    "duration": 11,
    "start_time": "2022-10-31T14:50:58.699Z"
   },
   {
    "duration": 18,
    "start_time": "2022-10-31T14:51:04.580Z"
   },
   {
    "duration": 427,
    "start_time": "2022-10-31T14:51:48.572Z"
   },
   {
    "duration": 476,
    "start_time": "2022-10-31T14:52:58.045Z"
   },
   {
    "duration": 472,
    "start_time": "2022-10-31T14:54:25.117Z"
   },
   {
    "duration": 529,
    "start_time": "2022-10-31T14:54:40.582Z"
   },
   {
    "duration": 453,
    "start_time": "2022-10-31T14:54:55.740Z"
   },
   {
    "duration": 467,
    "start_time": "2022-10-31T14:55:28.684Z"
   },
   {
    "duration": 398,
    "start_time": "2022-10-31T14:55:38.469Z"
   },
   {
    "duration": 50,
    "start_time": "2022-10-31T14:55:50.294Z"
   },
   {
    "duration": 467,
    "start_time": "2022-10-31T14:55:59.997Z"
   },
   {
    "duration": 504,
    "start_time": "2022-10-31T14:57:06.822Z"
   },
   {
    "duration": 614,
    "start_time": "2022-10-31T14:57:16.174Z"
   },
   {
    "duration": 54,
    "start_time": "2022-10-31T14:58:07.982Z"
   },
   {
    "duration": 74,
    "start_time": "2022-10-31T14:59:18.831Z"
   },
   {
    "duration": 60,
    "start_time": "2022-10-31T14:59:31.671Z"
   },
   {
    "duration": 512,
    "start_time": "2022-10-31T14:59:48.919Z"
   },
   {
    "duration": 524,
    "start_time": "2022-10-31T15:00:08.687Z"
   },
   {
    "duration": 368,
    "start_time": "2022-10-31T15:02:43.737Z"
   },
   {
    "duration": 377,
    "start_time": "2022-10-31T15:03:37.993Z"
   },
   {
    "duration": 504,
    "start_time": "2022-10-31T15:03:58.665Z"
   },
   {
    "duration": 511,
    "start_time": "2022-10-31T15:04:33.377Z"
   },
   {
    "duration": 328,
    "start_time": "2022-10-31T15:05:00.634Z"
   },
   {
    "duration": 576,
    "start_time": "2022-10-31T15:05:24.210Z"
   },
   {
    "duration": 293,
    "start_time": "2022-10-31T15:05:35.090Z"
   },
   {
    "duration": 269,
    "start_time": "2022-10-31T15:05:42.857Z"
   },
   {
    "duration": 293,
    "start_time": "2022-10-31T15:05:49.729Z"
   },
   {
    "duration": 291,
    "start_time": "2022-10-31T15:05:58.594Z"
   },
   {
    "duration": 17,
    "start_time": "2022-10-31T15:07:16.808Z"
   },
   {
    "duration": 16,
    "start_time": "2022-10-31T15:07:45.698Z"
   },
   {
    "duration": 16,
    "start_time": "2022-10-31T15:08:36.947Z"
   },
   {
    "duration": 3,
    "start_time": "2022-10-31T15:08:45.707Z"
   },
   {
    "duration": 62,
    "start_time": "2022-10-31T15:08:45.714Z"
   },
   {
    "duration": 17,
    "start_time": "2022-10-31T15:08:45.778Z"
   },
   {
    "duration": 34,
    "start_time": "2022-10-31T15:08:45.798Z"
   },
   {
    "duration": 42,
    "start_time": "2022-10-31T15:08:45.835Z"
   },
   {
    "duration": 45,
    "start_time": "2022-10-31T15:08:45.879Z"
   },
   {
    "duration": 17,
    "start_time": "2022-10-31T15:08:45.926Z"
   },
   {
    "duration": 41,
    "start_time": "2022-10-31T15:08:45.945Z"
   },
   {
    "duration": 15,
    "start_time": "2022-10-31T15:08:45.988Z"
   },
   {
    "duration": 32,
    "start_time": "2022-10-31T15:08:46.004Z"
   },
   {
    "duration": 51,
    "start_time": "2022-10-31T15:08:46.039Z"
   },
   {
    "duration": 25,
    "start_time": "2022-10-31T15:08:46.092Z"
   },
   {
    "duration": 47,
    "start_time": "2022-10-31T15:08:46.119Z"
   },
   {
    "duration": 16,
    "start_time": "2022-10-31T15:08:46.168Z"
   },
   {
    "duration": 43,
    "start_time": "2022-10-31T15:08:46.186Z"
   },
   {
    "duration": 35,
    "start_time": "2022-10-31T15:08:46.230Z"
   },
   {
    "duration": 23,
    "start_time": "2022-10-31T15:08:46.267Z"
   },
   {
    "duration": 5,
    "start_time": "2022-10-31T15:08:46.292Z"
   },
   {
    "duration": 23,
    "start_time": "2022-10-31T15:08:46.298Z"
   },
   {
    "duration": 5,
    "start_time": "2022-10-31T15:08:46.323Z"
   },
   {
    "duration": 14,
    "start_time": "2022-10-31T15:08:46.330Z"
   },
   {
    "duration": 5,
    "start_time": "2022-10-31T15:08:46.346Z"
   },
   {
    "duration": 14,
    "start_time": "2022-10-31T15:08:46.353Z"
   },
   {
    "duration": 23,
    "start_time": "2022-10-31T15:08:46.369Z"
   },
   {
    "duration": 6,
    "start_time": "2022-10-31T15:08:46.394Z"
   },
   {
    "duration": 43,
    "start_time": "2022-10-31T15:08:46.402Z"
   },
   {
    "duration": 13,
    "start_time": "2022-10-31T15:08:46.447Z"
   },
   {
    "duration": 209,
    "start_time": "2022-10-31T15:08:46.461Z"
   },
   {
    "duration": 21,
    "start_time": "2022-10-31T15:08:46.673Z"
   },
   {
    "duration": 11,
    "start_time": "2022-10-31T15:08:46.695Z"
   },
   {
    "duration": 339,
    "start_time": "2022-10-31T15:08:46.708Z"
   },
   {
    "duration": 11,
    "start_time": "2022-10-31T15:08:47.049Z"
   },
   {
    "duration": 25,
    "start_time": "2022-10-31T15:08:47.062Z"
   },
   {
    "duration": 390,
    "start_time": "2022-10-31T15:08:47.089Z"
   },
   {
    "duration": 10,
    "start_time": "2022-10-31T15:08:47.482Z"
   },
   {
    "duration": 35,
    "start_time": "2022-10-31T15:08:47.495Z"
   },
   {
    "duration": 21,
    "start_time": "2022-10-31T15:08:47.539Z"
   },
   {
    "duration": 486,
    "start_time": "2022-10-31T15:08:47.563Z"
   },
   {
    "duration": 8,
    "start_time": "2022-10-31T15:08:48.051Z"
   },
   {
    "duration": 343,
    "start_time": "2022-10-31T15:08:48.060Z"
   },
   {
    "duration": 19,
    "start_time": "2022-10-31T15:08:48.405Z"
   },
   {
    "duration": 562,
    "start_time": "2022-10-31T15:08:48.438Z"
   },
   {
    "duration": 639,
    "start_time": "2022-10-31T15:08:49.002Z"
   },
   {
    "duration": 16,
    "start_time": "2022-10-31T15:09:48.395Z"
   },
   {
    "duration": 5,
    "start_time": "2022-10-31T15:09:53.312Z"
   },
   {
    "duration": 53,
    "start_time": "2022-10-31T15:09:53.320Z"
   },
   {
    "duration": 14,
    "start_time": "2022-10-31T15:09:53.376Z"
   },
   {
    "duration": 19,
    "start_time": "2022-10-31T15:09:53.391Z"
   },
   {
    "duration": 14,
    "start_time": "2022-10-31T15:09:53.412Z"
   },
   {
    "duration": 14,
    "start_time": "2022-10-31T15:09:53.440Z"
   },
   {
    "duration": 7,
    "start_time": "2022-10-31T15:09:53.455Z"
   },
   {
    "duration": 9,
    "start_time": "2022-10-31T15:09:53.464Z"
   },
   {
    "duration": 10,
    "start_time": "2022-10-31T15:09:53.474Z"
   },
   {
    "duration": 7,
    "start_time": "2022-10-31T15:09:53.486Z"
   },
   {
    "duration": 17,
    "start_time": "2022-10-31T15:09:53.495Z"
   },
   {
    "duration": 33,
    "start_time": "2022-10-31T15:09:53.513Z"
   },
   {
    "duration": 17,
    "start_time": "2022-10-31T15:09:53.548Z"
   },
   {
    "duration": 17,
    "start_time": "2022-10-31T15:09:55.907Z"
   },
   {
    "duration": 18,
    "start_time": "2022-10-31T15:10:04.068Z"
   },
   {
    "duration": 3,
    "start_time": "2022-10-31T15:10:08.579Z"
   },
   {
    "duration": 57,
    "start_time": "2022-10-31T15:10:08.584Z"
   },
   {
    "duration": 14,
    "start_time": "2022-10-31T15:10:08.643Z"
   },
   {
    "duration": 19,
    "start_time": "2022-10-31T15:10:08.660Z"
   },
   {
    "duration": 14,
    "start_time": "2022-10-31T15:10:08.681Z"
   },
   {
    "duration": 14,
    "start_time": "2022-10-31T15:10:08.697Z"
   },
   {
    "duration": 6,
    "start_time": "2022-10-31T15:10:08.738Z"
   },
   {
    "duration": 8,
    "start_time": "2022-10-31T15:10:08.746Z"
   },
   {
    "duration": 15,
    "start_time": "2022-10-31T15:10:08.755Z"
   },
   {
    "duration": 11,
    "start_time": "2022-10-31T15:10:08.772Z"
   },
   {
    "duration": 20,
    "start_time": "2022-10-31T15:10:08.785Z"
   },
   {
    "duration": 16,
    "start_time": "2022-10-31T15:10:08.806Z"
   },
   {
    "duration": 15,
    "start_time": "2022-10-31T15:10:08.839Z"
   },
   {
    "duration": 15,
    "start_time": "2022-10-31T15:10:08.855Z"
   },
   {
    "duration": 16,
    "start_time": "2022-10-31T15:10:08.872Z"
   },
   {
    "duration": 13,
    "start_time": "2022-10-31T15:10:08.890Z"
   },
   {
    "duration": 48,
    "start_time": "2022-10-31T15:10:08.904Z"
   },
   {
    "duration": 3,
    "start_time": "2022-10-31T15:10:08.953Z"
   },
   {
    "duration": 28,
    "start_time": "2022-10-31T15:10:08.958Z"
   },
   {
    "duration": 6,
    "start_time": "2022-10-31T15:10:08.987Z"
   },
   {
    "duration": 8,
    "start_time": "2022-10-31T15:10:08.994Z"
   },
   {
    "duration": 9,
    "start_time": "2022-10-31T15:10:09.003Z"
   },
   {
    "duration": 27,
    "start_time": "2022-10-31T15:10:09.013Z"
   },
   {
    "duration": 18,
    "start_time": "2022-10-31T15:10:09.041Z"
   },
   {
    "duration": 13,
    "start_time": "2022-10-31T15:10:09.060Z"
   },
   {
    "duration": 15,
    "start_time": "2022-10-31T15:10:09.075Z"
   },
   {
    "duration": 12,
    "start_time": "2022-10-31T15:10:09.092Z"
   },
   {
    "duration": 204,
    "start_time": "2022-10-31T15:10:09.107Z"
   },
   {
    "duration": 33,
    "start_time": "2022-10-31T15:10:09.313Z"
   },
   {
    "duration": 12,
    "start_time": "2022-10-31T15:10:09.348Z"
   },
   {
    "duration": 310,
    "start_time": "2022-10-31T15:10:09.362Z"
   },
   {
    "duration": 9,
    "start_time": "2022-10-31T15:10:09.674Z"
   },
   {
    "duration": 19,
    "start_time": "2022-10-31T15:10:09.684Z"
   },
   {
    "duration": 297,
    "start_time": "2022-10-31T15:10:09.704Z"
   },
   {
    "duration": 9,
    "start_time": "2022-10-31T15:10:10.003Z"
   },
   {
    "duration": 34,
    "start_time": "2022-10-31T15:10:10.014Z"
   },
   {
    "duration": 17,
    "start_time": "2022-10-31T15:10:10.050Z"
   },
   {
    "duration": 469,
    "start_time": "2022-10-31T15:10:10.068Z"
   },
   {
    "duration": 7,
    "start_time": "2022-10-31T15:10:10.539Z"
   },
   {
    "duration": 341,
    "start_time": "2022-10-31T15:10:10.548Z"
   },
   {
    "duration": 18,
    "start_time": "2022-10-31T15:10:10.890Z"
   },
   {
    "duration": 687,
    "start_time": "2022-10-31T15:10:10.910Z"
   },
   {
    "duration": 515,
    "start_time": "2022-10-31T15:10:11.598Z"
   },
   {
    "duration": 423,
    "start_time": "2022-10-31T15:10:42.365Z"
   },
   {
    "duration": 131,
    "start_time": "2022-10-31T15:16:54.727Z"
   },
   {
    "duration": 111,
    "start_time": "2022-10-31T15:17:07.423Z"
   },
   {
    "duration": 102,
    "start_time": "2022-10-31T15:17:18.983Z"
   },
   {
    "duration": 11,
    "start_time": "2022-10-31T15:19:50.488Z"
   },
   {
    "duration": 10,
    "start_time": "2022-10-31T15:20:01.897Z"
   },
   {
    "duration": 10,
    "start_time": "2022-10-31T15:20:06.176Z"
   },
   {
    "duration": 11,
    "start_time": "2022-10-31T15:20:09.424Z"
   },
   {
    "duration": 14,
    "start_time": "2022-10-31T15:20:20.601Z"
   },
   {
    "duration": 14,
    "start_time": "2022-10-31T15:22:20.433Z"
   },
   {
    "duration": 18,
    "start_time": "2022-10-31T15:22:21.865Z"
   },
   {
    "duration": 7,
    "start_time": "2022-10-31T15:25:51.188Z"
   },
   {
    "duration": 8,
    "start_time": "2022-10-31T15:26:06.052Z"
   },
   {
    "duration": 8,
    "start_time": "2022-10-31T15:27:38.388Z"
   },
   {
    "duration": 13,
    "start_time": "2022-10-31T15:58:44.420Z"
   },
   {
    "duration": 1385,
    "start_time": "2022-11-01T10:07:33.947Z"
   },
   {
    "duration": 195,
    "start_time": "2022-11-01T10:07:35.335Z"
   },
   {
    "duration": 20,
    "start_time": "2022-11-01T10:07:35.531Z"
   },
   {
    "duration": 17,
    "start_time": "2022-11-01T10:07:35.553Z"
   },
   {
    "duration": 15,
    "start_time": "2022-11-01T10:07:35.571Z"
   },
   {
    "duration": 37,
    "start_time": "2022-11-01T10:07:35.588Z"
   },
   {
    "duration": 5,
    "start_time": "2022-11-01T10:07:35.627Z"
   },
   {
    "duration": 6,
    "start_time": "2022-11-01T10:07:35.634Z"
   },
   {
    "duration": 9,
    "start_time": "2022-11-01T10:07:35.642Z"
   },
   {
    "duration": 7,
    "start_time": "2022-11-01T10:07:35.654Z"
   },
   {
    "duration": 14,
    "start_time": "2022-11-01T10:07:35.663Z"
   },
   {
    "duration": 8,
    "start_time": "2022-11-01T10:07:35.679Z"
   },
   {
    "duration": 86,
    "start_time": "2022-11-01T10:07:35.689Z"
   },
   {
    "duration": 16,
    "start_time": "2022-11-01T10:07:35.776Z"
   },
   {
    "duration": 33,
    "start_time": "2022-11-01T10:07:35.793Z"
   },
   {
    "duration": 12,
    "start_time": "2022-11-01T10:07:35.827Z"
   },
   {
    "duration": 24,
    "start_time": "2022-11-01T10:07:35.841Z"
   },
   {
    "duration": 10,
    "start_time": "2022-11-01T10:07:35.866Z"
   },
   {
    "duration": 47,
    "start_time": "2022-11-01T10:07:35.878Z"
   },
   {
    "duration": 4,
    "start_time": "2022-11-01T10:07:35.927Z"
   },
   {
    "duration": 10,
    "start_time": "2022-11-01T10:07:35.933Z"
   },
   {
    "duration": 5,
    "start_time": "2022-11-01T10:07:35.945Z"
   },
   {
    "duration": 10,
    "start_time": "2022-11-01T10:07:35.952Z"
   },
   {
    "duration": 18,
    "start_time": "2022-11-01T10:07:35.963Z"
   },
   {
    "duration": 6,
    "start_time": "2022-11-01T10:07:35.982Z"
   },
   {
    "duration": 45,
    "start_time": "2022-11-01T10:07:35.989Z"
   },
   {
    "duration": 13,
    "start_time": "2022-11-01T10:07:36.036Z"
   },
   {
    "duration": 227,
    "start_time": "2022-11-01T10:07:36.052Z"
   },
   {
    "duration": 22,
    "start_time": "2022-11-01T10:07:36.281Z"
   },
   {
    "duration": 28,
    "start_time": "2022-11-01T10:07:36.305Z"
   },
   {
    "duration": 333,
    "start_time": "2022-11-01T10:07:36.334Z"
   },
   {
    "duration": 9,
    "start_time": "2022-11-01T10:07:36.669Z"
   },
   {
    "duration": 22,
    "start_time": "2022-11-01T10:07:36.680Z"
   },
   {
    "duration": 293,
    "start_time": "2022-11-01T10:07:36.704Z"
   },
   {
    "duration": 9,
    "start_time": "2022-11-01T10:07:36.999Z"
   },
   {
    "duration": 32,
    "start_time": "2022-11-01T10:07:37.009Z"
   },
   {
    "duration": 16,
    "start_time": "2022-11-01T10:07:37.043Z"
   },
   {
    "duration": 557,
    "start_time": "2022-11-01T10:07:37.060Z"
   },
   {
    "duration": 8,
    "start_time": "2022-11-01T10:07:37.618Z"
   },
   {
    "duration": 396,
    "start_time": "2022-11-01T10:07:37.628Z"
   },
   {
    "duration": 535,
    "start_time": "2022-11-01T10:07:38.026Z"
   },
   {
    "duration": 539,
    "start_time": "2022-11-01T10:07:38.563Z"
   },
   {
    "duration": 22,
    "start_time": "2022-11-01T10:07:39.103Z"
   },
   {
    "duration": 17,
    "start_time": "2022-11-01T10:07:39.127Z"
   },
   {
    "duration": 6,
    "start_time": "2022-11-01T10:07:39.146Z"
   },
   {
    "duration": 9,
    "start_time": "2022-11-01T10:07:39.154Z"
   },
   {
    "duration": 3,
    "start_time": "2022-11-01T10:08:05.886Z"
   },
   {
    "duration": 52,
    "start_time": "2022-11-01T10:08:05.894Z"
   },
   {
    "duration": 15,
    "start_time": "2022-11-01T10:08:05.948Z"
   },
   {
    "duration": 19,
    "start_time": "2022-11-01T10:08:05.964Z"
   },
   {
    "duration": 14,
    "start_time": "2022-11-01T10:08:05.985Z"
   },
   {
    "duration": 16,
    "start_time": "2022-11-01T10:08:06.025Z"
   },
   {
    "duration": 7,
    "start_time": "2022-11-01T10:08:06.042Z"
   },
   {
    "duration": 7,
    "start_time": "2022-11-01T10:08:06.051Z"
   },
   {
    "duration": 7,
    "start_time": "2022-11-01T10:08:06.059Z"
   },
   {
    "duration": 10,
    "start_time": "2022-11-01T10:08:06.067Z"
   },
   {
    "duration": 15,
    "start_time": "2022-11-01T10:08:06.078Z"
   },
   {
    "duration": 37,
    "start_time": "2022-11-01T10:08:06.095Z"
   },
   {
    "duration": 16,
    "start_time": "2022-11-01T10:08:06.133Z"
   },
   {
    "duration": 15,
    "start_time": "2022-11-01T10:08:06.151Z"
   },
   {
    "duration": 14,
    "start_time": "2022-11-01T10:08:06.169Z"
   },
   {
    "duration": 42,
    "start_time": "2022-11-01T10:08:06.185Z"
   },
   {
    "duration": 23,
    "start_time": "2022-11-01T10:08:06.229Z"
   },
   {
    "duration": 3,
    "start_time": "2022-11-01T10:08:06.254Z"
   },
   {
    "duration": 25,
    "start_time": "2022-11-01T10:08:06.259Z"
   },
   {
    "duration": 5,
    "start_time": "2022-11-01T10:08:06.287Z"
   },
   {
    "duration": 7,
    "start_time": "2022-11-01T10:08:06.323Z"
   },
   {
    "duration": 5,
    "start_time": "2022-11-01T10:08:06.331Z"
   },
   {
    "duration": 10,
    "start_time": "2022-11-01T10:08:06.338Z"
   },
   {
    "duration": 20,
    "start_time": "2022-11-01T10:08:06.350Z"
   },
   {
    "duration": 7,
    "start_time": "2022-11-01T10:08:06.372Z"
   },
   {
    "duration": 53,
    "start_time": "2022-11-01T10:08:06.381Z"
   },
   {
    "duration": 15,
    "start_time": "2022-11-01T10:08:06.436Z"
   },
   {
    "duration": 226,
    "start_time": "2022-11-01T10:08:06.454Z"
   },
   {
    "duration": 41,
    "start_time": "2022-11-01T10:08:06.682Z"
   },
   {
    "duration": 16,
    "start_time": "2022-11-01T10:08:06.726Z"
   },
   {
    "duration": 339,
    "start_time": "2022-11-01T10:08:06.744Z"
   },
   {
    "duration": 9,
    "start_time": "2022-11-01T10:08:07.085Z"
   },
   {
    "duration": 28,
    "start_time": "2022-11-01T10:08:07.096Z"
   },
   {
    "duration": 312,
    "start_time": "2022-11-01T10:08:07.126Z"
   },
   {
    "duration": 9,
    "start_time": "2022-11-01T10:08:07.440Z"
   },
   {
    "duration": 24,
    "start_time": "2022-11-01T10:08:07.451Z"
   },
   {
    "duration": 16,
    "start_time": "2022-11-01T10:08:07.476Z"
   },
   {
    "duration": 563,
    "start_time": "2022-11-01T10:08:07.494Z"
   },
   {
    "duration": 7,
    "start_time": "2022-11-01T10:08:08.060Z"
   },
   {
    "duration": 340,
    "start_time": "2022-11-01T10:08:08.069Z"
   },
   {
    "duration": 572,
    "start_time": "2022-11-01T10:08:08.411Z"
   },
   {
    "duration": 551,
    "start_time": "2022-11-01T10:08:08.988Z"
   },
   {
    "duration": 15,
    "start_time": "2022-11-01T10:08:09.541Z"
   },
   {
    "duration": 22,
    "start_time": "2022-11-01T10:08:09.558Z"
   },
   {
    "duration": 7,
    "start_time": "2022-11-01T10:08:09.582Z"
   },
   {
    "duration": 13,
    "start_time": "2022-11-01T10:08:09.591Z"
   },
   {
    "duration": 7,
    "start_time": "2022-11-01T10:14:23.052Z"
   },
   {
    "duration": 9,
    "start_time": "2022-11-01T10:14:30.834Z"
   },
   {
    "duration": 9,
    "start_time": "2022-11-01T10:14:43.868Z"
   },
   {
    "duration": 16,
    "start_time": "2022-11-01T11:30:20.808Z"
   },
   {
    "duration": 114,
    "start_time": "2022-11-01T11:30:42.234Z"
   },
   {
    "duration": 15,
    "start_time": "2022-11-01T11:31:05.153Z"
   },
   {
    "duration": 152,
    "start_time": "2022-11-01T11:33:20.658Z"
   },
   {
    "duration": 76,
    "start_time": "2022-11-01T11:33:29.457Z"
   },
   {
    "duration": 270,
    "start_time": "2022-11-01T11:33:35.282Z"
   },
   {
    "duration": 89,
    "start_time": "2022-11-01T11:34:03.130Z"
   },
   {
    "duration": 267,
    "start_time": "2022-11-01T11:34:06.186Z"
   },
   {
    "duration": 368,
    "start_time": "2022-11-01T11:34:15.185Z"
   },
   {
    "duration": 248,
    "start_time": "2022-11-01T11:34:21.450Z"
   },
   {
    "duration": 266,
    "start_time": "2022-11-01T11:34:25.666Z"
   },
   {
    "duration": 274,
    "start_time": "2022-11-01T11:34:30.314Z"
   },
   {
    "duration": 254,
    "start_time": "2022-11-01T11:34:34.443Z"
   },
   {
    "duration": 359,
    "start_time": "2022-11-01T11:34:39.755Z"
   },
   {
    "duration": 258,
    "start_time": "2022-11-01T11:34:44.178Z"
   },
   {
    "duration": 252,
    "start_time": "2022-11-01T11:34:49.874Z"
   },
   {
    "duration": 259,
    "start_time": "2022-11-01T11:35:14.371Z"
   },
   {
    "duration": 285,
    "start_time": "2022-11-01T11:35:19.126Z"
   },
   {
    "duration": 260,
    "start_time": "2022-11-01T11:35:23.411Z"
   },
   {
    "duration": 18,
    "start_time": "2022-11-01T11:36:07.443Z"
   },
   {
    "duration": 380,
    "start_time": "2022-11-01T11:47:18.755Z"
   },
   {
    "duration": 276,
    "start_time": "2022-11-01T11:48:09.252Z"
   },
   {
    "duration": 13,
    "start_time": "2022-11-01T11:49:29.501Z"
   },
   {
    "duration": 260,
    "start_time": "2022-11-01T11:49:51.468Z"
   },
   {
    "duration": 309,
    "start_time": "2022-11-01T11:50:01.534Z"
   },
   {
    "duration": 292,
    "start_time": "2022-11-01T11:50:44.324Z"
   },
   {
    "duration": 405,
    "start_time": "2022-11-01T11:50:59.909Z"
   },
   {
    "duration": 316,
    "start_time": "2022-11-01T11:51:10.718Z"
   },
   {
    "duration": 293,
    "start_time": "2022-11-01T11:51:19.501Z"
   },
   {
    "duration": 78,
    "start_time": "2022-11-01T11:51:25.710Z"
   },
   {
    "duration": 295,
    "start_time": "2022-11-01T11:51:35.725Z"
   },
   {
    "duration": 305,
    "start_time": "2022-11-01T11:51:40.149Z"
   },
   {
    "duration": 334,
    "start_time": "2022-11-01T11:51:47.406Z"
   },
   {
    "duration": 381,
    "start_time": "2022-11-01T11:51:58.389Z"
   },
   {
    "duration": 75,
    "start_time": "2022-11-01T11:52:36.909Z"
   },
   {
    "duration": 317,
    "start_time": "2022-11-01T11:52:40.142Z"
   },
   {
    "duration": 729,
    "start_time": "2022-11-01T11:52:48.414Z"
   },
   {
    "duration": 292,
    "start_time": "2022-11-01T11:52:53.790Z"
   },
   {
    "duration": 265,
    "start_time": "2022-11-01T11:52:57.973Z"
   },
   {
    "duration": 282,
    "start_time": "2022-11-01T11:53:02.830Z"
   },
   {
    "duration": 715,
    "start_time": "2022-11-01T11:53:07.438Z"
   },
   {
    "duration": 327,
    "start_time": "2022-11-01T11:53:11.318Z"
   },
   {
    "duration": 17,
    "start_time": "2022-11-01T11:53:47.086Z"
   },
   {
    "duration": 21,
    "start_time": "2022-11-01T11:54:08.838Z"
   },
   {
    "duration": 28,
    "start_time": "2022-11-01T11:54:13.911Z"
   },
   {
    "duration": 7,
    "start_time": "2022-11-01T11:54:15.022Z"
   },
   {
    "duration": 10,
    "start_time": "2022-11-01T11:54:15.630Z"
   },
   {
    "duration": 16,
    "start_time": "2022-11-01T11:54:24.967Z"
   },
   {
    "duration": 16,
    "start_time": "2022-11-01T11:54:28.519Z"
   },
   {
    "duration": 20,
    "start_time": "2022-11-01T11:54:29.358Z"
   },
   {
    "duration": 8,
    "start_time": "2022-11-01T11:54:29.862Z"
   },
   {
    "duration": 9,
    "start_time": "2022-11-01T11:54:30.215Z"
   },
   {
    "duration": 18,
    "start_time": "2022-11-01T11:55:27.792Z"
   },
   {
    "duration": 16,
    "start_time": "2022-11-01T11:55:33.304Z"
   },
   {
    "duration": 17,
    "start_time": "2022-11-01T11:56:12.208Z"
   },
   {
    "duration": 19,
    "start_time": "2022-11-01T11:56:42.760Z"
   },
   {
    "duration": 17,
    "start_time": "2022-11-01T11:59:08.249Z"
   },
   {
    "duration": 17,
    "start_time": "2022-11-01T12:03:08.748Z"
   },
   {
    "duration": 20,
    "start_time": "2022-11-01T12:03:11.882Z"
   },
   {
    "duration": 13,
    "start_time": "2022-11-01T12:21:20.853Z"
   },
   {
    "duration": 18,
    "start_time": "2022-11-01T12:21:26.142Z"
   },
   {
    "duration": 73,
    "start_time": "2022-11-01T12:21:53.206Z"
   },
   {
    "duration": 15,
    "start_time": "2022-11-01T12:22:01.590Z"
   },
   {
    "duration": 17,
    "start_time": "2022-11-01T12:22:08.511Z"
   },
   {
    "duration": 16,
    "start_time": "2022-11-01T12:22:21.333Z"
   },
   {
    "duration": 15,
    "start_time": "2022-11-01T12:22:27.806Z"
   },
   {
    "duration": 16,
    "start_time": "2022-11-01T12:22:37.584Z"
   },
   {
    "duration": 16,
    "start_time": "2022-11-01T12:23:26.199Z"
   },
   {
    "duration": 18,
    "start_time": "2022-11-01T12:23:46.671Z"
   },
   {
    "duration": 157,
    "start_time": "2022-11-01T12:25:05.824Z"
   },
   {
    "duration": 18,
    "start_time": "2022-11-01T12:25:19.257Z"
   },
   {
    "duration": 98,
    "start_time": "2022-11-01T12:26:45.848Z"
   },
   {
    "duration": 5,
    "start_time": "2022-11-01T12:26:49.343Z"
   },
   {
    "duration": 254,
    "start_time": "2022-11-01T12:26:59.352Z"
   },
   {
    "duration": 138,
    "start_time": "2022-11-01T12:27:26.193Z"
   },
   {
    "duration": 134,
    "start_time": "2022-11-01T12:27:37.225Z"
   },
   {
    "duration": 123,
    "start_time": "2022-11-01T12:27:53.865Z"
   },
   {
    "duration": 145,
    "start_time": "2022-11-01T12:28:04.073Z"
   },
   {
    "duration": 279,
    "start_time": "2022-11-01T12:28:16.433Z"
   },
   {
    "duration": 130,
    "start_time": "2022-11-01T12:32:08.068Z"
   },
   {
    "duration": 140,
    "start_time": "2022-11-01T12:32:42.761Z"
   },
   {
    "duration": 131,
    "start_time": "2022-11-01T12:32:52.893Z"
   },
   {
    "duration": 152,
    "start_time": "2022-11-01T12:33:15.037Z"
   },
   {
    "duration": 138,
    "start_time": "2022-11-01T12:33:36.621Z"
   },
   {
    "duration": 137,
    "start_time": "2022-11-01T12:34:01.013Z"
   },
   {
    "duration": 140,
    "start_time": "2022-11-01T12:34:05.701Z"
   },
   {
    "duration": 5,
    "start_time": "2022-11-01T12:35:01.549Z"
   },
   {
    "duration": 4,
    "start_time": "2022-11-01T12:35:07.345Z"
   },
   {
    "duration": 55,
    "start_time": "2022-11-01T12:35:07.352Z"
   },
   {
    "duration": 21,
    "start_time": "2022-11-01T12:35:07.409Z"
   },
   {
    "duration": 20,
    "start_time": "2022-11-01T12:35:07.432Z"
   },
   {
    "duration": 13,
    "start_time": "2022-11-01T12:35:07.455Z"
   },
   {
    "duration": 15,
    "start_time": "2022-11-01T12:35:07.470Z"
   },
   {
    "duration": 5,
    "start_time": "2022-11-01T12:35:07.487Z"
   },
   {
    "duration": 35,
    "start_time": "2022-11-01T12:35:07.494Z"
   },
   {
    "duration": 6,
    "start_time": "2022-11-01T12:35:07.531Z"
   },
   {
    "duration": 7,
    "start_time": "2022-11-01T12:35:07.539Z"
   },
   {
    "duration": 14,
    "start_time": "2022-11-01T12:35:07.548Z"
   },
   {
    "duration": 10,
    "start_time": "2022-11-01T12:35:07.564Z"
   },
   {
    "duration": 48,
    "start_time": "2022-11-01T12:35:07.575Z"
   },
   {
    "duration": 15,
    "start_time": "2022-11-01T12:35:07.627Z"
   },
   {
    "duration": 16,
    "start_time": "2022-11-01T12:35:07.643Z"
   },
   {
    "duration": 9,
    "start_time": "2022-11-01T12:35:07.660Z"
   },
   {
    "duration": 23,
    "start_time": "2022-11-01T12:35:07.671Z"
   },
   {
    "duration": 3,
    "start_time": "2022-11-01T12:35:07.723Z"
   },
   {
    "duration": 27,
    "start_time": "2022-11-01T12:35:07.727Z"
   },
   {
    "duration": 6,
    "start_time": "2022-11-01T12:35:07.755Z"
   },
   {
    "duration": 6,
    "start_time": "2022-11-01T12:35:07.763Z"
   },
   {
    "duration": 6,
    "start_time": "2022-11-01T12:35:07.771Z"
   },
   {
    "duration": 11,
    "start_time": "2022-11-01T12:35:07.779Z"
   },
   {
    "duration": 49,
    "start_time": "2022-11-01T12:35:07.792Z"
   },
   {
    "duration": 6,
    "start_time": "2022-11-01T12:35:07.843Z"
   },
   {
    "duration": 18,
    "start_time": "2022-11-01T12:35:07.851Z"
   },
   {
    "duration": 11,
    "start_time": "2022-11-01T12:35:07.871Z"
   },
   {
    "duration": 240,
    "start_time": "2022-11-01T12:35:07.884Z"
   },
   {
    "duration": 22,
    "start_time": "2022-11-01T12:35:08.125Z"
   },
   {
    "duration": 11,
    "start_time": "2022-11-01T12:35:08.148Z"
   },
   {
    "duration": 326,
    "start_time": "2022-11-01T12:35:08.161Z"
   },
   {
    "duration": 8,
    "start_time": "2022-11-01T12:35:08.489Z"
   },
   {
    "duration": 30,
    "start_time": "2022-11-01T12:35:08.499Z"
   },
   {
    "duration": 297,
    "start_time": "2022-11-01T12:35:08.531Z"
   },
   {
    "duration": 8,
    "start_time": "2022-11-01T12:35:08.830Z"
   },
   {
    "duration": 21,
    "start_time": "2022-11-01T12:35:08.839Z"
   },
   {
    "duration": 17,
    "start_time": "2022-11-01T12:35:08.861Z"
   },
   {
    "duration": 434,
    "start_time": "2022-11-01T12:35:08.880Z"
   },
   {
    "duration": 13,
    "start_time": "2022-11-01T12:35:09.316Z"
   },
   {
    "duration": 325,
    "start_time": "2022-11-01T12:35:09.330Z"
   },
   {
    "duration": 580,
    "start_time": "2022-11-01T12:35:09.659Z"
   },
   {
    "duration": 557,
    "start_time": "2022-11-01T12:35:10.241Z"
   },
   {
    "duration": 27,
    "start_time": "2022-11-01T12:35:10.799Z"
   },
   {
    "duration": 24,
    "start_time": "2022-11-01T12:35:10.827Z"
   },
   {
    "duration": 7,
    "start_time": "2022-11-01T12:35:10.852Z"
   },
   {
    "duration": 10,
    "start_time": "2022-11-01T12:35:10.861Z"
   },
   {
    "duration": 16,
    "start_time": "2022-11-01T12:35:10.873Z"
   },
   {
    "duration": 46,
    "start_time": "2022-11-01T12:35:10.891Z"
   },
   {
    "duration": 22,
    "start_time": "2022-11-01T12:35:10.939Z"
   },
   {
    "duration": 16,
    "start_time": "2022-11-01T12:35:10.963Z"
   },
   {
    "duration": 17,
    "start_time": "2022-11-01T12:35:10.980Z"
   },
   {
    "duration": 39,
    "start_time": "2022-11-01T12:35:10.998Z"
   },
   {
    "duration": 14,
    "start_time": "2022-11-01T12:35:11.039Z"
   },
   {
    "duration": 154,
    "start_time": "2022-11-01T12:35:11.055Z"
   },
   {
    "duration": 0,
    "start_time": "2022-11-01T12:35:11.210Z"
   },
   {
    "duration": 0,
    "start_time": "2022-11-01T12:35:11.212Z"
   },
   {
    "duration": 0,
    "start_time": "2022-11-01T12:35:11.213Z"
   },
   {
    "duration": 133,
    "start_time": "2022-11-01T12:35:25.661Z"
   },
   {
    "duration": 134,
    "start_time": "2022-11-01T12:35:33.806Z"
   },
   {
    "duration": 128,
    "start_time": "2022-11-01T12:35:36.998Z"
   },
   {
    "duration": 8,
    "start_time": "2022-11-01T12:35:57.445Z"
   },
   {
    "duration": 142,
    "start_time": "2022-11-01T12:36:13.670Z"
   },
   {
    "duration": 130,
    "start_time": "2022-11-01T12:36:32.141Z"
   },
   {
    "duration": 80,
    "start_time": "2022-11-01T12:38:45.072Z"
   },
   {
    "duration": 130,
    "start_time": "2022-11-01T12:38:49.687Z"
   },
   {
    "duration": 161,
    "start_time": "2022-11-01T12:39:11.768Z"
   },
   {
    "duration": 83,
    "start_time": "2022-11-01T12:39:46.400Z"
   },
   {
    "duration": 279,
    "start_time": "2022-11-01T12:39:50.959Z"
   },
   {
    "duration": 149,
    "start_time": "2022-11-01T12:40:22.704Z"
   },
   {
    "duration": 138,
    "start_time": "2022-11-01T12:41:19.272Z"
   },
   {
    "duration": 24,
    "start_time": "2022-11-01T12:42:39.481Z"
   },
   {
    "duration": 138,
    "start_time": "2022-11-01T12:42:51.273Z"
   },
   {
    "duration": 130,
    "start_time": "2022-11-01T12:46:01.697Z"
   },
   {
    "duration": 126,
    "start_time": "2022-11-01T12:46:11.035Z"
   },
   {
    "duration": 20,
    "start_time": "2022-11-01T12:47:07.619Z"
   },
   {
    "duration": 75,
    "start_time": "2022-11-01T12:47:11.493Z"
   },
   {
    "duration": 231,
    "start_time": "2022-11-01T12:47:14.987Z"
   },
   {
    "duration": 154,
    "start_time": "2022-11-01T12:47:20.899Z"
   },
   {
    "duration": 137,
    "start_time": "2022-11-01T12:47:56.252Z"
   },
   {
    "duration": 134,
    "start_time": "2022-11-01T12:52:17.509Z"
   },
   {
    "duration": 145,
    "start_time": "2022-11-01T12:52:39.991Z"
   },
   {
    "duration": 8,
    "start_time": "2022-11-01T12:53:27.647Z"
   },
   {
    "duration": 12,
    "start_time": "2022-11-01T12:54:31.984Z"
   },
   {
    "duration": 3,
    "start_time": "2022-11-01T13:16:48.500Z"
   },
   {
    "duration": 81,
    "start_time": "2022-11-01T13:16:48.506Z"
   },
   {
    "duration": 18,
    "start_time": "2022-11-01T13:16:48.590Z"
   },
   {
    "duration": 27,
    "start_time": "2022-11-01T13:16:48.610Z"
   },
   {
    "duration": 16,
    "start_time": "2022-11-01T13:16:48.638Z"
   },
   {
    "duration": 32,
    "start_time": "2022-11-01T13:16:48.657Z"
   },
   {
    "duration": 21,
    "start_time": "2022-11-01T13:16:48.691Z"
   },
   {
    "duration": 17,
    "start_time": "2022-11-01T13:16:48.714Z"
   },
   {
    "duration": 19,
    "start_time": "2022-11-01T13:16:48.733Z"
   },
   {
    "duration": 23,
    "start_time": "2022-11-01T13:16:48.755Z"
   },
   {
    "duration": 25,
    "start_time": "2022-11-01T13:16:48.781Z"
   },
   {
    "duration": 20,
    "start_time": "2022-11-01T13:16:48.808Z"
   },
   {
    "duration": 25,
    "start_time": "2022-11-01T13:16:48.830Z"
   },
   {
    "duration": 19,
    "start_time": "2022-11-01T13:16:48.857Z"
   },
   {
    "duration": 30,
    "start_time": "2022-11-01T13:16:48.879Z"
   },
   {
    "duration": 17,
    "start_time": "2022-11-01T13:16:48.911Z"
   },
   {
    "duration": 37,
    "start_time": "2022-11-01T13:16:48.930Z"
   },
   {
    "duration": 3,
    "start_time": "2022-11-01T13:16:48.969Z"
   },
   {
    "duration": 43,
    "start_time": "2022-11-01T13:16:48.973Z"
   },
   {
    "duration": 8,
    "start_time": "2022-11-01T13:16:49.018Z"
   },
   {
    "duration": 14,
    "start_time": "2022-11-01T13:16:49.028Z"
   },
   {
    "duration": 18,
    "start_time": "2022-11-01T13:16:49.043Z"
   },
   {
    "duration": 14,
    "start_time": "2022-11-01T13:16:49.063Z"
   },
   {
    "duration": 34,
    "start_time": "2022-11-01T13:16:49.079Z"
   },
   {
    "duration": 6,
    "start_time": "2022-11-01T13:16:49.115Z"
   },
   {
    "duration": 33,
    "start_time": "2022-11-01T13:16:49.123Z"
   },
   {
    "duration": 31,
    "start_time": "2022-11-01T13:16:49.158Z"
   },
   {
    "duration": 200,
    "start_time": "2022-11-01T13:16:49.191Z"
   },
   {
    "duration": 31,
    "start_time": "2022-11-01T13:16:49.394Z"
   },
   {
    "duration": 13,
    "start_time": "2022-11-01T13:16:49.427Z"
   },
   {
    "duration": 354,
    "start_time": "2022-11-01T13:16:49.442Z"
   },
   {
    "duration": 8,
    "start_time": "2022-11-01T13:16:49.798Z"
   },
   {
    "duration": 35,
    "start_time": "2022-11-01T13:16:49.808Z"
   },
   {
    "duration": 306,
    "start_time": "2022-11-01T13:16:49.845Z"
   },
   {
    "duration": 11,
    "start_time": "2022-11-01T13:16:50.153Z"
   },
   {
    "duration": 31,
    "start_time": "2022-11-01T13:16:50.166Z"
   },
   {
    "duration": 37,
    "start_time": "2022-11-01T13:16:50.199Z"
   },
   {
    "duration": 454,
    "start_time": "2022-11-01T13:16:50.238Z"
   },
   {
    "duration": 7,
    "start_time": "2022-11-01T13:16:50.694Z"
   },
   {
    "duration": 356,
    "start_time": "2022-11-01T13:16:50.703Z"
   },
   {
    "duration": 622,
    "start_time": "2022-11-01T13:16:51.061Z"
   },
   {
    "duration": 677,
    "start_time": "2022-11-01T13:16:51.687Z"
   },
   {
    "duration": 18,
    "start_time": "2022-11-01T13:16:52.366Z"
   },
   {
    "duration": 42,
    "start_time": "2022-11-01T13:16:52.385Z"
   },
   {
    "duration": 8,
    "start_time": "2022-11-01T13:16:52.429Z"
   },
   {
    "duration": 10,
    "start_time": "2022-11-01T13:16:52.439Z"
   },
   {
    "duration": 21,
    "start_time": "2022-11-01T13:16:52.451Z"
   },
   {
    "duration": 51,
    "start_time": "2022-11-01T13:16:52.474Z"
   },
   {
    "duration": 17,
    "start_time": "2022-11-01T13:16:52.526Z"
   },
   {
    "duration": 17,
    "start_time": "2022-11-01T13:16:52.545Z"
   },
   {
    "duration": 19,
    "start_time": "2022-11-01T13:16:52.564Z"
   },
   {
    "duration": 46,
    "start_time": "2022-11-01T13:16:52.585Z"
   },
   {
    "duration": 26,
    "start_time": "2022-11-01T13:16:52.632Z"
   },
   {
    "duration": 164,
    "start_time": "2022-11-01T13:16:52.659Z"
   },
   {
    "duration": 9,
    "start_time": "2022-11-01T13:16:52.825Z"
   },
   {
    "duration": 80,
    "start_time": "2022-11-01T13:16:52.835Z"
   },
   {
    "duration": 0,
    "start_time": "2022-11-01T13:16:52.917Z"
   },
   {
    "duration": 0,
    "start_time": "2022-11-01T13:16:52.918Z"
   },
   {
    "duration": 0,
    "start_time": "2022-11-01T13:16:52.919Z"
   },
   {
    "duration": 0,
    "start_time": "2022-11-01T13:16:52.921Z"
   },
   {
    "duration": 138,
    "start_time": "2022-11-01T13:17:10.108Z"
   },
   {
    "duration": 10,
    "start_time": "2022-11-01T13:17:10.584Z"
   },
   {
    "duration": 120,
    "start_time": "2022-11-01T13:17:11.012Z"
   },
   {
    "duration": 9,
    "start_time": "2022-11-01T13:17:14.563Z"
   },
   {
    "duration": 4,
    "start_time": "2022-11-01T13:17:38.820Z"
   },
   {
    "duration": 4,
    "start_time": "2022-11-01T13:17:41.632Z"
   },
   {
    "duration": 83,
    "start_time": "2022-11-01T13:17:41.640Z"
   },
   {
    "duration": 16,
    "start_time": "2022-11-01T13:17:41.726Z"
   },
   {
    "duration": 44,
    "start_time": "2022-11-01T13:17:41.744Z"
   },
   {
    "duration": 31,
    "start_time": "2022-11-01T13:17:41.791Z"
   },
   {
    "duration": 35,
    "start_time": "2022-11-01T13:17:41.825Z"
   },
   {
    "duration": 34,
    "start_time": "2022-11-01T13:17:41.863Z"
   },
   {
    "duration": 36,
    "start_time": "2022-11-01T13:17:41.899Z"
   },
   {
    "duration": 49,
    "start_time": "2022-11-01T13:17:41.938Z"
   },
   {
    "duration": 31,
    "start_time": "2022-11-01T13:17:41.990Z"
   },
   {
    "duration": 43,
    "start_time": "2022-11-01T13:17:42.024Z"
   },
   {
    "duration": 27,
    "start_time": "2022-11-01T13:17:42.069Z"
   },
   {
    "duration": 42,
    "start_time": "2022-11-01T13:17:42.098Z"
   },
   {
    "duration": 29,
    "start_time": "2022-11-01T13:17:42.142Z"
   },
   {
    "duration": 33,
    "start_time": "2022-11-01T13:17:42.173Z"
   },
   {
    "duration": 31,
    "start_time": "2022-11-01T13:17:42.208Z"
   },
   {
    "duration": 53,
    "start_time": "2022-11-01T13:17:42.241Z"
   },
   {
    "duration": 27,
    "start_time": "2022-11-01T13:17:42.296Z"
   },
   {
    "duration": 59,
    "start_time": "2022-11-01T13:17:42.325Z"
   },
   {
    "duration": 18,
    "start_time": "2022-11-01T13:17:42.386Z"
   },
   {
    "duration": 26,
    "start_time": "2022-11-01T13:17:42.406Z"
   },
   {
    "duration": 37,
    "start_time": "2022-11-01T13:17:42.434Z"
   },
   {
    "duration": 46,
    "start_time": "2022-11-01T13:17:42.473Z"
   },
   {
    "duration": 40,
    "start_time": "2022-11-01T13:17:42.520Z"
   },
   {
    "duration": 27,
    "start_time": "2022-11-01T13:17:42.562Z"
   },
   {
    "duration": 35,
    "start_time": "2022-11-01T13:17:42.591Z"
   },
   {
    "duration": 32,
    "start_time": "2022-11-01T13:17:42.628Z"
   },
   {
    "duration": 242,
    "start_time": "2022-11-01T13:17:42.662Z"
   },
   {
    "duration": 20,
    "start_time": "2022-11-01T13:17:42.906Z"
   },
   {
    "duration": 16,
    "start_time": "2022-11-01T13:17:42.928Z"
   },
   {
    "duration": 336,
    "start_time": "2022-11-01T13:17:42.946Z"
   },
   {
    "duration": 8,
    "start_time": "2022-11-01T13:17:43.284Z"
   },
   {
    "duration": 37,
    "start_time": "2022-11-01T13:17:43.294Z"
   },
   {
    "duration": 455,
    "start_time": "2022-11-01T13:17:43.332Z"
   },
   {
    "duration": 8,
    "start_time": "2022-11-01T13:17:43.789Z"
   },
   {
    "duration": 45,
    "start_time": "2022-11-01T13:17:43.798Z"
   },
   {
    "duration": 31,
    "start_time": "2022-11-01T13:17:43.844Z"
   },
   {
    "duration": 292,
    "start_time": "2022-11-01T13:17:43.877Z"
   },
   {
    "duration": 7,
    "start_time": "2022-11-01T13:17:44.171Z"
   },
   {
    "duration": 329,
    "start_time": "2022-11-01T13:17:44.180Z"
   },
   {
    "duration": 546,
    "start_time": "2022-11-01T13:17:44.511Z"
   },
   {
    "duration": 580,
    "start_time": "2022-11-01T13:17:45.061Z"
   },
   {
    "duration": 22,
    "start_time": "2022-11-01T13:17:45.642Z"
   },
   {
    "duration": 21,
    "start_time": "2022-11-01T13:17:45.671Z"
   },
   {
    "duration": 30,
    "start_time": "2022-11-01T13:17:45.694Z"
   },
   {
    "duration": 23,
    "start_time": "2022-11-01T13:17:45.726Z"
   },
   {
    "duration": 45,
    "start_time": "2022-11-01T13:17:45.752Z"
   },
   {
    "duration": 28,
    "start_time": "2022-11-01T13:17:45.799Z"
   },
   {
    "duration": 23,
    "start_time": "2022-11-01T13:17:45.830Z"
   },
   {
    "duration": 29,
    "start_time": "2022-11-01T13:17:45.855Z"
   },
   {
    "duration": 26,
    "start_time": "2022-11-01T13:17:45.886Z"
   },
   {
    "duration": 26,
    "start_time": "2022-11-01T13:17:45.914Z"
   },
   {
    "duration": 41,
    "start_time": "2022-11-01T13:17:45.942Z"
   },
   {
    "duration": 140,
    "start_time": "2022-11-01T13:17:45.985Z"
   },
   {
    "duration": 9,
    "start_time": "2022-11-01T13:17:46.127Z"
   },
   {
    "duration": 148,
    "start_time": "2022-11-01T13:17:46.137Z"
   },
   {
    "duration": 8,
    "start_time": "2022-11-01T13:17:46.287Z"
   },
   {
    "duration": 131,
    "start_time": "2022-11-01T13:17:46.297Z"
   },
   {
    "duration": 9,
    "start_time": "2022-11-01T13:17:46.430Z"
   },
   {
    "duration": 132,
    "start_time": "2022-11-01T13:19:37.421Z"
   },
   {
    "duration": 4,
    "start_time": "2022-11-01T13:20:58.979Z"
   },
   {
    "duration": 55,
    "start_time": "2022-11-01T13:20:58.986Z"
   },
   {
    "duration": 16,
    "start_time": "2022-11-01T13:20:59.044Z"
   },
   {
    "duration": 23,
    "start_time": "2022-11-01T13:20:59.062Z"
   },
   {
    "duration": 45,
    "start_time": "2022-11-01T13:20:59.088Z"
   },
   {
    "duration": 16,
    "start_time": "2022-11-01T13:20:59.135Z"
   },
   {
    "duration": 5,
    "start_time": "2022-11-01T13:20:59.153Z"
   },
   {
    "duration": 6,
    "start_time": "2022-11-01T13:20:59.159Z"
   },
   {
    "duration": 4,
    "start_time": "2022-11-01T13:20:59.167Z"
   },
   {
    "duration": 7,
    "start_time": "2022-11-01T13:20:59.173Z"
   },
   {
    "duration": 55,
    "start_time": "2022-11-01T13:20:59.182Z"
   },
   {
    "duration": 11,
    "start_time": "2022-11-01T13:20:59.238Z"
   },
   {
    "duration": 186,
    "start_time": "2022-11-01T13:20:59.251Z"
   },
   {
    "duration": 17,
    "start_time": "2022-11-01T13:20:59.438Z"
   },
   {
    "duration": 15,
    "start_time": "2022-11-01T13:20:59.458Z"
   },
   {
    "duration": 9,
    "start_time": "2022-11-01T13:20:59.475Z"
   },
   {
    "duration": 48,
    "start_time": "2022-11-01T13:20:59.485Z"
   },
   {
    "duration": 23,
    "start_time": "2022-11-01T13:20:59.535Z"
   },
   {
    "duration": 6,
    "start_time": "2022-11-01T13:20:59.559Z"
   },
   {
    "duration": 6,
    "start_time": "2022-11-01T13:20:59.567Z"
   },
   {
    "duration": 5,
    "start_time": "2022-11-01T13:20:59.575Z"
   },
   {
    "duration": 10,
    "start_time": "2022-11-01T13:20:59.581Z"
   },
   {
    "duration": 19,
    "start_time": "2022-11-01T13:20:59.623Z"
   },
   {
    "duration": 6,
    "start_time": "2022-11-01T13:20:59.644Z"
   },
   {
    "duration": 19,
    "start_time": "2022-11-01T13:20:59.652Z"
   },
   {
    "duration": 10,
    "start_time": "2022-11-01T13:20:59.673Z"
   },
   {
    "duration": 229,
    "start_time": "2022-11-01T13:20:59.685Z"
   },
   {
    "duration": 25,
    "start_time": "2022-11-01T13:20:59.916Z"
   },
   {
    "duration": 11,
    "start_time": "2022-11-01T13:20:59.943Z"
   },
   {
    "duration": 358,
    "start_time": "2022-11-01T13:20:59.955Z"
   },
   {
    "duration": 17,
    "start_time": "2022-11-01T13:21:00.315Z"
   },
   {
    "duration": 41,
    "start_time": "2022-11-01T13:21:00.334Z"
   },
   {
    "duration": 309,
    "start_time": "2022-11-01T13:21:00.376Z"
   },
   {
    "duration": 9,
    "start_time": "2022-11-01T13:21:00.687Z"
   },
   {
    "duration": 41,
    "start_time": "2022-11-01T13:21:00.698Z"
   },
   {
    "duration": 21,
    "start_time": "2022-11-01T13:21:00.740Z"
   },
   {
    "duration": 300,
    "start_time": "2022-11-01T13:21:00.763Z"
   },
   {
    "duration": 7,
    "start_time": "2022-11-01T13:21:01.065Z"
   },
   {
    "duration": 344,
    "start_time": "2022-11-01T13:21:01.074Z"
   },
   {
    "duration": 579,
    "start_time": "2022-11-01T13:21:01.424Z"
   },
   {
    "duration": 573,
    "start_time": "2022-11-01T13:21:02.006Z"
   },
   {
    "duration": 16,
    "start_time": "2022-11-01T13:21:02.583Z"
   },
   {
    "duration": 43,
    "start_time": "2022-11-01T13:21:02.601Z"
   },
   {
    "duration": 10,
    "start_time": "2022-11-01T13:21:02.646Z"
   },
   {
    "duration": 20,
    "start_time": "2022-11-01T13:21:02.658Z"
   },
   {
    "duration": 30,
    "start_time": "2022-11-01T13:21:02.679Z"
   },
   {
    "duration": 20,
    "start_time": "2022-11-01T13:21:02.711Z"
   },
   {
    "duration": 25,
    "start_time": "2022-11-01T13:21:02.733Z"
   },
   {
    "duration": 171,
    "start_time": "2022-11-01T13:21:02.760Z"
   },
   {
    "duration": 15,
    "start_time": "2022-11-01T13:21:02.934Z"
   },
   {
    "duration": 33,
    "start_time": "2022-11-01T13:21:02.951Z"
   },
   {
    "duration": 28,
    "start_time": "2022-11-01T13:21:02.987Z"
   },
   {
    "duration": 154,
    "start_time": "2022-11-01T13:21:03.016Z"
   },
   {
    "duration": 10,
    "start_time": "2022-11-01T13:21:03.171Z"
   },
   {
    "duration": 187,
    "start_time": "2022-11-01T13:21:03.183Z"
   },
   {
    "duration": 9,
    "start_time": "2022-11-01T13:21:03.373Z"
   },
   {
    "duration": 154,
    "start_time": "2022-11-01T13:21:03.384Z"
   },
   {
    "duration": 9,
    "start_time": "2022-11-01T13:21:03.539Z"
   },
   {
    "duration": 10,
    "start_time": "2022-11-01T13:21:39.502Z"
   },
   {
    "duration": 7,
    "start_time": "2022-11-01T13:21:44.014Z"
   },
   {
    "duration": 11,
    "start_time": "2022-11-01T13:35:59.509Z"
   },
   {
    "duration": 12,
    "start_time": "2022-11-01T13:36:04.924Z"
   },
   {
    "duration": 11,
    "start_time": "2022-11-01T13:36:08.165Z"
   },
   {
    "duration": 11,
    "start_time": "2022-11-01T13:37:39.149Z"
   },
   {
    "duration": 13,
    "start_time": "2022-11-01T13:37:45.766Z"
   },
   {
    "duration": 12,
    "start_time": "2022-11-01T13:39:46.943Z"
   },
   {
    "duration": 12,
    "start_time": "2022-11-01T13:41:58.489Z"
   },
   {
    "duration": 11,
    "start_time": "2022-11-01T13:42:14.216Z"
   },
   {
    "duration": 12,
    "start_time": "2022-11-01T13:42:28.368Z"
   },
   {
    "duration": 3,
    "start_time": "2022-11-01T16:01:59.338Z"
   },
   {
    "duration": 67,
    "start_time": "2022-11-01T16:01:59.346Z"
   },
   {
    "duration": 17,
    "start_time": "2022-11-01T16:01:59.416Z"
   },
   {
    "duration": 39,
    "start_time": "2022-11-01T16:01:59.435Z"
   },
   {
    "duration": 21,
    "start_time": "2022-11-01T16:01:59.476Z"
   },
   {
    "duration": 34,
    "start_time": "2022-11-01T16:01:59.499Z"
   },
   {
    "duration": 10,
    "start_time": "2022-11-01T16:01:59.535Z"
   },
   {
    "duration": 21,
    "start_time": "2022-11-01T16:01:59.546Z"
   },
   {
    "duration": 25,
    "start_time": "2022-11-01T16:01:59.568Z"
   },
   {
    "duration": 17,
    "start_time": "2022-11-01T16:01:59.595Z"
   },
   {
    "duration": 27,
    "start_time": "2022-11-01T16:01:59.614Z"
   },
   {
    "duration": 17,
    "start_time": "2022-11-01T16:01:59.643Z"
   },
   {
    "duration": 43,
    "start_time": "2022-11-01T16:01:59.661Z"
   },
   {
    "duration": 15,
    "start_time": "2022-11-01T16:01:59.706Z"
   },
   {
    "duration": 15,
    "start_time": "2022-11-01T16:01:59.724Z"
   },
   {
    "duration": 8,
    "start_time": "2022-11-01T16:01:59.741Z"
   },
   {
    "duration": 22,
    "start_time": "2022-11-01T16:01:59.751Z"
   },
   {
    "duration": 52,
    "start_time": "2022-11-01T16:01:59.776Z"
   },
   {
    "duration": 6,
    "start_time": "2022-11-01T16:01:59.830Z"
   },
   {
    "duration": 6,
    "start_time": "2022-11-01T16:01:59.838Z"
   },
   {
    "duration": 5,
    "start_time": "2022-11-01T16:01:59.846Z"
   },
   {
    "duration": 11,
    "start_time": "2022-11-01T16:01:59.853Z"
   },
   {
    "duration": 18,
    "start_time": "2022-11-01T16:01:59.866Z"
   },
   {
    "duration": 41,
    "start_time": "2022-11-01T16:01:59.886Z"
   },
   {
    "duration": 15,
    "start_time": "2022-11-01T16:01:59.929Z"
   },
   {
    "duration": 12,
    "start_time": "2022-11-01T16:01:59.945Z"
   },
   {
    "duration": 223,
    "start_time": "2022-11-01T16:01:59.959Z"
   },
   {
    "duration": 22,
    "start_time": "2022-11-01T16:02:00.184Z"
   },
   {
    "duration": 17,
    "start_time": "2022-11-01T16:02:00.223Z"
   },
   {
    "duration": 360,
    "start_time": "2022-11-01T16:02:00.242Z"
   },
   {
    "duration": 9,
    "start_time": "2022-11-01T16:02:00.604Z"
   },
   {
    "duration": 24,
    "start_time": "2022-11-01T16:02:00.623Z"
   },
   {
    "duration": 313,
    "start_time": "2022-11-01T16:02:00.649Z"
   },
   {
    "duration": 8,
    "start_time": "2022-11-01T16:02:00.964Z"
   },
   {
    "duration": 39,
    "start_time": "2022-11-01T16:02:00.974Z"
   },
   {
    "duration": 27,
    "start_time": "2022-11-01T16:02:01.014Z"
   },
   {
    "duration": 286,
    "start_time": "2022-11-01T16:02:01.043Z"
   },
   {
    "duration": 7,
    "start_time": "2022-11-01T16:02:01.332Z"
   },
   {
    "duration": 353,
    "start_time": "2022-11-01T16:02:01.341Z"
   },
   {
    "duration": 638,
    "start_time": "2022-11-01T16:02:01.696Z"
   },
   {
    "duration": 717,
    "start_time": "2022-11-01T16:02:02.336Z"
   },
   {
    "duration": 16,
    "start_time": "2022-11-01T16:02:03.057Z"
   },
   {
    "duration": 41,
    "start_time": "2022-11-01T16:02:03.075Z"
   },
   {
    "duration": 15,
    "start_time": "2022-11-01T16:02:03.118Z"
   },
   {
    "duration": 29,
    "start_time": "2022-11-01T16:02:03.134Z"
   },
   {
    "duration": 51,
    "start_time": "2022-11-01T16:02:03.165Z"
   },
   {
    "duration": 30,
    "start_time": "2022-11-01T16:02:03.218Z"
   },
   {
    "duration": 27,
    "start_time": "2022-11-01T16:02:03.250Z"
   },
   {
    "duration": 30,
    "start_time": "2022-11-01T16:02:03.279Z"
   },
   {
    "duration": 18,
    "start_time": "2022-11-01T16:02:03.312Z"
   },
   {
    "duration": 29,
    "start_time": "2022-11-01T16:02:03.332Z"
   },
   {
    "duration": 17,
    "start_time": "2022-11-01T16:02:03.363Z"
   },
   {
    "duration": 162,
    "start_time": "2022-11-01T16:02:03.382Z"
   },
   {
    "duration": 8,
    "start_time": "2022-11-01T16:02:03.545Z"
   },
   {
    "duration": 153,
    "start_time": "2022-11-01T16:02:03.555Z"
   },
   {
    "duration": 16,
    "start_time": "2022-11-01T16:02:03.709Z"
   },
   {
    "duration": 140,
    "start_time": "2022-11-01T16:02:03.727Z"
   },
   {
    "duration": 8,
    "start_time": "2022-11-01T16:02:03.869Z"
   },
   {
    "duration": 25,
    "start_time": "2022-11-01T16:02:03.879Z"
   },
   {
    "duration": 28,
    "start_time": "2022-11-01T16:02:03.906Z"
   },
   {
    "duration": 16,
    "start_time": "2022-11-01T16:07:31.422Z"
   },
   {
    "duration": 4,
    "start_time": "2022-11-01T16:19:22.778Z"
   },
   {
    "duration": 62,
    "start_time": "2022-11-01T16:19:22.787Z"
   },
   {
    "duration": 18,
    "start_time": "2022-11-01T16:19:22.852Z"
   },
   {
    "duration": 19,
    "start_time": "2022-11-01T16:19:22.872Z"
   },
   {
    "duration": 39,
    "start_time": "2022-11-01T16:19:22.892Z"
   },
   {
    "duration": 14,
    "start_time": "2022-11-01T16:19:22.934Z"
   },
   {
    "duration": 7,
    "start_time": "2022-11-01T16:19:22.950Z"
   },
   {
    "duration": 8,
    "start_time": "2022-11-01T16:19:22.959Z"
   },
   {
    "duration": 12,
    "start_time": "2022-11-01T16:19:22.968Z"
   },
   {
    "duration": 8,
    "start_time": "2022-11-01T16:19:22.981Z"
   },
   {
    "duration": 37,
    "start_time": "2022-11-01T16:19:22.990Z"
   },
   {
    "duration": 10,
    "start_time": "2022-11-01T16:19:23.029Z"
   },
   {
    "duration": 18,
    "start_time": "2022-11-01T16:19:23.041Z"
   },
   {
    "duration": 17,
    "start_time": "2022-11-01T16:19:23.061Z"
   },
   {
    "duration": 44,
    "start_time": "2022-11-01T16:19:23.081Z"
   },
   {
    "duration": 11,
    "start_time": "2022-11-01T16:19:23.127Z"
   },
   {
    "duration": 25,
    "start_time": "2022-11-01T16:19:23.139Z"
   },
   {
    "duration": 25,
    "start_time": "2022-11-01T16:19:23.165Z"
   },
   {
    "duration": 4,
    "start_time": "2022-11-01T16:19:23.192Z"
   },
   {
    "duration": 35,
    "start_time": "2022-11-01T16:19:23.198Z"
   },
   {
    "duration": 5,
    "start_time": "2022-11-01T16:19:23.235Z"
   },
   {
    "duration": 17,
    "start_time": "2022-11-01T16:19:23.241Z"
   },
   {
    "duration": 24,
    "start_time": "2022-11-01T16:19:23.260Z"
   },
   {
    "duration": 7,
    "start_time": "2022-11-01T16:19:23.286Z"
   },
   {
    "duration": 34,
    "start_time": "2022-11-01T16:19:23.294Z"
   },
   {
    "duration": 12,
    "start_time": "2022-11-01T16:19:23.331Z"
   },
   {
    "duration": 221,
    "start_time": "2022-11-01T16:19:23.344Z"
   },
   {
    "duration": 22,
    "start_time": "2022-11-01T16:19:23.567Z"
   },
   {
    "duration": 35,
    "start_time": "2022-11-01T16:19:23.591Z"
   },
   {
    "duration": 334,
    "start_time": "2022-11-01T16:19:23.628Z"
   },
   {
    "duration": 8,
    "start_time": "2022-11-01T16:19:23.964Z"
   },
   {
    "duration": 17,
    "start_time": "2022-11-01T16:19:23.974Z"
   },
   {
    "duration": 308,
    "start_time": "2022-11-01T16:19:23.993Z"
   },
   {
    "duration": 8,
    "start_time": "2022-11-01T16:19:24.303Z"
   },
   {
    "duration": 27,
    "start_time": "2022-11-01T16:19:24.312Z"
   },
   {
    "duration": 16,
    "start_time": "2022-11-01T16:19:24.341Z"
   },
   {
    "duration": 294,
    "start_time": "2022-11-01T16:19:24.359Z"
   },
   {
    "duration": 7,
    "start_time": "2022-11-01T16:19:24.655Z"
   },
   {
    "duration": 338,
    "start_time": "2022-11-01T16:19:24.664Z"
   },
   {
    "duration": 7,
    "start_time": "2022-11-01T16:19:32.988Z"
   },
   {
    "duration": 455,
    "start_time": "2022-11-01T16:19:33.732Z"
   },
   {
    "duration": 589,
    "start_time": "2022-11-01T16:19:40.316Z"
   },
   {
    "duration": 516,
    "start_time": "2022-11-01T16:19:46.676Z"
   },
   {
    "duration": 25,
    "start_time": "2022-11-01T16:21:51.146Z"
   },
   {
    "duration": 6,
    "start_time": "2022-11-01T16:21:54.852Z"
   },
   {
    "duration": 6,
    "start_time": "2022-11-01T16:22:06.749Z"
   },
   {
    "duration": 549,
    "start_time": "2022-11-01T16:22:20.591Z"
   },
   {
    "duration": 525,
    "start_time": "2022-11-01T16:22:35.542Z"
   },
   {
    "duration": 18,
    "start_time": "2022-11-01T16:26:02.651Z"
   },
   {
    "duration": 4,
    "start_time": "2022-11-01T16:28:31.275Z"
   },
   {
    "duration": 74,
    "start_time": "2022-11-01T16:28:31.282Z"
   },
   {
    "duration": 15,
    "start_time": "2022-11-01T16:28:31.358Z"
   },
   {
    "duration": 36,
    "start_time": "2022-11-01T16:28:31.375Z"
   },
   {
    "duration": 24,
    "start_time": "2022-11-01T16:28:31.414Z"
   },
   {
    "duration": 19,
    "start_time": "2022-11-01T16:28:31.440Z"
   },
   {
    "duration": 12,
    "start_time": "2022-11-01T16:28:31.461Z"
   },
   {
    "duration": 13,
    "start_time": "2022-11-01T16:28:31.475Z"
   },
   {
    "duration": 34,
    "start_time": "2022-11-01T16:28:31.490Z"
   },
   {
    "duration": 8,
    "start_time": "2022-11-01T16:28:31.527Z"
   },
   {
    "duration": 19,
    "start_time": "2022-11-01T16:28:31.539Z"
   },
   {
    "duration": 12,
    "start_time": "2022-11-01T16:28:31.560Z"
   },
   {
    "duration": 50,
    "start_time": "2022-11-01T16:28:31.574Z"
   },
   {
    "duration": 17,
    "start_time": "2022-11-01T16:28:31.626Z"
   },
   {
    "duration": 22,
    "start_time": "2022-11-01T16:28:31.645Z"
   },
   {
    "duration": 10,
    "start_time": "2022-11-01T16:28:31.669Z"
   },
   {
    "duration": 49,
    "start_time": "2022-11-01T16:28:31.680Z"
   },
   {
    "duration": 23,
    "start_time": "2022-11-01T16:28:31.732Z"
   },
   {
    "duration": 6,
    "start_time": "2022-11-01T16:28:31.757Z"
   },
   {
    "duration": 5,
    "start_time": "2022-11-01T16:28:31.765Z"
   },
   {
    "duration": 15,
    "start_time": "2022-11-01T16:28:31.771Z"
   },
   {
    "duration": 23,
    "start_time": "2022-11-01T16:28:31.823Z"
   },
   {
    "duration": 8,
    "start_time": "2022-11-01T16:28:31.848Z"
   },
   {
    "duration": 23,
    "start_time": "2022-11-01T16:28:31.858Z"
   },
   {
    "duration": 48,
    "start_time": "2022-11-01T16:28:31.883Z"
   },
   {
    "duration": 238,
    "start_time": "2022-11-01T16:28:31.934Z"
   },
   {
    "duration": 21,
    "start_time": "2022-11-01T16:28:32.174Z"
   },
   {
    "duration": 29,
    "start_time": "2022-11-01T16:28:32.197Z"
   },
   {
    "duration": 342,
    "start_time": "2022-11-01T16:28:32.231Z"
   },
   {
    "duration": 9,
    "start_time": "2022-11-01T16:28:32.575Z"
   },
   {
    "duration": 18,
    "start_time": "2022-11-01T16:28:32.586Z"
   },
   {
    "duration": 459,
    "start_time": "2022-11-01T16:28:32.624Z"
   },
   {
    "duration": 8,
    "start_time": "2022-11-01T16:28:33.085Z"
   },
   {
    "duration": 31,
    "start_time": "2022-11-01T16:28:33.094Z"
   },
   {
    "duration": 18,
    "start_time": "2022-11-01T16:28:33.127Z"
   },
   {
    "duration": 318,
    "start_time": "2022-11-01T16:28:33.146Z"
   },
   {
    "duration": 6,
    "start_time": "2022-11-01T16:28:33.466Z"
   },
   {
    "duration": 338,
    "start_time": "2022-11-01T16:28:33.474Z"
   },
   {
    "duration": 560,
    "start_time": "2022-11-01T16:28:33.814Z"
   },
   {
    "duration": 539,
    "start_time": "2022-11-01T16:28:34.376Z"
   },
   {
    "duration": 19,
    "start_time": "2022-11-01T16:28:34.917Z"
   },
   {
    "duration": 20,
    "start_time": "2022-11-01T16:28:34.938Z"
   },
   {
    "duration": 7,
    "start_time": "2022-11-01T16:28:34.960Z"
   },
   {
    "duration": 10,
    "start_time": "2022-11-01T16:28:34.969Z"
   },
   {
    "duration": 50,
    "start_time": "2022-11-01T16:28:34.981Z"
   },
   {
    "duration": 15,
    "start_time": "2022-11-01T16:28:35.033Z"
   },
   {
    "duration": 17,
    "start_time": "2022-11-01T16:28:35.051Z"
   },
   {
    "duration": 17,
    "start_time": "2022-11-01T16:28:35.071Z"
   },
   {
    "duration": 65,
    "start_time": "2022-11-01T16:28:35.089Z"
   },
   {
    "duration": 16,
    "start_time": "2022-11-01T16:28:35.156Z"
   },
   {
    "duration": 17,
    "start_time": "2022-11-01T16:28:35.173Z"
   },
   {
    "duration": 146,
    "start_time": "2022-11-01T16:28:35.192Z"
   },
   {
    "duration": 8,
    "start_time": "2022-11-01T16:28:35.341Z"
   },
   {
    "duration": 165,
    "start_time": "2022-11-01T16:28:35.351Z"
   },
   {
    "duration": 9,
    "start_time": "2022-11-01T16:28:35.518Z"
   },
   {
    "duration": 139,
    "start_time": "2022-11-01T16:28:35.529Z"
   },
   {
    "duration": 10,
    "start_time": "2022-11-01T16:28:35.670Z"
   },
   {
    "duration": 11,
    "start_time": "2022-11-01T16:28:35.682Z"
   },
   {
    "duration": 30,
    "start_time": "2022-11-01T16:28:35.695Z"
   },
   {
    "duration": 21,
    "start_time": "2022-11-01T16:29:15.673Z"
   },
   {
    "duration": 110,
    "start_time": "2022-11-01T16:33:12.260Z"
   },
   {
    "duration": 151,
    "start_time": "2022-11-01T16:33:16.341Z"
   },
   {
    "duration": 136,
    "start_time": "2022-11-01T16:33:39.820Z"
   },
   {
    "duration": 293,
    "start_time": "2022-11-01T16:33:46.292Z"
   },
   {
    "duration": 23,
    "start_time": "2022-11-01T16:39:29.159Z"
   },
   {
    "duration": 11,
    "start_time": "2022-11-01T16:39:47.448Z"
   },
   {
    "duration": 4,
    "start_time": "2022-11-01T16:41:58.184Z"
   },
   {
    "duration": 8,
    "start_time": "2022-11-01T16:42:56.564Z"
   },
   {
    "duration": 541,
    "start_time": "2022-11-01T16:43:57.105Z"
   },
   {
    "duration": 651,
    "start_time": "2022-11-01T16:44:51.650Z"
   },
   {
    "duration": 540,
    "start_time": "2022-11-01T16:45:13.138Z"
   },
   {
    "duration": 7,
    "start_time": "2022-11-01T16:45:28.506Z"
   },
   {
    "duration": 549,
    "start_time": "2022-11-01T16:45:48.577Z"
   },
   {
    "duration": 12,
    "start_time": "2022-11-01T16:46:05.202Z"
   },
   {
    "duration": 4,
    "start_time": "2022-11-01T16:46:10.347Z"
   },
   {
    "duration": 88,
    "start_time": "2022-11-01T16:46:10.355Z"
   },
   {
    "duration": 16,
    "start_time": "2022-11-01T16:46:10.445Z"
   },
   {
    "duration": 27,
    "start_time": "2022-11-01T16:46:10.462Z"
   },
   {
    "duration": 40,
    "start_time": "2022-11-01T16:46:10.492Z"
   },
   {
    "duration": 16,
    "start_time": "2022-11-01T16:46:10.535Z"
   },
   {
    "duration": 18,
    "start_time": "2022-11-01T16:46:10.554Z"
   },
   {
    "duration": 28,
    "start_time": "2022-11-01T16:46:10.575Z"
   },
   {
    "duration": 6,
    "start_time": "2022-11-01T16:46:10.606Z"
   },
   {
    "duration": 21,
    "start_time": "2022-11-01T16:46:10.614Z"
   },
   {
    "duration": 25,
    "start_time": "2022-11-01T16:46:10.637Z"
   },
   {
    "duration": 15,
    "start_time": "2022-11-01T16:46:10.664Z"
   },
   {
    "duration": 25,
    "start_time": "2022-11-01T16:46:10.680Z"
   },
   {
    "duration": 21,
    "start_time": "2022-11-01T16:46:10.706Z"
   },
   {
    "duration": 20,
    "start_time": "2022-11-01T16:46:10.732Z"
   },
   {
    "duration": 33,
    "start_time": "2022-11-01T16:46:10.755Z"
   },
   {
    "duration": 33,
    "start_time": "2022-11-01T16:46:10.790Z"
   },
   {
    "duration": 30,
    "start_time": "2022-11-01T16:46:10.825Z"
   },
   {
    "duration": 5,
    "start_time": "2022-11-01T16:46:10.857Z"
   },
   {
    "duration": 29,
    "start_time": "2022-11-01T16:46:10.865Z"
   },
   {
    "duration": 27,
    "start_time": "2022-11-01T16:46:10.896Z"
   },
   {
    "duration": 35,
    "start_time": "2022-11-01T16:46:10.925Z"
   },
   {
    "duration": 18,
    "start_time": "2022-11-01T16:46:10.962Z"
   },
   {
    "duration": 8,
    "start_time": "2022-11-01T16:46:10.982Z"
   },
   {
    "duration": 20,
    "start_time": "2022-11-01T16:46:10.991Z"
   },
   {
    "duration": 17,
    "start_time": "2022-11-01T16:46:11.012Z"
   },
   {
    "duration": 200,
    "start_time": "2022-11-01T16:46:11.031Z"
   },
   {
    "duration": 21,
    "start_time": "2022-11-01T16:46:11.232Z"
   },
   {
    "duration": 12,
    "start_time": "2022-11-01T16:46:11.254Z"
   },
   {
    "duration": 348,
    "start_time": "2022-11-01T16:46:11.267Z"
   },
   {
    "duration": 10,
    "start_time": "2022-11-01T16:46:11.617Z"
   },
   {
    "duration": 17,
    "start_time": "2022-11-01T16:46:11.629Z"
   },
   {
    "duration": 535,
    "start_time": "2022-11-01T16:46:11.648Z"
   },
   {
    "duration": 8,
    "start_time": "2022-11-01T16:46:12.185Z"
   },
   {
    "duration": 33,
    "start_time": "2022-11-01T16:46:12.195Z"
   },
   {
    "duration": 17,
    "start_time": "2022-11-01T16:46:12.230Z"
   },
   {
    "duration": 292,
    "start_time": "2022-11-01T16:46:12.249Z"
   },
   {
    "duration": 8,
    "start_time": "2022-11-01T16:46:12.542Z"
   },
   {
    "duration": 350,
    "start_time": "2022-11-01T16:46:12.551Z"
   },
   {
    "duration": 560,
    "start_time": "2022-11-01T16:46:12.903Z"
   },
   {
    "duration": 538,
    "start_time": "2022-11-01T16:46:13.465Z"
   },
   {
    "duration": 22,
    "start_time": "2022-11-01T16:46:14.007Z"
   },
   {
    "duration": 19,
    "start_time": "2022-11-01T16:46:14.031Z"
   },
   {
    "duration": 7,
    "start_time": "2022-11-01T16:46:14.052Z"
   },
   {
    "duration": 8,
    "start_time": "2022-11-01T16:46:14.061Z"
   },
   {
    "duration": 17,
    "start_time": "2022-11-01T16:46:14.071Z"
   },
   {
    "duration": 47,
    "start_time": "2022-11-01T16:46:14.090Z"
   },
   {
    "duration": 16,
    "start_time": "2022-11-01T16:46:14.138Z"
   },
   {
    "duration": 15,
    "start_time": "2022-11-01T16:46:14.156Z"
   },
   {
    "duration": 17,
    "start_time": "2022-11-01T16:46:14.173Z"
   },
   {
    "duration": 47,
    "start_time": "2022-11-01T16:46:14.191Z"
   },
   {
    "duration": 18,
    "start_time": "2022-11-01T16:46:14.240Z"
   },
   {
    "duration": 158,
    "start_time": "2022-11-01T16:46:14.260Z"
   },
   {
    "duration": 9,
    "start_time": "2022-11-01T16:46:14.423Z"
   },
   {
    "duration": 151,
    "start_time": "2022-11-01T16:46:14.434Z"
   },
   {
    "duration": 8,
    "start_time": "2022-11-01T16:46:14.587Z"
   },
   {
    "duration": 146,
    "start_time": "2022-11-01T16:46:14.597Z"
   },
   {
    "duration": 8,
    "start_time": "2022-11-01T16:46:14.745Z"
   },
   {
    "duration": 28,
    "start_time": "2022-11-01T16:46:14.755Z"
   },
   {
    "duration": 12,
    "start_time": "2022-11-01T16:46:41.603Z"
   },
   {
    "duration": 27,
    "start_time": "2022-11-01T16:47:21.915Z"
   },
   {
    "duration": 25,
    "start_time": "2022-11-01T16:52:02.766Z"
   },
   {
    "duration": 24,
    "start_time": "2022-11-01T16:52:19.743Z"
   },
   {
    "duration": 13,
    "start_time": "2022-11-01T16:52:47.902Z"
   },
   {
    "duration": 16,
    "start_time": "2022-11-01T16:53:17.405Z"
   },
   {
    "duration": 3,
    "start_time": "2022-11-01T16:57:17.983Z"
   },
   {
    "duration": 59,
    "start_time": "2022-11-01T16:57:17.988Z"
   },
   {
    "duration": 16,
    "start_time": "2022-11-01T16:57:18.050Z"
   },
   {
    "duration": 19,
    "start_time": "2022-11-01T16:57:18.068Z"
   },
   {
    "duration": 42,
    "start_time": "2022-11-01T16:57:18.088Z"
   },
   {
    "duration": 17,
    "start_time": "2022-11-01T16:57:18.132Z"
   },
   {
    "duration": 12,
    "start_time": "2022-11-01T16:57:18.150Z"
   },
   {
    "duration": 6,
    "start_time": "2022-11-01T16:57:18.163Z"
   },
   {
    "duration": 16,
    "start_time": "2022-11-01T16:57:18.171Z"
   },
   {
    "duration": 7,
    "start_time": "2022-11-01T16:57:18.190Z"
   },
   {
    "duration": 15,
    "start_time": "2022-11-01T16:57:18.224Z"
   },
   {
    "duration": 10,
    "start_time": "2022-11-01T16:57:18.241Z"
   },
   {
    "duration": 17,
    "start_time": "2022-11-01T16:57:18.253Z"
   },
   {
    "duration": 16,
    "start_time": "2022-11-01T16:57:18.272Z"
   },
   {
    "duration": 46,
    "start_time": "2022-11-01T16:57:18.290Z"
   },
   {
    "duration": 18,
    "start_time": "2022-11-01T16:57:18.338Z"
   },
   {
    "duration": 23,
    "start_time": "2022-11-01T16:57:18.359Z"
   },
   {
    "duration": 32,
    "start_time": "2022-11-01T16:57:18.383Z"
   },
   {
    "duration": 11,
    "start_time": "2022-11-01T16:57:18.416Z"
   },
   {
    "duration": 14,
    "start_time": "2022-11-01T16:57:18.429Z"
   },
   {
    "duration": 6,
    "start_time": "2022-11-01T16:57:18.445Z"
   },
   {
    "duration": 19,
    "start_time": "2022-11-01T16:57:18.453Z"
   },
   {
    "duration": 20,
    "start_time": "2022-11-01T16:57:18.474Z"
   },
   {
    "duration": 28,
    "start_time": "2022-11-01T16:57:18.496Z"
   },
   {
    "duration": 16,
    "start_time": "2022-11-01T16:57:18.526Z"
   },
   {
    "duration": 13,
    "start_time": "2022-11-01T16:57:18.543Z"
   },
   {
    "duration": 221,
    "start_time": "2022-11-01T16:57:18.557Z"
   },
   {
    "duration": 22,
    "start_time": "2022-11-01T16:57:18.782Z"
   },
   {
    "duration": 202,
    "start_time": "2022-11-01T16:57:18.805Z"
   },
   {
    "duration": 341,
    "start_time": "2022-11-01T16:57:19.009Z"
   },
   {
    "duration": 9,
    "start_time": "2022-11-01T16:57:19.352Z"
   },
   {
    "duration": 18,
    "start_time": "2022-11-01T16:57:19.363Z"
   },
   {
    "duration": 329,
    "start_time": "2022-11-01T16:57:19.383Z"
   },
   {
    "duration": 10,
    "start_time": "2022-11-01T16:57:19.714Z"
   },
   {
    "duration": 20,
    "start_time": "2022-11-01T16:57:19.727Z"
   },
   {
    "duration": 19,
    "start_time": "2022-11-01T16:57:19.750Z"
   },
   {
    "duration": 328,
    "start_time": "2022-11-01T16:57:19.771Z"
   },
   {
    "duration": 8,
    "start_time": "2022-11-01T16:57:20.101Z"
   },
   {
    "duration": 342,
    "start_time": "2022-11-01T16:57:20.123Z"
   },
   {
    "duration": 569,
    "start_time": "2022-11-01T16:57:20.467Z"
   },
   {
    "duration": 568,
    "start_time": "2022-11-01T16:57:21.038Z"
   },
   {
    "duration": 26,
    "start_time": "2022-11-01T16:57:21.612Z"
   },
   {
    "duration": 28,
    "start_time": "2022-11-01T16:57:21.640Z"
   },
   {
    "duration": 28,
    "start_time": "2022-11-01T16:57:21.670Z"
   },
   {
    "duration": 24,
    "start_time": "2022-11-01T16:57:21.700Z"
   },
   {
    "duration": 45,
    "start_time": "2022-11-01T16:57:21.726Z"
   },
   {
    "duration": 38,
    "start_time": "2022-11-01T16:57:21.773Z"
   },
   {
    "duration": 42,
    "start_time": "2022-11-01T16:57:21.813Z"
   },
   {
    "duration": 29,
    "start_time": "2022-11-01T16:57:21.858Z"
   },
   {
    "duration": 32,
    "start_time": "2022-11-01T16:57:21.890Z"
   },
   {
    "duration": 23,
    "start_time": "2022-11-01T16:57:21.924Z"
   },
   {
    "duration": 19,
    "start_time": "2022-11-01T16:57:21.950Z"
   },
   {
    "duration": 188,
    "start_time": "2022-11-01T16:57:21.972Z"
   },
   {
    "duration": 8,
    "start_time": "2022-11-01T16:57:22.163Z"
   },
   {
    "duration": 172,
    "start_time": "2022-11-01T16:57:22.173Z"
   },
   {
    "duration": 9,
    "start_time": "2022-11-01T16:57:22.347Z"
   },
   {
    "duration": 309,
    "start_time": "2022-11-01T16:57:22.358Z"
   },
   {
    "duration": 10,
    "start_time": "2022-11-01T16:57:22.672Z"
   },
   {
    "duration": 8,
    "start_time": "2022-11-01T16:57:22.684Z"
   },
   {
    "duration": 13,
    "start_time": "2022-11-01T16:57:22.694Z"
   },
   {
    "duration": 22,
    "start_time": "2022-11-01T16:57:22.709Z"
   },
   {
    "duration": 6,
    "start_time": "2022-11-01T17:07:18.700Z"
   },
   {
    "duration": 4,
    "start_time": "2022-11-01T17:07:42.992Z"
   },
   {
    "duration": 76,
    "start_time": "2022-11-01T17:07:42.999Z"
   },
   {
    "duration": 14,
    "start_time": "2022-11-01T17:07:43.077Z"
   },
   {
    "duration": 38,
    "start_time": "2022-11-01T17:07:43.093Z"
   },
   {
    "duration": 16,
    "start_time": "2022-11-01T17:07:43.133Z"
   },
   {
    "duration": 15,
    "start_time": "2022-11-01T17:07:43.150Z"
   },
   {
    "duration": 6,
    "start_time": "2022-11-01T17:07:43.167Z"
   },
   {
    "duration": 6,
    "start_time": "2022-11-01T17:07:43.175Z"
   },
   {
    "duration": 5,
    "start_time": "2022-11-01T17:07:43.182Z"
   },
   {
    "duration": 40,
    "start_time": "2022-11-01T17:07:43.188Z"
   },
   {
    "duration": 15,
    "start_time": "2022-11-01T17:07:43.231Z"
   },
   {
    "duration": 9,
    "start_time": "2022-11-01T17:07:43.248Z"
   },
   {
    "duration": 19,
    "start_time": "2022-11-01T17:07:43.259Z"
   },
   {
    "duration": 47,
    "start_time": "2022-11-01T17:07:43.280Z"
   },
   {
    "duration": 14,
    "start_time": "2022-11-01T17:07:43.329Z"
   },
   {
    "duration": 9,
    "start_time": "2022-11-01T17:07:43.345Z"
   },
   {
    "duration": 22,
    "start_time": "2022-11-01T17:07:43.355Z"
   },
   {
    "duration": 59,
    "start_time": "2022-11-01T17:07:43.379Z"
   },
   {
    "duration": 6,
    "start_time": "2022-11-01T17:07:43.441Z"
   },
   {
    "duration": 5,
    "start_time": "2022-11-01T17:07:43.448Z"
   },
   {
    "duration": 5,
    "start_time": "2022-11-01T17:07:43.455Z"
   },
   {
    "duration": 10,
    "start_time": "2022-11-01T17:07:43.462Z"
   },
   {
    "duration": 17,
    "start_time": "2022-11-01T17:07:43.474Z"
   },
   {
    "duration": 6,
    "start_time": "2022-11-01T17:07:43.523Z"
   },
   {
    "duration": 16,
    "start_time": "2022-11-01T17:07:43.530Z"
   },
   {
    "duration": 12,
    "start_time": "2022-11-01T17:07:43.548Z"
   },
   {
    "duration": 225,
    "start_time": "2022-11-01T17:07:43.562Z"
   },
   {
    "duration": 22,
    "start_time": "2022-11-01T17:07:43.789Z"
   },
   {
    "duration": 12,
    "start_time": "2022-11-01T17:07:43.827Z"
   },
   {
    "duration": 335,
    "start_time": "2022-11-01T17:07:43.840Z"
   },
   {
    "duration": 9,
    "start_time": "2022-11-01T17:07:44.176Z"
   },
   {
    "duration": 20,
    "start_time": "2022-11-01T17:07:44.187Z"
   },
   {
    "duration": 342,
    "start_time": "2022-11-01T17:07:44.209Z"
   },
   {
    "duration": 8,
    "start_time": "2022-11-01T17:07:44.553Z"
   },
   {
    "duration": 21,
    "start_time": "2022-11-01T17:07:44.562Z"
   },
   {
    "duration": 17,
    "start_time": "2022-11-01T17:07:44.585Z"
   },
   {
    "duration": 277,
    "start_time": "2022-11-01T17:07:44.625Z"
   },
   {
    "duration": 20,
    "start_time": "2022-11-01T17:07:44.904Z"
   },
   {
    "duration": 322,
    "start_time": "2022-11-01T17:07:44.926Z"
   },
   {
    "duration": 548,
    "start_time": "2022-11-01T17:07:45.250Z"
   },
   {
    "duration": 673,
    "start_time": "2022-11-01T17:07:45.800Z"
   },
   {
    "duration": 16,
    "start_time": "2022-11-01T17:07:46.475Z"
   },
   {
    "duration": 36,
    "start_time": "2022-11-01T17:07:46.493Z"
   },
   {
    "duration": 7,
    "start_time": "2022-11-01T17:07:46.531Z"
   },
   {
    "duration": 9,
    "start_time": "2022-11-01T17:07:46.540Z"
   },
   {
    "duration": 17,
    "start_time": "2022-11-01T17:07:46.551Z"
   },
   {
    "duration": 16,
    "start_time": "2022-11-01T17:07:46.571Z"
   },
   {
    "duration": 41,
    "start_time": "2022-11-01T17:07:46.588Z"
   },
   {
    "duration": 15,
    "start_time": "2022-11-01T17:07:46.631Z"
   },
   {
    "duration": 16,
    "start_time": "2022-11-01T17:07:46.648Z"
   },
   {
    "duration": 17,
    "start_time": "2022-11-01T17:07:46.666Z"
   },
   {
    "duration": 49,
    "start_time": "2022-11-01T17:07:46.684Z"
   },
   {
    "duration": 147,
    "start_time": "2022-11-01T17:07:46.734Z"
   },
   {
    "duration": 8,
    "start_time": "2022-11-01T17:07:46.883Z"
   },
   {
    "duration": 142,
    "start_time": "2022-11-01T17:07:46.893Z"
   },
   {
    "duration": 8,
    "start_time": "2022-11-01T17:07:47.038Z"
   },
   {
    "duration": 143,
    "start_time": "2022-11-01T17:07:47.048Z"
   },
   {
    "duration": 8,
    "start_time": "2022-11-01T17:07:47.192Z"
   },
   {
    "duration": 6,
    "start_time": "2022-11-01T17:07:47.203Z"
   },
   {
    "duration": 24,
    "start_time": "2022-11-01T17:07:47.211Z"
   },
   {
    "duration": 13,
    "start_time": "2022-11-01T17:07:47.237Z"
   },
   {
    "duration": 11,
    "start_time": "2022-11-01T17:13:34.272Z"
   },
   {
    "duration": 5,
    "start_time": "2022-11-01T17:13:41.359Z"
   },
   {
    "duration": 5,
    "start_time": "2022-11-01T17:13:50.496Z"
   },
   {
    "duration": 3,
    "start_time": "2022-11-01T17:14:49.212Z"
   },
   {
    "duration": 52,
    "start_time": "2022-11-01T17:14:49.220Z"
   },
   {
    "duration": 14,
    "start_time": "2022-11-01T17:14:49.274Z"
   },
   {
    "duration": 24,
    "start_time": "2022-11-01T17:14:49.290Z"
   },
   {
    "duration": 15,
    "start_time": "2022-11-01T17:14:49.317Z"
   },
   {
    "duration": 17,
    "start_time": "2022-11-01T17:14:49.334Z"
   },
   {
    "duration": 12,
    "start_time": "2022-11-01T17:14:49.352Z"
   },
   {
    "duration": 10,
    "start_time": "2022-11-01T17:14:49.366Z"
   },
   {
    "duration": 12,
    "start_time": "2022-11-01T17:14:49.378Z"
   },
   {
    "duration": 36,
    "start_time": "2022-11-01T17:14:49.392Z"
   },
   {
    "duration": 26,
    "start_time": "2022-11-01T17:14:49.430Z"
   },
   {
    "duration": 11,
    "start_time": "2022-11-01T17:14:49.458Z"
   },
   {
    "duration": 18,
    "start_time": "2022-11-01T17:14:49.471Z"
   },
   {
    "duration": 37,
    "start_time": "2022-11-01T17:14:49.491Z"
   },
   {
    "duration": 17,
    "start_time": "2022-11-01T17:14:49.533Z"
   },
   {
    "duration": 10,
    "start_time": "2022-11-01T17:14:49.552Z"
   },
   {
    "duration": 27,
    "start_time": "2022-11-01T17:14:49.564Z"
   },
   {
    "duration": 50,
    "start_time": "2022-11-01T17:14:49.593Z"
   },
   {
    "duration": 5,
    "start_time": "2022-11-01T17:14:49.645Z"
   },
   {
    "duration": 5,
    "start_time": "2022-11-01T17:14:49.652Z"
   },
   {
    "duration": 8,
    "start_time": "2022-11-01T17:14:49.659Z"
   },
   {
    "duration": 6,
    "start_time": "2022-11-01T17:14:49.669Z"
   },
   {
    "duration": 10,
    "start_time": "2022-11-01T17:14:49.677Z"
   },
   {
    "duration": 10,
    "start_time": "2022-11-01T17:14:49.689Z"
   },
   {
    "duration": 17,
    "start_time": "2022-11-01T17:14:49.725Z"
   },
   {
    "duration": 7,
    "start_time": "2022-11-01T17:14:49.744Z"
   },
   {
    "duration": 19,
    "start_time": "2022-11-01T17:14:49.753Z"
   },
   {
    "duration": 12,
    "start_time": "2022-11-01T17:14:49.773Z"
   },
   {
    "duration": 221,
    "start_time": "2022-11-01T17:14:49.786Z"
   },
   {
    "duration": 27,
    "start_time": "2022-11-01T17:14:50.009Z"
   },
   {
    "duration": 14,
    "start_time": "2022-11-01T17:14:50.037Z"
   },
   {
    "duration": 355,
    "start_time": "2022-11-01T17:14:50.053Z"
   },
   {
    "duration": 14,
    "start_time": "2022-11-01T17:14:50.410Z"
   },
   {
    "duration": 25,
    "start_time": "2022-11-01T17:14:50.426Z"
   },
   {
    "duration": 300,
    "start_time": "2022-11-01T17:14:50.452Z"
   },
   {
    "duration": 8,
    "start_time": "2022-11-01T17:14:50.754Z"
   },
   {
    "duration": 22,
    "start_time": "2022-11-01T17:14:50.764Z"
   },
   {
    "duration": 39,
    "start_time": "2022-11-01T17:14:50.787Z"
   },
   {
    "duration": 284,
    "start_time": "2022-11-01T17:14:50.827Z"
   },
   {
    "duration": 12,
    "start_time": "2022-11-01T17:14:51.113Z"
   },
   {
    "duration": 339,
    "start_time": "2022-11-01T17:14:51.127Z"
   },
   {
    "duration": 880,
    "start_time": "2022-11-01T17:14:51.471Z"
   },
   {
    "duration": 551,
    "start_time": "2022-11-01T17:14:52.353Z"
   },
   {
    "duration": 21,
    "start_time": "2022-11-01T17:14:52.906Z"
   },
   {
    "duration": 20,
    "start_time": "2022-11-01T17:14:52.929Z"
   },
   {
    "duration": 8,
    "start_time": "2022-11-01T17:14:52.951Z"
   },
   {
    "duration": 9,
    "start_time": "2022-11-01T17:14:52.960Z"
   },
   {
    "duration": 17,
    "start_time": "2022-11-01T17:14:52.970Z"
   },
   {
    "duration": 18,
    "start_time": "2022-11-01T17:14:53.023Z"
   },
   {
    "duration": 21,
    "start_time": "2022-11-01T17:14:53.043Z"
   },
   {
    "duration": 15,
    "start_time": "2022-11-01T17:14:53.066Z"
   },
   {
    "duration": 42,
    "start_time": "2022-11-01T17:14:53.083Z"
   },
   {
    "duration": 17,
    "start_time": "2022-11-01T17:14:53.127Z"
   },
   {
    "duration": 18,
    "start_time": "2022-11-01T17:14:53.145Z"
   },
   {
    "duration": 151,
    "start_time": "2022-11-01T17:14:53.164Z"
   },
   {
    "duration": 9,
    "start_time": "2022-11-01T17:14:53.317Z"
   },
   {
    "duration": 143,
    "start_time": "2022-11-01T17:14:53.328Z"
   },
   {
    "duration": 8,
    "start_time": "2022-11-01T17:14:53.473Z"
   },
   {
    "duration": 135,
    "start_time": "2022-11-01T17:14:53.483Z"
   },
   {
    "duration": 8,
    "start_time": "2022-11-01T17:14:53.620Z"
   },
   {
    "duration": 10,
    "start_time": "2022-11-01T17:14:53.631Z"
   },
   {
    "duration": 13,
    "start_time": "2022-11-01T17:14:53.643Z"
   },
   {
    "duration": 14,
    "start_time": "2022-11-01T17:14:53.658Z"
   },
   {
    "duration": 139,
    "start_time": "2022-11-01T17:28:01.504Z"
   },
   {
    "duration": 140,
    "start_time": "2022-11-01T17:28:15.312Z"
   },
   {
    "duration": 139,
    "start_time": "2022-11-01T17:28:23.449Z"
   },
   {
    "duration": 132,
    "start_time": "2022-11-01T17:28:32.257Z"
   },
   {
    "duration": 68,
    "start_time": "2022-11-01T17:29:07.817Z"
   },
   {
    "duration": 142,
    "start_time": "2022-11-01T17:29:13.018Z"
   },
   {
    "duration": 236,
    "start_time": "2022-11-01T19:06:49.670Z"
   },
   {
    "duration": 5,
    "start_time": "2022-11-01T19:07:11.405Z"
   },
   {
    "duration": 71,
    "start_time": "2022-11-01T19:07:19.182Z"
   },
   {
    "duration": 108,
    "start_time": "2022-11-01T19:07:26.614Z"
   },
   {
    "duration": 118,
    "start_time": "2022-11-01T19:07:42.526Z"
   },
   {
    "duration": 110,
    "start_time": "2022-11-01T19:08:15.896Z"
   },
   {
    "duration": 108,
    "start_time": "2022-11-01T19:08:33.144Z"
   },
   {
    "duration": 1142,
    "start_time": "2022-11-01T19:08:58.879Z"
   },
   {
    "duration": 253,
    "start_time": "2022-11-01T19:09:15.439Z"
   },
   {
    "duration": 108,
    "start_time": "2022-11-01T19:09:36.487Z"
   },
   {
    "duration": 228,
    "start_time": "2022-11-01T19:14:09.810Z"
   },
   {
    "duration": 313,
    "start_time": "2022-11-01T19:14:27.858Z"
   },
   {
    "duration": 313,
    "start_time": "2022-11-01T19:15:27.938Z"
   },
   {
    "duration": 5,
    "start_time": "2022-11-01T19:16:38.955Z"
   },
   {
    "duration": 11,
    "start_time": "2022-11-01T19:17:07.292Z"
   },
   {
    "duration": 324,
    "start_time": "2022-11-01T19:17:09.323Z"
   },
   {
    "duration": 19,
    "start_time": "2022-11-01T19:17:18.299Z"
   },
   {
    "duration": 11,
    "start_time": "2022-11-01T19:17:45.356Z"
   },
   {
    "duration": 16,
    "start_time": "2022-11-01T19:18:27.878Z"
   },
   {
    "duration": 22,
    "start_time": "2022-11-01T19:18:36.172Z"
   },
   {
    "duration": 24,
    "start_time": "2022-11-01T19:18:49.324Z"
   },
   {
    "duration": 291,
    "start_time": "2022-11-01T19:18:50.404Z"
   },
   {
    "duration": 12,
    "start_time": "2022-11-01T19:19:18.957Z"
   },
   {
    "duration": 333,
    "start_time": "2022-11-01T19:19:20.700Z"
   },
   {
    "duration": 1170,
    "start_time": "2022-11-01T19:24:28.208Z"
   },
   {
    "duration": 320,
    "start_time": "2022-11-01T19:24:29.454Z"
   },
   {
    "duration": 1225,
    "start_time": "2022-11-01T19:25:28.963Z"
   },
   {
    "duration": 4,
    "start_time": "2022-11-01T19:25:42.469Z"
   },
   {
    "duration": 70,
    "start_time": "2022-11-01T19:25:42.477Z"
   },
   {
    "duration": 14,
    "start_time": "2022-11-01T19:25:42.549Z"
   },
   {
    "duration": 27,
    "start_time": "2022-11-01T19:25:42.565Z"
   },
   {
    "duration": 23,
    "start_time": "2022-11-01T19:25:42.595Z"
   },
   {
    "duration": 26,
    "start_time": "2022-11-01T19:25:42.619Z"
   },
   {
    "duration": 34,
    "start_time": "2022-11-01T19:25:42.646Z"
   },
   {
    "duration": 31,
    "start_time": "2022-11-01T19:25:42.681Z"
   },
   {
    "duration": 31,
    "start_time": "2022-11-01T19:25:42.714Z"
   },
   {
    "duration": 35,
    "start_time": "2022-11-01T19:25:42.747Z"
   },
   {
    "duration": 207,
    "start_time": "2022-11-01T19:25:42.785Z"
   },
   {
    "duration": 11,
    "start_time": "2022-11-01T19:25:42.994Z"
   },
   {
    "duration": 29,
    "start_time": "2022-11-01T19:25:43.007Z"
   },
   {
    "duration": 29,
    "start_time": "2022-11-01T19:25:43.038Z"
   },
   {
    "duration": 21,
    "start_time": "2022-11-01T19:25:43.070Z"
   },
   {
    "duration": 23,
    "start_time": "2022-11-01T19:25:43.092Z"
   },
   {
    "duration": 46,
    "start_time": "2022-11-01T19:25:43.117Z"
   },
   {
    "duration": 27,
    "start_time": "2022-11-01T19:25:43.165Z"
   },
   {
    "duration": 7,
    "start_time": "2022-11-01T19:25:43.194Z"
   },
   {
    "duration": 36,
    "start_time": "2022-11-01T19:25:43.202Z"
   },
   {
    "duration": 20,
    "start_time": "2022-11-01T19:25:43.240Z"
   },
   {
    "duration": 36,
    "start_time": "2022-11-01T19:25:43.262Z"
   },
   {
    "duration": 30,
    "start_time": "2022-11-01T19:25:43.301Z"
   },
   {
    "duration": 38,
    "start_time": "2022-11-01T19:25:43.333Z"
   },
   {
    "duration": 51,
    "start_time": "2022-11-01T19:25:43.373Z"
   },
   {
    "duration": 17,
    "start_time": "2022-11-01T19:25:43.426Z"
   },
   {
    "duration": 30,
    "start_time": "2022-11-01T19:25:43.446Z"
   },
   {
    "duration": 30,
    "start_time": "2022-11-01T19:25:43.479Z"
   },
   {
    "duration": 218,
    "start_time": "2022-11-01T19:25:43.512Z"
   },
   {
    "duration": 21,
    "start_time": "2022-11-01T19:25:43.732Z"
   },
   {
    "duration": 1183,
    "start_time": "2022-11-01T19:25:49.696Z"
   },
   {
    "duration": 12,
    "start_time": "2022-11-01T19:26:44.993Z"
   },
   {
    "duration": 202,
    "start_time": "2022-11-01T19:26:48.522Z"
   },
   {
    "duration": 15,
    "start_time": "2022-11-01T19:27:05.050Z"
   },
   {
    "duration": 360,
    "start_time": "2022-11-01T19:27:07.385Z"
   },
   {
    "duration": 8,
    "start_time": "2022-11-01T19:27:15.161Z"
   },
   {
    "duration": 14,
    "start_time": "2022-11-01T19:27:30.337Z"
   },
   {
    "duration": 10,
    "start_time": "2022-11-01T19:27:36.409Z"
   },
   {
    "duration": 13,
    "start_time": "2022-11-01T19:27:49.897Z"
   },
   {
    "duration": 327,
    "start_time": "2022-11-01T19:27:51.184Z"
   },
   {
    "duration": 421,
    "start_time": "2022-11-01T19:30:30.298Z"
   },
   {
    "duration": 547,
    "start_time": "2022-11-01T19:30:34.594Z"
   },
   {
    "duration": 545,
    "start_time": "2022-11-01T19:31:56.068Z"
   },
   {
    "duration": 691,
    "start_time": "2022-11-01T19:32:12.380Z"
   },
   {
    "duration": 77,
    "start_time": "2022-11-01T19:32:32.860Z"
   },
   {
    "duration": 523,
    "start_time": "2022-11-01T19:32:37.228Z"
   },
   {
    "duration": 541,
    "start_time": "2022-11-01T19:34:46.462Z"
   },
   {
    "duration": 530,
    "start_time": "2022-11-01T19:35:01.174Z"
   },
   {
    "duration": 512,
    "start_time": "2022-11-01T19:35:10.750Z"
   },
   {
    "duration": 474,
    "start_time": "2022-11-01T19:35:15.855Z"
   },
   {
    "duration": 674,
    "start_time": "2022-11-01T19:35:26.279Z"
   },
   {
    "duration": 514,
    "start_time": "2022-11-01T19:35:35.454Z"
   },
   {
    "duration": 514,
    "start_time": "2022-11-01T19:35:40.840Z"
   },
   {
    "duration": 493,
    "start_time": "2022-11-01T19:35:48.031Z"
   },
   {
    "duration": 475,
    "start_time": "2022-11-01T19:35:53.776Z"
   },
   {
    "duration": 444,
    "start_time": "2022-11-01T19:35:58.335Z"
   },
   {
    "duration": 640,
    "start_time": "2022-11-01T19:36:12.531Z"
   },
   {
    "duration": 474,
    "start_time": "2022-11-01T19:36:20.968Z"
   },
   {
    "duration": 467,
    "start_time": "2022-11-01T19:36:38.930Z"
   },
   {
    "duration": 547,
    "start_time": "2022-11-01T19:36:48.824Z"
   },
   {
    "duration": 1400,
    "start_time": "2022-11-01T19:36:53.680Z"
   },
   {
    "duration": 572,
    "start_time": "2022-11-01T19:37:00.880Z"
   },
   {
    "duration": 759,
    "start_time": "2022-11-01T19:37:12.689Z"
   },
   {
    "duration": 71,
    "start_time": "2022-11-01T19:37:27.465Z"
   },
   {
    "duration": 580,
    "start_time": "2022-11-01T19:37:33.168Z"
   },
   {
    "duration": 571,
    "start_time": "2022-11-01T19:37:46.336Z"
   },
   {
    "duration": 536,
    "start_time": "2022-11-01T19:38:07.177Z"
   },
   {
    "duration": 567,
    "start_time": "2022-11-01T19:38:15.833Z"
   },
   {
    "duration": 318,
    "start_time": "2022-11-01T19:39:14.422Z"
   },
   {
    "duration": 17,
    "start_time": "2022-11-01T19:44:07.803Z"
   },
   {
    "duration": 16,
    "start_time": "2022-11-01T19:44:32.709Z"
   },
   {
    "duration": 17,
    "start_time": "2022-11-01T19:45:11.053Z"
   },
   {
    "duration": 19,
    "start_time": "2022-11-01T19:45:27.844Z"
   },
   {
    "duration": 15,
    "start_time": "2022-11-01T19:45:41.182Z"
   },
   {
    "duration": 18,
    "start_time": "2022-11-01T19:45:56.905Z"
   },
   {
    "duration": 17,
    "start_time": "2022-11-01T19:47:59.911Z"
   },
   {
    "duration": 78,
    "start_time": "2022-11-01T19:49:45.410Z"
   },
   {
    "duration": 22,
    "start_time": "2022-11-01T19:49:51.927Z"
   },
   {
    "duration": 17,
    "start_time": "2022-11-01T19:50:14.641Z"
   },
   {
    "duration": 1067,
    "start_time": "2022-11-01T20:02:07.729Z"
   },
   {
    "duration": 49,
    "start_time": "2022-11-01T20:02:08.798Z"
   },
   {
    "duration": 16,
    "start_time": "2022-11-01T20:02:08.848Z"
   },
   {
    "duration": 20,
    "start_time": "2022-11-01T20:02:08.866Z"
   },
   {
    "duration": 12,
    "start_time": "2022-11-01T20:02:08.887Z"
   },
   {
    "duration": 32,
    "start_time": "2022-11-01T20:02:08.900Z"
   },
   {
    "duration": 9,
    "start_time": "2022-11-01T20:02:08.934Z"
   },
   {
    "duration": 6,
    "start_time": "2022-11-01T20:02:08.945Z"
   },
   {
    "duration": 6,
    "start_time": "2022-11-01T20:02:08.953Z"
   },
   {
    "duration": 106,
    "start_time": "2022-11-01T20:02:08.962Z"
   },
   {
    "duration": 0,
    "start_time": "2022-11-01T20:02:09.070Z"
   },
   {
    "duration": 0,
    "start_time": "2022-11-01T20:02:09.072Z"
   },
   {
    "duration": 0,
    "start_time": "2022-11-01T20:02:09.073Z"
   },
   {
    "duration": 0,
    "start_time": "2022-11-01T20:02:09.074Z"
   },
   {
    "duration": 0,
    "start_time": "2022-11-01T20:02:09.074Z"
   },
   {
    "duration": 0,
    "start_time": "2022-11-01T20:02:09.075Z"
   },
   {
    "duration": 0,
    "start_time": "2022-11-01T20:02:09.076Z"
   },
   {
    "duration": 0,
    "start_time": "2022-11-01T20:02:09.077Z"
   },
   {
    "duration": 0,
    "start_time": "2022-11-01T20:02:09.078Z"
   },
   {
    "duration": 0,
    "start_time": "2022-11-01T20:02:09.079Z"
   },
   {
    "duration": 0,
    "start_time": "2022-11-01T20:02:09.080Z"
   },
   {
    "duration": 0,
    "start_time": "2022-11-01T20:02:09.081Z"
   },
   {
    "duration": 0,
    "start_time": "2022-11-01T20:02:09.082Z"
   },
   {
    "duration": 0,
    "start_time": "2022-11-01T20:02:09.083Z"
   },
   {
    "duration": 0,
    "start_time": "2022-11-01T20:02:09.084Z"
   },
   {
    "duration": 0,
    "start_time": "2022-11-01T20:02:09.085Z"
   },
   {
    "duration": 0,
    "start_time": "2022-11-01T20:02:09.086Z"
   },
   {
    "duration": 0,
    "start_time": "2022-11-01T20:02:09.087Z"
   },
   {
    "duration": 0,
    "start_time": "2022-11-01T20:02:09.088Z"
   },
   {
    "duration": 0,
    "start_time": "2022-11-01T20:02:09.089Z"
   },
   {
    "duration": 0,
    "start_time": "2022-11-01T20:02:09.122Z"
   },
   {
    "duration": 0,
    "start_time": "2022-11-01T20:02:09.123Z"
   },
   {
    "duration": 0,
    "start_time": "2022-11-01T20:02:09.124Z"
   },
   {
    "duration": 0,
    "start_time": "2022-11-01T20:02:09.126Z"
   },
   {
    "duration": 0,
    "start_time": "2022-11-01T20:02:09.128Z"
   },
   {
    "duration": 0,
    "start_time": "2022-11-01T20:02:09.128Z"
   },
   {
    "duration": 0,
    "start_time": "2022-11-01T20:02:09.130Z"
   },
   {
    "duration": 0,
    "start_time": "2022-11-01T20:02:09.131Z"
   },
   {
    "duration": 0,
    "start_time": "2022-11-01T20:02:09.132Z"
   },
   {
    "duration": 0,
    "start_time": "2022-11-01T20:02:09.134Z"
   },
   {
    "duration": 0,
    "start_time": "2022-11-01T20:02:09.135Z"
   },
   {
    "duration": 0,
    "start_time": "2022-11-01T20:02:09.136Z"
   },
   {
    "duration": 0,
    "start_time": "2022-11-01T20:02:09.138Z"
   },
   {
    "duration": 0,
    "start_time": "2022-11-01T20:02:09.139Z"
   },
   {
    "duration": 0,
    "start_time": "2022-11-01T20:02:09.140Z"
   },
   {
    "duration": 0,
    "start_time": "2022-11-01T20:02:09.142Z"
   },
   {
    "duration": 0,
    "start_time": "2022-11-01T20:02:09.143Z"
   },
   {
    "duration": 0,
    "start_time": "2022-11-01T20:02:09.143Z"
   },
   {
    "duration": 0,
    "start_time": "2022-11-01T20:02:09.144Z"
   },
   {
    "duration": 0,
    "start_time": "2022-11-01T20:02:09.145Z"
   },
   {
    "duration": 0,
    "start_time": "2022-11-01T20:02:09.146Z"
   },
   {
    "duration": 0,
    "start_time": "2022-11-01T20:02:09.147Z"
   },
   {
    "duration": 0,
    "start_time": "2022-11-01T20:02:09.148Z"
   },
   {
    "duration": 0,
    "start_time": "2022-11-01T20:02:09.149Z"
   },
   {
    "duration": 0,
    "start_time": "2022-11-01T20:02:09.150Z"
   },
   {
    "duration": 0,
    "start_time": "2022-11-01T20:02:09.150Z"
   },
   {
    "duration": 0,
    "start_time": "2022-11-01T20:02:09.151Z"
   },
   {
    "duration": 0,
    "start_time": "2022-11-01T20:02:09.152Z"
   },
   {
    "duration": 0,
    "start_time": "2022-11-01T20:02:09.153Z"
   },
   {
    "duration": 0,
    "start_time": "2022-11-01T20:02:09.154Z"
   },
   {
    "duration": 0,
    "start_time": "2022-11-01T20:02:09.155Z"
   },
   {
    "duration": 0,
    "start_time": "2022-11-01T20:02:09.156Z"
   },
   {
    "duration": 0,
    "start_time": "2022-11-01T20:02:09.158Z"
   },
   {
    "duration": 3,
    "start_time": "2022-11-01T20:28:27.087Z"
   },
   {
    "duration": 5,
    "start_time": "2022-11-01T20:28:33.468Z"
   },
   {
    "duration": 4,
    "start_time": "2022-11-01T20:28:41.846Z"
   },
   {
    "duration": 58,
    "start_time": "2022-11-01T20:28:41.856Z"
   },
   {
    "duration": 19,
    "start_time": "2022-11-01T20:28:41.917Z"
   },
   {
    "duration": 21,
    "start_time": "2022-11-01T20:28:41.938Z"
   },
   {
    "duration": 20,
    "start_time": "2022-11-01T20:28:41.961Z"
   },
   {
    "duration": 56,
    "start_time": "2022-11-01T20:28:41.983Z"
   },
   {
    "duration": 7,
    "start_time": "2022-11-01T20:28:42.041Z"
   },
   {
    "duration": 6,
    "start_time": "2022-11-01T20:28:42.051Z"
   },
   {
    "duration": 7,
    "start_time": "2022-11-01T20:28:42.059Z"
   },
   {
    "duration": 8,
    "start_time": "2022-11-01T20:28:42.068Z"
   },
   {
    "duration": 52,
    "start_time": "2022-11-01T20:28:42.077Z"
   },
   {
    "duration": 10,
    "start_time": "2022-11-01T20:28:42.131Z"
   },
   {
    "duration": 16,
    "start_time": "2022-11-01T20:28:42.143Z"
   },
   {
    "duration": 15,
    "start_time": "2022-11-01T20:28:42.161Z"
   },
   {
    "duration": 45,
    "start_time": "2022-11-01T20:28:42.179Z"
   },
   {
    "duration": 10,
    "start_time": "2022-11-01T20:28:42.226Z"
   },
   {
    "duration": 23,
    "start_time": "2022-11-01T20:28:42.237Z"
   },
   {
    "duration": 22,
    "start_time": "2022-11-01T20:28:42.262Z"
   },
   {
    "duration": 39,
    "start_time": "2022-11-01T20:28:42.286Z"
   },
   {
    "duration": 6,
    "start_time": "2022-11-01T20:28:42.327Z"
   },
   {
    "duration": 5,
    "start_time": "2022-11-01T20:28:42.335Z"
   },
   {
    "duration": 7,
    "start_time": "2022-11-01T20:28:42.342Z"
   },
   {
    "duration": 5,
    "start_time": "2022-11-01T20:28:42.351Z"
   },
   {
    "duration": 11,
    "start_time": "2022-11-01T20:28:42.358Z"
   },
   {
    "duration": 60,
    "start_time": "2022-11-01T20:28:42.371Z"
   },
   {
    "duration": 5,
    "start_time": "2022-11-01T20:28:42.432Z"
   },
   {
    "duration": 17,
    "start_time": "2022-11-01T20:28:42.439Z"
   },
   {
    "duration": 12,
    "start_time": "2022-11-01T20:28:42.457Z"
   },
   {
    "duration": 213,
    "start_time": "2022-11-01T20:28:42.471Z"
   },
   {
    "duration": 21,
    "start_time": "2022-11-01T20:28:42.686Z"
   },
   {
    "duration": 12,
    "start_time": "2022-11-01T20:28:42.723Z"
   },
   {
    "duration": 339,
    "start_time": "2022-11-01T20:28:42.737Z"
   },
   {
    "duration": 9,
    "start_time": "2022-11-01T20:28:43.078Z"
   },
   {
    "duration": 16,
    "start_time": "2022-11-01T20:28:43.089Z"
   },
   {
    "duration": 453,
    "start_time": "2022-11-01T20:28:43.125Z"
   },
   {
    "duration": 8,
    "start_time": "2022-11-01T20:28:43.580Z"
   },
   {
    "duration": 36,
    "start_time": "2022-11-01T20:28:43.590Z"
   },
   {
    "duration": 16,
    "start_time": "2022-11-01T20:28:43.628Z"
   },
   {
    "duration": 280,
    "start_time": "2022-11-01T20:28:43.646Z"
   },
   {
    "duration": 8,
    "start_time": "2022-11-01T20:28:43.927Z"
   },
   {
    "duration": 337,
    "start_time": "2022-11-01T20:28:43.937Z"
   },
   {
    "duration": 604,
    "start_time": "2022-11-01T20:28:44.279Z"
   },
   {
    "duration": 604,
    "start_time": "2022-11-01T20:28:44.885Z"
   },
   {
    "duration": 16,
    "start_time": "2022-11-01T20:28:45.491Z"
   },
   {
    "duration": 32,
    "start_time": "2022-11-01T20:28:45.509Z"
   },
   {
    "duration": 7,
    "start_time": "2022-11-01T20:28:45.543Z"
   },
   {
    "duration": 10,
    "start_time": "2022-11-01T20:28:45.552Z"
   },
   {
    "duration": 17,
    "start_time": "2022-11-01T20:28:45.563Z"
   },
   {
    "duration": 46,
    "start_time": "2022-11-01T20:28:45.582Z"
   },
   {
    "duration": 27,
    "start_time": "2022-11-01T20:28:45.629Z"
   },
   {
    "duration": 15,
    "start_time": "2022-11-01T20:28:45.658Z"
   },
   {
    "duration": 18,
    "start_time": "2022-11-01T20:28:45.675Z"
   },
   {
    "duration": 38,
    "start_time": "2022-11-01T20:28:45.695Z"
   },
   {
    "duration": 16,
    "start_time": "2022-11-01T20:28:45.735Z"
   },
   {
    "duration": 134,
    "start_time": "2022-11-01T20:28:45.753Z"
   },
   {
    "duration": 8,
    "start_time": "2022-11-01T20:28:45.888Z"
   },
   {
    "duration": 118,
    "start_time": "2022-11-01T20:28:45.898Z"
   },
   {
    "duration": 9,
    "start_time": "2022-11-01T20:28:46.017Z"
   },
   {
    "duration": 124,
    "start_time": "2022-11-01T20:28:46.027Z"
   },
   {
    "duration": 8,
    "start_time": "2022-11-01T20:28:46.152Z"
   },
   {
    "duration": 6,
    "start_time": "2022-11-01T20:28:46.162Z"
   },
   {
    "duration": 12,
    "start_time": "2022-11-01T20:28:46.169Z"
   },
   {
    "duration": 12,
    "start_time": "2022-11-01T20:28:46.183Z"
   },
   {
    "duration": 3,
    "start_time": "2022-11-01T20:52:26.706Z"
   },
   {
    "duration": 65,
    "start_time": "2022-11-01T20:52:26.714Z"
   },
   {
    "duration": 18,
    "start_time": "2022-11-01T20:52:26.782Z"
   },
   {
    "duration": 22,
    "start_time": "2022-11-01T20:52:26.802Z"
   },
   {
    "duration": 14,
    "start_time": "2022-11-01T20:52:26.826Z"
   },
   {
    "duration": 14,
    "start_time": "2022-11-01T20:52:26.842Z"
   },
   {
    "duration": 6,
    "start_time": "2022-11-01T20:52:26.858Z"
   },
   {
    "duration": 6,
    "start_time": "2022-11-01T20:52:26.865Z"
   },
   {
    "duration": 5,
    "start_time": "2022-11-01T20:52:26.872Z"
   },
   {
    "duration": 47,
    "start_time": "2022-11-01T20:52:26.878Z"
   },
   {
    "duration": 14,
    "start_time": "2022-11-01T20:52:26.927Z"
   },
   {
    "duration": 10,
    "start_time": "2022-11-01T20:52:26.943Z"
   },
   {
    "duration": 15,
    "start_time": "2022-11-01T20:52:26.955Z"
   },
   {
    "duration": 15,
    "start_time": "2022-11-01T20:52:26.971Z"
   },
   {
    "duration": 46,
    "start_time": "2022-11-01T20:52:26.989Z"
   },
   {
    "duration": 10,
    "start_time": "2022-11-01T20:52:27.037Z"
   },
   {
    "duration": 22,
    "start_time": "2022-11-01T20:52:27.048Z"
   },
   {
    "duration": 20,
    "start_time": "2022-11-01T20:52:27.072Z"
   },
   {
    "duration": 31,
    "start_time": "2022-11-01T20:52:27.094Z"
   },
   {
    "duration": 6,
    "start_time": "2022-11-01T20:52:27.126Z"
   },
   {
    "duration": 5,
    "start_time": "2022-11-01T20:52:27.134Z"
   },
   {
    "duration": 6,
    "start_time": "2022-11-01T20:52:27.141Z"
   },
   {
    "duration": 5,
    "start_time": "2022-11-01T20:52:27.149Z"
   },
   {
    "duration": 11,
    "start_time": "2022-11-01T20:52:27.156Z"
   },
   {
    "duration": 56,
    "start_time": "2022-11-01T20:52:27.169Z"
   },
   {
    "duration": 6,
    "start_time": "2022-11-01T20:52:27.227Z"
   },
   {
    "duration": 17,
    "start_time": "2022-11-01T20:52:27.235Z"
   },
   {
    "duration": 14,
    "start_time": "2022-11-01T20:52:27.254Z"
   },
   {
    "duration": 207,
    "start_time": "2022-11-01T20:52:27.270Z"
   },
   {
    "duration": 20,
    "start_time": "2022-11-01T20:52:27.479Z"
   },
   {
    "duration": 24,
    "start_time": "2022-11-01T20:52:27.501Z"
   },
   {
    "duration": 325,
    "start_time": "2022-11-01T20:52:27.527Z"
   },
   {
    "duration": 8,
    "start_time": "2022-11-01T20:52:27.853Z"
   },
   {
    "duration": 40,
    "start_time": "2022-11-01T20:52:27.863Z"
   },
   {
    "duration": 441,
    "start_time": "2022-11-01T20:52:27.904Z"
   },
   {
    "duration": 8,
    "start_time": "2022-11-01T20:52:28.347Z"
   },
   {
    "duration": 33,
    "start_time": "2022-11-01T20:52:28.356Z"
   },
   {
    "duration": 29,
    "start_time": "2022-11-01T20:52:28.391Z"
   },
   {
    "duration": 262,
    "start_time": "2022-11-01T20:52:28.421Z"
   },
   {
    "duration": 7,
    "start_time": "2022-11-01T20:52:28.685Z"
   },
   {
    "duration": 340,
    "start_time": "2022-11-01T20:52:28.693Z"
   },
   {
    "duration": 579,
    "start_time": "2022-11-01T20:52:29.037Z"
   },
   {
    "duration": 573,
    "start_time": "2022-11-01T20:52:29.618Z"
   },
   {
    "duration": 16,
    "start_time": "2022-11-01T20:52:30.192Z"
   },
   {
    "duration": 41,
    "start_time": "2022-11-01T20:52:30.210Z"
   },
   {
    "duration": 7,
    "start_time": "2022-11-01T20:52:30.254Z"
   },
   {
    "duration": 46,
    "start_time": "2022-11-01T20:52:30.263Z"
   },
   {
    "duration": 37,
    "start_time": "2022-11-01T20:52:30.311Z"
   },
   {
    "duration": 41,
    "start_time": "2022-11-01T20:52:30.351Z"
   },
   {
    "duration": 29,
    "start_time": "2022-11-01T20:52:30.394Z"
   },
   {
    "duration": 29,
    "start_time": "2022-11-01T20:52:30.425Z"
   },
   {
    "duration": 53,
    "start_time": "2022-11-01T20:52:30.456Z"
   },
   {
    "duration": 32,
    "start_time": "2022-11-01T20:52:30.511Z"
   },
   {
    "duration": 32,
    "start_time": "2022-11-01T20:52:30.545Z"
   },
   {
    "duration": 128,
    "start_time": "2022-11-01T20:52:30.581Z"
   },
   {
    "duration": 7,
    "start_time": "2022-11-01T20:52:30.711Z"
   },
   {
    "duration": 114,
    "start_time": "2022-11-01T20:52:30.724Z"
   },
   {
    "duration": 8,
    "start_time": "2022-11-01T20:52:30.840Z"
   },
   {
    "duration": 127,
    "start_time": "2022-11-01T20:52:30.850Z"
   },
   {
    "duration": 8,
    "start_time": "2022-11-01T20:52:30.979Z"
   },
   {
    "duration": 11,
    "start_time": "2022-11-01T20:52:30.989Z"
   },
   {
    "duration": 30,
    "start_time": "2022-11-01T20:52:31.002Z"
   },
   {
    "duration": 16,
    "start_time": "2022-11-01T20:52:31.034Z"
   },
   {
    "duration": 45,
    "start_time": "2022-11-02T11:58:30.077Z"
   },
   {
    "duration": 1245,
    "start_time": "2022-11-02T11:58:40.139Z"
   },
   {
    "duration": 169,
    "start_time": "2022-11-02T11:58:41.386Z"
   },
   {
    "duration": 18,
    "start_time": "2022-11-02T11:58:41.556Z"
   },
   {
    "duration": 17,
    "start_time": "2022-11-02T11:58:41.576Z"
   },
   {
    "duration": 12,
    "start_time": "2022-11-02T11:58:41.596Z"
   },
   {
    "duration": 15,
    "start_time": "2022-11-02T11:58:41.609Z"
   },
   {
    "duration": 7,
    "start_time": "2022-11-02T11:58:41.626Z"
   },
   {
    "duration": 11,
    "start_time": "2022-11-02T11:58:41.635Z"
   },
   {
    "duration": 16,
    "start_time": "2022-11-02T11:58:41.647Z"
   },
   {
    "duration": 9,
    "start_time": "2022-11-02T11:58:41.665Z"
   },
   {
    "duration": 16,
    "start_time": "2022-11-02T11:58:41.676Z"
   },
   {
    "duration": 17,
    "start_time": "2022-11-02T11:58:41.694Z"
   },
   {
    "duration": 57,
    "start_time": "2022-11-02T11:58:41.712Z"
   },
   {
    "duration": 33,
    "start_time": "2022-11-02T11:58:41.773Z"
   },
   {
    "duration": 13,
    "start_time": "2022-11-02T11:58:41.807Z"
   },
   {
    "duration": 12,
    "start_time": "2022-11-02T11:58:41.822Z"
   },
   {
    "duration": 22,
    "start_time": "2022-11-02T11:58:41.836Z"
   },
   {
    "duration": 19,
    "start_time": "2022-11-02T11:58:41.860Z"
   },
   {
    "duration": 28,
    "start_time": "2022-11-02T11:58:41.881Z"
   },
   {
    "duration": 8,
    "start_time": "2022-11-02T11:58:41.910Z"
   },
   {
    "duration": 7,
    "start_time": "2022-11-02T11:58:41.920Z"
   },
   {
    "duration": 10,
    "start_time": "2022-11-02T11:58:41.928Z"
   },
   {
    "duration": 5,
    "start_time": "2022-11-02T11:58:41.939Z"
   },
   {
    "duration": 13,
    "start_time": "2022-11-02T11:58:41.946Z"
   },
   {
    "duration": 15,
    "start_time": "2022-11-02T11:58:41.961Z"
   },
   {
    "duration": 28,
    "start_time": "2022-11-02T11:58:41.978Z"
   },
   {
    "duration": 13,
    "start_time": "2022-11-02T11:58:42.007Z"
   },
   {
    "duration": 66,
    "start_time": "2022-11-02T11:58:42.022Z"
   },
   {
    "duration": 23,
    "start_time": "2022-11-02T11:58:42.090Z"
   },
   {
    "duration": 193,
    "start_time": "2022-11-02T11:58:42.114Z"
   },
   {
    "duration": 21,
    "start_time": "2022-11-02T11:58:42.309Z"
   },
   {
    "duration": 10,
    "start_time": "2022-11-02T11:58:42.332Z"
   },
   {
    "duration": 310,
    "start_time": "2022-11-02T11:58:42.343Z"
   },
   {
    "duration": 8,
    "start_time": "2022-11-02T11:58:42.655Z"
   },
   {
    "duration": 16,
    "start_time": "2022-11-02T11:58:42.665Z"
   },
   {
    "duration": 307,
    "start_time": "2022-11-02T11:58:42.683Z"
   },
   {
    "duration": 15,
    "start_time": "2022-11-02T11:58:42.992Z"
   },
   {
    "duration": 20,
    "start_time": "2022-11-02T11:58:43.010Z"
   },
   {
    "duration": 16,
    "start_time": "2022-11-02T11:58:43.032Z"
   },
   {
    "duration": 289,
    "start_time": "2022-11-02T11:58:43.050Z"
   },
   {
    "duration": 6,
    "start_time": "2022-11-02T11:58:43.343Z"
   },
   {
    "duration": 384,
    "start_time": "2022-11-02T11:58:43.350Z"
   },
   {
    "duration": 529,
    "start_time": "2022-11-02T11:58:43.735Z"
   },
   {
    "duration": 499,
    "start_time": "2022-11-02T11:58:44.265Z"
   },
   {
    "duration": 14,
    "start_time": "2022-11-02T11:58:44.766Z"
   },
   {
    "duration": 30,
    "start_time": "2022-11-02T11:58:44.782Z"
   },
   {
    "duration": 6,
    "start_time": "2022-11-02T11:58:44.814Z"
   },
   {
    "duration": 12,
    "start_time": "2022-11-02T11:58:44.822Z"
   },
   {
    "duration": 16,
    "start_time": "2022-11-02T11:58:44.835Z"
   },
   {
    "duration": 16,
    "start_time": "2022-11-02T11:58:44.853Z"
   },
   {
    "duration": 13,
    "start_time": "2022-11-02T11:58:44.870Z"
   },
   {
    "duration": 14,
    "start_time": "2022-11-02T11:58:44.906Z"
   },
   {
    "duration": 18,
    "start_time": "2022-11-02T11:58:44.921Z"
   },
   {
    "duration": 13,
    "start_time": "2022-11-02T11:58:44.941Z"
   },
   {
    "duration": 13,
    "start_time": "2022-11-02T11:58:44.955Z"
   },
   {
    "duration": 115,
    "start_time": "2022-11-02T11:58:44.970Z"
   },
   {
    "duration": 6,
    "start_time": "2022-11-02T11:58:45.087Z"
   },
   {
    "duration": 88,
    "start_time": "2022-11-02T11:58:45.104Z"
   },
   {
    "duration": 14,
    "start_time": "2022-11-02T11:58:45.194Z"
   },
   {
    "duration": 106,
    "start_time": "2022-11-02T11:58:45.210Z"
   },
   {
    "duration": 7,
    "start_time": "2022-11-02T11:58:45.318Z"
   },
   {
    "duration": 8,
    "start_time": "2022-11-02T11:58:45.326Z"
   },
   {
    "duration": 11,
    "start_time": "2022-11-02T11:58:45.336Z"
   },
   {
    "duration": 9,
    "start_time": "2022-11-02T11:58:45.349Z"
   },
   {
    "duration": 6,
    "start_time": "2022-11-02T12:05:34.430Z"
   },
   {
    "duration": 11,
    "start_time": "2022-11-02T12:05:59.278Z"
   },
   {
    "duration": 50,
    "start_time": "2022-11-02T15:15:19.558Z"
   },
   {
    "duration": 1295,
    "start_time": "2022-11-02T15:15:23.051Z"
   },
   {
    "duration": 405,
    "start_time": "2022-11-02T15:15:24.349Z"
   },
   {
    "duration": 19,
    "start_time": "2022-11-02T15:15:24.755Z"
   },
   {
    "duration": 15,
    "start_time": "2022-11-02T15:15:24.776Z"
   },
   {
    "duration": 14,
    "start_time": "2022-11-02T15:15:24.793Z"
   },
   {
    "duration": 15,
    "start_time": "2022-11-02T15:15:24.809Z"
   },
   {
    "duration": 11,
    "start_time": "2022-11-02T15:15:24.825Z"
   },
   {
    "duration": 18,
    "start_time": "2022-11-02T15:15:24.837Z"
   },
   {
    "duration": 7,
    "start_time": "2022-11-02T15:15:24.857Z"
   },
   {
    "duration": 26,
    "start_time": "2022-11-02T15:15:24.867Z"
   },
   {
    "duration": 14,
    "start_time": "2022-11-02T15:15:24.895Z"
   },
   {
    "duration": 9,
    "start_time": "2022-11-02T15:15:24.911Z"
   },
   {
    "duration": 71,
    "start_time": "2022-11-02T15:15:24.921Z"
   },
   {
    "duration": 14,
    "start_time": "2022-11-02T15:15:24.993Z"
   },
   {
    "duration": 13,
    "start_time": "2022-11-02T15:15:25.009Z"
   },
   {
    "duration": 15,
    "start_time": "2022-11-02T15:15:25.023Z"
   },
   {
    "duration": 29,
    "start_time": "2022-11-02T15:15:25.040Z"
   },
   {
    "duration": 79,
    "start_time": "2022-11-02T15:15:25.071Z"
   },
   {
    "duration": 0,
    "start_time": "2022-11-02T15:15:25.153Z"
   },
   {
    "duration": 0,
    "start_time": "2022-11-02T15:15:25.154Z"
   },
   {
    "duration": 0,
    "start_time": "2022-11-02T15:15:25.156Z"
   },
   {
    "duration": 0,
    "start_time": "2022-11-02T15:15:25.157Z"
   },
   {
    "duration": 0,
    "start_time": "2022-11-02T15:15:25.158Z"
   },
   {
    "duration": 0,
    "start_time": "2022-11-02T15:15:25.159Z"
   },
   {
    "duration": 0,
    "start_time": "2022-11-02T15:15:25.161Z"
   },
   {
    "duration": 0,
    "start_time": "2022-11-02T15:15:25.162Z"
   },
   {
    "duration": 0,
    "start_time": "2022-11-02T15:15:25.163Z"
   },
   {
    "duration": 0,
    "start_time": "2022-11-02T15:15:25.164Z"
   },
   {
    "duration": 0,
    "start_time": "2022-11-02T15:15:25.164Z"
   },
   {
    "duration": 0,
    "start_time": "2022-11-02T15:15:25.192Z"
   },
   {
    "duration": 0,
    "start_time": "2022-11-02T15:15:25.193Z"
   },
   {
    "duration": 0,
    "start_time": "2022-11-02T15:15:25.194Z"
   },
   {
    "duration": 0,
    "start_time": "2022-11-02T15:15:25.195Z"
   },
   {
    "duration": 0,
    "start_time": "2022-11-02T15:15:25.195Z"
   },
   {
    "duration": 0,
    "start_time": "2022-11-02T15:15:25.196Z"
   },
   {
    "duration": 0,
    "start_time": "2022-11-02T15:15:25.197Z"
   },
   {
    "duration": 0,
    "start_time": "2022-11-02T15:15:25.198Z"
   },
   {
    "duration": 0,
    "start_time": "2022-11-02T15:15:25.199Z"
   },
   {
    "duration": 0,
    "start_time": "2022-11-02T15:15:25.200Z"
   },
   {
    "duration": 0,
    "start_time": "2022-11-02T15:15:25.201Z"
   },
   {
    "duration": 0,
    "start_time": "2022-11-02T15:15:25.202Z"
   },
   {
    "duration": 0,
    "start_time": "2022-11-02T15:15:25.203Z"
   },
   {
    "duration": 0,
    "start_time": "2022-11-02T15:15:25.204Z"
   },
   {
    "duration": 0,
    "start_time": "2022-11-02T15:15:25.205Z"
   },
   {
    "duration": 0,
    "start_time": "2022-11-02T15:15:25.206Z"
   },
   {
    "duration": 0,
    "start_time": "2022-11-02T15:15:25.207Z"
   },
   {
    "duration": 0,
    "start_time": "2022-11-02T15:15:25.208Z"
   },
   {
    "duration": 0,
    "start_time": "2022-11-02T15:15:25.209Z"
   },
   {
    "duration": 0,
    "start_time": "2022-11-02T15:15:25.210Z"
   },
   {
    "duration": 0,
    "start_time": "2022-11-02T15:15:25.211Z"
   },
   {
    "duration": 0,
    "start_time": "2022-11-02T15:15:25.212Z"
   },
   {
    "duration": 0,
    "start_time": "2022-11-02T15:15:25.213Z"
   },
   {
    "duration": 0,
    "start_time": "2022-11-02T15:15:25.214Z"
   },
   {
    "duration": 0,
    "start_time": "2022-11-02T15:15:25.215Z"
   },
   {
    "duration": 0,
    "start_time": "2022-11-02T15:15:25.216Z"
   },
   {
    "duration": 0,
    "start_time": "2022-11-02T15:15:25.217Z"
   },
   {
    "duration": 0,
    "start_time": "2022-11-02T15:15:25.218Z"
   },
   {
    "duration": 0,
    "start_time": "2022-11-02T15:15:25.219Z"
   },
   {
    "duration": 0,
    "start_time": "2022-11-02T15:15:25.220Z"
   },
   {
    "duration": 0,
    "start_time": "2022-11-02T15:15:25.221Z"
   },
   {
    "duration": 0,
    "start_time": "2022-11-02T15:15:25.222Z"
   },
   {
    "duration": 0,
    "start_time": "2022-11-02T15:15:25.223Z"
   },
   {
    "duration": 0,
    "start_time": "2022-11-02T15:15:25.224Z"
   },
   {
    "duration": 0,
    "start_time": "2022-11-02T15:15:25.225Z"
   },
   {
    "duration": 0,
    "start_time": "2022-11-02T15:15:25.226Z"
   },
   {
    "duration": 0,
    "start_time": "2022-11-02T15:15:25.227Z"
   },
   {
    "duration": 15,
    "start_time": "2022-11-02T15:16:35.695Z"
   },
   {
    "duration": 7,
    "start_time": "2022-11-02T15:17:00.936Z"
   },
   {
    "duration": 21,
    "start_time": "2022-11-02T15:17:06.365Z"
   },
   {
    "duration": 5,
    "start_time": "2022-11-02T15:17:06.388Z"
   },
   {
    "duration": 8,
    "start_time": "2022-11-02T15:17:06.394Z"
   },
   {
    "duration": 9,
    "start_time": "2022-11-02T15:17:06.404Z"
   },
   {
    "duration": 6,
    "start_time": "2022-11-02T15:17:06.414Z"
   },
   {
    "duration": 9,
    "start_time": "2022-11-02T15:17:06.422Z"
   },
   {
    "duration": 17,
    "start_time": "2022-11-02T15:17:06.433Z"
   },
   {
    "duration": 47,
    "start_time": "2022-11-02T15:17:06.452Z"
   },
   {
    "duration": 7,
    "start_time": "2022-11-02T15:17:06.500Z"
   },
   {
    "duration": 19,
    "start_time": "2022-11-02T15:17:06.511Z"
   },
   {
    "duration": 96,
    "start_time": "2022-11-02T15:17:06.532Z"
   },
   {
    "duration": 12,
    "start_time": "2022-11-02T15:17:06.631Z"
   },
   {
    "duration": 305,
    "start_time": "2022-11-02T15:17:06.647Z"
   },
   {
    "duration": 38,
    "start_time": "2022-11-02T15:17:06.954Z"
   },
   {
    "duration": 12,
    "start_time": "2022-11-02T15:17:06.994Z"
   },
   {
    "duration": 320,
    "start_time": "2022-11-02T15:17:07.008Z"
   },
   {
    "duration": 11,
    "start_time": "2022-11-02T15:17:07.330Z"
   },
   {
    "duration": 23,
    "start_time": "2022-11-02T15:17:07.342Z"
   },
   {
    "duration": 303,
    "start_time": "2022-11-02T15:17:07.367Z"
   },
   {
    "duration": 11,
    "start_time": "2022-11-02T15:17:07.671Z"
   },
   {
    "duration": 18,
    "start_time": "2022-11-02T15:17:07.692Z"
   },
   {
    "duration": 17,
    "start_time": "2022-11-02T15:17:07.712Z"
   },
   {
    "duration": 283,
    "start_time": "2022-11-02T15:17:07.731Z"
   },
   {
    "duration": 9,
    "start_time": "2022-11-02T15:17:08.016Z"
   },
   {
    "duration": 30,
    "start_time": "2022-11-02T15:17:08.027Z"
   },
   {
    "duration": 394,
    "start_time": "2022-11-02T15:17:08.059Z"
   },
   {
    "duration": 598,
    "start_time": "2022-11-02T15:17:08.454Z"
   },
   {
    "duration": 580,
    "start_time": "2022-11-02T15:17:09.056Z"
   },
   {
    "duration": 21,
    "start_time": "2022-11-02T15:17:09.637Z"
   },
   {
    "duration": 38,
    "start_time": "2022-11-02T15:17:09.660Z"
   },
   {
    "duration": 8,
    "start_time": "2022-11-02T15:17:09.701Z"
   },
   {
    "duration": 13,
    "start_time": "2022-11-02T15:17:09.711Z"
   },
   {
    "duration": 18,
    "start_time": "2022-11-02T15:17:09.726Z"
   },
   {
    "duration": 16,
    "start_time": "2022-11-02T15:17:09.746Z"
   },
   {
    "duration": 40,
    "start_time": "2022-11-02T15:17:09.763Z"
   },
   {
    "duration": 27,
    "start_time": "2022-11-02T15:17:09.805Z"
   },
   {
    "duration": 15,
    "start_time": "2022-11-02T15:17:09.834Z"
   },
   {
    "duration": 19,
    "start_time": "2022-11-02T15:17:09.851Z"
   },
   {
    "duration": 27,
    "start_time": "2022-11-02T15:17:09.871Z"
   },
   {
    "duration": 110,
    "start_time": "2022-11-02T15:17:09.899Z"
   },
   {
    "duration": 8,
    "start_time": "2022-11-02T15:17:10.011Z"
   },
   {
    "duration": 120,
    "start_time": "2022-11-02T15:17:10.020Z"
   },
   {
    "duration": 8,
    "start_time": "2022-11-02T15:17:10.142Z"
   },
   {
    "duration": 123,
    "start_time": "2022-11-02T15:17:10.151Z"
   },
   {
    "duration": 16,
    "start_time": "2022-11-02T15:17:10.276Z"
   },
   {
    "duration": 11,
    "start_time": "2022-11-02T15:17:10.293Z"
   },
   {
    "duration": 12,
    "start_time": "2022-11-02T15:17:10.306Z"
   },
   {
    "duration": 16,
    "start_time": "2022-11-02T15:17:10.320Z"
   },
   {
    "duration": 192,
    "start_time": "2022-11-02T15:20:45.249Z"
   },
   {
    "duration": 186,
    "start_time": "2022-11-02T15:21:16.236Z"
   },
   {
    "duration": 317,
    "start_time": "2022-11-02T15:22:34.987Z"
   },
   {
    "duration": 368,
    "start_time": "2022-11-02T15:22:52.234Z"
   },
   {
    "duration": 28,
    "start_time": "2022-11-02T15:33:16.112Z"
   },
   {
    "duration": 19,
    "start_time": "2022-11-02T15:33:31.778Z"
   },
   {
    "duration": 8,
    "start_time": "2022-11-02T15:33:40.920Z"
   },
   {
    "duration": 289,
    "start_time": "2022-11-02T15:34:51.560Z"
   },
   {
    "duration": 295,
    "start_time": "2022-11-02T15:35:00.833Z"
   },
   {
    "duration": 473,
    "start_time": "2022-11-02T15:35:26.618Z"
   },
   {
    "duration": 429,
    "start_time": "2022-11-02T15:35:42.074Z"
   },
   {
    "duration": 450,
    "start_time": "2022-11-02T15:36:02.394Z"
   },
   {
    "duration": 543,
    "start_time": "2022-11-02T15:36:27.954Z"
   },
   {
    "duration": 571,
    "start_time": "2022-11-02T15:38:09.490Z"
   },
   {
    "duration": 534,
    "start_time": "2022-11-02T15:38:18.676Z"
   },
   {
    "duration": 483,
    "start_time": "2022-11-02T15:40:19.397Z"
   },
   {
    "duration": 454,
    "start_time": "2022-11-02T15:40:27.252Z"
   },
   {
    "duration": 581,
    "start_time": "2022-11-02T15:40:37.765Z"
   },
   {
    "duration": 319,
    "start_time": "2022-11-02T15:57:43.126Z"
   },
   {
    "duration": 146,
    "start_time": "2022-11-02T15:58:16.526Z"
   },
   {
    "duration": 279,
    "start_time": "2022-11-02T15:58:43.766Z"
   },
   {
    "duration": 74,
    "start_time": "2022-11-02T16:09:13.628Z"
   },
   {
    "duration": 509,
    "start_time": "2022-11-02T16:09:24.027Z"
   },
   {
    "duration": 329,
    "start_time": "2022-11-02T16:11:07.677Z"
   },
   {
    "duration": 321,
    "start_time": "2022-11-02T16:11:46.733Z"
   },
   {
    "duration": 337,
    "start_time": "2022-11-02T16:11:50.533Z"
   },
   {
    "duration": 393,
    "start_time": "2022-11-02T16:11:55.821Z"
   },
   {
    "duration": 410,
    "start_time": "2022-11-02T16:12:07.798Z"
   },
   {
    "duration": 19,
    "start_time": "2022-11-02T16:13:37.231Z"
   },
   {
    "duration": 301,
    "start_time": "2022-11-02T16:13:55.766Z"
   },
   {
    "duration": 314,
    "start_time": "2022-11-02T16:14:09.111Z"
   },
   {
    "duration": 21,
    "start_time": "2022-11-02T16:16:43.912Z"
   },
   {
    "duration": 312,
    "start_time": "2022-11-02T16:16:58.816Z"
   },
   {
    "duration": 75,
    "start_time": "2022-11-02T16:25:30.981Z"
   },
   {
    "duration": 347,
    "start_time": "2022-11-02T16:25:50.092Z"
   },
   {
    "duration": 424,
    "start_time": "2022-11-02T16:26:03.421Z"
   },
   {
    "duration": 249,
    "start_time": "2022-11-02T16:26:17.812Z"
   },
   {
    "duration": 406,
    "start_time": "2022-11-02T16:26:34.148Z"
   },
   {
    "duration": 226,
    "start_time": "2022-11-02T16:26:46.141Z"
   },
   {
    "duration": 232,
    "start_time": "2022-11-02T16:27:54.918Z"
   },
   {
    "duration": 250,
    "start_time": "2022-11-02T16:28:18.662Z"
   },
   {
    "duration": 249,
    "start_time": "2022-11-02T16:28:26.853Z"
   },
   {
    "duration": 258,
    "start_time": "2022-11-02T16:28:30.853Z"
   },
   {
    "duration": 262,
    "start_time": "2022-11-02T16:28:36.021Z"
   },
   {
    "duration": 379,
    "start_time": "2022-11-02T16:28:40.719Z"
   },
   {
    "duration": 284,
    "start_time": "2022-11-02T16:28:49.325Z"
   },
   {
    "duration": 263,
    "start_time": "2022-11-02T16:29:16.247Z"
   },
   {
    "duration": 296,
    "start_time": "2022-11-02T16:29:28.390Z"
   },
   {
    "duration": 258,
    "start_time": "2022-11-02T16:29:45.262Z"
   },
   {
    "duration": 677,
    "start_time": "2022-11-02T16:29:49.807Z"
   },
   {
    "duration": 381,
    "start_time": "2022-11-02T16:29:54.063Z"
   },
   {
    "duration": 288,
    "start_time": "2022-11-02T16:30:24.447Z"
   },
   {
    "duration": 274,
    "start_time": "2022-11-02T16:30:43.983Z"
   },
   {
    "duration": 271,
    "start_time": "2022-11-02T16:30:48.216Z"
   },
   {
    "duration": 299,
    "start_time": "2022-11-02T16:31:59.361Z"
   },
   {
    "duration": 634,
    "start_time": "2022-11-02T16:32:14.960Z"
   },
   {
    "duration": 283,
    "start_time": "2022-11-02T16:32:24.522Z"
   },
   {
    "duration": 607,
    "start_time": "2022-11-02T16:32:29.777Z"
   },
   {
    "duration": 505,
    "start_time": "2022-11-02T16:32:35.848Z"
   },
   {
    "duration": 746,
    "start_time": "2022-11-02T16:32:40.984Z"
   },
   {
    "duration": 392,
    "start_time": "2022-11-02T16:32:47.904Z"
   },
   {
    "duration": 286,
    "start_time": "2022-11-02T16:33:51.345Z"
   },
   {
    "duration": 319,
    "start_time": "2022-11-02T16:34:05.201Z"
   },
   {
    "duration": 293,
    "start_time": "2022-11-02T16:34:14.105Z"
   },
   {
    "duration": 218,
    "start_time": "2022-11-02T16:36:56.962Z"
   },
   {
    "duration": 306,
    "start_time": "2022-11-02T16:37:16.171Z"
   },
   {
    "duration": 405,
    "start_time": "2022-11-02T16:37:25.653Z"
   },
   {
    "duration": 82,
    "start_time": "2022-11-02T16:37:30.923Z"
   },
   {
    "duration": 272,
    "start_time": "2022-11-02T16:37:36.122Z"
   },
   {
    "duration": 289,
    "start_time": "2022-11-02T16:40:38.565Z"
   },
   {
    "duration": 296,
    "start_time": "2022-11-02T16:41:16.181Z"
   },
   {
    "duration": 320,
    "start_time": "2022-11-02T16:41:31.646Z"
   },
   {
    "duration": 333,
    "start_time": "2022-11-02T16:42:28.318Z"
   },
   {
    "duration": 429,
    "start_time": "2022-11-02T16:42:46.926Z"
   },
   {
    "duration": 324,
    "start_time": "2022-11-02T16:42:57.779Z"
   },
   {
    "duration": 327,
    "start_time": "2022-11-02T16:43:15.126Z"
   },
   {
    "duration": 300,
    "start_time": "2022-11-02T16:43:26.958Z"
   },
   {
    "duration": 295,
    "start_time": "2022-11-02T16:44:31.903Z"
   },
   {
    "duration": 300,
    "start_time": "2022-11-02T16:44:58.608Z"
   },
   {
    "duration": 399,
    "start_time": "2022-11-02T16:45:08.231Z"
   },
   {
    "duration": 319,
    "start_time": "2022-11-02T16:46:13.439Z"
   },
   {
    "duration": 318,
    "start_time": "2022-11-02T16:46:22.239Z"
   },
   {
    "duration": 305,
    "start_time": "2022-11-02T16:46:35.920Z"
   },
   {
    "duration": 314,
    "start_time": "2022-11-02T16:46:45.296Z"
   },
   {
    "duration": 318,
    "start_time": "2022-11-02T16:50:13.449Z"
   },
   {
    "duration": 749,
    "start_time": "2022-11-02T17:01:35.016Z"
   },
   {
    "duration": 4,
    "start_time": "2022-11-02T17:06:42.980Z"
   },
   {
    "duration": 310,
    "start_time": "2022-11-02T17:07:01.883Z"
   },
   {
    "duration": 314,
    "start_time": "2022-11-02T17:10:16.861Z"
   },
   {
    "duration": 313,
    "start_time": "2022-11-02T17:10:42.901Z"
   },
   {
    "duration": 333,
    "start_time": "2022-11-02T17:13:17.431Z"
   },
   {
    "duration": 459,
    "start_time": "2022-11-02T17:13:56.527Z"
   },
   {
    "duration": 318,
    "start_time": "2022-11-02T17:14:15.625Z"
   },
   {
    "duration": 75,
    "start_time": "2022-11-02T17:16:38.832Z"
   },
   {
    "duration": 352,
    "start_time": "2022-11-02T17:16:46.480Z"
   },
   {
    "duration": 320,
    "start_time": "2022-11-02T17:17:13.920Z"
   },
   {
    "duration": 310,
    "start_time": "2022-11-02T17:17:23.593Z"
   },
   {
    "duration": 355,
    "start_time": "2022-11-02T17:17:42.089Z"
   },
   {
    "duration": 431,
    "start_time": "2022-11-02T17:17:48.681Z"
   },
   {
    "duration": 318,
    "start_time": "2022-11-02T17:20:29.506Z"
   },
   {
    "duration": 122,
    "start_time": "2022-11-02T17:32:02.048Z"
   },
   {
    "duration": 134,
    "start_time": "2022-11-02T17:32:53.850Z"
   },
   {
    "duration": 6,
    "start_time": "2022-11-02T17:33:14.444Z"
   },
   {
    "duration": 66,
    "start_time": "2022-11-02T17:33:14.454Z"
   },
   {
    "duration": 14,
    "start_time": "2022-11-02T17:33:14.521Z"
   },
   {
    "duration": 19,
    "start_time": "2022-11-02T17:33:14.537Z"
   },
   {
    "duration": 38,
    "start_time": "2022-11-02T17:33:14.558Z"
   },
   {
    "duration": 14,
    "start_time": "2022-11-02T17:33:14.598Z"
   },
   {
    "duration": 8,
    "start_time": "2022-11-02T17:33:14.614Z"
   },
   {
    "duration": 8,
    "start_time": "2022-11-02T17:33:14.624Z"
   },
   {
    "duration": 6,
    "start_time": "2022-11-02T17:33:14.634Z"
   },
   {
    "duration": 11,
    "start_time": "2022-11-02T17:33:14.644Z"
   },
   {
    "duration": 54,
    "start_time": "2022-11-02T17:33:14.657Z"
   },
   {
    "duration": 15,
    "start_time": "2022-11-02T17:33:14.713Z"
   },
   {
    "duration": 23,
    "start_time": "2022-11-02T17:33:14.730Z"
   },
   {
    "duration": 49,
    "start_time": "2022-11-02T17:33:14.755Z"
   },
   {
    "duration": 22,
    "start_time": "2022-11-02T17:33:14.806Z"
   },
   {
    "duration": 8,
    "start_time": "2022-11-02T17:33:14.830Z"
   },
   {
    "duration": 21,
    "start_time": "2022-11-02T17:33:14.839Z"
   },
   {
    "duration": 33,
    "start_time": "2022-11-02T17:33:14.862Z"
   },
   {
    "duration": 24,
    "start_time": "2022-11-02T17:33:14.897Z"
   },
   {
    "duration": 5,
    "start_time": "2022-11-02T17:33:14.922Z"
   },
   {
    "duration": 6,
    "start_time": "2022-11-02T17:33:14.929Z"
   },
   {
    "duration": 4,
    "start_time": "2022-11-02T17:33:14.937Z"
   },
   {
    "duration": 7,
    "start_time": "2022-11-02T17:33:14.942Z"
   },
   {
    "duration": 5,
    "start_time": "2022-11-02T17:33:14.951Z"
   },
   {
    "duration": 35,
    "start_time": "2022-11-02T17:33:14.957Z"
   },
   {
    "duration": 17,
    "start_time": "2022-11-02T17:33:14.994Z"
   },
   {
    "duration": 32,
    "start_time": "2022-11-02T17:33:15.012Z"
   },
   {
    "duration": 27,
    "start_time": "2022-11-02T17:33:15.051Z"
   },
   {
    "duration": 83,
    "start_time": "2022-11-02T17:33:15.080Z"
   },
   {
    "duration": 9,
    "start_time": "2022-11-02T17:33:15.165Z"
   },
   {
    "duration": 197,
    "start_time": "2022-11-02T17:33:15.176Z"
   },
   {
    "duration": 27,
    "start_time": "2022-11-02T17:33:15.375Z"
   },
   {
    "duration": 9,
    "start_time": "2022-11-02T17:33:15.404Z"
   },
   {
    "duration": 317,
    "start_time": "2022-11-02T17:33:15.415Z"
   },
   {
    "duration": 8,
    "start_time": "2022-11-02T17:33:15.733Z"
   },
   {
    "duration": 16,
    "start_time": "2022-11-02T17:33:15.742Z"
   },
   {
    "duration": 277,
    "start_time": "2022-11-02T17:33:15.759Z"
   },
   {
    "duration": 8,
    "start_time": "2022-11-02T17:33:16.037Z"
   },
   {
    "duration": 18,
    "start_time": "2022-11-02T17:33:16.046Z"
   },
   {
    "duration": 33,
    "start_time": "2022-11-02T17:33:16.066Z"
   },
   {
    "duration": 337,
    "start_time": "2022-11-02T17:33:16.101Z"
   },
   {
    "duration": 9,
    "start_time": "2022-11-02T17:33:16.440Z"
   },
   {
    "duration": 15,
    "start_time": "2022-11-02T17:33:16.451Z"
   },
   {
    "duration": 388,
    "start_time": "2022-11-02T17:33:16.468Z"
   },
   {
    "duration": 567,
    "start_time": "2022-11-02T17:33:16.858Z"
   },
   {
    "duration": 538,
    "start_time": "2022-11-02T17:33:17.427Z"
   },
   {
    "duration": 24,
    "start_time": "2022-11-02T17:33:17.967Z"
   },
   {
    "duration": 17,
    "start_time": "2022-11-02T17:33:17.992Z"
   },
   {
    "duration": 270,
    "start_time": "2022-11-02T17:33:18.011Z"
   },
   {
    "duration": 8,
    "start_time": "2022-11-02T17:33:18.291Z"
   },
   {
    "duration": 16,
    "start_time": "2022-11-02T17:33:18.300Z"
   },
   {
    "duration": 27,
    "start_time": "2022-11-02T17:33:18.318Z"
   },
   {
    "duration": 16,
    "start_time": "2022-11-02T17:33:18.347Z"
   },
   {
    "duration": 37,
    "start_time": "2022-11-02T17:33:18.365Z"
   },
   {
    "duration": 15,
    "start_time": "2022-11-02T17:33:18.404Z"
   },
   {
    "duration": 337,
    "start_time": "2022-11-02T17:33:18.421Z"
   },
   {
    "duration": 15,
    "start_time": "2022-11-02T17:33:18.760Z"
   },
   {
    "duration": 26,
    "start_time": "2022-11-02T17:33:18.777Z"
   },
   {
    "duration": 15,
    "start_time": "2022-11-02T17:33:18.804Z"
   },
   {
    "duration": 438,
    "start_time": "2022-11-02T17:33:18.821Z"
   },
   {
    "duration": 103,
    "start_time": "2022-11-02T17:33:19.261Z"
   },
   {
    "duration": 7,
    "start_time": "2022-11-02T17:33:19.365Z"
   },
   {
    "duration": 119,
    "start_time": "2022-11-02T17:33:19.374Z"
   },
   {
    "duration": 7,
    "start_time": "2022-11-02T17:33:19.495Z"
   },
   {
    "duration": 120,
    "start_time": "2022-11-02T17:33:19.503Z"
   },
   {
    "duration": 8,
    "start_time": "2022-11-02T17:33:19.625Z"
   },
   {
    "duration": 6,
    "start_time": "2022-11-02T17:33:19.635Z"
   },
   {
    "duration": 15,
    "start_time": "2022-11-02T17:33:19.643Z"
   },
   {
    "duration": 36,
    "start_time": "2022-11-02T17:33:19.660Z"
   },
   {
    "duration": 126,
    "start_time": "2022-11-02T17:33:58.658Z"
   },
   {
    "duration": 3,
    "start_time": "2022-11-02T17:34:08.003Z"
   },
   {
    "duration": 47,
    "start_time": "2022-11-02T17:34:08.011Z"
   },
   {
    "duration": 15,
    "start_time": "2022-11-02T17:34:08.060Z"
   },
   {
    "duration": 20,
    "start_time": "2022-11-02T17:34:08.077Z"
   },
   {
    "duration": 12,
    "start_time": "2022-11-02T17:34:08.099Z"
   },
   {
    "duration": 14,
    "start_time": "2022-11-02T17:34:08.113Z"
   },
   {
    "duration": 9,
    "start_time": "2022-11-02T17:34:08.128Z"
   },
   {
    "duration": 6,
    "start_time": "2022-11-02T17:34:08.138Z"
   },
   {
    "duration": 5,
    "start_time": "2022-11-02T17:34:08.145Z"
   },
   {
    "duration": 42,
    "start_time": "2022-11-02T17:34:08.152Z"
   },
   {
    "duration": 13,
    "start_time": "2022-11-02T17:34:08.195Z"
   },
   {
    "duration": 8,
    "start_time": "2022-11-02T17:34:08.210Z"
   },
   {
    "duration": 15,
    "start_time": "2022-11-02T17:34:08.220Z"
   },
   {
    "duration": 22,
    "start_time": "2022-11-02T17:34:08.237Z"
   },
   {
    "duration": 13,
    "start_time": "2022-11-02T17:34:08.290Z"
   },
   {
    "duration": 9,
    "start_time": "2022-11-02T17:34:08.304Z"
   },
   {
    "duration": 22,
    "start_time": "2022-11-02T17:34:08.314Z"
   },
   {
    "duration": 6,
    "start_time": "2022-11-02T17:34:08.338Z"
   },
   {
    "duration": 46,
    "start_time": "2022-11-02T17:34:08.346Z"
   },
   {
    "duration": 6,
    "start_time": "2022-11-02T17:34:08.394Z"
   },
   {
    "duration": 6,
    "start_time": "2022-11-02T17:34:08.401Z"
   },
   {
    "duration": 4,
    "start_time": "2022-11-02T17:34:08.409Z"
   },
   {
    "duration": 8,
    "start_time": "2022-11-02T17:34:08.415Z"
   },
   {
    "duration": 8,
    "start_time": "2022-11-02T17:34:08.427Z"
   },
   {
    "duration": 19,
    "start_time": "2022-11-02T17:34:08.437Z"
   },
   {
    "duration": 47,
    "start_time": "2022-11-02T17:34:08.457Z"
   },
   {
    "duration": 7,
    "start_time": "2022-11-02T17:34:08.506Z"
   },
   {
    "duration": 19,
    "start_time": "2022-11-02T17:34:08.514Z"
   },
   {
    "duration": 96,
    "start_time": "2022-11-02T17:34:08.535Z"
   },
   {
    "duration": 11,
    "start_time": "2022-11-02T17:34:08.633Z"
   },
   {
    "duration": 203,
    "start_time": "2022-11-02T17:34:08.646Z"
   },
   {
    "duration": 19,
    "start_time": "2022-11-02T17:34:08.851Z"
   },
   {
    "duration": 21,
    "start_time": "2022-11-02T17:34:08.872Z"
   },
   {
    "duration": 297,
    "start_time": "2022-11-02T17:34:08.895Z"
   },
   {
    "duration": 8,
    "start_time": "2022-11-02T17:34:09.193Z"
   },
   {
    "duration": 16,
    "start_time": "2022-11-02T17:34:09.203Z"
   },
   {
    "duration": 284,
    "start_time": "2022-11-02T17:34:09.221Z"
   },
   {
    "duration": 8,
    "start_time": "2022-11-02T17:34:09.507Z"
   },
   {
    "duration": 19,
    "start_time": "2022-11-02T17:34:09.517Z"
   },
   {
    "duration": 15,
    "start_time": "2022-11-02T17:34:09.538Z"
   },
   {
    "duration": 381,
    "start_time": "2022-11-02T17:34:09.554Z"
   },
   {
    "duration": 9,
    "start_time": "2022-11-02T17:34:09.938Z"
   },
   {
    "duration": 12,
    "start_time": "2022-11-02T17:34:09.949Z"
   },
   {
    "duration": 306,
    "start_time": "2022-11-02T17:34:09.963Z"
   },
   {
    "duration": 524,
    "start_time": "2022-11-02T17:34:10.271Z"
   },
   {
    "duration": 519,
    "start_time": "2022-11-02T17:34:10.797Z"
   },
   {
    "duration": 17,
    "start_time": "2022-11-02T17:34:11.318Z"
   },
   {
    "duration": 18,
    "start_time": "2022-11-02T17:34:11.337Z"
   },
   {
    "duration": 276,
    "start_time": "2022-11-02T17:34:16.305Z"
   },
   {
    "duration": 254,
    "start_time": "2022-11-02T17:34:30.929Z"
   },
   {
    "duration": 378,
    "start_time": "2022-11-02T17:35:01.562Z"
   },
   {
    "duration": 136,
    "start_time": "2022-11-02T17:35:37.833Z"
   },
   {
    "duration": 278,
    "start_time": "2022-11-02T17:35:44.753Z"
   },
   {
    "duration": 15,
    "start_time": "2022-11-02T17:36:26.562Z"
   },
   {
    "duration": 3,
    "start_time": "2022-11-02T18:17:41.041Z"
   },
   {
    "duration": 51,
    "start_time": "2022-11-02T18:17:41.049Z"
   },
   {
    "duration": 15,
    "start_time": "2022-11-02T18:17:41.102Z"
   },
   {
    "duration": 24,
    "start_time": "2022-11-02T18:17:41.119Z"
   },
   {
    "duration": 14,
    "start_time": "2022-11-02T18:17:41.145Z"
   },
   {
    "duration": 36,
    "start_time": "2022-11-02T18:17:41.161Z"
   },
   {
    "duration": 9,
    "start_time": "2022-11-02T18:17:41.199Z"
   },
   {
    "duration": 8,
    "start_time": "2022-11-02T18:17:41.210Z"
   },
   {
    "duration": 6,
    "start_time": "2022-11-02T18:17:41.220Z"
   },
   {
    "duration": 13,
    "start_time": "2022-11-02T18:17:41.228Z"
   },
   {
    "duration": 52,
    "start_time": "2022-11-02T18:17:41.243Z"
   },
   {
    "duration": 11,
    "start_time": "2022-11-02T18:17:41.296Z"
   },
   {
    "duration": 20,
    "start_time": "2022-11-02T18:17:41.309Z"
   },
   {
    "duration": 15,
    "start_time": "2022-11-02T18:17:41.331Z"
   },
   {
    "duration": 54,
    "start_time": "2022-11-02T18:17:41.349Z"
   },
   {
    "duration": 13,
    "start_time": "2022-11-02T18:17:41.405Z"
   },
   {
    "duration": 24,
    "start_time": "2022-11-02T18:17:41.420Z"
   },
   {
    "duration": 8,
    "start_time": "2022-11-02T18:17:41.446Z"
   },
   {
    "duration": 48,
    "start_time": "2022-11-02T18:17:41.456Z"
   },
   {
    "duration": 6,
    "start_time": "2022-11-02T18:17:41.506Z"
   },
   {
    "duration": 9,
    "start_time": "2022-11-02T18:17:41.513Z"
   },
   {
    "duration": 4,
    "start_time": "2022-11-02T18:17:41.524Z"
   },
   {
    "duration": 8,
    "start_time": "2022-11-02T18:17:41.530Z"
   },
   {
    "duration": 6,
    "start_time": "2022-11-02T18:17:41.539Z"
   },
   {
    "duration": 47,
    "start_time": "2022-11-02T18:17:41.546Z"
   },
   {
    "duration": 21,
    "start_time": "2022-11-02T18:17:41.595Z"
   },
   {
    "duration": 6,
    "start_time": "2022-11-02T18:17:41.618Z"
   },
   {
    "duration": 18,
    "start_time": "2022-11-02T18:17:41.625Z"
   },
   {
    "duration": 113,
    "start_time": "2022-11-02T18:17:41.645Z"
   },
   {
    "duration": 13,
    "start_time": "2022-11-02T18:17:41.760Z"
   },
   {
    "duration": 199,
    "start_time": "2022-11-02T18:17:41.792Z"
   },
   {
    "duration": 20,
    "start_time": "2022-11-02T18:17:41.993Z"
   },
   {
    "duration": 11,
    "start_time": "2022-11-02T18:17:42.015Z"
   },
   {
    "duration": 336,
    "start_time": "2022-11-02T18:17:42.028Z"
   },
   {
    "duration": 7,
    "start_time": "2022-11-02T18:17:42.366Z"
   },
   {
    "duration": 28,
    "start_time": "2022-11-02T18:17:42.375Z"
   },
   {
    "duration": 300,
    "start_time": "2022-11-02T18:17:42.405Z"
   },
   {
    "duration": 7,
    "start_time": "2022-11-02T18:17:42.707Z"
   },
   {
    "duration": 29,
    "start_time": "2022-11-02T18:17:42.716Z"
   },
   {
    "duration": 16,
    "start_time": "2022-11-02T18:17:42.747Z"
   },
   {
    "duration": 383,
    "start_time": "2022-11-02T18:17:42.765Z"
   },
   {
    "duration": 12,
    "start_time": "2022-11-02T18:17:43.154Z"
   },
   {
    "duration": 23,
    "start_time": "2022-11-02T18:17:43.168Z"
   },
   {
    "duration": 323,
    "start_time": "2022-11-02T18:17:43.193Z"
   },
   {
    "duration": 567,
    "start_time": "2022-11-02T18:17:43.518Z"
   },
   {
    "duration": 571,
    "start_time": "2022-11-02T18:17:44.090Z"
   },
   {
    "duration": 292,
    "start_time": "2022-11-02T18:17:44.663Z"
   },
   {
    "duration": 18,
    "start_time": "2022-11-02T18:17:44.957Z"
   },
   {
    "duration": 25,
    "start_time": "2022-11-02T18:17:44.977Z"
   },
   {
    "duration": 29,
    "start_time": "2022-11-02T18:17:45.004Z"
   },
   {
    "duration": 16,
    "start_time": "2022-11-02T18:17:45.035Z"
   },
   {
    "duration": 13,
    "start_time": "2022-11-02T18:17:45.053Z"
   },
   {
    "duration": 310,
    "start_time": "2022-11-02T18:17:45.068Z"
   },
   {
    "duration": 22,
    "start_time": "2022-11-02T18:17:45.379Z"
   },
   {
    "duration": 13,
    "start_time": "2022-11-02T18:17:45.402Z"
   },
   {
    "duration": 17,
    "start_time": "2022-11-02T18:17:45.417Z"
   },
   {
    "duration": 430,
    "start_time": "2022-11-02T18:17:45.435Z"
   },
   {
    "duration": 101,
    "start_time": "2022-11-02T18:17:45.867Z"
   },
   {
    "duration": 8,
    "start_time": "2022-11-02T18:17:45.969Z"
   },
   {
    "duration": 113,
    "start_time": "2022-11-02T18:17:45.978Z"
   },
   {
    "duration": 8,
    "start_time": "2022-11-02T18:17:46.092Z"
   },
   {
    "duration": 108,
    "start_time": "2022-11-02T18:17:46.101Z"
   },
   {
    "duration": 7,
    "start_time": "2022-11-02T18:17:46.210Z"
   },
   {
    "duration": 7,
    "start_time": "2022-11-02T18:17:46.219Z"
   },
   {
    "duration": 12,
    "start_time": "2022-11-02T18:17:46.227Z"
   },
   {
    "duration": 10,
    "start_time": "2022-11-02T18:17:46.241Z"
   },
   {
    "duration": 246,
    "start_time": "2022-11-02T18:20:09.105Z"
   },
   {
    "duration": 281,
    "start_time": "2022-11-02T18:21:18.942Z"
   },
   {
    "duration": 19,
    "start_time": "2022-11-02T18:22:23.932Z"
   },
   {
    "duration": 98,
    "start_time": "2022-11-02T18:22:39.370Z"
   },
   {
    "duration": 96,
    "start_time": "2022-11-02T18:23:00.779Z"
   },
   {
    "duration": 97,
    "start_time": "2022-11-02T18:23:18.835Z"
   },
   {
    "duration": 96,
    "start_time": "2022-11-02T18:23:31.307Z"
   },
   {
    "duration": 1058,
    "start_time": "2022-11-03T00:58:54.908Z"
   },
   {
    "duration": 50,
    "start_time": "2022-11-03T00:58:55.968Z"
   },
   {
    "duration": 17,
    "start_time": "2022-11-03T00:58:56.019Z"
   },
   {
    "duration": 15,
    "start_time": "2022-11-03T00:58:56.037Z"
   },
   {
    "duration": 11,
    "start_time": "2022-11-03T00:58:56.053Z"
   },
   {
    "duration": 13,
    "start_time": "2022-11-03T00:58:56.066Z"
   },
   {
    "duration": 26,
    "start_time": "2022-11-03T00:58:56.080Z"
   },
   {
    "duration": 5,
    "start_time": "2022-11-03T00:58:56.107Z"
   },
   {
    "duration": 5,
    "start_time": "2022-11-03T00:58:56.114Z"
   },
   {
    "duration": 9,
    "start_time": "2022-11-03T00:58:56.121Z"
   },
   {
    "duration": 11,
    "start_time": "2022-11-03T00:58:56.131Z"
   },
   {
    "duration": 7,
    "start_time": "2022-11-03T00:58:56.143Z"
   },
   {
    "duration": 66,
    "start_time": "2022-11-03T00:58:56.152Z"
   },
   {
    "duration": 13,
    "start_time": "2022-11-03T00:58:56.219Z"
   },
   {
    "duration": 12,
    "start_time": "2022-11-03T00:58:56.234Z"
   },
   {
    "duration": 13,
    "start_time": "2022-11-03T00:58:56.247Z"
   },
   {
    "duration": 17,
    "start_time": "2022-11-03T00:58:56.262Z"
   },
   {
    "duration": 27,
    "start_time": "2022-11-03T00:58:56.281Z"
   },
   {
    "duration": 19,
    "start_time": "2022-11-03T00:58:56.309Z"
   },
   {
    "duration": 5,
    "start_time": "2022-11-03T00:58:56.330Z"
   },
   {
    "duration": 6,
    "start_time": "2022-11-03T00:58:56.336Z"
   },
   {
    "duration": 4,
    "start_time": "2022-11-03T00:58:56.343Z"
   },
   {
    "duration": 7,
    "start_time": "2022-11-03T00:58:56.348Z"
   },
   {
    "duration": 4,
    "start_time": "2022-11-03T00:58:56.356Z"
   },
   {
    "duration": 8,
    "start_time": "2022-11-03T00:58:56.362Z"
   },
   {
    "duration": 44,
    "start_time": "2022-11-03T00:58:56.372Z"
   },
   {
    "duration": 5,
    "start_time": "2022-11-03T00:58:56.417Z"
   },
   {
    "duration": 13,
    "start_time": "2022-11-03T00:58:56.425Z"
   },
   {
    "duration": 81,
    "start_time": "2022-11-03T00:58:56.439Z"
   },
   {
    "duration": 9,
    "start_time": "2022-11-03T00:58:56.522Z"
   },
   {
    "duration": 187,
    "start_time": "2022-11-03T00:58:56.532Z"
   },
   {
    "duration": 19,
    "start_time": "2022-11-03T00:58:56.720Z"
   },
   {
    "duration": 9,
    "start_time": "2022-11-03T00:58:56.740Z"
   },
   {
    "duration": 274,
    "start_time": "2022-11-03T00:58:56.750Z"
   },
   {
    "duration": 6,
    "start_time": "2022-11-03T00:58:57.026Z"
   },
   {
    "duration": 14,
    "start_time": "2022-11-03T00:58:57.034Z"
   },
   {
    "duration": 263,
    "start_time": "2022-11-03T00:58:57.050Z"
   },
   {
    "duration": 8,
    "start_time": "2022-11-03T00:58:57.315Z"
   },
   {
    "duration": 20,
    "start_time": "2022-11-03T00:58:57.325Z"
   },
   {
    "duration": 14,
    "start_time": "2022-11-03T00:58:57.347Z"
   },
   {
    "duration": 239,
    "start_time": "2022-11-03T00:58:57.363Z"
   },
   {
    "duration": 8,
    "start_time": "2022-11-03T00:58:57.605Z"
   },
   {
    "duration": 16,
    "start_time": "2022-11-03T00:58:57.614Z"
   },
   {
    "duration": 436,
    "start_time": "2022-11-03T00:58:57.631Z"
   },
   {
    "duration": 0,
    "start_time": "2022-11-03T00:58:58.069Z"
   },
   {
    "duration": 0,
    "start_time": "2022-11-03T00:58:58.070Z"
   },
   {
    "duration": 0,
    "start_time": "2022-11-03T00:58:58.071Z"
   },
   {
    "duration": 0,
    "start_time": "2022-11-03T00:58:58.072Z"
   },
   {
    "duration": 0,
    "start_time": "2022-11-03T00:58:58.073Z"
   },
   {
    "duration": 0,
    "start_time": "2022-11-03T00:58:58.074Z"
   },
   {
    "duration": 0,
    "start_time": "2022-11-03T00:58:58.075Z"
   },
   {
    "duration": 0,
    "start_time": "2022-11-03T00:58:58.076Z"
   },
   {
    "duration": 0,
    "start_time": "2022-11-03T00:58:58.077Z"
   },
   {
    "duration": 0,
    "start_time": "2022-11-03T00:58:58.078Z"
   },
   {
    "duration": 0,
    "start_time": "2022-11-03T00:58:58.079Z"
   },
   {
    "duration": 0,
    "start_time": "2022-11-03T00:58:58.080Z"
   },
   {
    "duration": 0,
    "start_time": "2022-11-03T00:58:58.081Z"
   },
   {
    "duration": 0,
    "start_time": "2022-11-03T00:58:58.082Z"
   },
   {
    "duration": 0,
    "start_time": "2022-11-03T00:58:58.105Z"
   },
   {
    "duration": 0,
    "start_time": "2022-11-03T00:58:58.106Z"
   },
   {
    "duration": 0,
    "start_time": "2022-11-03T00:58:58.107Z"
   },
   {
    "duration": 0,
    "start_time": "2022-11-03T00:58:58.108Z"
   },
   {
    "duration": 0,
    "start_time": "2022-11-03T00:58:58.109Z"
   },
   {
    "duration": 0,
    "start_time": "2022-11-03T00:58:58.110Z"
   },
   {
    "duration": 0,
    "start_time": "2022-11-03T00:58:58.111Z"
   },
   {
    "duration": 0,
    "start_time": "2022-11-03T00:58:58.112Z"
   },
   {
    "duration": 255,
    "start_time": "2022-11-03T01:03:26.356Z"
   },
   {
    "duration": 268,
    "start_time": "2022-11-03T01:04:03.688Z"
   },
   {
    "duration": 998,
    "start_time": "2022-11-03T01:04:14.368Z"
   },
   {
    "duration": 50,
    "start_time": "2022-11-03T01:04:15.368Z"
   },
   {
    "duration": 15,
    "start_time": "2022-11-03T01:04:15.419Z"
   },
   {
    "duration": 13,
    "start_time": "2022-11-03T01:04:15.436Z"
   },
   {
    "duration": 11,
    "start_time": "2022-11-03T01:04:15.450Z"
   },
   {
    "duration": 12,
    "start_time": "2022-11-03T01:04:15.463Z"
   },
   {
    "duration": 7,
    "start_time": "2022-11-03T01:04:15.476Z"
   },
   {
    "duration": 4,
    "start_time": "2022-11-03T01:04:15.506Z"
   },
   {
    "duration": 7,
    "start_time": "2022-11-03T01:04:15.511Z"
   },
   {
    "duration": 6,
    "start_time": "2022-11-03T01:04:15.520Z"
   },
   {
    "duration": 15,
    "start_time": "2022-11-03T01:04:15.527Z"
   },
   {
    "duration": 7,
    "start_time": "2022-11-03T01:04:15.543Z"
   },
   {
    "duration": 63,
    "start_time": "2022-11-03T01:04:15.551Z"
   },
   {
    "duration": 12,
    "start_time": "2022-11-03T01:04:15.615Z"
   },
   {
    "duration": 13,
    "start_time": "2022-11-03T01:04:15.628Z"
   },
   {
    "duration": 10,
    "start_time": "2022-11-03T01:04:15.642Z"
   },
   {
    "duration": 18,
    "start_time": "2022-11-03T01:04:15.653Z"
   },
   {
    "duration": 6,
    "start_time": "2022-11-03T01:04:15.672Z"
   },
   {
    "duration": 38,
    "start_time": "2022-11-03T01:04:15.679Z"
   },
   {
    "duration": 7,
    "start_time": "2022-11-03T01:04:15.718Z"
   },
   {
    "duration": 8,
    "start_time": "2022-11-03T01:04:15.726Z"
   },
   {
    "duration": 5,
    "start_time": "2022-11-03T01:04:15.735Z"
   },
   {
    "duration": 8,
    "start_time": "2022-11-03T01:04:15.741Z"
   },
   {
    "duration": 7,
    "start_time": "2022-11-03T01:04:15.750Z"
   },
   {
    "duration": 9,
    "start_time": "2022-11-03T01:04:15.758Z"
   },
   {
    "duration": 15,
    "start_time": "2022-11-03T01:04:15.768Z"
   },
   {
    "duration": 24,
    "start_time": "2022-11-03T01:04:15.784Z"
   },
   {
    "duration": 13,
    "start_time": "2022-11-03T01:04:15.811Z"
   },
   {
    "duration": 82,
    "start_time": "2022-11-03T01:04:15.825Z"
   },
   {
    "duration": 9,
    "start_time": "2022-11-03T01:04:15.908Z"
   },
   {
    "duration": 174,
    "start_time": "2022-11-03T01:04:15.918Z"
   },
   {
    "duration": 24,
    "start_time": "2022-11-03T01:04:16.094Z"
   },
   {
    "duration": 10,
    "start_time": "2022-11-03T01:04:16.120Z"
   },
   {
    "duration": 275,
    "start_time": "2022-11-03T01:04:16.131Z"
   },
   {
    "duration": 7,
    "start_time": "2022-11-03T01:04:16.407Z"
   },
   {
    "duration": 19,
    "start_time": "2022-11-03T01:04:16.416Z"
   },
   {
    "duration": 238,
    "start_time": "2022-11-03T01:04:16.436Z"
   },
   {
    "duration": 7,
    "start_time": "2022-11-03T01:04:16.675Z"
   },
   {
    "duration": 25,
    "start_time": "2022-11-03T01:04:16.683Z"
   },
   {
    "duration": 14,
    "start_time": "2022-11-03T01:04:16.709Z"
   },
   {
    "duration": 229,
    "start_time": "2022-11-03T01:04:16.724Z"
   },
   {
    "duration": 8,
    "start_time": "2022-11-03T01:04:16.954Z"
   },
   {
    "duration": 11,
    "start_time": "2022-11-03T01:04:16.964Z"
   },
   {
    "duration": 357,
    "start_time": "2022-11-03T01:04:16.976Z"
   },
   {
    "duration": 481,
    "start_time": "2022-11-03T01:04:17.335Z"
   },
   {
    "duration": 503,
    "start_time": "2022-11-03T01:04:17.817Z"
   },
   {
    "duration": 258,
    "start_time": "2022-11-03T01:04:18.322Z"
   },
   {
    "duration": 25,
    "start_time": "2022-11-03T01:04:18.581Z"
   },
   {
    "duration": 12,
    "start_time": "2022-11-03T01:04:18.607Z"
   },
   {
    "duration": 13,
    "start_time": "2022-11-03T01:04:18.621Z"
   },
   {
    "duration": 12,
    "start_time": "2022-11-03T01:04:18.635Z"
   },
   {
    "duration": 11,
    "start_time": "2022-11-03T01:04:18.648Z"
   },
   {
    "duration": 298,
    "start_time": "2022-11-03T01:04:18.661Z"
   },
   {
    "duration": 13,
    "start_time": "2022-11-03T01:04:18.961Z"
   },
   {
    "duration": 15,
    "start_time": "2022-11-03T01:04:18.975Z"
   },
   {
    "duration": 25,
    "start_time": "2022-11-03T01:04:18.991Z"
   },
   {
    "duration": 294,
    "start_time": "2022-11-03T01:04:19.018Z"
   },
   {
    "duration": 176,
    "start_time": "2022-11-03T01:04:19.313Z"
   },
   {
    "duration": 15,
    "start_time": "2022-11-03T01:04:19.491Z"
   },
   {
    "duration": 85,
    "start_time": "2022-11-03T01:04:19.507Z"
   },
   {
    "duration": 14,
    "start_time": "2022-11-03T01:04:19.593Z"
   },
   {
    "duration": 101,
    "start_time": "2022-11-03T01:04:19.608Z"
   },
   {
    "duration": 6,
    "start_time": "2022-11-03T01:04:19.711Z"
   },
   {
    "duration": 7,
    "start_time": "2022-11-03T01:04:19.718Z"
   },
   {
    "duration": 11,
    "start_time": "2022-11-03T01:04:19.726Z"
   },
   {
    "duration": 9,
    "start_time": "2022-11-03T01:04:19.739Z"
   },
   {
    "duration": 466,
    "start_time": "2022-11-03T01:09:40.945Z"
   },
   {
    "duration": 2737,
    "start_time": "2022-11-03T01:17:26.180Z"
   },
   {
    "duration": 2792,
    "start_time": "2022-11-03T01:17:59.295Z"
   },
   {
    "duration": 3050,
    "start_time": "2022-11-03T01:18:42.114Z"
   },
   {
    "duration": 2224,
    "start_time": "2022-11-03T01:20:26.003Z"
   },
   {
    "duration": 263,
    "start_time": "2022-11-03T01:30:40.229Z"
   },
   {
    "duration": 53,
    "start_time": "2022-11-03T09:38:34.975Z"
   },
   {
    "duration": 1503,
    "start_time": "2022-11-03T09:38:40.048Z"
   },
   {
    "duration": 211,
    "start_time": "2022-11-03T09:38:41.553Z"
   },
   {
    "duration": 20,
    "start_time": "2022-11-03T09:38:41.766Z"
   },
   {
    "duration": 27,
    "start_time": "2022-11-03T09:38:41.788Z"
   },
   {
    "duration": 15,
    "start_time": "2022-11-03T09:38:41.817Z"
   },
   {
    "duration": 16,
    "start_time": "2022-11-03T09:38:41.834Z"
   },
   {
    "duration": 7,
    "start_time": "2022-11-03T09:38:41.852Z"
   },
   {
    "duration": 6,
    "start_time": "2022-11-03T09:38:41.861Z"
   },
   {
    "duration": 8,
    "start_time": "2022-11-03T09:38:41.868Z"
   },
   {
    "duration": 8,
    "start_time": "2022-11-03T09:38:41.880Z"
   },
   {
    "duration": 54,
    "start_time": "2022-11-03T09:38:41.890Z"
   },
   {
    "duration": 10,
    "start_time": "2022-11-03T09:38:41.946Z"
   },
   {
    "duration": 88,
    "start_time": "2022-11-03T09:38:41.958Z"
   },
   {
    "duration": 18,
    "start_time": "2022-11-03T09:38:42.048Z"
   },
   {
    "duration": 20,
    "start_time": "2022-11-03T09:38:42.067Z"
   },
   {
    "duration": 13,
    "start_time": "2022-11-03T09:38:42.088Z"
   },
   {
    "duration": 61,
    "start_time": "2022-11-03T09:38:42.103Z"
   },
   {
    "duration": 7,
    "start_time": "2022-11-03T09:38:42.166Z"
   },
   {
    "duration": 24,
    "start_time": "2022-11-03T09:38:42.175Z"
   },
   {
    "duration": 5,
    "start_time": "2022-11-03T09:38:42.231Z"
   },
   {
    "duration": 6,
    "start_time": "2022-11-03T09:38:42.238Z"
   },
   {
    "duration": 5,
    "start_time": "2022-11-03T09:38:42.246Z"
   },
   {
    "duration": 7,
    "start_time": "2022-11-03T09:38:42.253Z"
   },
   {
    "duration": 6,
    "start_time": "2022-11-03T09:38:42.261Z"
   },
   {
    "duration": 10,
    "start_time": "2022-11-03T09:38:42.269Z"
   },
   {
    "duration": 59,
    "start_time": "2022-11-03T09:38:42.281Z"
   },
   {
    "duration": 7,
    "start_time": "2022-11-03T09:38:42.342Z"
   },
   {
    "duration": 22,
    "start_time": "2022-11-03T09:38:42.355Z"
   },
   {
    "duration": 125,
    "start_time": "2022-11-03T09:38:42.379Z"
   },
   {
    "duration": 12,
    "start_time": "2022-11-03T09:38:42.506Z"
   },
   {
    "duration": 246,
    "start_time": "2022-11-03T09:38:42.532Z"
   },
   {
    "duration": 23,
    "start_time": "2022-11-03T09:38:42.780Z"
   },
   {
    "duration": 32,
    "start_time": "2022-11-03T09:38:42.805Z"
   },
   {
    "duration": 356,
    "start_time": "2022-11-03T09:38:42.839Z"
   },
   {
    "duration": 8,
    "start_time": "2022-11-03T09:38:43.197Z"
   },
   {
    "duration": 27,
    "start_time": "2022-11-03T09:38:43.207Z"
   },
   {
    "duration": 358,
    "start_time": "2022-11-03T09:38:43.236Z"
   },
   {
    "duration": 10,
    "start_time": "2022-11-03T09:38:43.596Z"
   },
   {
    "duration": 35,
    "start_time": "2022-11-03T09:38:43.608Z"
   },
   {
    "duration": 21,
    "start_time": "2022-11-03T09:38:43.646Z"
   },
   {
    "duration": 419,
    "start_time": "2022-11-03T09:38:43.669Z"
   },
   {
    "duration": 659,
    "start_time": "2022-11-03T09:38:44.091Z"
   },
   {
    "duration": 11,
    "start_time": "2022-11-03T09:38:44.752Z"
   },
   {
    "duration": 14,
    "start_time": "2022-11-03T09:38:44.764Z"
   },
   {
    "duration": 353,
    "start_time": "2022-11-03T09:38:44.781Z"
   },
   {
    "duration": 682,
    "start_time": "2022-11-03T09:38:45.136Z"
   },
   {
    "duration": 911,
    "start_time": "2022-11-03T09:38:45.820Z"
   },
   {
    "duration": 4047,
    "start_time": "2022-11-03T09:38:46.733Z"
   },
   {
    "duration": 337,
    "start_time": "2022-11-03T09:38:50.783Z"
   },
   {
    "duration": 29,
    "start_time": "2022-11-03T09:38:51.123Z"
   },
   {
    "duration": 17,
    "start_time": "2022-11-03T09:38:51.154Z"
   },
   {
    "duration": 17,
    "start_time": "2022-11-03T09:38:51.172Z"
   },
   {
    "duration": 46,
    "start_time": "2022-11-03T09:38:51.192Z"
   },
   {
    "duration": 22,
    "start_time": "2022-11-03T09:38:51.240Z"
   },
   {
    "duration": 380,
    "start_time": "2022-11-03T09:38:51.264Z"
   },
   {
    "duration": 16,
    "start_time": "2022-11-03T09:38:51.646Z"
   },
   {
    "duration": 20,
    "start_time": "2022-11-03T09:38:51.663Z"
   },
   {
    "duration": 47,
    "start_time": "2022-11-03T09:38:51.685Z"
   },
   {
    "duration": 366,
    "start_time": "2022-11-03T09:38:51.734Z"
   },
   {
    "duration": 337,
    "start_time": "2022-11-03T09:38:52.103Z"
   },
   {
    "duration": 122,
    "start_time": "2022-11-03T09:38:52.442Z"
   },
   {
    "duration": 9,
    "start_time": "2022-11-03T09:38:52.566Z"
   },
   {
    "duration": 230,
    "start_time": "2022-11-03T09:38:52.577Z"
   },
   {
    "duration": 11,
    "start_time": "2022-11-03T09:38:52.809Z"
   },
   {
    "duration": 146,
    "start_time": "2022-11-03T09:38:52.822Z"
   },
   {
    "duration": 8,
    "start_time": "2022-11-03T09:38:52.970Z"
   },
   {
    "duration": 6,
    "start_time": "2022-11-03T09:38:52.980Z"
   },
   {
    "duration": 14,
    "start_time": "2022-11-03T09:38:52.988Z"
   },
   {
    "duration": 40,
    "start_time": "2022-11-03T09:38:53.004Z"
   },
   {
    "duration": 115,
    "start_time": "2022-11-03T09:39:10.191Z"
   },
   {
    "duration": 135,
    "start_time": "2022-11-03T09:39:18.150Z"
   }
  ],
  "kernelspec": {
   "display_name": "Python 3 (ipykernel)",
   "language": "python",
   "name": "python3"
  },
  "language_info": {
   "codemirror_mode": {
    "name": "ipython",
    "version": 3
   },
   "file_extension": ".py",
   "mimetype": "text/x-python",
   "name": "python",
   "nbconvert_exporter": "python",
   "pygments_lexer": "ipython3",
   "version": "3.9.12"
  },
  "toc": {
   "base_numbering": 1,
   "nav_menu": {},
   "number_sections": true,
   "sideBar": true,
   "skip_h1_title": true,
   "title_cell": "Table of Contents",
   "title_sidebar": "Contents",
   "toc_cell": false,
   "toc_position": {
    "height": "calc(100% - 180px)",
    "left": "10px",
    "top": "150px",
    "width": "235.625px"
   },
   "toc_section_display": true,
   "toc_window_display": true
  }
 },
 "nbformat": 4,
 "nbformat_minor": 4
}
