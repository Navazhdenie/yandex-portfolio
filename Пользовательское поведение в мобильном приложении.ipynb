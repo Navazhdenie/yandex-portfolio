{
 "cells": [
  {
   "cell_type": "markdown",
   "metadata": {},
   "source": [
    "## Общая информация о проекте"
   ]
  },
  {
   "cell_type": "markdown",
   "metadata": {},
   "source": [
    "**Описание проекта:**\n",
    "Нужно разобраться, как ведут себя пользователи  мобильного приложения стартапа, который занимается продажейт продуктов питания. \n",
    "****\n",
    "**Цели проекта:**\n",
    "- Изучить воронку продаж. \n",
    "- Узнать, как пользователи доходят до покупки. Сколько пользователей доходит до покупки, а сколько — «застревает» на предыдущих шагах? На каких именно?\n",
    "- Исследовать результаты A/A/B-эксперимента по внедрению нового шрифта в приложение. "
   ]
  },
  {
   "cell_type": "markdown",
   "metadata": {},
   "source": [
    "**План работы:**\n",
    "\n",
    "- Загрузка данных и предобработка:\n",
    "    - Загрузка библиотек и данных\n",
    "    - Просмотр общей информации \n",
    "    - Изменение названий столбцов\n",
    "    - Проверка на дубликаты и пропуски\n",
    "    - Работа с датами\n",
    "    - Проверка на попадание пользователей в несколько групп\n",
    "    - Вывод\n",
    "    \n",
    "- Изучение и проверка данных:\n",
    "    - Сколько всего событий в логе?\n",
    "    - Сколько всего пользователей в логе?\n",
    "    - Сколько в среднем событий приходится на пользователя?\n",
    "    - Данные за какой период имеются? \n",
    "    - Проверка, что есть пользователи из всех трёх экспериментальных групп.\n",
    "    - Вывод\n",
    "- Изучение воронки событий:\n",
    "    - Какие события есть в логах, как часто они встречаются.\n",
    "    - Cколько пользователей совершали каждое из этих событий и в каком порядке\n",
    "    - Какая доля пользователей проходит на следующий шаг воронки.\n",
    "    - Какая доля пользователей доходит от первого события до оплаты? \n",
    "    - Вывод\n",
    "- Изучение результатов эксперимента:\n",
    "    - Сколько пользователей в каждой экспериментальной группе?\n",
    "    - Находят ли статистические критерии разницу между выборками 246 и 247.\n",
    "    - Число  и доля пользователей, совершивших самое популярное событие в каждой из контрольных групп.\n",
    "    - Число  и доля пользователей, совершивших другие события в каждой из контрольных групп.\n",
    "    - Число  и доля пользователей, совершивших самое популярное событие в группе  с измененным шрифтом.\n",
    "    - Число  и доля пользователей, совершивших другие события в группе  с измененным шрифтом.\n",
    "    - Число и доля пользователей, совершивших события в группе с измененным шрифтом и обеими контрольными группами сразу.\n",
    "    - Вывод\n",
    "- Выводы"
   ]
  },
  {
   "cell_type": "markdown",
   "metadata": {},
   "source": [
    "**Описание данных:**\n",
    "\n",
    "Каждая запись в логе — это действие пользователя, или событие. \n",
    "\n",
    "- event_name — название события;\n",
    "- device_id  — уникальный идентификатор пользователя;\n",
    "- event_timestamp — время события;\n",
    "- exp_id — номер эксперимента: 246 и 247 — контрольные группы, а 248 — экспериментальная.\n",
    "- event_time - дата и время события\n",
    "- date - дата события"
   ]
  },
  {
   "cell_type": "markdown",
   "metadata": {},
   "source": [
    "## Загрузка данных и предобработка"
   ]
  },
  {
   "cell_type": "markdown",
   "metadata": {},
   "source": [
    "### Загрузка библиотек и данных"
   ]
  },
  {
   "cell_type": "code",
   "execution_count": 50,
   "metadata": {},
   "outputs": [],
   "source": [
    "#импортируем нужные библиотеки\n",
    "import pandas as pd\n",
    "import pandas as pd\n",
    "import matplotlib.pyplot as plt\n",
    "import seaborn as sns\n",
    "import numpy as np\n",
    "import datetime as dt\n",
    "from scipy import stats as st\n",
    "import math as mth\n",
    "import plotly.express as px\n",
    "import warnings\n",
    "warnings.filterwarnings('ignore')"
   ]
  },
  {
   "cell_type": "code",
   "execution_count": 51,
   "metadata": {},
   "outputs": [],
   "source": [
    "#грузим наши данные для работы\n",
    "logs = pd.read_csv('/datasets/logs_exp.csv', sep= '\\t')"
   ]
  },
  {
   "cell_type": "markdown",
   "metadata": {},
   "source": [
    "### Просмотр общей информации"
   ]
  },
  {
   "cell_type": "code",
   "execution_count": 52,
   "metadata": {},
   "outputs": [
    {
     "data": {
      "text/html": [
       "<div>\n",
       "<style scoped>\n",
       "    .dataframe tbody tr th:only-of-type {\n",
       "        vertical-align: middle;\n",
       "    }\n",
       "\n",
       "    .dataframe tbody tr th {\n",
       "        vertical-align: top;\n",
       "    }\n",
       "\n",
       "    .dataframe thead th {\n",
       "        text-align: right;\n",
       "    }\n",
       "</style>\n",
       "<table border=\"1\" class=\"dataframe\">\n",
       "  <thead>\n",
       "    <tr style=\"text-align: right;\">\n",
       "      <th></th>\n",
       "      <th>EventName</th>\n",
       "      <th>DeviceIDHash</th>\n",
       "      <th>EventTimestamp</th>\n",
       "      <th>ExpId</th>\n",
       "    </tr>\n",
       "  </thead>\n",
       "  <tbody>\n",
       "    <tr>\n",
       "      <th>0</th>\n",
       "      <td>MainScreenAppear</td>\n",
       "      <td>4575588528974610257</td>\n",
       "      <td>1564029816</td>\n",
       "      <td>246</td>\n",
       "    </tr>\n",
       "    <tr>\n",
       "      <th>1</th>\n",
       "      <td>MainScreenAppear</td>\n",
       "      <td>7416695313311560658</td>\n",
       "      <td>1564053102</td>\n",
       "      <td>246</td>\n",
       "    </tr>\n",
       "    <tr>\n",
       "      <th>2</th>\n",
       "      <td>PaymentScreenSuccessful</td>\n",
       "      <td>3518123091307005509</td>\n",
       "      <td>1564054127</td>\n",
       "      <td>248</td>\n",
       "    </tr>\n",
       "    <tr>\n",
       "      <th>3</th>\n",
       "      <td>CartScreenAppear</td>\n",
       "      <td>3518123091307005509</td>\n",
       "      <td>1564054127</td>\n",
       "      <td>248</td>\n",
       "    </tr>\n",
       "    <tr>\n",
       "      <th>4</th>\n",
       "      <td>PaymentScreenSuccessful</td>\n",
       "      <td>6217807653094995999</td>\n",
       "      <td>1564055322</td>\n",
       "      <td>248</td>\n",
       "    </tr>\n",
       "  </tbody>\n",
       "</table>\n",
       "</div>"
      ],
      "text/plain": [
       "                 EventName         DeviceIDHash  EventTimestamp  ExpId\n",
       "0         MainScreenAppear  4575588528974610257      1564029816    246\n",
       "1         MainScreenAppear  7416695313311560658      1564053102    246\n",
       "2  PaymentScreenSuccessful  3518123091307005509      1564054127    248\n",
       "3         CartScreenAppear  3518123091307005509      1564054127    248\n",
       "4  PaymentScreenSuccessful  6217807653094995999      1564055322    248"
      ]
     },
     "execution_count": 52,
     "metadata": {},
     "output_type": "execute_result"
    }
   ],
   "source": [
    "logs.head()"
   ]
  },
  {
   "cell_type": "code",
   "execution_count": 53,
   "metadata": {},
   "outputs": [
    {
     "name": "stdout",
     "output_type": "stream",
     "text": [
      "<class 'pandas.core.frame.DataFrame'>\n",
      "RangeIndex: 244126 entries, 0 to 244125\n",
      "Data columns (total 4 columns):\n",
      " #   Column          Non-Null Count   Dtype \n",
      "---  ------          --------------   ----- \n",
      " 0   EventName       244126 non-null  object\n",
      " 1   DeviceIDHash    244126 non-null  int64 \n",
      " 2   EventTimestamp  244126 non-null  int64 \n",
      " 3   ExpId           244126 non-null  int64 \n",
      "dtypes: int64(3), object(1)\n",
      "memory usage: 7.5+ MB\n"
     ]
    }
   ],
   "source": [
    "logs.info()"
   ]
  },
  {
   "cell_type": "markdown",
   "metadata": {},
   "source": [
    "### Изменение названий столбцов"
   ]
  },
  {
   "cell_type": "code",
   "execution_count": 54,
   "metadata": {},
   "outputs": [],
   "source": [
    "logs = logs.rename(columns = {'EventName':'event_name', \\\n",
    "                              'DeviceIDHash':'device_id', \\\n",
    "                              'EventTimestamp':'event_timestamp', \\\n",
    "                              'ExpId':'exp_id'\n",
    "                             })"
   ]
  },
  {
   "cell_type": "code",
   "execution_count": 55,
   "metadata": {},
   "outputs": [
    {
     "data": {
      "text/html": [
       "<div>\n",
       "<style scoped>\n",
       "    .dataframe tbody tr th:only-of-type {\n",
       "        vertical-align: middle;\n",
       "    }\n",
       "\n",
       "    .dataframe tbody tr th {\n",
       "        vertical-align: top;\n",
       "    }\n",
       "\n",
       "    .dataframe thead th {\n",
       "        text-align: right;\n",
       "    }\n",
       "</style>\n",
       "<table border=\"1\" class=\"dataframe\">\n",
       "  <thead>\n",
       "    <tr style=\"text-align: right;\">\n",
       "      <th></th>\n",
       "      <th>event_name</th>\n",
       "      <th>device_id</th>\n",
       "      <th>event_timestamp</th>\n",
       "      <th>exp_id</th>\n",
       "    </tr>\n",
       "  </thead>\n",
       "  <tbody>\n",
       "    <tr>\n",
       "      <th>0</th>\n",
       "      <td>MainScreenAppear</td>\n",
       "      <td>4575588528974610257</td>\n",
       "      <td>1564029816</td>\n",
       "      <td>246</td>\n",
       "    </tr>\n",
       "    <tr>\n",
       "      <th>1</th>\n",
       "      <td>MainScreenAppear</td>\n",
       "      <td>7416695313311560658</td>\n",
       "      <td>1564053102</td>\n",
       "      <td>246</td>\n",
       "    </tr>\n",
       "    <tr>\n",
       "      <th>2</th>\n",
       "      <td>PaymentScreenSuccessful</td>\n",
       "      <td>3518123091307005509</td>\n",
       "      <td>1564054127</td>\n",
       "      <td>248</td>\n",
       "    </tr>\n",
       "    <tr>\n",
       "      <th>3</th>\n",
       "      <td>CartScreenAppear</td>\n",
       "      <td>3518123091307005509</td>\n",
       "      <td>1564054127</td>\n",
       "      <td>248</td>\n",
       "    </tr>\n",
       "    <tr>\n",
       "      <th>4</th>\n",
       "      <td>PaymentScreenSuccessful</td>\n",
       "      <td>6217807653094995999</td>\n",
       "      <td>1564055322</td>\n",
       "      <td>248</td>\n",
       "    </tr>\n",
       "  </tbody>\n",
       "</table>\n",
       "</div>"
      ],
      "text/plain": [
       "                event_name            device_id  event_timestamp  exp_id\n",
       "0         MainScreenAppear  4575588528974610257       1564029816     246\n",
       "1         MainScreenAppear  7416695313311560658       1564053102     246\n",
       "2  PaymentScreenSuccessful  3518123091307005509       1564054127     248\n",
       "3         CartScreenAppear  3518123091307005509       1564054127     248\n",
       "4  PaymentScreenSuccessful  6217807653094995999       1564055322     248"
      ]
     },
     "execution_count": 55,
     "metadata": {},
     "output_type": "execute_result"
    }
   ],
   "source": [
    "logs.head()"
   ]
  },
  {
   "cell_type": "markdown",
   "metadata": {},
   "source": [
    "### Проверка на дубликаты и пропуски"
   ]
  },
  {
   "cell_type": "code",
   "execution_count": 56,
   "metadata": {},
   "outputs": [
    {
     "data": {
      "text/plain": [
       "(244126, 4)"
      ]
     },
     "execution_count": 56,
     "metadata": {},
     "output_type": "execute_result"
    }
   ],
   "source": [
    "logs.shape"
   ]
  },
  {
   "cell_type": "code",
   "execution_count": 57,
   "metadata": {},
   "outputs": [
    {
     "name": "stdout",
     "output_type": "stream",
     "text": [
      "Дубликатов обнаружено:413\n"
     ]
    }
   ],
   "source": [
    "# проверка на явные дубликаты\n",
    "print(f'Дубликатов обнаружено:{logs.duplicated().sum()}')"
   ]
  },
  {
   "cell_type": "code",
   "execution_count": 58,
   "metadata": {},
   "outputs": [
    {
     "data": {
      "text/html": [
       "<div>\n",
       "<style scoped>\n",
       "    .dataframe tbody tr th:only-of-type {\n",
       "        vertical-align: middle;\n",
       "    }\n",
       "\n",
       "    .dataframe tbody tr th {\n",
       "        vertical-align: top;\n",
       "    }\n",
       "\n",
       "    .dataframe thead th {\n",
       "        text-align: right;\n",
       "    }\n",
       "</style>\n",
       "<table border=\"1\" class=\"dataframe\">\n",
       "  <thead>\n",
       "    <tr style=\"text-align: right;\">\n",
       "      <th></th>\n",
       "      <th>event_name</th>\n",
       "      <th>device_id</th>\n",
       "      <th>event_timestamp</th>\n",
       "      <th>exp_id</th>\n",
       "    </tr>\n",
       "  </thead>\n",
       "  <tbody>\n",
       "    <tr>\n",
       "      <th>0</th>\n",
       "      <td>MainScreenAppear</td>\n",
       "      <td>4575588528974610257</td>\n",
       "      <td>1564029816</td>\n",
       "      <td>246</td>\n",
       "    </tr>\n",
       "    <tr>\n",
       "      <th>1</th>\n",
       "      <td>MainScreenAppear</td>\n",
       "      <td>7416695313311560658</td>\n",
       "      <td>1564053102</td>\n",
       "      <td>246</td>\n",
       "    </tr>\n",
       "    <tr>\n",
       "      <th>2</th>\n",
       "      <td>PaymentScreenSuccessful</td>\n",
       "      <td>3518123091307005509</td>\n",
       "      <td>1564054127</td>\n",
       "      <td>248</td>\n",
       "    </tr>\n",
       "    <tr>\n",
       "      <th>3</th>\n",
       "      <td>CartScreenAppear</td>\n",
       "      <td>3518123091307005509</td>\n",
       "      <td>1564054127</td>\n",
       "      <td>248</td>\n",
       "    </tr>\n",
       "    <tr>\n",
       "      <th>4</th>\n",
       "      <td>PaymentScreenSuccessful</td>\n",
       "      <td>6217807653094995999</td>\n",
       "      <td>1564055322</td>\n",
       "      <td>248</td>\n",
       "    </tr>\n",
       "    <tr>\n",
       "      <th>...</th>\n",
       "      <td>...</td>\n",
       "      <td>...</td>\n",
       "      <td>...</td>\n",
       "      <td>...</td>\n",
       "    </tr>\n",
       "    <tr>\n",
       "      <th>243708</th>\n",
       "      <td>MainScreenAppear</td>\n",
       "      <td>4599628364049201812</td>\n",
       "      <td>1565212345</td>\n",
       "      <td>247</td>\n",
       "    </tr>\n",
       "    <tr>\n",
       "      <th>243709</th>\n",
       "      <td>MainScreenAppear</td>\n",
       "      <td>5849806612437486590</td>\n",
       "      <td>1565212439</td>\n",
       "      <td>246</td>\n",
       "    </tr>\n",
       "    <tr>\n",
       "      <th>243710</th>\n",
       "      <td>MainScreenAppear</td>\n",
       "      <td>5746969938801999050</td>\n",
       "      <td>1565212483</td>\n",
       "      <td>246</td>\n",
       "    </tr>\n",
       "    <tr>\n",
       "      <th>243711</th>\n",
       "      <td>MainScreenAppear</td>\n",
       "      <td>5746969938801999050</td>\n",
       "      <td>1565212498</td>\n",
       "      <td>246</td>\n",
       "    </tr>\n",
       "    <tr>\n",
       "      <th>243712</th>\n",
       "      <td>OffersScreenAppear</td>\n",
       "      <td>5746969938801999050</td>\n",
       "      <td>1565212517</td>\n",
       "      <td>246</td>\n",
       "    </tr>\n",
       "  </tbody>\n",
       "</table>\n",
       "<p>243713 rows × 4 columns</p>\n",
       "</div>"
      ],
      "text/plain": [
       "                     event_name            device_id  event_timestamp  exp_id\n",
       "0              MainScreenAppear  4575588528974610257       1564029816     246\n",
       "1              MainScreenAppear  7416695313311560658       1564053102     246\n",
       "2       PaymentScreenSuccessful  3518123091307005509       1564054127     248\n",
       "3              CartScreenAppear  3518123091307005509       1564054127     248\n",
       "4       PaymentScreenSuccessful  6217807653094995999       1564055322     248\n",
       "...                         ...                  ...              ...     ...\n",
       "243708         MainScreenAppear  4599628364049201812       1565212345     247\n",
       "243709         MainScreenAppear  5849806612437486590       1565212439     246\n",
       "243710         MainScreenAppear  5746969938801999050       1565212483     246\n",
       "243711         MainScreenAppear  5746969938801999050       1565212498     246\n",
       "243712       OffersScreenAppear  5746969938801999050       1565212517     246\n",
       "\n",
       "[243713 rows x 4 columns]"
      ]
     },
     "execution_count": 58,
     "metadata": {},
     "output_type": "execute_result"
    }
   ],
   "source": [
    "#убираем дубликаты\n",
    "logs = logs.drop_duplicates().reset_index(drop=True)"
   ]
  },
  {
   "cell_type": "code",
   "execution_count": 59,
   "metadata": {},
   "outputs": [
    {
     "data": {
      "text/plain": [
       "event_name         0\n",
       "device_id          0\n",
       "event_timestamp    0\n",
       "exp_id             0\n",
       "dtype: int64"
      ]
     },
     "execution_count": 59,
     "metadata": {},
     "output_type": "execute_result"
    }
   ],
   "source": [
    "# проверяем на пропуски\n",
    "logs.isna().sum().sort_values()"
   ]
  },
  {
   "cell_type": "markdown",
   "metadata": {},
   "source": [
    "Было обнаружено 413 дубликатов, их мы удалили. Пропусков в данных нет."
   ]
  },
  {
   "cell_type": "markdown",
   "metadata": {},
   "source": [
    "### Работа с датами"
   ]
  },
  {
   "cell_type": "code",
   "execution_count": 60,
   "metadata": {},
   "outputs": [],
   "source": [
    "#создадим столбец с датой и временем события\n",
    "logs['event_time'] = logs['event_timestamp'].astype('datetime64[s]')"
   ]
  },
  {
   "cell_type": "code",
   "execution_count": 61,
   "metadata": {},
   "outputs": [],
   "source": [
    "#создадим столбец с отдельной датой\n",
    "logs['date'] = logs['event_time'].dt.date"
   ]
  },
  {
   "cell_type": "code",
   "execution_count": 62,
   "metadata": {},
   "outputs": [
    {
     "data": {
      "text/html": [
       "<div>\n",
       "<style scoped>\n",
       "    .dataframe tbody tr th:only-of-type {\n",
       "        vertical-align: middle;\n",
       "    }\n",
       "\n",
       "    .dataframe tbody tr th {\n",
       "        vertical-align: top;\n",
       "    }\n",
       "\n",
       "    .dataframe thead th {\n",
       "        text-align: right;\n",
       "    }\n",
       "</style>\n",
       "<table border=\"1\" class=\"dataframe\">\n",
       "  <thead>\n",
       "    <tr style=\"text-align: right;\">\n",
       "      <th></th>\n",
       "      <th>event_name</th>\n",
       "      <th>device_id</th>\n",
       "      <th>exp_id</th>\n",
       "      <th>event_time</th>\n",
       "      <th>date</th>\n",
       "    </tr>\n",
       "  </thead>\n",
       "  <tbody>\n",
       "    <tr>\n",
       "      <th>0</th>\n",
       "      <td>MainScreenAppear</td>\n",
       "      <td>4575588528974610257</td>\n",
       "      <td>246</td>\n",
       "      <td>2019-07-25 04:43:36</td>\n",
       "      <td>2019-07-25</td>\n",
       "    </tr>\n",
       "    <tr>\n",
       "      <th>1</th>\n",
       "      <td>MainScreenAppear</td>\n",
       "      <td>7416695313311560658</td>\n",
       "      <td>246</td>\n",
       "      <td>2019-07-25 11:11:42</td>\n",
       "      <td>2019-07-25</td>\n",
       "    </tr>\n",
       "    <tr>\n",
       "      <th>2</th>\n",
       "      <td>PaymentScreenSuccessful</td>\n",
       "      <td>3518123091307005509</td>\n",
       "      <td>248</td>\n",
       "      <td>2019-07-25 11:28:47</td>\n",
       "      <td>2019-07-25</td>\n",
       "    </tr>\n",
       "    <tr>\n",
       "      <th>3</th>\n",
       "      <td>CartScreenAppear</td>\n",
       "      <td>3518123091307005509</td>\n",
       "      <td>248</td>\n",
       "      <td>2019-07-25 11:28:47</td>\n",
       "      <td>2019-07-25</td>\n",
       "    </tr>\n",
       "    <tr>\n",
       "      <th>4</th>\n",
       "      <td>PaymentScreenSuccessful</td>\n",
       "      <td>6217807653094995999</td>\n",
       "      <td>248</td>\n",
       "      <td>2019-07-25 11:48:42</td>\n",
       "      <td>2019-07-25</td>\n",
       "    </tr>\n",
       "    <tr>\n",
       "      <th>...</th>\n",
       "      <td>...</td>\n",
       "      <td>...</td>\n",
       "      <td>...</td>\n",
       "      <td>...</td>\n",
       "      <td>...</td>\n",
       "    </tr>\n",
       "    <tr>\n",
       "      <th>244121</th>\n",
       "      <td>MainScreenAppear</td>\n",
       "      <td>4599628364049201812</td>\n",
       "      <td>247</td>\n",
       "      <td>2019-08-07 21:12:25</td>\n",
       "      <td>2019-08-07</td>\n",
       "    </tr>\n",
       "    <tr>\n",
       "      <th>244122</th>\n",
       "      <td>MainScreenAppear</td>\n",
       "      <td>5849806612437486590</td>\n",
       "      <td>246</td>\n",
       "      <td>2019-08-07 21:13:59</td>\n",
       "      <td>2019-08-07</td>\n",
       "    </tr>\n",
       "    <tr>\n",
       "      <th>244123</th>\n",
       "      <td>MainScreenAppear</td>\n",
       "      <td>5746969938801999050</td>\n",
       "      <td>246</td>\n",
       "      <td>2019-08-07 21:14:43</td>\n",
       "      <td>2019-08-07</td>\n",
       "    </tr>\n",
       "    <tr>\n",
       "      <th>244124</th>\n",
       "      <td>MainScreenAppear</td>\n",
       "      <td>5746969938801999050</td>\n",
       "      <td>246</td>\n",
       "      <td>2019-08-07 21:14:58</td>\n",
       "      <td>2019-08-07</td>\n",
       "    </tr>\n",
       "    <tr>\n",
       "      <th>244125</th>\n",
       "      <td>OffersScreenAppear</td>\n",
       "      <td>5746969938801999050</td>\n",
       "      <td>246</td>\n",
       "      <td>2019-08-07 21:15:17</td>\n",
       "      <td>2019-08-07</td>\n",
       "    </tr>\n",
       "  </tbody>\n",
       "</table>\n",
       "<p>244126 rows × 5 columns</p>\n",
       "</div>"
      ],
      "text/plain": [
       "                     event_name            device_id  exp_id  \\\n",
       "0              MainScreenAppear  4575588528974610257     246   \n",
       "1              MainScreenAppear  7416695313311560658     246   \n",
       "2       PaymentScreenSuccessful  3518123091307005509     248   \n",
       "3              CartScreenAppear  3518123091307005509     248   \n",
       "4       PaymentScreenSuccessful  6217807653094995999     248   \n",
       "...                         ...                  ...     ...   \n",
       "244121         MainScreenAppear  4599628364049201812     247   \n",
       "244122         MainScreenAppear  5849806612437486590     246   \n",
       "244123         MainScreenAppear  5746969938801999050     246   \n",
       "244124         MainScreenAppear  5746969938801999050     246   \n",
       "244125       OffersScreenAppear  5746969938801999050     246   \n",
       "\n",
       "                event_time        date  \n",
       "0      2019-07-25 04:43:36  2019-07-25  \n",
       "1      2019-07-25 11:11:42  2019-07-25  \n",
       "2      2019-07-25 11:28:47  2019-07-25  \n",
       "3      2019-07-25 11:28:47  2019-07-25  \n",
       "4      2019-07-25 11:48:42  2019-07-25  \n",
       "...                    ...         ...  \n",
       "244121 2019-08-07 21:12:25  2019-08-07  \n",
       "244122 2019-08-07 21:13:59  2019-08-07  \n",
       "244123 2019-08-07 21:14:43  2019-08-07  \n",
       "244124 2019-08-07 21:14:58  2019-08-07  \n",
       "244125 2019-08-07 21:15:17  2019-08-07  \n",
       "\n",
       "[244126 rows x 5 columns]"
      ]
     },
     "execution_count": 62,
     "metadata": {},
     "output_type": "execute_result"
    }
   ],
   "source": [
    "#удалим столбец event_timestamp, так как он нам больше не понадобится\n",
    "logs.drop(columns = 'event_timestamp')"
   ]
  },
  {
   "cell_type": "markdown",
   "metadata": {},
   "source": [
    "### Проверка на попадание пользователей в несколько групп"
   ]
  },
  {
   "cell_type": "code",
   "execution_count": 63,
   "metadata": {},
   "outputs": [
    {
     "name": "stdout",
     "output_type": "stream",
     "text": [
      "Пользователей, попавших в несколько групп: 0\n"
     ]
    }
   ],
   "source": [
    "two_groups = logs.groupby('device_id').agg({'exp_id':'nunique'})\n",
    "two_groups = two_groups.query('exp_id > 1')\n",
    "\n",
    "print(f'Пользователей, попавших в несколько групп:',two_groups['exp_id'].count())"
   ]
  },
  {
   "cell_type": "markdown",
   "metadata": {},
   "source": [
    "У нас нет пользователей, которые бы по ошибке попали в несколько групп."
   ]
  },
  {
   "cell_type": "markdown",
   "metadata": {},
   "source": [
    "### Вывод"
   ]
  },
  {
   "cell_type": "markdown",
   "metadata": {},
   "source": [
    " У нас есть данные, содержащие информацию о произошедших в мобильном приложении событиях.\n",
    " \n",
    " - Формат названий столбцов был приведен к более удобному в работе формату;\n",
    " - В данных были обнаружены 413 дубликатов, их мы устранили;\n",
    " - В данных не обнаружено пропусков;\n",
    " - Пользователи распределены по гоуппам верно, нет пользователей, попавших в несколько групп;\n",
    " - Данные были обогащены столбцом с датой и временем событий и столбцом с датами событий. Ненужный нам более столбец event_timestamp мы убрали.\n",
    " "
   ]
  },
  {
   "cell_type": "markdown",
   "metadata": {},
   "source": [
    "## Изучение и проверка данных:\n",
    "   "
   ]
  },
  {
   "cell_type": "markdown",
   "metadata": {},
   "source": [
    "- Сколько всего событий в логе?\n",
    "- Сколько всего пользователей в логе?\n",
    "- Сколько в среднем событий приходится на пользователя?\n",
    "- Данные за какой период имеются? \n",
    "- Проверка, что есть пользователи из всех трёх экспериментальных групп.\n",
    "- Вывод"
   ]
  },
  {
   "cell_type": "markdown",
   "metadata": {},
   "source": [
    "### Сколько всего событий в логе?"
   ]
  },
  {
   "cell_type": "code",
   "execution_count": 64,
   "metadata": {},
   "outputs": [
    {
     "data": {
      "text/html": [
       "<div>\n",
       "<style scoped>\n",
       "    .dataframe tbody tr th:only-of-type {\n",
       "        vertical-align: middle;\n",
       "    }\n",
       "\n",
       "    .dataframe tbody tr th {\n",
       "        vertical-align: top;\n",
       "    }\n",
       "\n",
       "    .dataframe thead th {\n",
       "        text-align: right;\n",
       "    }\n",
       "</style>\n",
       "<table border=\"1\" class=\"dataframe\">\n",
       "  <thead>\n",
       "    <tr style=\"text-align: right;\">\n",
       "      <th></th>\n",
       "      <th>event</th>\n",
       "      <th>sum_users</th>\n",
       "    </tr>\n",
       "  </thead>\n",
       "  <tbody>\n",
       "    <tr>\n",
       "      <th>0</th>\n",
       "      <td>MainScreenAppear</td>\n",
       "      <td>119205</td>\n",
       "    </tr>\n",
       "    <tr>\n",
       "      <th>1</th>\n",
       "      <td>OffersScreenAppear</td>\n",
       "      <td>46825</td>\n",
       "    </tr>\n",
       "    <tr>\n",
       "      <th>2</th>\n",
       "      <td>CartScreenAppear</td>\n",
       "      <td>42731</td>\n",
       "    </tr>\n",
       "    <tr>\n",
       "      <th>3</th>\n",
       "      <td>PaymentScreenSuccessful</td>\n",
       "      <td>34313</td>\n",
       "    </tr>\n",
       "    <tr>\n",
       "      <th>4</th>\n",
       "      <td>Tutorial</td>\n",
       "      <td>1052</td>\n",
       "    </tr>\n",
       "  </tbody>\n",
       "</table>\n",
       "</div>"
      ],
      "text/plain": [
       "                     event  sum_users\n",
       "0         MainScreenAppear     119205\n",
       "1       OffersScreenAppear      46825\n",
       "2         CartScreenAppear      42731\n",
       "3  PaymentScreenSuccessful      34313\n",
       "4                 Tutorial       1052"
      ]
     },
     "execution_count": 64,
     "metadata": {},
     "output_type": "execute_result"
    }
   ],
   "source": [
    "events_sum = logs.groupby('event_name')['device_id'].count() \\\n",
    "                 .sort_values(ascending = False) \\\n",
    "                 .reset_index()\n",
    "events_sum.columns = ['event', 'sum_users']\n",
    "\n",
    "events_sum"
   ]
  },
  {
   "cell_type": "markdown",
   "metadata": {},
   "source": [
    "Видим, что у нас 5 типов событий  и по количеству лидирует показ главной страницы. А самое непопулярное событие - это прохождение обучения."
   ]
  },
  {
   "cell_type": "markdown",
   "metadata": {},
   "source": [
    "### Сколько всего пользователей в логе?"
   ]
  },
  {
   "cell_type": "code",
   "execution_count": 65,
   "metadata": {},
   "outputs": [
    {
     "data": {
      "text/html": [
       "<div>\n",
       "<style scoped>\n",
       "    .dataframe tbody tr th:only-of-type {\n",
       "        vertical-align: middle;\n",
       "    }\n",
       "\n",
       "    .dataframe tbody tr th {\n",
       "        vertical-align: top;\n",
       "    }\n",
       "\n",
       "    .dataframe thead th {\n",
       "        text-align: right;\n",
       "    }\n",
       "</style>\n",
       "<table border=\"1\" class=\"dataframe\">\n",
       "  <thead>\n",
       "    <tr style=\"text-align: right;\">\n",
       "      <th></th>\n",
       "      <th>device_id</th>\n",
       "      <th>sum_events</th>\n",
       "    </tr>\n",
       "  </thead>\n",
       "  <tbody>\n",
       "    <tr>\n",
       "      <th>0</th>\n",
       "      <td>6304868067479728361</td>\n",
       "      <td>2308</td>\n",
       "    </tr>\n",
       "    <tr>\n",
       "      <th>1</th>\n",
       "      <td>197027893265565660</td>\n",
       "      <td>2003</td>\n",
       "    </tr>\n",
       "    <tr>\n",
       "      <th>2</th>\n",
       "      <td>4623191541214045580</td>\n",
       "      <td>1771</td>\n",
       "    </tr>\n",
       "    <tr>\n",
       "      <th>3</th>\n",
       "      <td>6932517045703054087</td>\n",
       "      <td>1448</td>\n",
       "    </tr>\n",
       "    <tr>\n",
       "      <th>4</th>\n",
       "      <td>1754140665440434215</td>\n",
       "      <td>1222</td>\n",
       "    </tr>\n",
       "    <tr>\n",
       "      <th>...</th>\n",
       "      <td>...</td>\n",
       "      <td>...</td>\n",
       "    </tr>\n",
       "    <tr>\n",
       "      <th>7546</th>\n",
       "      <td>395376432319166724</td>\n",
       "      <td>1</td>\n",
       "    </tr>\n",
       "    <tr>\n",
       "      <th>7547</th>\n",
       "      <td>7340109038762980814</td>\n",
       "      <td>1</td>\n",
       "    </tr>\n",
       "    <tr>\n",
       "      <th>7548</th>\n",
       "      <td>4890736107619881150</td>\n",
       "      <td>1</td>\n",
       "    </tr>\n",
       "    <tr>\n",
       "      <th>7549</th>\n",
       "      <td>2284191870135457477</td>\n",
       "      <td>1</td>\n",
       "    </tr>\n",
       "    <tr>\n",
       "      <th>7550</th>\n",
       "      <td>6888746892508752</td>\n",
       "      <td>1</td>\n",
       "    </tr>\n",
       "  </tbody>\n",
       "</table>\n",
       "<p>7551 rows × 2 columns</p>\n",
       "</div>"
      ],
      "text/plain": [
       "                device_id  sum_events\n",
       "0     6304868067479728361        2308\n",
       "1      197027893265565660        2003\n",
       "2     4623191541214045580        1771\n",
       "3     6932517045703054087        1448\n",
       "4     1754140665440434215        1222\n",
       "...                   ...         ...\n",
       "7546   395376432319166724           1\n",
       "7547  7340109038762980814           1\n",
       "7548  4890736107619881150           1\n",
       "7549  2284191870135457477           1\n",
       "7550     6888746892508752           1\n",
       "\n",
       "[7551 rows x 2 columns]"
      ]
     },
     "execution_count": 65,
     "metadata": {},
     "output_type": "execute_result"
    }
   ],
   "source": [
    "users_sum = logs.groupby('device_id')['event_name'].count() \\\n",
    "                .sort_values(ascending = False) \\\n",
    "                .reset_index()\n",
    "users_sum.columns = ['device_id', 'sum_events']\n",
    "\n",
    "users_sum"
   ]
  },
  {
   "cell_type": "markdown",
   "metadata": {},
   "source": [
    "У нас данные по 7551 пользователю. Некоторые совершили довольно много действий( макисмум 2307), но часть юзеров ограничилась только одним действием."
   ]
  },
  {
   "cell_type": "markdown",
   "metadata": {},
   "source": [
    "### Сколько в среднем событий приходится на пользователя?"
   ]
  },
  {
   "cell_type": "code",
   "execution_count": 66,
   "metadata": {},
   "outputs": [
    {
     "name": "stdout",
     "output_type": "stream",
     "text": [
      "Среднее число событий на пользователя: 32.33\n",
      "Медианное число событий на пользователя 20.0\n"
     ]
    },
    {
     "data": {
      "image/png": "[encoded data removed]",
      "text/plain": [
       "<Figure size 432x288 with 1 Axes>"
      ]
     },
     "metadata": {
      "needs_background": "light"
     },
     "output_type": "display_data"
    }
   ],
   "source": [
    "logs.groupby('device_id')['event_name'].count().hist(range=(0,130), bins=70)\n",
    "\n",
    "plt.title('Распределение событий по пользователям \\n')\n",
    "plt.locator_params(axis='x', nbins=20)\n",
    "plt.xlabel('\\n Число событий')\n",
    "plt.ylabel('Число пользователей');\n",
    "\n",
    "print(f'Среднее число событий на пользователя:', round((logs.groupby('device_id')['event_name'].count()).mean(),2))\n",
    "print(f'Медианное число событий на пользователя', logs.groupby('device_id')['event_name'].count().median())"
   ]
  },
  {
   "cell_type": "markdown",
   "metadata": {},
   "source": [
    "Как мы видим, в среднем на каждого юзера приходится по 32 действия. Медианное значение при этом ниже, всего 20, значит существуют пользователи с аномально большим количеством действий (как мы видели ранее, есть юзеры с количеством действий около 1000-2000)"
   ]
  },
  {
   "cell_type": "markdown",
   "metadata": {},
   "source": [
    "###  Данные за какой период имеются?"
   ]
  },
  {
   "cell_type": "code",
   "execution_count": 67,
   "metadata": {},
   "outputs": [
    {
     "name": "stdout",
     "output_type": "stream",
     "text": [
      "Минимальная дата в наших данных : 2019-07-25\n",
      "Максимальная дата в наших данных : 2019-08-07\n",
      "Мы располагаем сведениями за 13 дней\n"
     ]
    }
   ],
   "source": [
    "print(f'Минимальная дата в наших данных :', logs['date'].min())\n",
    "print(f'Максимальная дата в наших данных :', logs['date'].max())\n",
    "print(f'Мы располагаем сведениями за', (logs['date'].max() - logs['date'].min()).days, 'дней' )"
   ]
  },
  {
   "cell_type": "markdown",
   "metadata": {},
   "source": [
    "Построим гисторамму по датам:"
   ]
  },
  {
   "cell_type": "code",
   "execution_count": 69,
   "metadata": {
    "scrolled": true
   },
   "outputs": [
    {
     "data": {
      "image/png": "[encoded data removed]",
      "text/plain": [
       "<Figure size 1008x360 with 1 Axes>"
      ]
     },
     "metadata": {
      "needs_background": "light"
     },
     "output_type": "display_data"
    }
   ],
   "source": [
    "logs['event_time'].hist(bins=14*24, figsize=(14, 5));"
   ]
  },
  {
   "cell_type": "markdown",
   "metadata": {},
   "source": [
    "Судя по графику, полные данные за день у нас начинаются только с 1 августа. Уберем из наших данных неполные сведения:"
   ]
  },
  {
   "cell_type": "code",
   "execution_count": 70,
   "metadata": {},
   "outputs": [
    {
     "data": {
      "text/html": [
       "<div>\n",
       "<style scoped>\n",
       "    .dataframe tbody tr th:only-of-type {\n",
       "        vertical-align: middle;\n",
       "    }\n",
       "\n",
       "    .dataframe tbody tr th {\n",
       "        vertical-align: top;\n",
       "    }\n",
       "\n",
       "    .dataframe thead th {\n",
       "        text-align: right;\n",
       "    }\n",
       "</style>\n",
       "<table border=\"1\" class=\"dataframe\">\n",
       "  <thead>\n",
       "    <tr style=\"text-align: right;\">\n",
       "      <th></th>\n",
       "      <th>event_name</th>\n",
       "      <th>device_id</th>\n",
       "      <th>event_timestamp</th>\n",
       "      <th>exp_id</th>\n",
       "      <th>event_time</th>\n",
       "      <th>date</th>\n",
       "    </tr>\n",
       "  </thead>\n",
       "  <tbody>\n",
       "    <tr>\n",
       "      <th>2828</th>\n",
       "      <td>Tutorial</td>\n",
       "      <td>3737462046622621720</td>\n",
       "      <td>1564618048</td>\n",
       "      <td>246</td>\n",
       "      <td>2019-08-01 00:07:28</td>\n",
       "      <td>2019-08-01</td>\n",
       "    </tr>\n",
       "    <tr>\n",
       "      <th>2829</th>\n",
       "      <td>MainScreenAppear</td>\n",
       "      <td>3737462046622621720</td>\n",
       "      <td>1564618080</td>\n",
       "      <td>246</td>\n",
       "      <td>2019-08-01 00:08:00</td>\n",
       "      <td>2019-08-01</td>\n",
       "    </tr>\n",
       "    <tr>\n",
       "      <th>2830</th>\n",
       "      <td>MainScreenAppear</td>\n",
       "      <td>3737462046622621720</td>\n",
       "      <td>1564618135</td>\n",
       "      <td>246</td>\n",
       "      <td>2019-08-01 00:08:55</td>\n",
       "      <td>2019-08-01</td>\n",
       "    </tr>\n",
       "    <tr>\n",
       "      <th>2831</th>\n",
       "      <td>OffersScreenAppear</td>\n",
       "      <td>3737462046622621720</td>\n",
       "      <td>1564618138</td>\n",
       "      <td>246</td>\n",
       "      <td>2019-08-01 00:08:58</td>\n",
       "      <td>2019-08-01</td>\n",
       "    </tr>\n",
       "    <tr>\n",
       "      <th>2832</th>\n",
       "      <td>MainScreenAppear</td>\n",
       "      <td>1433840883824088890</td>\n",
       "      <td>1564618139</td>\n",
       "      <td>247</td>\n",
       "      <td>2019-08-01 00:08:59</td>\n",
       "      <td>2019-08-01</td>\n",
       "    </tr>\n",
       "  </tbody>\n",
       "</table>\n",
       "</div>"
      ],
      "text/plain": [
       "              event_name            device_id  event_timestamp  exp_id  \\\n",
       "2828            Tutorial  3737462046622621720       1564618048     246   \n",
       "2829    MainScreenAppear  3737462046622621720       1564618080     246   \n",
       "2830    MainScreenAppear  3737462046622621720       1564618135     246   \n",
       "2831  OffersScreenAppear  3737462046622621720       1564618138     246   \n",
       "2832    MainScreenAppear  1433840883824088890       1564618139     247   \n",
       "\n",
       "              event_time        date  \n",
       "2828 2019-08-01 00:07:28  2019-08-01  \n",
       "2829 2019-08-01 00:08:00  2019-08-01  \n",
       "2830 2019-08-01 00:08:55  2019-08-01  \n",
       "2831 2019-08-01 00:08:58  2019-08-01  \n",
       "2832 2019-08-01 00:08:59  2019-08-01  "
      ]
     },
     "execution_count": 70,
     "metadata": {},
     "output_type": "execute_result"
    }
   ],
   "source": [
    "logs_new = logs[logs['event_time'] >= '2019-08-01 00:00:00']\n",
    "logs_new.head()"
   ]
  },
  {
   "cell_type": "code",
   "execution_count": 71,
   "metadata": {},
   "outputs": [
    {
     "name": "stdout",
     "output_type": "stream",
     "text": [
      "Было отброшено всего 2828 событий\n",
      "Что составило 1.16 процента от всего количества событий\n",
      "Пользователей было отброшено 17 шт.\n",
      "Что составило 0.23 процента от всего количества пользователей\n",
      "Теперь мы располагаем сведениями за 6 дней\n"
     ]
    }
   ],
   "source": [
    "print( f'Было отброшено всего', logs.shape[0]- logs_new.shape[0], 'событий')\n",
    "print(f'Что составило', round((((logs.shape[0]- logs_new.shape[0]) / logs.shape[0])* 100),2), 'процента от всего количества событий' )\n",
    "print( f'Пользователей было отброшено', logs.device_id.nunique() - logs_new.device_id.nunique(),'шт.')\n",
    "print( f'Что составило', round((((logs.device_id.nunique() - logs_new.device_id.nunique()) /logs.device_id.nunique())* 100),2),'процента от всего количества пользователей')\n",
    "print(f'Теперь мы располагаем сведениями за', (logs_new['date'].max() - logs_new['date'].min()).days, 'дней' )"
   ]
  },
  {
   "cell_type": "markdown",
   "metadata": {},
   "source": [
    "### Проверка, что есть пользователи из всех трёх экспериментальных групп"
   ]
  },
  {
   "cell_type": "code",
   "execution_count": 72,
   "metadata": {},
   "outputs": [
    {
     "data": {
      "text/plain": [
       "exp_id\n",
       "246    2489\n",
       "247    2520\n",
       "248    2542\n",
       "Name: device_id, dtype: int64"
      ]
     },
     "execution_count": 72,
     "metadata": {},
     "output_type": "execute_result"
    }
   ],
   "source": [
    "logs.groupby('exp_id')['device_id'].nunique()"
   ]
  },
  {
   "cell_type": "code",
   "execution_count": 73,
   "metadata": {},
   "outputs": [
    {
     "data": {
      "text/plain": [
       "exp_id\n",
       "246    2484\n",
       "247    2513\n",
       "248    2537\n",
       "Name: device_id, dtype: int64"
      ]
     },
     "execution_count": 73,
     "metadata": {},
     "output_type": "execute_result"
    }
   ],
   "source": [
    "logs_new.groupby('exp_id')['device_id'].nunique()"
   ]
  },
  {
   "cell_type": "markdown",
   "metadata": {},
   "source": [
    "Как мы видим, остались пользователи из всех трёх групп, изменения в соотношениях незначительные"
   ]
  },
  {
   "cell_type": "markdown",
   "metadata": {},
   "source": [
    "### Вывод"
   ]
  },
  {
   "cell_type": "markdown",
   "metadata": {},
   "source": [
    "- В наших данных 5 типов событий и по количеству лидирует показ главной страницы. А самое непопулярное событие- это прохождение обучения;\n",
    "-  у нас данные по 7551 пользователю. Некоторые совершили довольно много действий (макисмум 2307), но часть юзеров ограничилась только одним действием. В среднем каждый пользователь совершает по 32 действия, но медиана событий 20, лучше ориентироваться на нее, так как среднее пострадало из-за \"выбросов\"- пользователей с очень большим количеством событий;\n",
    "- Изначально у нас имеются сведения за 13 дней(с 25 июля 2019 по 7 августа 2019 года). Однако, данные за некоторые дни являются неполными и было принято решение их отбросить. На данный момент мы располагаем сведениями за 6 дней (с 1 августа 2019 по 7 августа 2019 года). В новом датасете есть пользователи из всех трёх групп. Было отброшено 2826 событий (что составило 1,16% от общего числа событий) и 17 пользователей (что составляет 0.23% от общего количества пользователей).\n"
   ]
  },
  {
   "cell_type": "markdown",
   "metadata": {},
   "source": [
    "## Изучение воронки событий\n",
    "\n"
   ]
  },
  {
   "cell_type": "markdown",
   "metadata": {},
   "source": [
    "- Какие события есть в логах, как часто они встречаются. \n",
    "- Cколько пользователей совершали каждое из этих событий и в каком порядке\n",
    "- Какая доля пользователей проходит на следующий шаг воронки (от числа пользователей на предыдущем). \n",
    "- На каком шаге теряется больше всего пользователей?\n",
    "- Какая доля пользователей доходит от первого события до оплаты? \n",
    "- Вывод"
   ]
  },
  {
   "cell_type": "markdown",
   "metadata": {},
   "source": [
    "### Какие события есть в логах, как часто они встречаются"
   ]
  },
  {
   "cell_type": "markdown",
   "metadata": {},
   "source": [
    "Посмотрим, какие события есть в логах и как часто они встречаются:"
   ]
  },
  {
   "cell_type": "code",
   "execution_count": 74,
   "metadata": {},
   "outputs": [
    {
     "data": {
      "text/html": [
       "<div>\n",
       "<style scoped>\n",
       "    .dataframe tbody tr th:only-of-type {\n",
       "        vertical-align: middle;\n",
       "    }\n",
       "\n",
       "    .dataframe tbody tr th {\n",
       "        vertical-align: top;\n",
       "    }\n",
       "\n",
       "    .dataframe thead th {\n",
       "        text-align: right;\n",
       "    }\n",
       "</style>\n",
       "<table border=\"1\" class=\"dataframe\">\n",
       "  <thead>\n",
       "    <tr style=\"text-align: right;\">\n",
       "      <th></th>\n",
       "      <th>event</th>\n",
       "      <th>sum_users</th>\n",
       "    </tr>\n",
       "  </thead>\n",
       "  <tbody>\n",
       "    <tr>\n",
       "      <th>0</th>\n",
       "      <td>MainScreenAppear</td>\n",
       "      <td>117431</td>\n",
       "    </tr>\n",
       "    <tr>\n",
       "      <th>1</th>\n",
       "      <td>OffersScreenAppear</td>\n",
       "      <td>46350</td>\n",
       "    </tr>\n",
       "    <tr>\n",
       "      <th>2</th>\n",
       "      <td>CartScreenAppear</td>\n",
       "      <td>42365</td>\n",
       "    </tr>\n",
       "    <tr>\n",
       "      <th>3</th>\n",
       "      <td>PaymentScreenSuccessful</td>\n",
       "      <td>34113</td>\n",
       "    </tr>\n",
       "    <tr>\n",
       "      <th>4</th>\n",
       "      <td>Tutorial</td>\n",
       "      <td>1039</td>\n",
       "    </tr>\n",
       "  </tbody>\n",
       "</table>\n",
       "</div>"
      ],
      "text/plain": [
       "                     event  sum_users\n",
       "0         MainScreenAppear     117431\n",
       "1       OffersScreenAppear      46350\n",
       "2         CartScreenAppear      42365\n",
       "3  PaymentScreenSuccessful      34113\n",
       "4                 Tutorial       1039"
      ]
     },
     "execution_count": 74,
     "metadata": {},
     "output_type": "execute_result"
    }
   ],
   "source": [
    "events_sum_new = logs_new.groupby('event_name')['device_id'].count() \\\n",
    "                 .sort_values(ascending = False) \\\n",
    "                 .reset_index()\n",
    "events_sum_new.columns = ['event', 'sum_users']\n",
    "\n",
    "events_sum_new"
   ]
  },
  {
   "cell_type": "markdown",
   "metadata": {},
   "source": [
    "Как и в изначальном датасете самое частое событие- это показ главное экрана, а самое непопулярное- обучение"
   ]
  },
  {
   "cell_type": "markdown",
   "metadata": {},
   "source": [
    "###  Cколько пользователей совершали каждое из этих событий и в каком порядке"
   ]
  },
  {
   "cell_type": "markdown",
   "metadata": {},
   "source": [
    "Посчитаем, сколько пользователей совершали каждое из этих событий и посчитаем долю пользователей, которые хоть раз совершали событие:"
   ]
  },
  {
   "cell_type": "code",
   "execution_count": 75,
   "metadata": {},
   "outputs": [
    {
     "data": {
      "text/html": [
       "<div>\n",
       "<style scoped>\n",
       "    .dataframe tbody tr th:only-of-type {\n",
       "        vertical-align: middle;\n",
       "    }\n",
       "\n",
       "    .dataframe tbody tr th {\n",
       "        vertical-align: top;\n",
       "    }\n",
       "\n",
       "    .dataframe thead th {\n",
       "        text-align: right;\n",
       "    }\n",
       "</style>\n",
       "<table border=\"1\" class=\"dataframe\">\n",
       "  <thead>\n",
       "    <tr style=\"text-align: right;\">\n",
       "      <th></th>\n",
       "      <th>event</th>\n",
       "      <th>count_users</th>\n",
       "      <th>percent_of_all_users</th>\n",
       "    </tr>\n",
       "  </thead>\n",
       "  <tbody>\n",
       "    <tr>\n",
       "      <th>0</th>\n",
       "      <td>MainScreenAppear</td>\n",
       "      <td>7419</td>\n",
       "      <td>98.47</td>\n",
       "    </tr>\n",
       "    <tr>\n",
       "      <th>1</th>\n",
       "      <td>OffersScreenAppear</td>\n",
       "      <td>4593</td>\n",
       "      <td>60.96</td>\n",
       "    </tr>\n",
       "    <tr>\n",
       "      <th>2</th>\n",
       "      <td>CartScreenAppear</td>\n",
       "      <td>3734</td>\n",
       "      <td>49.56</td>\n",
       "    </tr>\n",
       "    <tr>\n",
       "      <th>3</th>\n",
       "      <td>PaymentScreenSuccessful</td>\n",
       "      <td>3539</td>\n",
       "      <td>46.97</td>\n",
       "    </tr>\n",
       "    <tr>\n",
       "      <th>4</th>\n",
       "      <td>Tutorial</td>\n",
       "      <td>840</td>\n",
       "      <td>11.15</td>\n",
       "    </tr>\n",
       "  </tbody>\n",
       "</table>\n",
       "</div>"
      ],
      "text/plain": [
       "                     event  count_users  percent_of_all_users\n",
       "0         MainScreenAppear         7419                 98.47\n",
       "1       OffersScreenAppear         4593                 60.96\n",
       "2         CartScreenAppear         3734                 49.56\n",
       "3  PaymentScreenSuccessful         3539                 46.97\n",
       "4                 Tutorial          840                 11.15"
      ]
     },
     "execution_count": 75,
     "metadata": {},
     "output_type": "execute_result"
    }
   ],
   "source": [
    "events_users = logs_new.groupby('event_name')['device_id'].nunique() \\\n",
    "                       .sort_values(ascending=False) \\\n",
    "                       .reset_index()\n",
    "\n",
    "events_users.columns = ['event', 'count_users']\n",
    "\n",
    "events_users['percent_of_all_users']= round(events_users['count_users']/logs_new['device_id'].nunique()*100,2)\n",
    "events_users"
   ]
  },
  {
   "cell_type": "markdown",
   "metadata": {},
   "source": [
    "Как мы видим не все пользователи начали действия с просмотра гавного экрана, вероятно, это те пользователи, что перешли по рекламному баннеру сразу к товару(OffersScreenAppear) и не стали переходить на главный экран.  \n",
    "\n",
    "Судя по процентному соотношению, порядок взаимодействия с приложением следующий: \n",
    "\n",
    "    сначала демонстрация главного экрана (MainScreenAppear), затем показ страницы товара (OffersScreenAppear), далее переход в корзину (CartScreenAppear) и оплата (PaymentScreenSuccessful).\n",
    "\n",
    "Шаг с обучением логичнее всего должен происходит в начале итерации (так как нет смысла обучать тех, кто уже разобрался со всей схемой работы),но может в теорит проходить на любом этапе, да и обучение проходят всего 11.15 % пользователей, возможно оно не так уж и нужно нашему приложению, либо нуждается в переработке. Принимаем решение, отказаться от шага \"Tutorial\" в дальнейшем исследовании"
   ]
  },
  {
   "cell_type": "markdown",
   "metadata": {},
   "source": [
    "### Какая доля пользователей проходит на следующий шаг воронки"
   ]
  },
  {
   "cell_type": "code",
   "execution_count": 76,
   "metadata": {},
   "outputs": [
    {
     "name": "stdout",
     "output_type": "stream",
     "text": [
      "Всего 61.9 % пользователей, увидевших главную страницу, переходят на страницу товара.\n",
      "Всего 81.3 % пользователей, смотревших страницу товара, переходят в корзину.\n",
      "Всего 94.8 % пользователей, смотревших корзину, оплачивают заказ.\n"
     ]
    }
   ],
   "source": [
    "#убираем события вида Tutorial\n",
    "events_users = events_users.query('event != \"Tutorial\"')\n",
    "\n",
    "#добавляем столбец с конверсией от предыдущего шага\n",
    "events_users['conversion'] = round(((events_users['count_users'].pct_change() * 100) + 100),1)\n",
    "\n",
    "print( f'Всего', events_users['conversion'][1] ,'% пользователей, увидевших главную страницу, переходят на страницу товара.')  \n",
    "print( f'Всего', events_users['conversion'][2] ,'% пользователей, смотревших страницу товара, переходят в корзину.')  \n",
    "print( f'Всего', events_users['conversion'][3] ,'% пользователей, смотревших корзину, оплачивают заказ.')  "
   ]
  },
  {
   "cell_type": "markdown",
   "metadata": {},
   "source": [
    "Больше всего пользователей теряется на втором шаге, 38.1 % пользователей увидевших главный экран не перешли к просмотру товара."
   ]
  },
  {
   "cell_type": "markdown",
   "metadata": {},
   "source": [
    "### Какая доля пользователей доходит от первого события до оплаты?"
   ]
  },
  {
   "cell_type": "code",
   "execution_count": 77,
   "metadata": {},
   "outputs": [
    {
     "data": {
      "text/html": [
       "<div>\n",
       "<style scoped>\n",
       "    .dataframe tbody tr th:only-of-type {\n",
       "        vertical-align: middle;\n",
       "    }\n",
       "\n",
       "    .dataframe tbody tr th {\n",
       "        vertical-align: top;\n",
       "    }\n",
       "\n",
       "    .dataframe thead th {\n",
       "        text-align: right;\n",
       "    }\n",
       "</style>\n",
       "<table border=\"1\" class=\"dataframe\">\n",
       "  <thead>\n",
       "    <tr style=\"text-align: right;\">\n",
       "      <th></th>\n",
       "      <th>event</th>\n",
       "      <th>count_users</th>\n",
       "      <th>percent_of_all_users</th>\n",
       "      <th>conversion</th>\n",
       "      <th>first_to_last</th>\n",
       "    </tr>\n",
       "  </thead>\n",
       "  <tbody>\n",
       "    <tr>\n",
       "      <th>0</th>\n",
       "      <td>MainScreenAppear</td>\n",
       "      <td>7419</td>\n",
       "      <td>98.47</td>\n",
       "      <td>NaN</td>\n",
       "      <td>100.0</td>\n",
       "    </tr>\n",
       "    <tr>\n",
       "      <th>1</th>\n",
       "      <td>OffersScreenAppear</td>\n",
       "      <td>4593</td>\n",
       "      <td>60.96</td>\n",
       "      <td>61.9</td>\n",
       "      <td>61.9</td>\n",
       "    </tr>\n",
       "    <tr>\n",
       "      <th>2</th>\n",
       "      <td>CartScreenAppear</td>\n",
       "      <td>3734</td>\n",
       "      <td>49.56</td>\n",
       "      <td>81.3</td>\n",
       "      <td>50.3</td>\n",
       "    </tr>\n",
       "    <tr>\n",
       "      <th>3</th>\n",
       "      <td>PaymentScreenSuccessful</td>\n",
       "      <td>3539</td>\n",
       "      <td>46.97</td>\n",
       "      <td>94.8</td>\n",
       "      <td>47.7</td>\n",
       "    </tr>\n",
       "  </tbody>\n",
       "</table>\n",
       "</div>"
      ],
      "text/plain": [
       "                     event  count_users  percent_of_all_users  conversion  \\\n",
       "0         MainScreenAppear         7419                 98.47         NaN   \n",
       "1       OffersScreenAppear         4593                 60.96        61.9   \n",
       "2         CartScreenAppear         3734                 49.56        81.3   \n",
       "3  PaymentScreenSuccessful         3539                 46.97        94.8   \n",
       "\n",
       "   first_to_last  \n",
       "0          100.0  \n",
       "1           61.9  \n",
       "2           50.3  \n",
       "3           47.7  "
      ]
     },
     "execution_count": 77,
     "metadata": {},
     "output_type": "execute_result"
    }
   ],
   "source": [
    "events_users['first_to_last'] = round((events_users['count_users'] / events_users['count_users'][0]) * 100,1)\n",
    "events_users"
   ]
  },
  {
   "cell_type": "markdown",
   "metadata": {},
   "source": [
    "Как мы видим, весь путь от первого до последнего этапа проходят 47.7 % пользователей."
   ]
  },
  {
   "cell_type": "code",
   "execution_count": 78,
   "metadata": {},
   "outputs": [
    {
     "data": {
      "application/vnd.plotly.v1+json": {
       "config": {
        "plotlyServerURL": "https://plot.ly"
       },
       "data": [
        {
         "hovertemplate": "count_users=%{x}<br>event=%{y}<extra></extra>",
         "legendgroup": "",
         "marker": {
          "color": "#636efa"
         },
         "name": "",
         "orientation": "h",
         "showlegend": false,
         "type": "funnel",
         "x": [
          7419,
          4593,
          3734,
          3539
         ],
         "xaxis": "x",
         "y": [
          "MainScreenAppear",
          "OffersScreenAppear",
          "CartScreenAppear",
          "PaymentScreenSuccessful"
         ],
         "yaxis": "y"
        }
       ],
       "layout": {
        "autosize": true,
        "legend": {
         "tracegroupgap": 0
        },
        "template": {
         "data": {
          "bar": [
           {
            "error_x": {
             "color": "#2a3f5f"
            },
            "error_y": {
             "color": "#2a3f5f"
            },
            "marker": {
             "line": {
              "color": "#E5ECF6",
              "width": 0.5
             },
             "pattern": {
              "fillmode": "overlay",
              "size": 10,
              "solidity": 0.2
             }
            },
            "type": "bar"
           }
          ],
          "barpolar": [
           {
            "marker": {
             "line": {
              "color": "#E5ECF6",
              "width": 0.5
             },
             "pattern": {
              "fillmode": "overlay",
              "size": 10,
              "solidity": 0.2
             }
            },
            "type": "barpolar"
           }
          ],
          "carpet": [
           {
            "aaxis": {
             "endlinecolor": "#2a3f5f",
             "gridcolor": "white",
             "linecolor": "white",
             "minorgridcolor": "white",
             "startlinecolor": "#2a3f5f"
            },
            "baxis": {
             "endlinecolor": "#2a3f5f",
             "gridcolor": "white",
             "linecolor": "white",
             "minorgridcolor": "white",
             "startlinecolor": "#2a3f5f"
            },
            "type": "carpet"
           }
          ],
          "choropleth": [
           {
            "colorbar": {
             "outlinewidth": 0,
             "ticks": ""
            },
            "type": "choropleth"
           }
          ],
          "contour": [
           {
            "colorbar": {
             "outlinewidth": 0,
             "ticks": ""
            },
            "colorscale": [
             [
              0,
              "#0d0887"
             ],
             [
              0.1111111111111111,
              "#46039f"
             ],
             [
              0.2222222222222222,
              "#7201a8"
             ],
             [
              0.3333333333333333,
              "#9c179e"
             ],
             [
              0.4444444444444444,
              "#bd3786"
             ],
             [
              0.5555555555555556,
              "#d8576b"
             ],
             [
              0.6666666666666666,
              "#ed7953"
             ],
             [
              0.7777777777777778,
              "#fb9f3a"
             ],
             [
              0.8888888888888888,
              "#fdca26"
             ],
             [
              1,
              "#f0f921"
             ]
            ],
            "type": "contour"
           }
          ],
          "contourcarpet": [
           {
            "colorbar": {
             "outlinewidth": 0,
             "ticks": ""
            },
            "type": "contourcarpet"
           }
          ],
          "heatmap": [
           {
            "colorbar": {
             "outlinewidth": 0,
             "ticks": ""
            },
            "colorscale": [
             [
              0,
              "#0d0887"
             ],
             [
              0.1111111111111111,
              "#46039f"
             ],
             [
              0.2222222222222222,
              "#7201a8"
             ],
             [
              0.3333333333333333,
              "#9c179e"
             ],
             [
              0.4444444444444444,
              "#bd3786"
             ],
             [
              0.5555555555555556,
              "#d8576b"
             ],
             [
              0.6666666666666666,
              "#ed7953"
             ],
             [
              0.7777777777777778,
              "#fb9f3a"
             ],
             [
              0.8888888888888888,
              "#fdca26"
             ],
             [
              1,
              "#f0f921"
             ]
            ],
            "type": "heatmap"
           }
          ],
          "heatmapgl": [
           {
            "colorbar": {
             "outlinewidth": 0,
             "ticks": ""
            },
            "colorscale": [
             [
              0,
              "#0d0887"
             ],
             [
              0.1111111111111111,
              "#46039f"
             ],
             [
              0.2222222222222222,
              "#7201a8"
             ],
             [
              0.3333333333333333,
              "#9c179e"
             ],
             [
              0.4444444444444444,
              "#bd3786"
             ],
             [
              0.5555555555555556,
              "#d8576b"
             ],
             [
              0.6666666666666666,
              "#ed7953"
             ],
             [
              0.7777777777777778,
              "#fb9f3a"
             ],
             [
              0.8888888888888888,
              "#fdca26"
             ],
             [
              1,
              "#f0f921"
             ]
            ],
            "type": "heatmapgl"
           }
          ],
          "histogram": [
           {
            "marker": {
             "pattern": {
              "fillmode": "overlay",
              "size": 10,
              "solidity": 0.2
             }
            },
            "type": "histogram"
           }
          ],
          "histogram2d": [
           {
            "colorbar": {
             "outlinewidth": 0,
             "ticks": ""
            },
            "colorscale": [
             [
              0,
              "#0d0887"
             ],
             [
              0.1111111111111111,
              "#46039f"
             ],
             [
              0.2222222222222222,
              "#7201a8"
             ],
             [
              0.3333333333333333,
              "#9c179e"
             ],
             [
              0.4444444444444444,
              "#bd3786"
             ],
             [
              0.5555555555555556,
              "#d8576b"
             ],
             [
              0.6666666666666666,
              "#ed7953"
             ],
             [
              0.7777777777777778,
              "#fb9f3a"
             ],
             [
              0.8888888888888888,
              "#fdca26"
             ],
             [
              1,
              "#f0f921"
             ]
            ],
            "type": "histogram2d"
           }
          ],
          "histogram2dcontour": [
           {
            "colorbar": {
             "outlinewidth": 0,
             "ticks": ""
            },
            "colorscale": [
             [
              0,
              "#0d0887"
             ],
             [
              0.1111111111111111,
              "#46039f"
             ],
             [
              0.2222222222222222,
              "#7201a8"
             ],
             [
              0.3333333333333333,
              "#9c179e"
             ],
             [
              0.4444444444444444,
              "#bd3786"
             ],
             [
              0.5555555555555556,
              "#d8576b"
             ],
             [
              0.6666666666666666,
              "#ed7953"
             ],
             [
              0.7777777777777778,
              "#fb9f3a"
             ],
             [
              0.8888888888888888,
              "#fdca26"
             ],
             [
              1,
              "#f0f921"
             ]
            ],
            "type": "histogram2dcontour"
           }
          ],
          "mesh3d": [
           {
            "colorbar": {
             "outlinewidth": 0,
             "ticks": ""
            },
            "type": "mesh3d"
           }
          ],
          "parcoords": [
           {
            "line": {
             "colorbar": {
              "outlinewidth": 0,
              "ticks": ""
             }
            },
            "type": "parcoords"
           }
          ],
          "pie": [
           {
            "automargin": true,
            "type": "pie"
           }
          ],
          "scatter": [
           {
            "marker": {
             "colorbar": {
              "outlinewidth": 0,
              "ticks": ""
             }
            },
            "type": "scatter"
           }
          ],
          "scatter3d": [
           {
            "line": {
             "colorbar": {
              "outlinewidth": 0,
              "ticks": ""
             }
            },
            "marker": {
             "colorbar": {
              "outlinewidth": 0,
              "ticks": ""
             }
            },
            "type": "scatter3d"
           }
          ],
          "scattercarpet": [
           {
            "marker": {
             "colorbar": {
              "outlinewidth": 0,
              "ticks": ""
             }
            },
            "type": "scattercarpet"
           }
          ],
          "scattergeo": [
           {
            "marker": {
             "colorbar": {
              "outlinewidth": 0,
              "ticks": ""
             }
            },
            "type": "scattergeo"
           }
          ],
          "scattergl": [
           {
            "marker": {
             "colorbar": {
              "outlinewidth": 0,
              "ticks": ""
             }
            },
            "type": "scattergl"
           }
          ],
          "scattermapbox": [
           {
            "marker": {
             "colorbar": {
              "outlinewidth": 0,
              "ticks": ""
             }
            },
            "type": "scattermapbox"
           }
          ],
          "scatterpolar": [
           {
            "marker": {
             "colorbar": {
              "outlinewidth": 0,
              "ticks": ""
             }
            },
            "type": "scatterpolar"
           }
          ],
          "scatterpolargl": [
           {
            "marker": {
             "colorbar": {
              "outlinewidth": 0,
              "ticks": ""
             }
            },
            "type": "scatterpolargl"
           }
          ],
          "scatterternary": [
           {
            "marker": {
             "colorbar": {
              "outlinewidth": 0,
              "ticks": ""
             }
            },
            "type": "scatterternary"
           }
          ],
          "surface": [
           {
            "colorbar": {
             "outlinewidth": 0,
             "ticks": ""
            },
            "colorscale": [
             [
              0,
              "#0d0887"
             ],
             [
              0.1111111111111111,
              "#46039f"
             ],
             [
              0.2222222222222222,
              "#7201a8"
             ],
             [
              0.3333333333333333,
              "#9c179e"
             ],
             [
              0.4444444444444444,
              "#bd3786"
             ],
             [
              0.5555555555555556,
              "#d8576b"
             ],
             [
              0.6666666666666666,
              "#ed7953"
             ],
             [
              0.7777777777777778,
              "#fb9f3a"
             ],
             [
              0.8888888888888888,
              "#fdca26"
             ],
             [
              1,
              "#f0f921"
             ]
            ],
            "type": "surface"
           }
          ],
          "table": [
           {
            "cells": {
             "fill": {
              "color": "#EBF0F8"
             },
             "line": {
              "color": "white"
             }
            },
            "header": {
             "fill": {
              "color": "#C8D4E3"
             },
             "line": {
              "color": "white"
             }
            },
            "type": "table"
           }
          ]
         },
         "layout": {
          "annotationdefaults": {
           "arrowcolor": "#2a3f5f",
           "arrowhead": 0,
           "arrowwidth": 1
          },
          "autotypenumbers": "strict",
          "coloraxis": {
           "colorbar": {
            "outlinewidth": 0,
            "ticks": ""
           }
          },
          "colorscale": {
           "diverging": [
            [
             0,
             "#8e0152"
            ],
            [
             0.1,
             "#c51b7d"
            ],
            [
             0.2,
             "#de77ae"
            ],
            [
             0.3,
             "#f1b6da"
            ],
            [
             0.4,
             "#fde0ef"
            ],
            [
             0.5,
             "#f7f7f7"
            ],
            [
             0.6,
             "#e6f5d0"
            ],
            [
             0.7,
             "#b8e186"
            ],
            [
             0.8,
             "#7fbc41"
            ],
            [
             0.9,
             "#4d9221"
            ],
            [
             1,
             "#276419"
            ]
           ],
           "sequential": [
            [
             0,
             "#0d0887"
            ],
            [
             0.1111111111111111,
             "#46039f"
            ],
            [
             0.2222222222222222,
             "#7201a8"
            ],
            [
             0.3333333333333333,
             "#9c179e"
            ],
            [
             0.4444444444444444,
             "#bd3786"
            ],
            [
             0.5555555555555556,
             "#d8576b"
            ],
            [
             0.6666666666666666,
             "#ed7953"
            ],
            [
             0.7777777777777778,
             "#fb9f3a"
            ],
            [
             0.8888888888888888,
             "#fdca26"
            ],
            [
             1,
             "#f0f921"
            ]
           ],
           "sequentialminus": [
            [
             0,
             "#0d0887"
            ],
            [
             0.1111111111111111,
             "#46039f"
            ],
            [
             0.2222222222222222,
             "#7201a8"
            ],
            [
             0.3333333333333333,
             "#9c179e"
            ],
            [
             0.4444444444444444,
             "#bd3786"
            ],
            [
             0.5555555555555556,
             "#d8576b"
            ],
            [
             0.6666666666666666,
             "#ed7953"
            ],
            [
             0.7777777777777778,
             "#fb9f3a"
            ],
            [
             0.8888888888888888,
             "#fdca26"
            ],
            [
             1,
             "#f0f921"
            ]
           ]
          },
          "colorway": [
           "#636efa",
           "#EF553B",
           "#00cc96",
           "#ab63fa",
           "#FFA15A",
           "#19d3f3",
           "#FF6692",
           "#B6E880",
           "#FF97FF",
           "#FECB52"
          ],
          "font": {
           "color": "#2a3f5f"
          },
          "geo": {
           "bgcolor": "white",
           "lakecolor": "white",
           "landcolor": "#E5ECF6",
           "showlakes": true,
           "showland": true,
           "subunitcolor": "white"
          },
          "hoverlabel": {
           "align": "left"
          },
          "hovermode": "closest",
          "mapbox": {
           "style": "light"
          },
          "paper_bgcolor": "white",
          "plot_bgcolor": "#E5ECF6",
          "polar": {
           "angularaxis": {
            "gridcolor": "white",
            "linecolor": "white",
            "ticks": ""
           },
           "bgcolor": "#E5ECF6",
           "radialaxis": {
            "gridcolor": "white",
            "linecolor": "white",
            "ticks": ""
           }
          },
          "scene": {
           "xaxis": {
            "backgroundcolor": "#E5ECF6",
            "gridcolor": "white",
            "gridwidth": 2,
            "linecolor": "white",
            "showbackground": true,
            "ticks": "",
            "zerolinecolor": "white"
           },
           "yaxis": {
            "backgroundcolor": "#E5ECF6",
            "gridcolor": "white",
            "gridwidth": 2,
            "linecolor": "white",
            "showbackground": true,
            "ticks": "",
            "zerolinecolor": "white"
           },
           "zaxis": {
            "backgroundcolor": "#E5ECF6",
            "gridcolor": "white",
            "gridwidth": 2,
            "linecolor": "white",
            "showbackground": true,
            "ticks": "",
            "zerolinecolor": "white"
           }
          },
          "shapedefaults": {
           "line": {
            "color": "#2a3f5f"
           }
          },
          "ternary": {
           "aaxis": {
            "gridcolor": "white",
            "linecolor": "white",
            "ticks": ""
           },
           "baxis": {
            "gridcolor": "white",
            "linecolor": "white",
            "ticks": ""
           },
           "bgcolor": "#E5ECF6",
           "caxis": {
            "gridcolor": "white",
            "linecolor": "white",
            "ticks": ""
           }
          },
          "title": {
           "x": 0.05
          },
          "xaxis": {
           "automargin": true,
           "gridcolor": "white",
           "linecolor": "white",
           "ticks": "",
           "title": {
            "standoff": 15
           },
           "zerolinecolor": "white",
           "zerolinewidth": 2
          },
          "yaxis": {
           "automargin": true,
           "gridcolor": "white",
           "linecolor": "white",
           "ticks": "",
           "title": {
            "standoff": 15
           },
           "zerolinecolor": "white",
           "zerolinewidth": 2
          }
         }
        },
        "title": {
         "text": "Воронка событий"
        },
        "xaxis": {
         "anchor": "y",
         "autorange": true,
         "domain": [
          0,
          1
         ],
         "range": [
          -4121.666666666667,
          4121.666666666667
         ],
         "title": {
          "text": "count_users"
         },
         "type": "linear"
        },
        "yaxis": {
         "anchor": "x",
         "autorange": true,
         "domain": [
          0,
          1
         ],
         "range": [
          3.5,
          -0.5
         ],
         "title": {
          "text": "event"
         },
         "type": "category"
        }
       }
      },
      "image/png": "[encoded data removed]",
      "text/html": [
       "<div>                            <div id=\"e594ca73-f6e3-4ab5-9db5-8d8c48029af2\" class=\"plotly-graph-div\" style=\"height:525px; width:100%;\"></div>            <script type=\"text/javascript\">                require([\"plotly\"], function(Plotly) {                    window.PLOTLYENV=window.PLOTLYENV || {};                                    if (document.getElementById(\"e594ca73-f6e3-4ab5-9db5-8d8c48029af2\")) {                    Plotly.newPlot(                        \"e594ca73-f6e3-4ab5-9db5-8d8c48029af2\",                        [{\"hovertemplate\":\"count_users=%{x}<br>event=%{y}<extra></extra>\",\"legendgroup\":\"\",\"marker\":{\"color\":\"#636efa\"},\"name\":\"\",\"orientation\":\"h\",\"showlegend\":false,\"x\":[7419,4593,3734,3539],\"xaxis\":\"x\",\"y\":[\"MainScreenAppear\",\"OffersScreenAppear\",\"CartScreenAppear\",\"PaymentScreenSuccessful\"],\"yaxis\":\"y\",\"type\":\"funnel\"}],                        {\"template\":{\"data\":{\"bar\":[{\"error_x\":{\"color\":\"#2a3f5f\"},\"error_y\":{\"color\":\"#2a3f5f\"},\"marker\":{\"line\":{\"color\":\"#E5ECF6\",\"width\":0.5},\"pattern\":{\"fillmode\":\"overlay\",\"size\":10,\"solidity\":0.2}},\"type\":\"bar\"}],\"barpolar\":[{\"marker\":{\"line\":{\"color\":\"#E5ECF6\",\"width\":0.5},\"pattern\":{\"fillmode\":\"overlay\",\"size\":10,\"solidity\":0.2}},\"type\":\"barpolar\"}],\"carpet\":[{\"aaxis\":{\"endlinecolor\":\"#2a3f5f\",\"gridcolor\":\"white\",\"linecolor\":\"white\",\"minorgridcolor\":\"white\",\"startlinecolor\":\"#2a3f5f\"},\"baxis\":{\"endlinecolor\":\"#2a3f5f\",\"gridcolor\":\"white\",\"linecolor\":\"white\",\"minorgridcolor\":\"white\",\"startlinecolor\":\"#2a3f5f\"},\"type\":\"carpet\"}],\"choropleth\":[{\"colorbar\":{\"outlinewidth\":0,\"ticks\":\"\"},\"type\":\"choropleth\"}],\"contour\":[{\"colorbar\":{\"outlinewidth\":0,\"ticks\":\"\"},\"colorscale\":[[0.0,\"#0d0887\"],[0.1111111111111111,\"#46039f\"],[0.2222222222222222,\"#7201a8\"],[0.3333333333333333,\"#9c179e\"],[0.4444444444444444,\"#bd3786\"],[0.5555555555555556,\"#d8576b\"],[0.6666666666666666,\"#ed7953\"],[0.7777777777777778,\"#fb9f3a\"],[0.8888888888888888,\"#fdca26\"],[1.0,\"#f0f921\"]],\"type\":\"contour\"}],\"contourcarpet\":[{\"colorbar\":{\"outlinewidth\":0,\"ticks\":\"\"},\"type\":\"contourcarpet\"}],\"heatmap\":[{\"colorbar\":{\"outlinewidth\":0,\"ticks\":\"\"},\"colorscale\":[[0.0,\"#0d0887\"],[0.1111111111111111,\"#46039f\"],[0.2222222222222222,\"#7201a8\"],[0.3333333333333333,\"#9c179e\"],[0.4444444444444444,\"#bd3786\"],[0.5555555555555556,\"#d8576b\"],[0.6666666666666666,\"#ed7953\"],[0.7777777777777778,\"#fb9f3a\"],[0.8888888888888888,\"#fdca26\"],[1.0,\"#f0f921\"]],\"type\":\"heatmap\"}],\"heatmapgl\":[{\"colorbar\":{\"outlinewidth\":0,\"ticks\":\"\"},\"colorscale\":[[0.0,\"#0d0887\"],[0.1111111111111111,\"#46039f\"],[0.2222222222222222,\"#7201a8\"],[0.3333333333333333,\"#9c179e\"],[0.4444444444444444,\"#bd3786\"],[0.5555555555555556,\"#d8576b\"],[0.6666666666666666,\"#ed7953\"],[0.7777777777777778,\"#fb9f3a\"],[0.8888888888888888,\"#fdca26\"],[1.0,\"#f0f921\"]],\"type\":\"heatmapgl\"}],\"histogram\":[{\"marker\":{\"pattern\":{\"fillmode\":\"overlay\",\"size\":10,\"solidity\":0.2}},\"type\":\"histogram\"}],\"histogram2d\":[{\"colorbar\":{\"outlinewidth\":0,\"ticks\":\"\"},\"colorscale\":[[0.0,\"#0d0887\"],[0.1111111111111111,\"#46039f\"],[0.2222222222222222,\"#7201a8\"],[0.3333333333333333,\"#9c179e\"],[0.4444444444444444,\"#bd3786\"],[0.5555555555555556,\"#d8576b\"],[0.6666666666666666,\"#ed7953\"],[0.7777777777777778,\"#fb9f3a\"],[0.8888888888888888,\"#fdca26\"],[1.0,\"#f0f921\"]],\"type\":\"histogram2d\"}],\"histogram2dcontour\":[{\"colorbar\":{\"outlinewidth\":0,\"ticks\":\"\"},\"colorscale\":[[0.0,\"#0d0887\"],[0.1111111111111111,\"#46039f\"],[0.2222222222222222,\"#7201a8\"],[0.3333333333333333,\"#9c179e\"],[0.4444444444444444,\"#bd3786\"],[0.5555555555555556,\"#d8576b\"],[0.6666666666666666,\"#ed7953\"],[0.7777777777777778,\"#fb9f3a\"],[0.8888888888888888,\"#fdca26\"],[1.0,\"#f0f921\"]],\"type\":\"histogram2dcontour\"}],\"mesh3d\":[{\"colorbar\":{\"outlinewidth\":0,\"ticks\":\"\"},\"type\":\"mesh3d\"}],\"parcoords\":[{\"line\":{\"colorbar\":{\"outlinewidth\":0,\"ticks\":\"\"}},\"type\":\"parcoords\"}],\"pie\":[{\"automargin\":true,\"type\":\"pie\"}],\"scatter\":[{\"marker\":{\"colorbar\":{\"outlinewidth\":0,\"ticks\":\"\"}},\"type\":\"scatter\"}],\"scatter3d\":[{\"line\":{\"colorbar\":{\"outlinewidth\":0,\"ticks\":\"\"}},\"marker\":{\"colorbar\":{\"outlinewidth\":0,\"ticks\":\"\"}},\"type\":\"scatter3d\"}],\"scattercarpet\":[{\"marker\":{\"colorbar\":{\"outlinewidth\":0,\"ticks\":\"\"}},\"type\":\"scattercarpet\"}],\"scattergeo\":[{\"marker\":{\"colorbar\":{\"outlinewidth\":0,\"ticks\":\"\"}},\"type\":\"scattergeo\"}],\"scattergl\":[{\"marker\":{\"colorbar\":{\"outlinewidth\":0,\"ticks\":\"\"}},\"type\":\"scattergl\"}],\"scattermapbox\":[{\"marker\":{\"colorbar\":{\"outlinewidth\":0,\"ticks\":\"\"}},\"type\":\"scattermapbox\"}],\"scatterpolar\":[{\"marker\":{\"colorbar\":{\"outlinewidth\":0,\"ticks\":\"\"}},\"type\":\"scatterpolar\"}],\"scatterpolargl\":[{\"marker\":{\"colorbar\":{\"outlinewidth\":0,\"ticks\":\"\"}},\"type\":\"scatterpolargl\"}],\"scatterternary\":[{\"marker\":{\"colorbar\":{\"outlinewidth\":0,\"ticks\":\"\"}},\"type\":\"scatterternary\"}],\"surface\":[{\"colorbar\":{\"outlinewidth\":0,\"ticks\":\"\"},\"colorscale\":[[0.0,\"#0d0887\"],[0.1111111111111111,\"#46039f\"],[0.2222222222222222,\"#7201a8\"],[0.3333333333333333,\"#9c179e\"],[0.4444444444444444,\"#bd3786\"],[0.5555555555555556,\"#d8576b\"],[0.6666666666666666,\"#ed7953\"],[0.7777777777777778,\"#fb9f3a\"],[0.8888888888888888,\"#fdca26\"],[1.0,\"#f0f921\"]],\"type\":\"surface\"}],\"table\":[{\"cells\":{\"fill\":{\"color\":\"#EBF0F8\"},\"line\":{\"color\":\"white\"}},\"header\":{\"fill\":{\"color\":\"#C8D4E3\"},\"line\":{\"color\":\"white\"}},\"type\":\"table\"}]},\"layout\":{\"annotationdefaults\":{\"arrowcolor\":\"#2a3f5f\",\"arrowhead\":0,\"arrowwidth\":1},\"autotypenumbers\":\"strict\",\"coloraxis\":{\"colorbar\":{\"outlinewidth\":0,\"ticks\":\"\"}},\"colorscale\":{\"diverging\":[[0,\"#8e0152\"],[0.1,\"#c51b7d\"],[0.2,\"#de77ae\"],[0.3,\"#f1b6da\"],[0.4,\"#fde0ef\"],[0.5,\"#f7f7f7\"],[0.6,\"#e6f5d0\"],[0.7,\"#b8e186\"],[0.8,\"#7fbc41\"],[0.9,\"#4d9221\"],[1,\"#276419\"]],\"sequential\":[[0.0,\"#0d0887\"],[0.1111111111111111,\"#46039f\"],[0.2222222222222222,\"#7201a8\"],[0.3333333333333333,\"#9c179e\"],[0.4444444444444444,\"#bd3786\"],[0.5555555555555556,\"#d8576b\"],[0.6666666666666666,\"#ed7953\"],[0.7777777777777778,\"#fb9f3a\"],[0.8888888888888888,\"#fdca26\"],[1.0,\"#f0f921\"]],\"sequentialminus\":[[0.0,\"#0d0887\"],[0.1111111111111111,\"#46039f\"],[0.2222222222222222,\"#7201a8\"],[0.3333333333333333,\"#9c179e\"],[0.4444444444444444,\"#bd3786\"],[0.5555555555555556,\"#d8576b\"],[0.6666666666666666,\"#ed7953\"],[0.7777777777777778,\"#fb9f3a\"],[0.8888888888888888,\"#fdca26\"],[1.0,\"#f0f921\"]]},\"colorway\":[\"#636efa\",\"#EF553B\",\"#00cc96\",\"#ab63fa\",\"#FFA15A\",\"#19d3f3\",\"#FF6692\",\"#B6E880\",\"#FF97FF\",\"#FECB52\"],\"font\":{\"color\":\"#2a3f5f\"},\"geo\":{\"bgcolor\":\"white\",\"lakecolor\":\"white\",\"landcolor\":\"#E5ECF6\",\"showlakes\":true,\"showland\":true,\"subunitcolor\":\"white\"},\"hoverlabel\":{\"align\":\"left\"},\"hovermode\":\"closest\",\"mapbox\":{\"style\":\"light\"},\"paper_bgcolor\":\"white\",\"plot_bgcolor\":\"#E5ECF6\",\"polar\":{\"angularaxis\":{\"gridcolor\":\"white\",\"linecolor\":\"white\",\"ticks\":\"\"},\"bgcolor\":\"#E5ECF6\",\"radialaxis\":{\"gridcolor\":\"white\",\"linecolor\":\"white\",\"ticks\":\"\"}},\"scene\":{\"xaxis\":{\"backgroundcolor\":\"#E5ECF6\",\"gridcolor\":\"white\",\"gridwidth\":2,\"linecolor\":\"white\",\"showbackground\":true,\"ticks\":\"\",\"zerolinecolor\":\"white\"},\"yaxis\":{\"backgroundcolor\":\"#E5ECF6\",\"gridcolor\":\"white\",\"gridwidth\":2,\"linecolor\":\"white\",\"showbackground\":true,\"ticks\":\"\",\"zerolinecolor\":\"white\"},\"zaxis\":{\"backgroundcolor\":\"#E5ECF6\",\"gridcolor\":\"white\",\"gridwidth\":2,\"linecolor\":\"white\",\"showbackground\":true,\"ticks\":\"\",\"zerolinecolor\":\"white\"}},\"shapedefaults\":{\"line\":{\"color\":\"#2a3f5f\"}},\"ternary\":{\"aaxis\":{\"gridcolor\":\"white\",\"linecolor\":\"white\",\"ticks\":\"\"},\"baxis\":{\"gridcolor\":\"white\",\"linecolor\":\"white\",\"ticks\":\"\"},\"bgcolor\":\"#E5ECF6\",\"caxis\":{\"gridcolor\":\"white\",\"linecolor\":\"white\",\"ticks\":\"\"}},\"title\":{\"x\":0.05},\"xaxis\":{\"automargin\":true,\"gridcolor\":\"white\",\"linecolor\":\"white\",\"ticks\":\"\",\"title\":{\"standoff\":15},\"zerolinecolor\":\"white\",\"zerolinewidth\":2},\"yaxis\":{\"automargin\":true,\"gridcolor\":\"white\",\"linecolor\":\"white\",\"ticks\":\"\",\"title\":{\"standoff\":15},\"zerolinecolor\":\"white\",\"zerolinewidth\":2}}},\"xaxis\":{\"anchor\":\"y\",\"domain\":[0.0,1.0],\"title\":{\"text\":\"count_users\"}},\"yaxis\":{\"anchor\":\"x\",\"domain\":[0.0,1.0],\"title\":{\"text\":\"event\"}},\"legend\":{\"tracegroupgap\":0},\"title\":{\"text\":\"\\u0412\\u043e\\u0440\\u043e\\u043d\\u043a\\u0430 \\u0441\\u043e\\u0431\\u044b\\u0442\\u0438\\u0439\"}},                        {\"responsive\": true}                    ).then(function(){\n",
       "                            \n",
       "var gd = document.getElementById('e594ca73-f6e3-4ab5-9db5-8d8c48029af2');\n",
       "var x = new MutationObserver(function (mutations, observer) {{\n",
       "        var display = window.getComputedStyle(gd).display;\n",
       "        if (!display || display === 'none') {{\n",
       "            console.log([gd, 'removed!']);\n",
       "            Plotly.purge(gd);\n",
       "            observer.disconnect();\n",
       "        }}\n",
       "}});\n",
       "\n",
       "// Listen for the removal of the full notebook cells\n",
       "var notebookContainer = gd.closest('#notebook-container');\n",
       "if (notebookContainer) {{\n",
       "    x.observe(notebookContainer, {childList: true});\n",
       "}}\n",
       "\n",
       "// Listen for the clearing of the current output cell\n",
       "var outputEl = gd.closest('.output');\n",
       "if (outputEl) {{\n",
       "    x.observe(outputEl, {childList: true});\n",
       "}}\n",
       "\n",
       "                        })                };                });            </script>        </div>"
      ]
     },
     "metadata": {},
     "output_type": "display_data"
    }
   ],
   "source": [
    "#визуализируем воронку\n",
    "fig = px.funnel(events_users, y='event', x='count_users',title='Воронка событий')\n",
    "fig.show()"
   ]
  },
  {
   "cell_type": "markdown",
   "metadata": {},
   "source": [
    "### Вывод"
   ]
  },
  {
   "cell_type": "markdown",
   "metadata": {},
   "source": [
    "- В нашем приложении сложился следующий порядок событий:  Просмотр главного экрана- переход к странице товара- переход в корзину- оплата; \n",
    "- Событие типа\"обучение(tutorial)\" проходят только 11.15 % пользователей и оно может быть пройдено на любом этапе и было принято решение исключить его из исследования;\n",
    "- 98.47% проходят через событие просмотра главного экрана, оставшийся 1.53 % вероятно попадает сразу на страницу товара через рекламу или ссылку; \n",
    "- Самые большие потери пользователей (38.1%) происходят на втором этапе, при переходе от главного экрана к странице товара;\n",
    "- Меньше всего потерь (5.2%) при переходе из корзины к оплате. Вероятно на этом этапе люди ужеточно определяются с покупкой.\n",
    "- Весь путь от первого до последнего этапа проходят 47.7 % пользователей.\n"
   ]
  },
  {
   "cell_type": "markdown",
   "metadata": {},
   "source": [
    "## Изучение результатов эксперимента:\n",
    "    \n"
   ]
  },
  {
   "cell_type": "markdown",
   "metadata": {},
   "source": [
    "246 и 247 — контрольные группы, а 248 — экспериментальная.\n",
    "\n",
    "- Сколько пользователей в каждой экспериментальной группе?\n",
    "- Находят ли статистические критерии разницу между выборками 246 и 247.\n",
    "- Число и доля пользователей, совершивших самое популярное событие в каждой из контрольных групп.\n",
    "- Число и доля пользователей, совершивших другие события в каждой из контрольных групп.\n",
    "- Число и доля пользователей, совершивших самое популярное событие в группе с измененным шрифтом.\n",
    "- Число и доля пользователей, совершивших другие события в группе с измененным шрифтом.\n",
    "- Число и доля пользователей, совершивших события в группе с измененным шрифтом и обеими контрольными группами сразу.\n",
    "- Вывод"
   ]
  },
  {
   "cell_type": "markdown",
   "metadata": {},
   "source": [
    "### Сколько пользователей в каждой экспериментальной группе?\n",
    "   "
   ]
  },
  {
   "cell_type": "markdown",
   "metadata": {},
   "source": [
    "Cоздадим таблицу с количеством пользователей по группам, убрав событие \"Tutorials\" из исследования:"
   ]
  },
  {
   "cell_type": "code",
   "execution_count": 79,
   "metadata": {},
   "outputs": [],
   "source": [
    "logs_new = logs_new.query('event_name != \"Tutorial\"')"
   ]
  },
  {
   "cell_type": "code",
   "execution_count": 80,
   "metadata": {},
   "outputs": [
    {
     "data": {
      "text/html": [
       "<div>\n",
       "<style scoped>\n",
       "    .dataframe tbody tr th:only-of-type {\n",
       "        vertical-align: middle;\n",
       "    }\n",
       "\n",
       "    .dataframe tbody tr th {\n",
       "        vertical-align: top;\n",
       "    }\n",
       "\n",
       "    .dataframe thead th {\n",
       "        text-align: right;\n",
       "    }\n",
       "</style>\n",
       "<table border=\"1\" class=\"dataframe\">\n",
       "  <thead>\n",
       "    <tr style=\"text-align: right;\">\n",
       "      <th></th>\n",
       "      <th>group</th>\n",
       "      <th>sum_users</th>\n",
       "    </tr>\n",
       "  </thead>\n",
       "  <tbody>\n",
       "    <tr>\n",
       "      <th>0</th>\n",
       "      <td>246</td>\n",
       "      <td>2483</td>\n",
       "    </tr>\n",
       "    <tr>\n",
       "      <th>1</th>\n",
       "      <td>247</td>\n",
       "      <td>2512</td>\n",
       "    </tr>\n",
       "    <tr>\n",
       "      <th>2</th>\n",
       "      <td>248</td>\n",
       "      <td>2535</td>\n",
       "    </tr>\n",
       "  </tbody>\n",
       "</table>\n",
       "</div>"
      ],
      "text/plain": [
       "   group  sum_users\n",
       "0    246       2483\n",
       "1    247       2512\n",
       "2    248       2535"
      ]
     },
     "execution_count": 80,
     "metadata": {},
     "output_type": "execute_result"
    }
   ],
   "source": [
    "sum_users_groups = logs_new.pivot_table(index=['exp_id'], values='device_id', aggfunc={'nunique'}) \\\n",
    "                           .reset_index()\n",
    "sum_users_groups.columns = ['group', 'sum_users']\n",
    "sum_users_groups"
   ]
  },
  {
   "cell_type": "markdown",
   "metadata": {},
   "source": [
    "### Находят ли статистические критерии разницу между выборками 246 и 247.\n"
   ]
  },
  {
   "cell_type": "markdown",
   "metadata": {},
   "source": [
    "Создадим таблицу, содержащую сведения о событиях и количествах пользователей для каждой из групп и добавим сведения о том, сколько пользователей в обеих контрольных группах:"
   ]
  },
  {
   "cell_type": "code",
   "execution_count": 81,
   "metadata": {},
   "outputs": [
    {
     "data": {
      "text/html": [
       "<div>\n",
       "<style scoped>\n",
       "    .dataframe tbody tr th:only-of-type {\n",
       "        vertical-align: middle;\n",
       "    }\n",
       "\n",
       "    .dataframe tbody tr th {\n",
       "        vertical-align: top;\n",
       "    }\n",
       "\n",
       "    .dataframe thead th {\n",
       "        text-align: right;\n",
       "    }\n",
       "</style>\n",
       "<table border=\"1\" class=\"dataframe\">\n",
       "  <thead>\n",
       "    <tr style=\"text-align: right;\">\n",
       "      <th></th>\n",
       "      <th>event</th>\n",
       "      <th>246</th>\n",
       "      <th>247</th>\n",
       "      <th>248</th>\n",
       "      <th>246_plus_247</th>\n",
       "    </tr>\n",
       "  </thead>\n",
       "  <tbody>\n",
       "    <tr>\n",
       "      <th>0</th>\n",
       "      <td>CartScreenAppear</td>\n",
       "      <td>1266</td>\n",
       "      <td>1238</td>\n",
       "      <td>1230</td>\n",
       "      <td>2504</td>\n",
       "    </tr>\n",
       "    <tr>\n",
       "      <th>1</th>\n",
       "      <td>MainScreenAppear</td>\n",
       "      <td>2450</td>\n",
       "      <td>2476</td>\n",
       "      <td>2493</td>\n",
       "      <td>4926</td>\n",
       "    </tr>\n",
       "    <tr>\n",
       "      <th>2</th>\n",
       "      <td>OffersScreenAppear</td>\n",
       "      <td>1542</td>\n",
       "      <td>1520</td>\n",
       "      <td>1531</td>\n",
       "      <td>3062</td>\n",
       "    </tr>\n",
       "    <tr>\n",
       "      <th>3</th>\n",
       "      <td>PaymentScreenSuccessful</td>\n",
       "      <td>1200</td>\n",
       "      <td>1158</td>\n",
       "      <td>1181</td>\n",
       "      <td>2358</td>\n",
       "    </tr>\n",
       "  </tbody>\n",
       "</table>\n",
       "</div>"
      ],
      "text/plain": [
       "                     event   246   247   248  246_plus_247\n",
       "0         CartScreenAppear  1266  1238  1230          2504\n",
       "1         MainScreenAppear  2450  2476  2493          4926\n",
       "2       OffersScreenAppear  1542  1520  1531          3062\n",
       "3  PaymentScreenSuccessful  1200  1158  1181          2358"
      ]
     },
     "execution_count": 81,
     "metadata": {},
     "output_type": "execute_result"
    }
   ],
   "source": [
    "groups=logs_new.pivot_table(index=['event_name'], columns='exp_id', values='device_id', aggfunc={'nunique'}) \\\n",
    "               .reset_index()\n",
    "groups.columns = ['event', '246','247', '248']\n",
    "groups['246_plus_247'] = groups['246'] + groups['247']\n",
    "groups"
   ]
  },
  {
   "cell_type": "markdown",
   "metadata": {},
   "source": [
    "Напишем формулу для расчета z-критерия, используя также поправку Бонферрони для множественных сравнений, чтобы снизить вероятность ложнопозитивного результата при множественном тестировании гипотез:"
   ]
  },
  {
   "cell_type": "code",
   "execution_count": 82,
   "metadata": {},
   "outputs": [],
   "source": [
    "def stat_diff (successes1, successes2, trials1, trials2):\n",
    "    \n",
    "    alpha = 0.05\n",
    "    \n",
    "    # пропорция успехов в первой группе:\n",
    "    \n",
    "    p1 = successes1/trials1\n",
    "    \n",
    "    # пропорция успехов во второй группе:\n",
    "    p2 = successes2/trials2 \n",
    "    \n",
    "    # пропорция успехов в комбинированном датасете:\n",
    "    p_combined = (successes1 + successes2) / (trials1 + trials2)\n",
    "    \n",
    "    # разница пропорций в датасетах\n",
    "    difference = p1 - p2  \n",
    "    \n",
    "    # считаем статистику в ст.отклонениях стандартного нормального распределения\n",
    "    z_value = difference / mth.sqrt(p_combined * (1 - p_combined) * (1/trials1 + 1/trials2))\n",
    "    \n",
    "    # задаем стандартное нормальное распределение (среднее 0, ст.отклонение 1)\n",
    "    distr = st.norm(0, 1) \n",
    "\n",
    "    p_value = (1 - distr.cdf(abs(z_value))) * 2\n",
    "\n",
    "    print('p-значение: ', p_value)\n",
    "\n",
    "    #применим поправку Бонферрони. У нас 4 теста, по 4 сравнения\n",
    "    bonferroni_alpha = alpha / 16\n",
    " \n",
    "    if p_value < bonferroni_alpha:\n",
    "        print('Отвергаем нулевую гипотезу: между долями есть значимая разница')\n",
    "    else:\n",
    "        print(\n",
    "        'Не получилось отвергнуть нулевую гипотезу, нет оснований считать доли разными'\n",
    "    )        "
   ]
  },
  {
   "cell_type": "markdown",
   "metadata": {},
   "source": [
    "### Число и доля пользователей, совершивших самое популярное событие в каждой из контрольных групп."
   ]
  },
  {
   "cell_type": "markdown",
   "metadata": {},
   "source": [
    "Возьмём самое популярное событие во всех группах, а именно показ главного экрана (MainScreenAppear) и проверим следующие гипотезы о равенстве долей в контрольных группах 246 и 247:\n",
    "\n",
    "H_0:  Доли пользователей, совершивших самое популярное событие в обеих контрольных группах одинаковые.\n",
    "\n",
    "H_а:  Доли пользователей, совершивших самое популярное событие в обеих контрольных группах разные.\n"
   ]
  },
  {
   "cell_type": "code",
   "execution_count": 83,
   "metadata": {},
   "outputs": [
    {
     "name": "stdout",
     "output_type": "stream",
     "text": [
      "MainScreenAppear\n",
      "p-значение:  0.7526703436483038\n",
      "Не получилось отвергнуть нулевую гипотезу, нет оснований считать доли разными\n"
     ]
    }
   ],
   "source": [
    "print(groups.iloc[1].iloc[0])\n",
    "\n",
    "stat_diff(groups.iloc[1]['246'],\n",
    "          groups.iloc[1]['247'],\n",
    "          sum_users_groups.iloc[0]['sum_users'],\n",
    "          sum_users_groups.iloc[1]['sum_users'],\n",
    "        )  "
   ]
  },
  {
   "cell_type": "markdown",
   "metadata": {},
   "source": [
    "### Число и доля пользователей, совершивших другие события в каждой из контрольных групп."
   ]
  },
  {
   "cell_type": "markdown",
   "metadata": {},
   "source": [
    "Проверим следующие гипотезы о равенстве долей в контрольных группах 246 и 247 относительно остальных событий:\n",
    "\n",
    "H_0: Доли пользователей, совершивших  событие в обеих контрольных группах одинаковые.\n",
    "\n",
    "H_а: Доли пользователей, совершивших  событие в обеих контрольных группах разные."
   ]
  },
  {
   "cell_type": "code",
   "execution_count": 84,
   "metadata": {},
   "outputs": [
    {
     "name": "stdout",
     "output_type": "stream",
     "text": [
      "OffersScreenAppear\n",
      "p-значение:  0.24786096925282264\n",
      "Не получилось отвергнуть нулевую гипотезу, нет оснований считать доли разными\n"
     ]
    }
   ],
   "source": [
    "print(groups.iloc[2].iloc[0])\n",
    "\n",
    "stat_diff(groups.iloc[2]['246'],\n",
    "          groups.iloc[2]['247'],\n",
    "          sum_users_groups.iloc[0]['sum_users'],\n",
    "          sum_users_groups.iloc[1]['sum_users'],\n",
    "        )  "
   ]
  },
  {
   "cell_type": "code",
   "execution_count": 85,
   "metadata": {},
   "outputs": [
    {
     "name": "stdout",
     "output_type": "stream",
     "text": [
      "CartScreenAppear\n",
      "p-значение:  0.22867643757335676\n",
      "Не получилось отвергнуть нулевую гипотезу, нет оснований считать доли разными\n"
     ]
    }
   ],
   "source": [
    "print(groups.iloc[0].iloc[0])\n",
    "\n",
    "stat_diff(groups.iloc[0]['246'],\n",
    "          groups.iloc[0]['247'],\n",
    "          sum_users_groups.iloc[0]['sum_users'],\n",
    "          sum_users_groups.iloc[1]['sum_users'],\n",
    "         )  "
   ]
  },
  {
   "cell_type": "code",
   "execution_count": 86,
   "metadata": {},
   "outputs": [
    {
     "name": "stdout",
     "output_type": "stream",
     "text": [
      "PaymentScreenSuccessful\n",
      "p-значение:  0.11446627829276612\n",
      "Не получилось отвергнуть нулевую гипотезу, нет оснований считать доли разными\n"
     ]
    }
   ],
   "source": [
    "print(groups.iloc[3].iloc[0])\n",
    "\n",
    "stat_diff(groups.iloc[3]['246'],\n",
    "          groups.iloc[3]['247'],\n",
    "          sum_users_groups.iloc[0]['sum_users'],\n",
    "          sum_users_groups.iloc[1]['sum_users'],\n",
    "        )  "
   ]
  },
  {
   "cell_type": "markdown",
   "metadata": {},
   "source": [
    "Во всех случаях нулевая гипотеза не была отвергнута,значит есть основания полагать, что распрелеление в контрольных группах нормальное."
   ]
  },
  {
   "cell_type": "markdown",
   "metadata": {},
   "source": [
    "### Число и доля пользователей, совершивших самое популярное событие в группе с измененным шрифтом."
   ]
  },
  {
   "cell_type": "markdown",
   "metadata": {},
   "source": [
    "Теперь также возьмём самое популярное событие во всех группах, а именно показ главного экрана (MainScreenAppear) и проверим следующие гипотезы о равенстве долей  в группах 246/248 и 247/248:\n",
    "\n",
    "H_0: Доли пользователей, совершивших самое популярное событие в обеих группах одинаковые.\n",
    "\n",
    "H_а: Доли пользователей, совершивших самое популярное событие в обеих группах разные.\n"
   ]
  },
  {
   "cell_type": "markdown",
   "metadata": {},
   "source": [
    "Сначала посмотрим с группами 246 и 248"
   ]
  },
  {
   "cell_type": "code",
   "execution_count": 87,
   "metadata": {},
   "outputs": [
    {
     "name": "stdout",
     "output_type": "stream",
     "text": [
      "MainScreenAppear 246\n",
      "p-значение:  0.3387114076159288\n",
      "Не получилось отвергнуть нулевую гипотезу, нет оснований считать доли разными\n"
     ]
    }
   ],
   "source": [
    "print(groups.iloc[1].iloc[0],246)\n",
    "\n",
    "stat_diff(groups.iloc[1]['246'],\n",
    "          groups.iloc[1]['248'],\n",
    "          sum_users_groups.iloc[0]['sum_users'],\n",
    "          sum_users_groups.iloc[2]['sum_users'],\n",
    "         )  "
   ]
  },
  {
   "cell_type": "markdown",
   "metadata": {},
   "source": [
    "А теперь с группами 247 и 248"
   ]
  },
  {
   "cell_type": "code",
   "execution_count": 88,
   "metadata": {},
   "outputs": [
    {
     "name": "stdout",
     "output_type": "stream",
     "text": [
      "MainScreenAppear 247\n",
      "p-значение:  0.5194964354051703\n",
      "Не получилось отвергнуть нулевую гипотезу, нет оснований считать доли разными\n"
     ]
    }
   ],
   "source": [
    "print(groups.iloc[1].iloc[0],247)\n",
    "\n",
    "stat_diff(groups.iloc[1]['247'],\n",
    "          groups.iloc[1]['248'],\n",
    "          sum_users_groups.iloc[1]['sum_users'],\n",
    "          sum_users_groups.iloc[2]['sum_users'],\n",
    "         )  "
   ]
  },
  {
   "cell_type": "markdown",
   "metadata": {},
   "source": [
    "### Число и доля пользователей, совершивших другие события в группе с измененным шрифтом."
   ]
  },
  {
   "cell_type": "markdown",
   "metadata": {},
   "source": [
    "Проверим следующие гипотезы о равенстве долей в  группах 246/248 и 247/248 относительно остальных событий:\n",
    "\n",
    "H_0: Доли пользователей, совершивших  событие в обеих группах одинаковые.\n",
    "\n",
    "H_а: Доли пользователей, совершивших  событие в обеих группах разные."
   ]
  },
  {
   "cell_type": "code",
   "execution_count": 89,
   "metadata": {},
   "outputs": [
    {
     "name": "stdout",
     "output_type": "stream",
     "text": [
      "OffersScreenAppear 246\n",
      "p-значение:  0.21442476639710506\n",
      "Не получилось отвергнуть нулевую гипотезу, нет оснований считать доли разными\n",
      "*******\n",
      "OffersScreenAppear 247\n",
      "p-значение:  0.9333751305879443\n",
      "Не получилось отвергнуть нулевую гипотезу, нет оснований считать доли разными\n"
     ]
    }
   ],
   "source": [
    "print(groups.iloc[2].iloc[0],246)\n",
    "\n",
    "stat_diff(groups.iloc[2]['246'],\n",
    "          groups.iloc[2]['248'],\n",
    "          sum_users_groups.iloc[0]['sum_users'],\n",
    "          sum_users_groups.iloc[2]['sum_users'],\n",
    "        )  \n",
    "         \n",
    "print('*******')\n",
    "\n",
    "print(groups.iloc[2].iloc[0],247)\n",
    "\n",
    "stat_diff(groups.iloc[2]['247'],\n",
    "          groups.iloc[2]['248'],\n",
    "          sum_users_groups.iloc[1]['sum_users'],\n",
    "          sum_users_groups.iloc[2]['sum_users'],\n",
    "        ) "
   ]
  },
  {
   "cell_type": "code",
   "execution_count": 90,
   "metadata": {},
   "outputs": [
    {
     "name": "stdout",
     "output_type": "stream",
     "text": [
      "CartScreenAppear 246\n",
      "p-значение:  0.08067367598823139\n",
      "Не получилось отвергнуть нулевую гипотезу, нет оснований считать доли разными\n",
      "*******\n",
      "CartScreenAppear 247\n",
      "p-значение:  0.5878284605111943\n",
      "Не получилось отвергнуть нулевую гипотезу, нет оснований считать доли разными\n"
     ]
    }
   ],
   "source": [
    "print(groups.iloc[0].iloc[0],246)\n",
    "\n",
    "stat_diff(groups.iloc[0]['246'],\n",
    "          groups.iloc[0]['248'],\n",
    "          sum_users_groups.iloc[0]['sum_users'],\n",
    "          sum_users_groups.iloc[2]['sum_users'],\n",
    "         )  \n",
    "         \n",
    "print('*******')\n",
    "\n",
    "print(groups.iloc[0].iloc[0], 247)\n",
    "\n",
    "stat_diff(groups.iloc[0]['247'],\n",
    "          groups.iloc[0]['248'],\n",
    "          sum_users_groups.iloc[1]['sum_users'],\n",
    "          sum_users_groups.iloc[2]['sum_users'],\n",
    "         )  "
   ]
  },
  {
   "cell_type": "code",
   "execution_count": 91,
   "metadata": {
    "scrolled": true
   },
   "outputs": [
    {
     "name": "stdout",
     "output_type": "stream",
     "text": [
      "PaymentScreenSuccessful 246\n",
      "p-значение:  0.21693033984516674\n",
      "Не получилось отвергнуть нулевую гипотезу, нет оснований считать доли разными\n",
      "*******\n",
      "PaymentScreenSuccessful 247\n",
      "p-значение:  0.7275718682261119\n",
      "Не получилось отвергнуть нулевую гипотезу, нет оснований считать доли разными\n"
     ]
    }
   ],
   "source": [
    "print(groups.iloc[3].iloc[0],246)\n",
    "\n",
    "stat_diff(groups.iloc[3]['246'],\n",
    "          groups.iloc[3]['248'],\n",
    "          sum_users_groups.iloc[0]['sum_users'],\n",
    "          sum_users_groups.iloc[2]['sum_users'],\n",
    "        )  \n",
    "print('*******')\n",
    "\n",
    "print(groups.iloc[3].iloc[0],247)\n",
    "\n",
    "stat_diff(groups.iloc[3]['247'],\n",
    "          groups.iloc[3]['248'],\n",
    "          sum_users_groups.iloc[1]['sum_users'],\n",
    "          sum_users_groups.iloc[2]['sum_users'],\n",
    "        ) "
   ]
  },
  {
   "cell_type": "markdown",
   "metadata": {},
   "source": [
    "#### Число и доля пользователей, совершивших все варианты события в группе с измененным шрифтом и двух контрольных группах вместе"
   ]
  },
  {
   "cell_type": "markdown",
   "metadata": {},
   "source": [
    "Проверим следующие гипотезы о равенстве долей в  группах 246 + 247  и 248 относительно всех вариантов событий:\n",
    "\n",
    "H_0: Доли пользователей, совершивших  событие в группах одинаковые.\n",
    "\n",
    "H_а: Доли пользователей, совершивших  событие в  группах разные."
   ]
  },
  {
   "cell_type": "code",
   "execution_count": 92,
   "metadata": {},
   "outputs": [
    {
     "name": "stdout",
     "output_type": "stream",
     "text": [
      "MainScreenAppear 246 и 247 вместе\n",
      "p-значение:  0.3486684291093256\n",
      "Не получилось отвергнуть нулевую гипотезу, нет оснований считать доли разными\n"
     ]
    }
   ],
   "source": [
    "print(groups.iloc[1].iloc[0],'246 и 247 вместе')\n",
    "\n",
    "stat_diff(groups.iloc[1]['246_plus_247'],\n",
    "          groups.iloc[1]['248'],\n",
    "          sum_users_groups.iloc[0]['sum_users'] + sum_users_groups.iloc[1]['sum_users'],\n",
    "          sum_users_groups.iloc[2]['sum_users'],\n",
    "         ) "
   ]
  },
  {
   "cell_type": "code",
   "execution_count": 93,
   "metadata": {},
   "outputs": [
    {
     "name": "stdout",
     "output_type": "stream",
     "text": [
      "OffersScreenAppear 246 и 247 вместе\n",
      "p-значение:  0.44582745409482394\n",
      "Не получилось отвергнуть нулевую гипотезу, нет оснований считать доли разными\n"
     ]
    }
   ],
   "source": [
    "print(groups.iloc[2].iloc[0],'246 и 247 вместе')\n",
    "\n",
    "stat_diff(groups.iloc[2]['246_plus_247'],\n",
    "          groups.iloc[2]['248'],\n",
    "          sum_users_groups.iloc[0]['sum_users'] + sum_users_groups.iloc[1]['sum_users'],\n",
    "          sum_users_groups.iloc[2]['sum_users'],\n",
    "         ) "
   ]
  },
  {
   "cell_type": "code",
   "execution_count": 94,
   "metadata": {},
   "outputs": [
    {
     "name": "stdout",
     "output_type": "stream",
     "text": [
      "CartScreenAppear 246 и 247 вместе\n",
      "p-значение:  0.18683558686831558\n",
      "Не получилось отвергнуть нулевую гипотезу, нет оснований считать доли разными\n"
     ]
    }
   ],
   "source": [
    "print(groups.iloc[0].iloc[0],'246 и 247 вместе')\n",
    "\n",
    "stat_diff(groups.iloc[0]['246_plus_247'],\n",
    "          groups.iloc[0]['248'],\n",
    "          sum_users_groups.iloc[0]['sum_users'] + sum_users_groups.iloc[1]['sum_users'],\n",
    "          sum_users_groups.iloc[2]['sum_users'],\n",
    "         ) "
   ]
  },
  {
   "cell_type": "code",
   "execution_count": 95,
   "metadata": {},
   "outputs": [
    {
     "name": "stdout",
     "output_type": "stream",
     "text": [
      "PaymentScreenSuccessful 246 и 247 вместе\n",
      "p-значение:  0.6107918742187335\n",
      "Не получилось отвергнуть нулевую гипотезу, нет оснований считать доли разными\n"
     ]
    }
   ],
   "source": [
    "print(groups.iloc[3].iloc[0],'246 и 247 вместе')\n",
    "\n",
    "stat_diff(groups.iloc[3]['246_plus_247'],\n",
    "          groups.iloc[3]['248'],\n",
    "          sum_users_groups.iloc[0]['sum_users'] + sum_users_groups.iloc[1]['sum_users'],\n",
    "          sum_users_groups.iloc[2]['sum_users'],\n",
    "         ) "
   ]
  },
  {
   "cell_type": "markdown",
   "metadata": {},
   "source": [
    "### Вывод"
   ]
  },
  {
   "cell_type": "markdown",
   "metadata": {},
   "source": [
    "- У нас имеется 2 контрольные группы для А/А-эксперимента, чтобы проверить корректность всех механизмов и расчётов, мы проверили, находят ли статистические критерии разницу между выборками 246 и 247 и выяснили, что разницы между выборками критерии не обнаружили на всех видах событий.\n",
    "\n",
    "- Мы проверили также находят ли статистические критерии разницу между контрольными и тестовой группой и выяснили, что на всех видах событий также не обнаружилось разницы, а значит пользователям нашего приложения всё равно какой шрифт мы используем( новый или старый).\n",
    "\n",
    "- Для избегания ошибок множественных сравнений мы использовали поправку Бонферрони,так как она легче всего рассчитыввется, без сбора новых наблюдений для каждого теста.\n"
   ]
  },
  {
   "cell_type": "markdown",
   "metadata": {},
   "source": [
    "## Выводы"
   ]
  },
  {
   "cell_type": "markdown",
   "metadata": {},
   "source": [
    "- Формат названий столбцов был приведен к более удобному в работе формату. В данных были обнаружены 413 дубликатов, их мы устранилию, не обнаружено пропусков. Пользователи распределены по группам верно, нет пользователей, попавших в несколько групп. Данные были обогащены столбцом с датой и временем событий и столбцом с датами событий.\n",
    "\n",
    "\n",
    "- В наших данных 5 типов событий и по количеству лидирует показ главной страницы. А самое непопулярное событие- это прохождение обучения. В нашем приложении сложился следующий порядок событий: Просмотр главного экрана- переход к странице товара- переход в корзину- оплата. Событие типа\"обучение(tutorial)\" проходят только 11.15 % пользователей и оно может быть пройдено на любом этапе и было принято решение исключить его из исследования и вообще рекомендуется рассмотреть вопрос с этим событием, а так ли оно нужно нашим пользователям?\n",
    "\n",
    "\n",
    "- Некоторые пользователи совершили довольно много действий (максимум 2307), но часть юзеров ограничилась только одним действием. В среднем каждый пользователь совершает по 32 действия, но медиана событий 20, лучше ориентироваться на нее, так как среднее пострадало из-за \"выбросов\"- пользователей с очень большим количеством событий.\n",
    "\n",
    "\n",
    "- Изначально у нас имелись сведения за 13 дней(с 25 июля 2019 по 7 августа 2019 года). Однако, данные за некоторые дни являются неполными и было принято решение их отбросить. На данный момент мы располагаем сведениями за 6 дней (с 1 августа 2019 по 7 августа 2019 года). В новом датасете есть пользователи из всех трёх групп. Было отброшено 2826 событий (что составило 1,16% от общего числа событий) и 17 пользователей (что составляет 0.23% от общего количества пользователей). \n",
    "\n",
    "\n",
    "- 98.47% пользователей проходят через событие просмотра главного экрана, оставшийся 1.53 % вероятно попадает сразу на страницу товара через рекламу или ссылку;\n",
    "\n",
    "\n",
    "- Самые большие потери пользователей (38.1%) происходят на втором этапе, при переходе от главного экрана к странице товара. Возможно следует проработать рекламные баннеры на главной странице, чтобы снизить этот показатель. Меньше всего потерь (5.2%) при переходе из корзины к оплате. Вероятно на этом этапе люди уже точно определяются с покупкой. Весь путь от первого до последнего этапа проходят 47.7 % пользователей. Что указывает на необходимость проработки этапов, для улучшения этого показателя.\n",
    "\n",
    "- У нас имеется 2 контрольные группы для А/А-эксперимента, чтобы проверить корректность всех механизмов и расчётов, мы проверили, находят ли статистические критерии разницу между выборками 246 и 247 и выяснили, что разницы между выборками критерии не обнаружили на всех видах событий.\n",
    "\n",
    "- Мы проверили также находят ли статистические критерии разницу между контрольными и тестовой группой и выяснили, что на всех видах событий также не обнаружилось разницы, а значит пользователям нашего приложения всё равно какой шрифт мы используем( новый или старый).\n"
   ]
  }
 ],
 "metadata": {
  "ExecuteTimeLog": [
   {
    "duration": 1415,
    "start_time": "2023-01-16T11:24:19.915Z"
   },
   {
    "duration": 666,
    "start_time": "2023-01-16T11:25:18.460Z"
   },
   {
    "duration": 2,
    "start_time": "2023-01-16T11:25:30.269Z"
   },
   {
    "duration": 9,
    "start_time": "2023-01-16T11:25:47.118Z"
   },
   {
    "duration": 19,
    "start_time": "2023-01-16T11:26:20.153Z"
   },
   {
    "duration": 60,
    "start_time": "2023-01-16T11:27:07.072Z"
   },
   {
    "duration": 311,
    "start_time": "2023-01-16T11:27:13.933Z"
   },
   {
    "duration": 7,
    "start_time": "2023-01-16T11:27:16.103Z"
   },
   {
    "duration": 46,
    "start_time": "2023-01-16T11:27:34.924Z"
   },
   {
    "duration": 47,
    "start_time": "2023-01-16T11:28:20.316Z"
   },
   {
    "duration": 179,
    "start_time": "2023-01-16T11:33:30.134Z"
   },
   {
    "duration": 7,
    "start_time": "2023-01-16T11:33:32.304Z"
   },
   {
    "duration": 22,
    "start_time": "2023-01-16T11:33:36.490Z"
   },
   {
    "duration": 3,
    "start_time": "2023-01-16T11:35:21.734Z"
   },
   {
    "duration": 6,
    "start_time": "2023-01-16T11:37:48.291Z"
   },
   {
    "duration": 7,
    "start_time": "2023-01-16T11:37:56.858Z"
   },
   {
    "duration": 60,
    "start_time": "2023-01-16T11:43:40.493Z"
   },
   {
    "duration": 38,
    "start_time": "2023-01-16T11:44:12.773Z"
   },
   {
    "duration": 6,
    "start_time": "2023-01-16T11:45:25.296Z"
   },
   {
    "duration": 63,
    "start_time": "2023-01-16T11:46:08.835Z"
   },
   {
    "duration": 15,
    "start_time": "2023-01-16T11:46:10.617Z"
   },
   {
    "duration": 119,
    "start_time": "2023-01-16T11:54:43.073Z"
   },
   {
    "duration": 15,
    "start_time": "2023-01-16T11:55:42.708Z"
   },
   {
    "duration": 857,
    "start_time": "2023-01-16T11:55:59.718Z"
   },
   {
    "duration": 812,
    "start_time": "2023-01-16T11:56:16.904Z"
   },
   {
    "duration": 28,
    "start_time": "2023-01-16T11:56:31.290Z"
   },
   {
    "duration": 31,
    "start_time": "2023-01-16T11:56:50.463Z"
   },
   {
    "duration": 8,
    "start_time": "2023-01-16T11:57:05.294Z"
   },
   {
    "duration": 12,
    "start_time": "2023-01-16T11:58:31.034Z"
   },
   {
    "duration": 9,
    "start_time": "2023-01-16T11:58:34.431Z"
   },
   {
    "duration": 35,
    "start_time": "2023-01-16T12:01:00.898Z"
   },
   {
    "duration": 10,
    "start_time": "2023-01-16T12:02:55.269Z"
   },
   {
    "duration": 14,
    "start_time": "2023-01-16T12:02:57.595Z"
   },
   {
    "duration": 109,
    "start_time": "2023-01-16T12:03:35.568Z"
   },
   {
    "duration": 10,
    "start_time": "2023-01-16T12:03:41.196Z"
   },
   {
    "duration": 27,
    "start_time": "2023-01-16T12:05:14.166Z"
   },
   {
    "duration": 87,
    "start_time": "2023-01-16T12:05:38.068Z"
   },
   {
    "duration": 96,
    "start_time": "2023-01-16T12:05:40.122Z"
   },
   {
    "duration": 11,
    "start_time": "2023-01-16T12:05:40.586Z"
   },
   {
    "duration": 14,
    "start_time": "2023-01-16T12:21:01.445Z"
   },
   {
    "duration": 11,
    "start_time": "2023-01-16T12:21:12.152Z"
   },
   {
    "duration": 9,
    "start_time": "2023-01-16T12:21:12.868Z"
   },
   {
    "duration": 10,
    "start_time": "2023-01-16T12:21:18.552Z"
   },
   {
    "duration": 13,
    "start_time": "2023-01-16T12:21:23.007Z"
   },
   {
    "duration": 11,
    "start_time": "2023-01-16T12:21:23.848Z"
   },
   {
    "duration": 3,
    "start_time": "2023-01-16T12:21:29.970Z"
   },
   {
    "duration": 158,
    "start_time": "2023-01-16T12:21:29.975Z"
   },
   {
    "duration": 15,
    "start_time": "2023-01-16T12:21:30.134Z"
   },
   {
    "duration": 57,
    "start_time": "2023-01-16T12:21:30.150Z"
   },
   {
    "duration": 14,
    "start_time": "2023-01-16T12:21:30.209Z"
   },
   {
    "duration": 14,
    "start_time": "2023-01-16T12:21:30.225Z"
   },
   {
    "duration": 8,
    "start_time": "2023-01-16T12:21:33.127Z"
   },
   {
    "duration": 8,
    "start_time": "2023-01-16T12:21:33.663Z"
   },
   {
    "duration": 59,
    "start_time": "2023-01-16T12:21:35.622Z"
   },
   {
    "duration": 3,
    "start_time": "2023-01-16T12:21:36.049Z"
   },
   {
    "duration": 50,
    "start_time": "2023-01-16T12:21:37.095Z"
   },
   {
    "duration": 17,
    "start_time": "2023-01-16T12:21:37.840Z"
   },
   {
    "duration": 756,
    "start_time": "2023-01-16T12:21:38.880Z"
   },
   {
    "duration": 0,
    "start_time": "2023-01-16T12:21:39.638Z"
   },
   {
    "duration": 10,
    "start_time": "2023-01-16T12:21:39.896Z"
   },
   {
    "duration": 774,
    "start_time": "2023-01-16T12:22:00.498Z"
   },
   {
    "duration": 22,
    "start_time": "2023-01-16T12:22:05.825Z"
   },
   {
    "duration": 73,
    "start_time": "2023-01-16T12:22:06.728Z"
   },
   {
    "duration": 9,
    "start_time": "2023-01-16T12:22:08.813Z"
   },
   {
    "duration": 34,
    "start_time": "2023-01-16T12:22:19.033Z"
   },
   {
    "duration": 35,
    "start_time": "2023-01-16T12:22:33.195Z"
   },
   {
    "duration": 30,
    "start_time": "2023-01-16T12:22:39.538Z"
   },
   {
    "duration": 117,
    "start_time": "2023-01-16T12:23:00.564Z"
   },
   {
    "duration": 25,
    "start_time": "2023-01-16T12:26:19.322Z"
   },
   {
    "duration": 22,
    "start_time": "2023-01-16T12:32:31.222Z"
   },
   {
    "duration": 27,
    "start_time": "2023-01-16T12:33:08.574Z"
   },
   {
    "duration": 10,
    "start_time": "2023-01-16T12:33:39.818Z"
   },
   {
    "duration": 36,
    "start_time": "2023-01-16T12:33:49.084Z"
   },
   {
    "duration": 30,
    "start_time": "2023-01-16T12:34:14.420Z"
   },
   {
    "duration": 19,
    "start_time": "2023-01-16T12:34:27.000Z"
   },
   {
    "duration": 20,
    "start_time": "2023-01-16T12:34:50.870Z"
   },
   {
    "duration": 20,
    "start_time": "2023-01-16T12:35:47.994Z"
   },
   {
    "duration": 29,
    "start_time": "2023-01-16T12:38:41.907Z"
   },
   {
    "duration": 23,
    "start_time": "2023-01-16T12:38:42.459Z"
   },
   {
    "duration": 32,
    "start_time": "2023-01-16T12:38:55.118Z"
   },
   {
    "duration": 30,
    "start_time": "2023-01-16T12:39:03.855Z"
   },
   {
    "duration": 60,
    "start_time": "2023-01-16T12:46:13.213Z"
   },
   {
    "duration": 49,
    "start_time": "2023-01-16T12:46:25.709Z"
   },
   {
    "duration": 5,
    "start_time": "2023-01-16T12:46:51.498Z"
   },
   {
    "duration": 18,
    "start_time": "2023-01-16T12:46:59.608Z"
   },
   {
    "duration": 33,
    "start_time": "2023-01-16T12:47:38.706Z"
   },
   {
    "duration": 58,
    "start_time": "2023-01-16T12:49:50.002Z"
   },
   {
    "duration": 45,
    "start_time": "2023-01-16T12:53:35.215Z"
   },
   {
    "duration": 62,
    "start_time": "2023-01-16T12:57:09.140Z"
   },
   {
    "duration": 715,
    "start_time": "2023-01-16T13:03:57.221Z"
   },
   {
    "duration": 566,
    "start_time": "2023-01-16T13:04:03.182Z"
   },
   {
    "duration": 562,
    "start_time": "2023-01-16T13:04:16.470Z"
   },
   {
    "duration": 636,
    "start_time": "2023-01-16T13:04:22.302Z"
   },
   {
    "duration": 549,
    "start_time": "2023-01-16T13:04:26.366Z"
   },
   {
    "duration": 79,
    "start_time": "2023-01-16T13:04:35.111Z"
   },
   {
    "duration": 603,
    "start_time": "2023-01-16T13:04:42.607Z"
   },
   {
    "duration": 632,
    "start_time": "2023-01-16T13:04:55.249Z"
   },
   {
    "duration": 556,
    "start_time": "2023-01-16T13:05:04.272Z"
   },
   {
    "duration": 715,
    "start_time": "2023-01-16T13:06:24.956Z"
   },
   {
    "duration": 482,
    "start_time": "2023-01-16T13:08:17.964Z"
   },
   {
    "duration": 3,
    "start_time": "2023-01-16T13:10:28.782Z"
   },
   {
    "duration": 182,
    "start_time": "2023-01-16T13:10:28.787Z"
   },
   {
    "duration": 8,
    "start_time": "2023-01-16T13:10:28.971Z"
   },
   {
    "duration": 24,
    "start_time": "2023-01-16T13:10:28.981Z"
   },
   {
    "duration": 7,
    "start_time": "2023-01-16T13:10:29.007Z"
   },
   {
    "duration": 8,
    "start_time": "2023-01-16T13:10:29.016Z"
   },
   {
    "duration": 9,
    "start_time": "2023-01-16T13:10:29.026Z"
   },
   {
    "duration": 97,
    "start_time": "2023-01-16T13:10:29.036Z"
   },
   {
    "duration": 80,
    "start_time": "2023-01-16T13:10:29.135Z"
   },
   {
    "duration": 26,
    "start_time": "2023-01-16T13:10:29.218Z"
   },
   {
    "duration": 39,
    "start_time": "2023-01-16T13:10:29.245Z"
   },
   {
    "duration": 76,
    "start_time": "2023-01-16T13:10:29.285Z"
   },
   {
    "duration": 19,
    "start_time": "2023-01-16T13:10:29.362Z"
   },
   {
    "duration": 32,
    "start_time": "2023-01-16T13:10:29.383Z"
   },
   {
    "duration": 64,
    "start_time": "2023-01-16T13:10:29.417Z"
   },
   {
    "duration": 28,
    "start_time": "2023-01-16T13:10:29.482Z"
   },
   {
    "duration": 22,
    "start_time": "2023-01-16T13:10:29.511Z"
   },
   {
    "duration": 118,
    "start_time": "2023-01-16T13:10:29.535Z"
   },
   {
    "duration": 490,
    "start_time": "2023-01-16T13:10:29.655Z"
   },
   {
    "duration": 557,
    "start_time": "2023-01-16T13:10:54.348Z"
   },
   {
    "duration": 501,
    "start_time": "2023-01-16T13:11:02.180Z"
   },
   {
    "duration": 426,
    "start_time": "2023-01-16T13:16:18.918Z"
   },
   {
    "duration": 4,
    "start_time": "2023-01-16T13:16:30.648Z"
   },
   {
    "duration": 274,
    "start_time": "2023-01-16T13:16:54.089Z"
   },
   {
    "duration": 10,
    "start_time": "2023-01-16T13:17:33.268Z"
   },
   {
    "duration": 36,
    "start_time": "2023-01-16T13:18:03.365Z"
   },
   {
    "duration": 4,
    "start_time": "2023-01-16T13:18:47.168Z"
   },
   {
    "duration": 5,
    "start_time": "2023-01-16T13:19:19.945Z"
   },
   {
    "duration": 5,
    "start_time": "2023-01-16T13:20:25.594Z"
   },
   {
    "duration": 53,
    "start_time": "2023-01-16T13:20:49.920Z"
   },
   {
    "duration": 63,
    "start_time": "2023-01-16T13:21:06.367Z"
   },
   {
    "duration": 6,
    "start_time": "2023-01-16T13:21:11.608Z"
   },
   {
    "duration": 21,
    "start_time": "2023-01-16T13:23:37.825Z"
   },
   {
    "duration": 11,
    "start_time": "2023-01-16T13:23:44.492Z"
   },
   {
    "duration": 12,
    "start_time": "2023-01-16T13:24:05.844Z"
   },
   {
    "duration": 17,
    "start_time": "2023-01-16T13:24:17.419Z"
   },
   {
    "duration": 12,
    "start_time": "2023-01-16T13:24:24.159Z"
   },
   {
    "duration": 52,
    "start_time": "2023-01-16T13:25:29.793Z"
   },
   {
    "duration": 21,
    "start_time": "2023-01-16T13:25:56.458Z"
   },
   {
    "duration": 55,
    "start_time": "2023-01-16T13:27:55.376Z"
   },
   {
    "duration": 7,
    "start_time": "2023-01-16T13:28:38.019Z"
   },
   {
    "duration": 21,
    "start_time": "2023-01-16T13:29:18.596Z"
   },
   {
    "duration": 8,
    "start_time": "2023-01-16T13:30:30.098Z"
   },
   {
    "duration": 8,
    "start_time": "2023-01-16T13:30:51.812Z"
   },
   {
    "duration": 31,
    "start_time": "2023-01-16T13:50:00.290Z"
   },
   {
    "duration": 44,
    "start_time": "2023-01-16T13:50:06.464Z"
   },
   {
    "duration": 22,
    "start_time": "2023-01-16T13:52:33.313Z"
   },
   {
    "duration": 42,
    "start_time": "2023-01-16T13:53:18.132Z"
   },
   {
    "duration": 9,
    "start_time": "2023-01-16T13:59:41.763Z"
   },
   {
    "duration": 38,
    "start_time": "2023-01-16T13:59:52.660Z"
   },
   {
    "duration": 28,
    "start_time": "2023-01-16T14:00:05.795Z"
   },
   {
    "duration": 25,
    "start_time": "2023-01-16T14:01:02.352Z"
   },
   {
    "duration": 39,
    "start_time": "2023-01-16T14:01:14.402Z"
   },
   {
    "duration": 107,
    "start_time": "2023-01-16T14:02:28.806Z"
   },
   {
    "duration": 32,
    "start_time": "2023-01-16T14:02:32.493Z"
   },
   {
    "duration": 28,
    "start_time": "2023-01-16T14:03:00.504Z"
   },
   {
    "duration": 26,
    "start_time": "2023-01-16T14:03:52.410Z"
   },
   {
    "duration": 20,
    "start_time": "2023-01-16T14:04:23.422Z"
   },
   {
    "duration": 25,
    "start_time": "2023-01-16T14:04:29.605Z"
   },
   {
    "duration": 9,
    "start_time": "2023-01-16T14:06:02.719Z"
   },
   {
    "duration": 36,
    "start_time": "2023-01-16T14:06:09.003Z"
   },
   {
    "duration": 41,
    "start_time": "2023-01-16T14:09:30.089Z"
   },
   {
    "duration": 38,
    "start_time": "2023-01-16T14:10:51.027Z"
   },
   {
    "duration": 39,
    "start_time": "2023-01-16T14:10:54.195Z"
   },
   {
    "duration": 51,
    "start_time": "2023-01-16T14:12:05.201Z"
   },
   {
    "duration": 45,
    "start_time": "2023-01-16T14:12:15.047Z"
   },
   {
    "duration": 52,
    "start_time": "2023-01-16T14:16:34.291Z"
   },
   {
    "duration": 70,
    "start_time": "2023-01-16T14:16:41.256Z"
   },
   {
    "duration": 82,
    "start_time": "2023-01-16T14:21:34.338Z"
   },
   {
    "duration": 72,
    "start_time": "2023-01-16T14:22:05.385Z"
   },
   {
    "duration": 53,
    "start_time": "2023-01-16T14:24:22.328Z"
   },
   {
    "duration": 68,
    "start_time": "2023-01-16T14:24:28.592Z"
   },
   {
    "duration": 56,
    "start_time": "2023-01-16T14:24:39.991Z"
   },
   {
    "duration": 56,
    "start_time": "2023-01-16T14:24:51.009Z"
   },
   {
    "duration": 53,
    "start_time": "2023-01-16T15:33:53.135Z"
   },
   {
    "duration": 50,
    "start_time": "2023-01-16T15:34:18.847Z"
   },
   {
    "duration": 49,
    "start_time": "2023-01-16T15:34:28.072Z"
   },
   {
    "duration": 49,
    "start_time": "2023-01-16T15:34:36.403Z"
   },
   {
    "duration": 16,
    "start_time": "2023-01-16T15:37:42.123Z"
   },
   {
    "duration": 11,
    "start_time": "2023-01-16T15:48:45.793Z"
   },
   {
    "duration": 15,
    "start_time": "2023-01-16T15:48:51.435Z"
   },
   {
    "duration": 15,
    "start_time": "2023-01-16T15:49:54.835Z"
   },
   {
    "duration": 14,
    "start_time": "2023-01-16T15:50:04.896Z"
   },
   {
    "duration": 21,
    "start_time": "2023-01-16T15:56:34.414Z"
   },
   {
    "duration": 4,
    "start_time": "2023-01-16T15:56:51.695Z"
   },
   {
    "duration": 13,
    "start_time": "2023-01-16T15:57:00.249Z"
   },
   {
    "duration": 13,
    "start_time": "2023-01-16T15:58:48.719Z"
   },
   {
    "duration": 45,
    "start_time": "2023-01-16T16:00:30.406Z"
   },
   {
    "duration": 4,
    "start_time": "2023-01-16T16:01:37.265Z"
   },
   {
    "duration": 4,
    "start_time": "2023-01-16T16:02:12.709Z"
   },
   {
    "duration": 5,
    "start_time": "2023-01-16T16:02:23.508Z"
   },
   {
    "duration": 5,
    "start_time": "2023-01-16T16:04:13.507Z"
   },
   {
    "duration": 13,
    "start_time": "2023-01-16T16:04:19.129Z"
   },
   {
    "duration": 11,
    "start_time": "2023-01-16T16:08:36.506Z"
   },
   {
    "duration": 10,
    "start_time": "2023-01-16T16:08:49.699Z"
   },
   {
    "duration": 11,
    "start_time": "2023-01-16T16:13:51.918Z"
   },
   {
    "duration": 10,
    "start_time": "2023-01-16T16:13:56.334Z"
   },
   {
    "duration": 58,
    "start_time": "2023-01-16T16:19:02.473Z"
   },
   {
    "duration": 52,
    "start_time": "2023-01-16T16:19:07.304Z"
   },
   {
    "duration": 64,
    "start_time": "2023-01-16T16:19:11.178Z"
   },
   {
    "duration": 14,
    "start_time": "2023-01-16T16:24:51.794Z"
   },
   {
    "duration": 8,
    "start_time": "2023-01-16T16:30:10.224Z"
   },
   {
    "duration": 54,
    "start_time": "2023-01-16T16:32:14.241Z"
   },
   {
    "duration": 12,
    "start_time": "2023-01-16T16:34:04.183Z"
   },
   {
    "duration": 32,
    "start_time": "2023-01-16T16:34:08.362Z"
   },
   {
    "duration": 29,
    "start_time": "2023-01-16T16:34:38.224Z"
   },
   {
    "duration": 32,
    "start_time": "2023-01-16T16:34:50.937Z"
   },
   {
    "duration": 38,
    "start_time": "2023-01-16T16:35:16.931Z"
   },
   {
    "duration": 29,
    "start_time": "2023-01-16T16:35:17.467Z"
   },
   {
    "duration": 31,
    "start_time": "2023-01-16T16:35:25.962Z"
   },
   {
    "duration": 11,
    "start_time": "2023-01-16T18:25:41.550Z"
   },
   {
    "duration": 101,
    "start_time": "2023-01-16T18:26:07.024Z"
   },
   {
    "duration": 81,
    "start_time": "2023-01-16T18:27:19.285Z"
   },
   {
    "duration": 92,
    "start_time": "2023-01-16T18:27:40.237Z"
   },
   {
    "duration": 1065,
    "start_time": "2023-01-16T21:19:58.455Z"
   },
   {
    "duration": 4,
    "start_time": "2023-01-16T21:21:52.557Z"
   },
   {
    "duration": 252,
    "start_time": "2023-01-16T21:21:52.563Z"
   },
   {
    "duration": 9,
    "start_time": "2023-01-16T21:21:52.817Z"
   },
   {
    "duration": 28,
    "start_time": "2023-01-16T21:21:52.828Z"
   },
   {
    "duration": 13,
    "start_time": "2023-01-16T21:21:52.867Z"
   },
   {
    "duration": 16,
    "start_time": "2023-01-16T21:21:52.882Z"
   },
   {
    "duration": 11,
    "start_time": "2023-01-16T21:21:52.900Z"
   },
   {
    "duration": 77,
    "start_time": "2023-01-16T21:21:52.913Z"
   },
   {
    "duration": 85,
    "start_time": "2023-01-16T21:21:52.992Z"
   },
   {
    "duration": 17,
    "start_time": "2023-01-16T21:21:53.079Z"
   },
   {
    "duration": 31,
    "start_time": "2023-01-16T21:21:53.098Z"
   },
   {
    "duration": 76,
    "start_time": "2023-01-16T21:21:53.130Z"
   },
   {
    "duration": 16,
    "start_time": "2023-01-16T21:21:53.208Z"
   },
   {
    "duration": 55,
    "start_time": "2023-01-16T21:21:53.227Z"
   },
   {
    "duration": 24,
    "start_time": "2023-01-16T21:21:53.288Z"
   },
   {
    "duration": 37,
    "start_time": "2023-01-16T21:21:53.313Z"
   },
   {
    "duration": 37,
    "start_time": "2023-01-16T21:21:53.352Z"
   },
   {
    "duration": 57,
    "start_time": "2023-01-16T21:21:53.391Z"
   },
   {
    "duration": 574,
    "start_time": "2023-01-16T21:21:53.451Z"
   },
   {
    "duration": 57,
    "start_time": "2023-01-16T21:21:54.027Z"
   },
   {
    "duration": 50,
    "start_time": "2023-01-16T21:21:54.086Z"
   },
   {
    "duration": 46,
    "start_time": "2023-01-16T21:21:54.138Z"
   },
   {
    "duration": 40,
    "start_time": "2023-01-16T21:21:54.186Z"
   },
   {
    "duration": 49,
    "start_time": "2023-01-16T21:21:54.228Z"
   },
   {
    "duration": 60,
    "start_time": "2023-01-16T21:21:54.279Z"
   },
   {
    "duration": 13,
    "start_time": "2023-01-16T21:21:54.340Z"
   },
   {
    "duration": 23,
    "start_time": "2023-01-16T21:21:54.354Z"
   },
   {
    "duration": 16,
    "start_time": "2023-01-16T21:21:54.381Z"
   },
   {
    "duration": 32,
    "start_time": "2023-01-16T21:21:54.398Z"
   },
   {
    "duration": 10,
    "start_time": "2023-01-16T21:21:54.432Z"
   },
   {
    "duration": 1037,
    "start_time": "2023-01-16T21:21:59.609Z"
   },
   {
    "duration": 1046,
    "start_time": "2023-01-16T21:22:15.875Z"
   },
   {
    "duration": 84,
    "start_time": "2023-01-16T21:22:46.150Z"
   },
   {
    "duration": 3,
    "start_time": "2023-01-16T21:36:08.109Z"
   },
   {
    "duration": 4,
    "start_time": "2023-01-16T21:38:20.957Z"
   },
   {
    "duration": 4,
    "start_time": "2023-01-16T21:38:25.391Z"
   },
   {
    "duration": 176,
    "start_time": "2023-01-16T21:38:25.397Z"
   },
   {
    "duration": 11,
    "start_time": "2023-01-16T21:38:25.575Z"
   },
   {
    "duration": 20,
    "start_time": "2023-01-16T21:38:25.588Z"
   },
   {
    "duration": 12,
    "start_time": "2023-01-16T21:38:25.610Z"
   },
   {
    "duration": 7,
    "start_time": "2023-01-16T21:38:25.624Z"
   },
   {
    "duration": 7,
    "start_time": "2023-01-16T21:38:25.633Z"
   },
   {
    "duration": 84,
    "start_time": "2023-01-16T21:38:25.641Z"
   },
   {
    "duration": 72,
    "start_time": "2023-01-16T21:38:25.727Z"
   },
   {
    "duration": 15,
    "start_time": "2023-01-16T21:38:25.802Z"
   },
   {
    "duration": 22,
    "start_time": "2023-01-16T21:38:25.819Z"
   },
   {
    "duration": 92,
    "start_time": "2023-01-16T21:38:25.842Z"
   },
   {
    "duration": 18,
    "start_time": "2023-01-16T21:38:25.936Z"
   },
   {
    "duration": 56,
    "start_time": "2023-01-16T21:38:25.956Z"
   },
   {
    "duration": 22,
    "start_time": "2023-01-16T21:38:26.014Z"
   },
   {
    "duration": 38,
    "start_time": "2023-01-16T21:38:26.038Z"
   },
   {
    "duration": 33,
    "start_time": "2023-01-16T21:38:26.077Z"
   },
   {
    "duration": 89,
    "start_time": "2023-01-16T21:38:26.112Z"
   },
   {
    "duration": 656,
    "start_time": "2023-01-16T21:38:26.203Z"
   },
   {
    "duration": 41,
    "start_time": "2023-01-16T21:38:26.860Z"
   },
   {
    "duration": 45,
    "start_time": "2023-01-16T21:38:26.903Z"
   },
   {
    "duration": 34,
    "start_time": "2023-01-16T21:38:26.966Z"
   },
   {
    "duration": 33,
    "start_time": "2023-01-16T21:38:27.002Z"
   },
   {
    "duration": 43,
    "start_time": "2023-01-16T21:38:27.037Z"
   },
   {
    "duration": 60,
    "start_time": "2023-01-16T21:38:27.082Z"
   },
   {
    "duration": 42,
    "start_time": "2023-01-16T21:38:27.144Z"
   },
   {
    "duration": 6,
    "start_time": "2023-01-16T21:38:27.187Z"
   },
   {
    "duration": 12,
    "start_time": "2023-01-16T21:38:27.196Z"
   },
   {
    "duration": 31,
    "start_time": "2023-01-16T21:38:27.210Z"
   },
   {
    "duration": 25,
    "start_time": "2023-01-16T21:38:27.243Z"
   },
   {
    "duration": 81,
    "start_time": "2023-01-16T21:38:27.273Z"
   },
   {
    "duration": 21,
    "start_time": "2023-01-16T21:38:27.356Z"
   },
   {
    "duration": 1348,
    "start_time": "2023-01-17T10:27:25.652Z"
   },
   {
    "duration": 505,
    "start_time": "2023-01-17T10:27:27.002Z"
   },
   {
    "duration": 11,
    "start_time": "2023-01-17T10:27:27.509Z"
   },
   {
    "duration": 29,
    "start_time": "2023-01-17T10:27:27.522Z"
   },
   {
    "duration": 8,
    "start_time": "2023-01-17T10:27:27.552Z"
   },
   {
    "duration": 7,
    "start_time": "2023-01-17T10:27:27.561Z"
   },
   {
    "duration": 6,
    "start_time": "2023-01-17T10:27:27.569Z"
   },
   {
    "duration": 72,
    "start_time": "2023-01-17T10:27:27.576Z"
   },
   {
    "duration": 65,
    "start_time": "2023-01-17T10:27:27.649Z"
   },
   {
    "duration": 13,
    "start_time": "2023-01-17T10:27:27.716Z"
   },
   {
    "duration": 20,
    "start_time": "2023-01-17T10:27:27.730Z"
   },
   {
    "duration": 83,
    "start_time": "2023-01-17T10:27:27.752Z"
   },
   {
    "duration": 11,
    "start_time": "2023-01-17T10:27:27.837Z"
   },
   {
    "duration": 51,
    "start_time": "2023-01-17T10:27:27.850Z"
   },
   {
    "duration": 23,
    "start_time": "2023-01-17T10:27:27.902Z"
   },
   {
    "duration": 21,
    "start_time": "2023-01-17T10:27:27.926Z"
   },
   {
    "duration": 47,
    "start_time": "2023-01-17T10:27:27.949Z"
   },
   {
    "duration": 44,
    "start_time": "2023-01-17T10:27:27.997Z"
   },
   {
    "duration": 590,
    "start_time": "2023-01-17T10:27:28.042Z"
   },
   {
    "duration": 125,
    "start_time": "2023-01-17T10:27:28.634Z"
   },
   {
    "duration": 0,
    "start_time": "2023-01-17T10:27:28.761Z"
   },
   {
    "duration": 0,
    "start_time": "2023-01-17T10:27:28.763Z"
   },
   {
    "duration": 0,
    "start_time": "2023-01-17T10:27:28.764Z"
   },
   {
    "duration": 0,
    "start_time": "2023-01-17T10:27:28.766Z"
   },
   {
    "duration": 0,
    "start_time": "2023-01-17T10:27:28.767Z"
   },
   {
    "duration": 0,
    "start_time": "2023-01-17T10:27:28.768Z"
   },
   {
    "duration": 0,
    "start_time": "2023-01-17T10:27:28.770Z"
   },
   {
    "duration": 0,
    "start_time": "2023-01-17T10:27:28.771Z"
   },
   {
    "duration": 0,
    "start_time": "2023-01-17T10:27:28.793Z"
   },
   {
    "duration": 0,
    "start_time": "2023-01-17T10:27:28.794Z"
   },
   {
    "duration": 0,
    "start_time": "2023-01-17T10:27:28.795Z"
   },
   {
    "duration": 3,
    "start_time": "2023-01-17T10:49:21.817Z"
   },
   {
    "duration": 158,
    "start_time": "2023-01-17T10:49:21.822Z"
   },
   {
    "duration": 8,
    "start_time": "2023-01-17T10:49:21.982Z"
   },
   {
    "duration": 22,
    "start_time": "2023-01-17T10:49:21.992Z"
   },
   {
    "duration": 11,
    "start_time": "2023-01-17T10:49:22.017Z"
   },
   {
    "duration": 9,
    "start_time": "2023-01-17T10:49:22.029Z"
   },
   {
    "duration": 5,
    "start_time": "2023-01-17T10:49:22.040Z"
   },
   {
    "duration": 79,
    "start_time": "2023-01-17T10:49:22.046Z"
   },
   {
    "duration": 65,
    "start_time": "2023-01-17T10:49:22.127Z"
   },
   {
    "duration": 13,
    "start_time": "2023-01-17T10:49:22.193Z"
   },
   {
    "duration": 24,
    "start_time": "2023-01-17T10:49:22.207Z"
   },
   {
    "duration": 81,
    "start_time": "2023-01-17T10:49:22.232Z"
   },
   {
    "duration": 12,
    "start_time": "2023-01-17T10:49:22.315Z"
   },
   {
    "duration": 44,
    "start_time": "2023-01-17T10:49:22.330Z"
   },
   {
    "duration": 36,
    "start_time": "2023-01-17T10:49:22.376Z"
   },
   {
    "duration": 21,
    "start_time": "2023-01-17T10:49:22.414Z"
   },
   {
    "duration": 27,
    "start_time": "2023-01-17T10:49:22.437Z"
   },
   {
    "duration": 47,
    "start_time": "2023-01-17T10:49:22.491Z"
   },
   {
    "duration": 497,
    "start_time": "2023-01-17T10:49:22.540Z"
   },
   {
    "duration": 27,
    "start_time": "2023-01-17T10:49:23.038Z"
   },
   {
    "duration": 0,
    "start_time": "2023-01-17T10:49:23.066Z"
   },
   {
    "duration": 0,
    "start_time": "2023-01-17T10:49:23.068Z"
   },
   {
    "duration": 0,
    "start_time": "2023-01-17T10:49:23.069Z"
   },
   {
    "duration": 0,
    "start_time": "2023-01-17T10:49:23.071Z"
   },
   {
    "duration": 0,
    "start_time": "2023-01-17T10:49:23.073Z"
   },
   {
    "duration": 0,
    "start_time": "2023-01-17T10:49:23.091Z"
   },
   {
    "duration": 0,
    "start_time": "2023-01-17T10:49:23.093Z"
   },
   {
    "duration": 0,
    "start_time": "2023-01-17T10:49:23.094Z"
   },
   {
    "duration": 0,
    "start_time": "2023-01-17T10:49:23.096Z"
   },
   {
    "duration": 0,
    "start_time": "2023-01-17T10:49:23.098Z"
   },
   {
    "duration": 4,
    "start_time": "2023-01-17T10:50:16.858Z"
   },
   {
    "duration": 169,
    "start_time": "2023-01-17T10:50:16.864Z"
   },
   {
    "duration": 7,
    "start_time": "2023-01-17T10:50:17.035Z"
   },
   {
    "duration": 21,
    "start_time": "2023-01-17T10:50:17.044Z"
   },
   {
    "duration": 6,
    "start_time": "2023-01-17T10:50:17.067Z"
   },
   {
    "duration": 11,
    "start_time": "2023-01-17T10:50:17.092Z"
   },
   {
    "duration": 9,
    "start_time": "2023-01-17T10:50:17.105Z"
   },
   {
    "duration": 58,
    "start_time": "2023-01-17T10:50:17.115Z"
   },
   {
    "duration": 82,
    "start_time": "2023-01-17T10:50:17.174Z"
   },
   {
    "duration": 13,
    "start_time": "2023-01-17T10:50:17.258Z"
   },
   {
    "duration": 39,
    "start_time": "2023-01-17T10:50:17.272Z"
   },
   {
    "duration": 68,
    "start_time": "2023-01-17T10:50:17.312Z"
   },
   {
    "duration": 12,
    "start_time": "2023-01-17T10:50:17.396Z"
   },
   {
    "duration": 46,
    "start_time": "2023-01-17T10:50:17.410Z"
   },
   {
    "duration": 35,
    "start_time": "2023-01-17T10:50:17.458Z"
   },
   {
    "duration": 28,
    "start_time": "2023-01-17T10:50:17.494Z"
   },
   {
    "duration": 29,
    "start_time": "2023-01-17T10:50:17.524Z"
   },
   {
    "duration": 73,
    "start_time": "2023-01-17T10:50:17.555Z"
   },
   {
    "duration": 523,
    "start_time": "2023-01-17T10:50:17.629Z"
   },
   {
    "duration": 26,
    "start_time": "2023-01-17T10:50:18.153Z"
   },
   {
    "duration": 50,
    "start_time": "2023-01-17T10:50:18.193Z"
   },
   {
    "duration": 31,
    "start_time": "2023-01-17T10:50:18.245Z"
   },
   {
    "duration": 35,
    "start_time": "2023-01-17T10:50:18.291Z"
   },
   {
    "duration": 26,
    "start_time": "2023-01-17T10:50:18.328Z"
   },
   {
    "duration": 84,
    "start_time": "2023-01-17T10:50:18.355Z"
   },
   {
    "duration": 13,
    "start_time": "2023-01-17T10:50:18.440Z"
   },
   {
    "duration": 6,
    "start_time": "2023-01-17T10:50:18.455Z"
   },
   {
    "duration": 29,
    "start_time": "2023-01-17T10:50:18.463Z"
   },
   {
    "duration": 34,
    "start_time": "2023-01-17T10:50:18.494Z"
   },
   {
    "duration": 9,
    "start_time": "2023-01-17T10:50:18.530Z"
   },
   {
    "duration": 118,
    "start_time": "2023-01-17T10:50:18.541Z"
   },
   {
    "duration": 27,
    "start_time": "2023-01-17T11:04:24.666Z"
   },
   {
    "duration": 31,
    "start_time": "2023-01-17T11:04:30.089Z"
   },
   {
    "duration": 44,
    "start_time": "2023-01-17T11:07:01.410Z"
   },
   {
    "duration": 42,
    "start_time": "2023-01-17T11:07:17.692Z"
   },
   {
    "duration": 70,
    "start_time": "2023-01-17T11:09:33.155Z"
   },
   {
    "duration": 75,
    "start_time": "2023-01-17T11:09:48.660Z"
   },
   {
    "duration": 73,
    "start_time": "2023-01-17T11:11:38.427Z"
   },
   {
    "duration": 49,
    "start_time": "2023-01-17T11:11:40.410Z"
   },
   {
    "duration": 5,
    "start_time": "2023-01-17T11:12:22.046Z"
   },
   {
    "duration": 6,
    "start_time": "2023-01-17T11:12:27.149Z"
   },
   {
    "duration": 5,
    "start_time": "2023-01-17T11:12:44.847Z"
   },
   {
    "duration": 7,
    "start_time": "2023-01-17T11:12:46.214Z"
   },
   {
    "duration": 30,
    "start_time": "2023-01-17T11:14:55.167Z"
   },
   {
    "duration": 44,
    "start_time": "2023-01-17T11:14:55.711Z"
   },
   {
    "duration": 15,
    "start_time": "2023-01-17T11:15:30.795Z"
   },
   {
    "duration": 57,
    "start_time": "2023-01-17T11:15:31.642Z"
   },
   {
    "duration": 75,
    "start_time": "2023-01-17T11:15:35.402Z"
   },
   {
    "duration": 7,
    "start_time": "2023-01-17T11:15:37.387Z"
   },
   {
    "duration": 5,
    "start_time": "2023-01-17T11:15:39.146Z"
   },
   {
    "duration": 101,
    "start_time": "2023-01-17T11:17:16.352Z"
   },
   {
    "duration": 9,
    "start_time": "2023-01-17T11:36:21.814Z"
   },
   {
    "duration": 10,
    "start_time": "2023-01-17T11:36:33.023Z"
   },
   {
    "duration": 12,
    "start_time": "2023-01-17T11:36:39.695Z"
   },
   {
    "duration": 6,
    "start_time": "2023-01-17T11:41:20.969Z"
   },
   {
    "duration": 17,
    "start_time": "2023-01-17T11:41:26.392Z"
   },
   {
    "duration": 7,
    "start_time": "2023-01-17T11:42:00.299Z"
   },
   {
    "duration": 750,
    "start_time": "2023-01-17T11:42:03.106Z"
   },
   {
    "duration": 6,
    "start_time": "2023-01-17T11:42:59.278Z"
   },
   {
    "duration": 17,
    "start_time": "2023-01-17T11:43:03.054Z"
   },
   {
    "duration": 5,
    "start_time": "2023-01-17T11:45:54.082Z"
   },
   {
    "duration": 823,
    "start_time": "2023-01-17T11:45:57.712Z"
   },
   {
    "duration": 9,
    "start_time": "2023-01-17T11:47:18.957Z"
   },
   {
    "duration": 9,
    "start_time": "2023-01-17T11:47:24.701Z"
   },
   {
    "duration": 827,
    "start_time": "2023-01-17T11:47:31.942Z"
   },
   {
    "duration": 18,
    "start_time": "2023-01-17T11:47:50.815Z"
   },
   {
    "duration": 928,
    "start_time": "2023-01-17T11:48:04.312Z"
   },
   {
    "duration": 6,
    "start_time": "2023-01-17T11:48:58.122Z"
   },
   {
    "duration": 810,
    "start_time": "2023-01-17T11:49:01.055Z"
   },
   {
    "duration": 7,
    "start_time": "2023-01-17T11:49:24.333Z"
   },
   {
    "duration": 16,
    "start_time": "2023-01-17T11:49:27.492Z"
   },
   {
    "duration": 6,
    "start_time": "2023-01-17T12:10:37.330Z"
   },
   {
    "duration": 828,
    "start_time": "2023-01-17T12:10:43.597Z"
   },
   {
    "duration": 857,
    "start_time": "2023-01-17T12:21:06.393Z"
   },
   {
    "duration": 6,
    "start_time": "2023-01-17T12:21:10.361Z"
   },
   {
    "duration": 5,
    "start_time": "2023-01-17T12:21:13.050Z"
   },
   {
    "duration": 7,
    "start_time": "2023-01-17T12:22:08.164Z"
   },
   {
    "duration": 6,
    "start_time": "2023-01-17T12:22:33.014Z"
   },
   {
    "duration": 4,
    "start_time": "2023-01-17T12:23:37.458Z"
   },
   {
    "duration": 15,
    "start_time": "2023-01-17T12:23:44.905Z"
   },
   {
    "duration": 17,
    "start_time": "2023-01-17T12:24:14.007Z"
   },
   {
    "duration": 6,
    "start_time": "2023-01-17T12:24:20.997Z"
   },
   {
    "duration": 8,
    "start_time": "2023-01-17T12:25:11.873Z"
   },
   {
    "duration": 6,
    "start_time": "2023-01-17T12:25:21.384Z"
   },
   {
    "duration": 6,
    "start_time": "2023-01-17T12:25:59.955Z"
   },
   {
    "duration": 6,
    "start_time": "2023-01-17T12:26:01.068Z"
   },
   {
    "duration": 6,
    "start_time": "2023-01-17T12:26:01.859Z"
   },
   {
    "duration": 6,
    "start_time": "2023-01-17T12:26:12.499Z"
   },
   {
    "duration": 6,
    "start_time": "2023-01-17T12:29:09.230Z"
   },
   {
    "duration": 7,
    "start_time": "2023-01-17T12:30:10.322Z"
   },
   {
    "duration": 10,
    "start_time": "2023-01-17T12:33:11.054Z"
   },
   {
    "duration": 9,
    "start_time": "2023-01-17T12:33:22.621Z"
   },
   {
    "duration": 10,
    "start_time": "2023-01-17T12:33:31.166Z"
   },
   {
    "duration": 6,
    "start_time": "2023-01-17T12:33:39.102Z"
   },
   {
    "duration": 6,
    "start_time": "2023-01-17T12:33:44.518Z"
   },
   {
    "duration": 9,
    "start_time": "2023-01-17T12:35:34.285Z"
   },
   {
    "duration": 10,
    "start_time": "2023-01-17T12:38:25.871Z"
   },
   {
    "duration": 8,
    "start_time": "2023-01-17T12:47:21.222Z"
   },
   {
    "duration": 5,
    "start_time": "2023-01-17T12:47:56.048Z"
   },
   {
    "duration": 7,
    "start_time": "2023-01-17T12:48:09.449Z"
   },
   {
    "duration": 8,
    "start_time": "2023-01-17T12:55:47.436Z"
   },
   {
    "duration": 7,
    "start_time": "2023-01-17T12:56:08.878Z"
   },
   {
    "duration": 7,
    "start_time": "2023-01-17T12:56:11.038Z"
   },
   {
    "duration": 19,
    "start_time": "2023-01-17T13:22:08.155Z"
   },
   {
    "duration": 45,
    "start_time": "2023-01-17T13:28:42.162Z"
   },
   {
    "duration": 10,
    "start_time": "2023-01-17T13:29:11.349Z"
   },
   {
    "duration": 10,
    "start_time": "2023-01-17T13:29:18.837Z"
   },
   {
    "duration": 39,
    "start_time": "2023-01-17T13:29:28.804Z"
   },
   {
    "duration": 10,
    "start_time": "2023-01-17T13:29:33.590Z"
   },
   {
    "duration": 10,
    "start_time": "2023-01-17T13:29:47.404Z"
   },
   {
    "duration": 1099,
    "start_time": "2023-01-17T13:57:07.228Z"
   },
   {
    "duration": 155,
    "start_time": "2023-01-17T13:57:08.329Z"
   },
   {
    "duration": 10,
    "start_time": "2023-01-17T13:57:08.486Z"
   },
   {
    "duration": 36,
    "start_time": "2023-01-17T13:57:08.497Z"
   },
   {
    "duration": 11,
    "start_time": "2023-01-17T13:57:08.537Z"
   },
   {
    "duration": 10,
    "start_time": "2023-01-17T13:57:08.550Z"
   },
   {
    "duration": 10,
    "start_time": "2023-01-17T13:57:08.562Z"
   },
   {
    "duration": 73,
    "start_time": "2023-01-17T13:57:08.573Z"
   },
   {
    "duration": 62,
    "start_time": "2023-01-17T13:57:08.647Z"
   },
   {
    "duration": 14,
    "start_time": "2023-01-17T13:57:08.711Z"
   },
   {
    "duration": 38,
    "start_time": "2023-01-17T13:57:08.726Z"
   },
   {
    "duration": 80,
    "start_time": "2023-01-17T13:57:08.765Z"
   },
   {
    "duration": 34,
    "start_time": "2023-01-17T13:57:08.847Z"
   },
   {
    "duration": 60,
    "start_time": "2023-01-17T13:57:08.884Z"
   },
   {
    "duration": 33,
    "start_time": "2023-01-17T13:57:08.946Z"
   },
   {
    "duration": 29,
    "start_time": "2023-01-17T13:57:08.980Z"
   },
   {
    "duration": 62,
    "start_time": "2023-01-17T13:57:09.011Z"
   },
   {
    "duration": 58,
    "start_time": "2023-01-17T13:57:09.074Z"
   },
   {
    "duration": 575,
    "start_time": "2023-01-17T13:57:09.134Z"
   },
   {
    "duration": 24,
    "start_time": "2023-01-17T13:57:09.711Z"
   },
   {
    "duration": 46,
    "start_time": "2023-01-17T13:57:09.744Z"
   },
   {
    "duration": 31,
    "start_time": "2023-01-17T13:57:09.792Z"
   },
   {
    "duration": 42,
    "start_time": "2023-01-17T13:57:09.825Z"
   },
   {
    "duration": 25,
    "start_time": "2023-01-17T13:57:09.869Z"
   },
   {
    "duration": 74,
    "start_time": "2023-01-17T13:57:09.896Z"
   },
   {
    "duration": 11,
    "start_time": "2023-01-17T13:57:09.972Z"
   },
   {
    "duration": 7,
    "start_time": "2023-01-17T13:57:09.985Z"
   },
   {
    "duration": 18,
    "start_time": "2023-01-17T13:57:09.994Z"
   },
   {
    "duration": 44,
    "start_time": "2023-01-17T13:57:10.013Z"
   },
   {
    "duration": 63,
    "start_time": "2023-01-17T13:57:10.059Z"
   },
   {
    "duration": 85,
    "start_time": "2023-01-17T13:57:10.124Z"
   },
   {
    "duration": 4,
    "start_time": "2023-01-17T13:57:10.211Z"
   },
   {
    "duration": 11,
    "start_time": "2023-01-17T13:57:10.217Z"
   },
   {
    "duration": 19,
    "start_time": "2023-01-17T13:57:10.229Z"
   },
   {
    "duration": 7,
    "start_time": "2023-01-17T13:57:10.249Z"
   },
   {
    "duration": 21,
    "start_time": "2023-01-17T13:57:10.257Z"
   },
   {
    "duration": 7,
    "start_time": "2023-01-17T13:57:10.280Z"
   },
   {
    "duration": 17,
    "start_time": "2023-01-17T13:57:10.289Z"
   },
   {
    "duration": 9,
    "start_time": "2023-01-17T13:57:10.308Z"
   },
   {
    "duration": 27,
    "start_time": "2023-01-17T13:57:10.318Z"
   },
   {
    "duration": 8,
    "start_time": "2023-01-17T13:57:10.348Z"
   },
   {
    "duration": 17,
    "start_time": "2023-01-17T13:57:10.358Z"
   },
   {
    "duration": 15,
    "start_time": "2023-01-17T13:57:10.376Z"
   },
   {
    "duration": 11,
    "start_time": "2023-01-17T13:57:10.393Z"
   },
   {
    "duration": 14,
    "start_time": "2023-01-17T13:57:10.405Z"
   },
   {
    "duration": 5,
    "start_time": "2023-01-17T14:00:27.307Z"
   },
   {
    "duration": 4,
    "start_time": "2023-01-17T14:00:45.517Z"
   },
   {
    "duration": 5,
    "start_time": "2023-01-17T14:01:00.494Z"
   },
   {
    "duration": 4,
    "start_time": "2023-01-17T14:01:06.237Z"
   },
   {
    "duration": 5,
    "start_time": "2023-01-17T14:01:31.867Z"
   },
   {
    "duration": 6,
    "start_time": "2023-01-17T14:01:34.067Z"
   },
   {
    "duration": 6,
    "start_time": "2023-01-17T14:01:43.766Z"
   },
   {
    "duration": 9,
    "start_time": "2023-01-17T14:01:43.773Z"
   },
   {
    "duration": 8,
    "start_time": "2023-01-17T14:01:43.784Z"
   },
   {
    "duration": 8,
    "start_time": "2023-01-17T14:01:43.793Z"
   },
   {
    "duration": 8,
    "start_time": "2023-01-17T14:01:43.803Z"
   },
   {
    "duration": 12,
    "start_time": "2023-01-17T14:01:43.812Z"
   },
   {
    "duration": 9,
    "start_time": "2023-01-17T14:01:43.826Z"
   },
   {
    "duration": 15,
    "start_time": "2023-01-17T14:01:43.837Z"
   },
   {
    "duration": 7,
    "start_time": "2023-01-17T14:01:43.854Z"
   },
   {
    "duration": 8,
    "start_time": "2023-01-17T14:01:43.863Z"
   },
   {
    "duration": 9,
    "start_time": "2023-01-17T14:01:43.872Z"
   },
   {
    "duration": 8,
    "start_time": "2023-01-17T14:01:43.882Z"
   },
   {
    "duration": 1085,
    "start_time": "2023-01-17T14:03:06.152Z"
   },
   {
    "duration": 175,
    "start_time": "2023-01-17T14:03:07.239Z"
   },
   {
    "duration": 10,
    "start_time": "2023-01-17T14:03:07.416Z"
   },
   {
    "duration": 25,
    "start_time": "2023-01-17T14:03:07.428Z"
   },
   {
    "duration": 8,
    "start_time": "2023-01-17T14:03:07.455Z"
   },
   {
    "duration": 12,
    "start_time": "2023-01-17T14:03:07.465Z"
   },
   {
    "duration": 11,
    "start_time": "2023-01-17T14:03:07.479Z"
   },
   {
    "duration": 67,
    "start_time": "2023-01-17T14:03:07.491Z"
   },
   {
    "duration": 66,
    "start_time": "2023-01-17T14:03:07.560Z"
   },
   {
    "duration": 21,
    "start_time": "2023-01-17T14:03:07.629Z"
   },
   {
    "duration": 18,
    "start_time": "2023-01-17T14:03:07.651Z"
   },
   {
    "duration": 73,
    "start_time": "2023-01-17T14:03:07.671Z"
   },
   {
    "duration": 29,
    "start_time": "2023-01-17T14:03:07.746Z"
   },
   {
    "duration": 46,
    "start_time": "2023-01-17T14:03:07.776Z"
   },
   {
    "duration": 45,
    "start_time": "2023-01-17T14:03:07.824Z"
   },
   {
    "duration": 23,
    "start_time": "2023-01-17T14:03:07.870Z"
   },
   {
    "duration": 30,
    "start_time": "2023-01-17T14:03:07.894Z"
   },
   {
    "duration": 67,
    "start_time": "2023-01-17T14:03:07.926Z"
   },
   {
    "duration": 554,
    "start_time": "2023-01-17T14:03:07.994Z"
   },
   {
    "duration": 20,
    "start_time": "2023-01-17T14:03:08.550Z"
   },
   {
    "duration": 42,
    "start_time": "2023-01-17T14:03:08.571Z"
   },
   {
    "duration": 51,
    "start_time": "2023-01-17T14:03:08.614Z"
   },
   {
    "duration": 26,
    "start_time": "2023-01-17T14:03:08.667Z"
   },
   {
    "duration": 23,
    "start_time": "2023-01-17T14:03:08.694Z"
   },
   {
    "duration": 69,
    "start_time": "2023-01-17T14:03:08.719Z"
   },
   {
    "duration": 11,
    "start_time": "2023-01-17T14:03:08.789Z"
   },
   {
    "duration": 11,
    "start_time": "2023-01-17T14:03:08.802Z"
   },
   {
    "duration": 33,
    "start_time": "2023-01-17T14:03:08.817Z"
   },
   {
    "duration": 19,
    "start_time": "2023-01-17T14:03:08.851Z"
   },
   {
    "duration": 73,
    "start_time": "2023-01-17T14:03:08.872Z"
   },
   {
    "duration": 80,
    "start_time": "2023-01-17T14:03:08.947Z"
   },
   {
    "duration": 6,
    "start_time": "2023-01-17T14:03:09.043Z"
   },
   {
    "duration": 63,
    "start_time": "2023-01-17T14:03:09.051Z"
   },
   {
    "duration": 18,
    "start_time": "2023-01-17T14:03:09.115Z"
   },
   {
    "duration": 34,
    "start_time": "2023-01-17T14:03:09.134Z"
   },
   {
    "duration": 17,
    "start_time": "2023-01-17T14:03:09.170Z"
   },
   {
    "duration": 16,
    "start_time": "2023-01-17T14:03:09.189Z"
   },
   {
    "duration": 23,
    "start_time": "2023-01-17T14:03:09.207Z"
   },
   {
    "duration": 20,
    "start_time": "2023-01-17T14:03:09.232Z"
   },
   {
    "duration": 13,
    "start_time": "2023-01-17T14:03:09.254Z"
   },
   {
    "duration": 9,
    "start_time": "2023-01-17T14:03:09.268Z"
   },
   {
    "duration": 21,
    "start_time": "2023-01-17T14:03:09.278Z"
   },
   {
    "duration": 14,
    "start_time": "2023-01-17T14:03:09.301Z"
   },
   {
    "duration": 16,
    "start_time": "2023-01-17T14:03:09.316Z"
   },
   {
    "duration": 6,
    "start_time": "2023-01-17T14:03:09.334Z"
   },
   {
    "duration": 565,
    "start_time": "2023-01-17T14:04:58.982Z"
   },
   {
    "duration": 108,
    "start_time": "2023-01-17T15:21:29.639Z"
   },
   {
    "duration": 4,
    "start_time": "2023-01-17T15:21:33.801Z"
   },
   {
    "duration": 195,
    "start_time": "2023-01-17T15:21:33.807Z"
   },
   {
    "duration": 8,
    "start_time": "2023-01-17T15:21:34.004Z"
   },
   {
    "duration": 22,
    "start_time": "2023-01-17T15:21:34.014Z"
   },
   {
    "duration": 5,
    "start_time": "2023-01-17T15:21:34.038Z"
   },
   {
    "duration": 11,
    "start_time": "2023-01-17T15:21:34.045Z"
   },
   {
    "duration": 38,
    "start_time": "2023-01-17T15:21:34.058Z"
   },
   {
    "duration": 65,
    "start_time": "2023-01-17T15:21:34.098Z"
   },
   {
    "duration": 90,
    "start_time": "2023-01-17T15:21:34.165Z"
   },
   {
    "duration": 0,
    "start_time": "2023-01-17T15:21:34.259Z"
   },
   {
    "duration": 0,
    "start_time": "2023-01-17T15:21:34.260Z"
   },
   {
    "duration": 0,
    "start_time": "2023-01-17T15:21:34.263Z"
   },
   {
    "duration": 0,
    "start_time": "2023-01-17T15:21:34.264Z"
   },
   {
    "duration": 0,
    "start_time": "2023-01-17T15:21:34.266Z"
   },
   {
    "duration": 0,
    "start_time": "2023-01-17T15:21:34.267Z"
   },
   {
    "duration": 0,
    "start_time": "2023-01-17T15:21:34.292Z"
   },
   {
    "duration": 0,
    "start_time": "2023-01-17T15:21:34.294Z"
   },
   {
    "duration": 0,
    "start_time": "2023-01-17T15:21:34.295Z"
   },
   {
    "duration": 0,
    "start_time": "2023-01-17T15:21:34.297Z"
   },
   {
    "duration": 0,
    "start_time": "2023-01-17T15:21:34.298Z"
   },
   {
    "duration": 0,
    "start_time": "2023-01-17T15:21:34.299Z"
   },
   {
    "duration": 0,
    "start_time": "2023-01-17T15:21:34.301Z"
   },
   {
    "duration": 0,
    "start_time": "2023-01-17T15:21:34.309Z"
   },
   {
    "duration": 0,
    "start_time": "2023-01-17T15:21:34.311Z"
   },
   {
    "duration": 0,
    "start_time": "2023-01-17T15:21:34.313Z"
   },
   {
    "duration": 0,
    "start_time": "2023-01-17T15:21:34.315Z"
   },
   {
    "duration": 0,
    "start_time": "2023-01-17T15:21:34.316Z"
   },
   {
    "duration": 0,
    "start_time": "2023-01-17T15:21:34.318Z"
   },
   {
    "duration": 0,
    "start_time": "2023-01-17T15:21:34.320Z"
   },
   {
    "duration": 0,
    "start_time": "2023-01-17T15:21:34.321Z"
   },
   {
    "duration": 0,
    "start_time": "2023-01-17T15:21:34.323Z"
   },
   {
    "duration": 0,
    "start_time": "2023-01-17T15:21:34.325Z"
   },
   {
    "duration": 0,
    "start_time": "2023-01-17T15:21:34.326Z"
   },
   {
    "duration": 0,
    "start_time": "2023-01-17T15:21:34.327Z"
   },
   {
    "duration": 0,
    "start_time": "2023-01-17T15:21:34.329Z"
   },
   {
    "duration": 0,
    "start_time": "2023-01-17T15:21:34.330Z"
   },
   {
    "duration": 0,
    "start_time": "2023-01-17T15:21:34.331Z"
   },
   {
    "duration": 0,
    "start_time": "2023-01-17T15:21:34.332Z"
   },
   {
    "duration": 0,
    "start_time": "2023-01-17T15:21:34.333Z"
   },
   {
    "duration": 0,
    "start_time": "2023-01-17T15:21:34.333Z"
   },
   {
    "duration": 0,
    "start_time": "2023-01-17T15:21:34.334Z"
   },
   {
    "duration": 0,
    "start_time": "2023-01-17T15:21:34.334Z"
   },
   {
    "duration": 0,
    "start_time": "2023-01-17T15:21:34.335Z"
   },
   {
    "duration": 0,
    "start_time": "2023-01-17T15:21:34.335Z"
   },
   {
    "duration": 0,
    "start_time": "2023-01-17T15:21:34.393Z"
   },
   {
    "duration": 0,
    "start_time": "2023-01-17T15:21:34.394Z"
   },
   {
    "duration": 65,
    "start_time": "2023-01-17T16:19:38.860Z"
   },
   {
    "duration": 4,
    "start_time": "2023-01-17T16:19:58.285Z"
   },
   {
    "duration": 164,
    "start_time": "2023-01-17T16:19:58.291Z"
   },
   {
    "duration": 9,
    "start_time": "2023-01-17T16:19:58.456Z"
   },
   {
    "duration": 33,
    "start_time": "2023-01-17T16:19:58.467Z"
   },
   {
    "duration": 5,
    "start_time": "2023-01-17T16:19:58.502Z"
   },
   {
    "duration": 9,
    "start_time": "2023-01-17T16:19:58.509Z"
   },
   {
    "duration": 29,
    "start_time": "2023-01-17T16:19:58.519Z"
   },
   {
    "duration": 64,
    "start_time": "2023-01-17T16:19:58.550Z"
   },
   {
    "duration": 75,
    "start_time": "2023-01-17T16:19:58.617Z"
   },
   {
    "duration": 15,
    "start_time": "2023-01-17T16:19:58.693Z"
   },
   {
    "duration": 26,
    "start_time": "2023-01-17T16:19:58.710Z"
   },
   {
    "duration": 84,
    "start_time": "2023-01-17T16:19:58.737Z"
   },
   {
    "duration": 36,
    "start_time": "2023-01-17T16:19:58.823Z"
   },
   {
    "duration": 62,
    "start_time": "2023-01-17T16:19:58.861Z"
   },
   {
    "duration": 25,
    "start_time": "2023-01-17T16:19:58.925Z"
   },
   {
    "duration": 43,
    "start_time": "2023-01-17T16:19:58.952Z"
   },
   {
    "duration": 31,
    "start_time": "2023-01-17T16:19:58.997Z"
   },
   {
    "duration": 70,
    "start_time": "2023-01-17T16:19:59.030Z"
   },
   {
    "duration": 547,
    "start_time": "2023-01-17T16:19:59.102Z"
   },
   {
    "duration": 685,
    "start_time": "2023-01-17T16:19:59.650Z"
   },
   {
    "duration": 21,
    "start_time": "2023-01-17T16:20:00.337Z"
   },
   {
    "duration": 83,
    "start_time": "2023-01-17T16:20:00.360Z"
   },
   {
    "duration": 67,
    "start_time": "2023-01-17T16:20:00.445Z"
   },
   {
    "duration": 33,
    "start_time": "2023-01-17T16:20:00.516Z"
   },
   {
    "duration": 41,
    "start_time": "2023-01-17T16:20:00.551Z"
   },
   {
    "duration": 77,
    "start_time": "2023-01-17T16:20:00.593Z"
   },
   {
    "duration": 13,
    "start_time": "2023-01-17T16:20:00.672Z"
   },
   {
    "duration": 40,
    "start_time": "2023-01-17T16:20:00.692Z"
   },
   {
    "duration": 41,
    "start_time": "2023-01-17T16:20:00.734Z"
   },
   {
    "duration": 48,
    "start_time": "2023-01-17T16:20:00.776Z"
   },
   {
    "duration": 64,
    "start_time": "2023-01-17T16:20:00.826Z"
   },
   {
    "duration": 80,
    "start_time": "2023-01-17T16:20:00.892Z"
   },
   {
    "duration": 22,
    "start_time": "2023-01-17T16:20:00.974Z"
   },
   {
    "duration": 70,
    "start_time": "2023-01-17T16:20:00.998Z"
   },
   {
    "duration": 38,
    "start_time": "2023-01-17T16:20:01.071Z"
   },
   {
    "duration": 32,
    "start_time": "2023-01-17T16:20:01.111Z"
   },
   {
    "duration": 236,
    "start_time": "2023-01-17T16:20:01.145Z"
   },
   {
    "duration": 197,
    "start_time": "2023-01-17T16:20:01.382Z"
   },
   {
    "duration": 143,
    "start_time": "2023-01-17T16:20:01.582Z"
   },
   {
    "duration": 187,
    "start_time": "2023-01-17T16:20:01.727Z"
   },
   {
    "duration": 132,
    "start_time": "2023-01-17T16:20:01.916Z"
   },
   {
    "duration": 526,
    "start_time": "2023-01-17T16:20:02.050Z"
   },
   {
    "duration": 182,
    "start_time": "2023-01-17T16:20:02.578Z"
   },
   {
    "duration": 37,
    "start_time": "2023-01-17T16:20:02.762Z"
   },
   {
    "duration": 12,
    "start_time": "2023-01-17T16:20:02.801Z"
   },
   {
    "duration": 16,
    "start_time": "2023-01-17T16:20:02.816Z"
   },
   {
    "duration": 10,
    "start_time": "2023-01-17T16:22:15.668Z"
   },
   {
    "duration": 448,
    "start_time": "2023-01-17T16:26:18.706Z"
   },
   {
    "duration": 199,
    "start_time": "2023-01-17T16:26:34.315Z"
   },
   {
    "duration": 50,
    "start_time": "2023-01-17T16:26:56.037Z"
   },
   {
    "duration": 53,
    "start_time": "2023-01-17T16:27:05.357Z"
   },
   {
    "duration": 47,
    "start_time": "2023-01-17T16:27:37.343Z"
   },
   {
    "duration": 184,
    "start_time": "2023-01-17T16:28:07.596Z"
   },
   {
    "duration": 46,
    "start_time": "2023-01-17T16:28:25.145Z"
   },
   {
    "duration": 45,
    "start_time": "2023-01-17T16:28:35.706Z"
   },
   {
    "duration": 44,
    "start_time": "2023-01-17T16:31:23.611Z"
   },
   {
    "duration": 46,
    "start_time": "2023-01-17T16:32:10.086Z"
   },
   {
    "duration": 18,
    "start_time": "2023-01-17T16:32:16.214Z"
   },
   {
    "duration": 48,
    "start_time": "2023-01-17T16:32:42.840Z"
   },
   {
    "duration": 40,
    "start_time": "2023-01-17T16:32:54.817Z"
   },
   {
    "duration": 4,
    "start_time": "2023-01-17T16:33:24.561Z"
   },
   {
    "duration": 1133,
    "start_time": "2023-01-17T16:44:08.951Z"
   },
   {
    "duration": 156,
    "start_time": "2023-01-17T16:44:10.086Z"
   },
   {
    "duration": 11,
    "start_time": "2023-01-17T16:44:10.243Z"
   },
   {
    "duration": 19,
    "start_time": "2023-01-17T16:44:10.256Z"
   },
   {
    "duration": 7,
    "start_time": "2023-01-17T16:44:10.292Z"
   },
   {
    "duration": 7,
    "start_time": "2023-01-17T16:44:10.300Z"
   },
   {
    "duration": 5,
    "start_time": "2023-01-17T16:44:10.309Z"
   },
   {
    "duration": 91,
    "start_time": "2023-01-17T16:44:10.315Z"
   },
   {
    "duration": 84,
    "start_time": "2023-01-17T16:44:10.408Z"
   },
   {
    "duration": 13,
    "start_time": "2023-01-17T16:44:10.495Z"
   },
   {
    "duration": 20,
    "start_time": "2023-01-17T16:44:10.510Z"
   },
   {
    "duration": 87,
    "start_time": "2023-01-17T16:44:10.532Z"
   },
   {
    "duration": 34,
    "start_time": "2023-01-17T16:44:10.620Z"
   },
   {
    "duration": 59,
    "start_time": "2023-01-17T16:44:10.655Z"
   },
   {
    "duration": 23,
    "start_time": "2023-01-17T16:44:10.716Z"
   },
   {
    "duration": 22,
    "start_time": "2023-01-17T16:44:10.740Z"
   },
   {
    "duration": 53,
    "start_time": "2023-01-17T16:44:10.764Z"
   },
   {
    "duration": 46,
    "start_time": "2023-01-17T16:44:10.819Z"
   },
   {
    "duration": 656,
    "start_time": "2023-01-17T16:44:10.867Z"
   },
   {
    "duration": 605,
    "start_time": "2023-01-17T16:44:11.525Z"
   },
   {
    "duration": 20,
    "start_time": "2023-01-17T16:44:12.132Z"
   },
   {
    "duration": 61,
    "start_time": "2023-01-17T16:44:12.153Z"
   },
   {
    "duration": 33,
    "start_time": "2023-01-17T16:44:12.216Z"
   },
   {
    "duration": 44,
    "start_time": "2023-01-17T16:44:12.251Z"
   },
   {
    "duration": 122,
    "start_time": "2023-01-17T16:44:12.297Z"
   },
   {
    "duration": 56,
    "start_time": "2023-01-17T16:44:12.421Z"
   },
   {
    "duration": 16,
    "start_time": "2023-01-17T16:44:12.479Z"
   },
   {
    "duration": 13,
    "start_time": "2023-01-17T16:44:12.498Z"
   },
   {
    "duration": 347,
    "start_time": "2023-01-17T16:44:12.513Z"
   },
   {
    "duration": 30,
    "start_time": "2023-01-17T16:44:12.862Z"
   },
   {
    "duration": 114,
    "start_time": "2023-01-17T16:44:12.894Z"
   },
   {
    "duration": 85,
    "start_time": "2023-01-17T16:44:13.010Z"
   },
   {
    "duration": 4,
    "start_time": "2023-01-17T16:44:13.097Z"
   },
   {
    "duration": 11,
    "start_time": "2023-01-17T16:44:13.103Z"
   },
   {
    "duration": 6,
    "start_time": "2023-01-17T16:44:13.116Z"
   },
   {
    "duration": 10,
    "start_time": "2023-01-17T16:44:13.124Z"
   },
   {
    "duration": 15,
    "start_time": "2023-01-17T16:44:13.136Z"
   },
   {
    "duration": 9,
    "start_time": "2023-01-17T16:44:13.152Z"
   },
   {
    "duration": 9,
    "start_time": "2023-01-17T16:44:13.163Z"
   },
   {
    "duration": 35,
    "start_time": "2023-01-17T16:44:13.173Z"
   },
   {
    "duration": 13,
    "start_time": "2023-01-17T16:44:13.209Z"
   },
   {
    "duration": 23,
    "start_time": "2023-01-17T16:44:13.224Z"
   },
   {
    "duration": 14,
    "start_time": "2023-01-17T16:44:13.249Z"
   },
   {
    "duration": 6,
    "start_time": "2023-01-17T16:44:13.265Z"
   },
   {
    "duration": 19,
    "start_time": "2023-01-17T16:44:13.273Z"
   },
   {
    "duration": 7,
    "start_time": "2023-01-17T16:44:13.293Z"
   },
   {
    "duration": 160,
    "start_time": "2023-01-17T17:12:43.079Z"
   },
   {
    "duration": 46,
    "start_time": "2023-01-17T17:13:30.003Z"
   },
   {
    "duration": 53,
    "start_time": "2023-01-17T17:13:41.842Z"
   },
   {
    "duration": 52,
    "start_time": "2023-01-17T17:13:46.763Z"
   },
   {
    "duration": 19,
    "start_time": "2023-01-17T17:13:51.675Z"
   },
   {
    "duration": 4,
    "start_time": "2023-01-17T17:19:23.643Z"
   },
   {
    "duration": 193,
    "start_time": "2023-01-17T17:19:23.649Z"
   },
   {
    "duration": 7,
    "start_time": "2023-01-17T17:19:23.844Z"
   },
   {
    "duration": 20,
    "start_time": "2023-01-17T17:19:23.854Z"
   },
   {
    "duration": 11,
    "start_time": "2023-01-17T17:19:23.892Z"
   },
   {
    "duration": 9,
    "start_time": "2023-01-17T17:19:23.906Z"
   },
   {
    "duration": 12,
    "start_time": "2023-01-17T17:19:23.918Z"
   },
   {
    "duration": 75,
    "start_time": "2023-01-17T17:19:23.932Z"
   },
   {
    "duration": 57,
    "start_time": "2023-01-17T17:19:24.010Z"
   },
   {
    "duration": 27,
    "start_time": "2023-01-17T17:19:24.069Z"
   },
   {
    "duration": 23,
    "start_time": "2023-01-17T17:19:24.097Z"
   },
   {
    "duration": 85,
    "start_time": "2023-01-17T17:19:24.122Z"
   },
   {
    "duration": 31,
    "start_time": "2023-01-17T17:19:24.210Z"
   },
   {
    "duration": 54,
    "start_time": "2023-01-17T17:19:24.243Z"
   },
   {
    "duration": 35,
    "start_time": "2023-01-17T17:19:24.299Z"
   },
   {
    "duration": 21,
    "start_time": "2023-01-17T17:19:24.336Z"
   },
   {
    "duration": 63,
    "start_time": "2023-01-17T17:19:24.359Z"
   },
   {
    "duration": 44,
    "start_time": "2023-01-17T17:19:24.424Z"
   },
   {
    "duration": 603,
    "start_time": "2023-01-17T17:19:24.470Z"
   },
   {
    "duration": 752,
    "start_time": "2023-01-17T17:19:25.075Z"
   },
   {
    "duration": 22,
    "start_time": "2023-01-17T17:19:25.829Z"
   },
   {
    "duration": 60,
    "start_time": "2023-01-17T17:19:25.852Z"
   },
   {
    "duration": 33,
    "start_time": "2023-01-17T17:19:25.915Z"
   },
   {
    "duration": 46,
    "start_time": "2023-01-17T17:19:25.951Z"
   },
   {
    "duration": 31,
    "start_time": "2023-01-17T17:19:26.000Z"
   },
   {
    "duration": 78,
    "start_time": "2023-01-17T17:19:26.033Z"
   },
   {
    "duration": 10,
    "start_time": "2023-01-17T17:19:26.113Z"
   },
   {
    "duration": 18,
    "start_time": "2023-01-17T17:19:26.125Z"
   },
   {
    "duration": 54,
    "start_time": "2023-01-17T17:19:26.144Z"
   },
   {
    "duration": 20,
    "start_time": "2023-01-17T17:19:26.200Z"
   },
   {
    "duration": 90,
    "start_time": "2023-01-17T17:19:26.222Z"
   },
   {
    "duration": 90,
    "start_time": "2023-01-17T17:19:26.317Z"
   },
   {
    "duration": 12,
    "start_time": "2023-01-17T17:19:26.410Z"
   },
   {
    "duration": 13,
    "start_time": "2023-01-17T17:19:26.425Z"
   },
   {
    "duration": 9,
    "start_time": "2023-01-17T17:19:26.440Z"
   },
   {
    "duration": 14,
    "start_time": "2023-01-17T17:19:26.454Z"
   },
   {
    "duration": 44,
    "start_time": "2023-01-17T17:19:26.470Z"
   },
   {
    "duration": 15,
    "start_time": "2023-01-17T17:19:26.518Z"
   },
   {
    "duration": 15,
    "start_time": "2023-01-17T17:19:26.535Z"
   },
   {
    "duration": 14,
    "start_time": "2023-01-17T17:19:26.552Z"
   },
   {
    "duration": 14,
    "start_time": "2023-01-17T17:19:26.568Z"
   },
   {
    "duration": 23,
    "start_time": "2023-01-17T17:19:26.593Z"
   },
   {
    "duration": 25,
    "start_time": "2023-01-17T17:19:26.618Z"
   },
   {
    "duration": 30,
    "start_time": "2023-01-17T17:19:26.645Z"
   },
   {
    "duration": 31,
    "start_time": "2023-01-17T17:19:26.677Z"
   },
   {
    "duration": 42,
    "start_time": "2023-01-17T17:19:26.710Z"
   },
   {
    "duration": 278,
    "start_time": "2023-01-17T17:33:02.417Z"
   },
   {
    "duration": 330,
    "start_time": "2023-01-17T17:33:15.026Z"
   },
   {
    "duration": 330,
    "start_time": "2023-01-17T17:33:22.841Z"
   },
   {
    "duration": 291,
    "start_time": "2023-01-17T17:33:35.474Z"
   },
   {
    "duration": 472,
    "start_time": "2023-01-17T17:34:02.478Z"
   },
   {
    "duration": 324,
    "start_time": "2023-01-17T17:34:12.459Z"
   },
   {
    "duration": 300,
    "start_time": "2023-01-17T17:34:22.396Z"
   },
   {
    "duration": 1335,
    "start_time": "2023-01-17T17:34:35.206Z"
   },
   {
    "duration": 279,
    "start_time": "2023-01-17T17:34:39.878Z"
   },
   {
    "duration": 239,
    "start_time": "2023-01-17T17:34:52.230Z"
   },
   {
    "duration": 355,
    "start_time": "2023-01-17T17:35:00.383Z"
   },
   {
    "duration": 283,
    "start_time": "2023-01-17T17:35:07.864Z"
   },
   {
    "duration": 468,
    "start_time": "2023-01-17T17:35:50.066Z"
   },
   {
    "duration": 339,
    "start_time": "2023-01-17T17:35:57.490Z"
   },
   {
    "duration": 269,
    "start_time": "2023-01-17T17:36:24.747Z"
   },
   {
    "duration": 332,
    "start_time": "2023-01-17T17:36:39.565Z"
   },
   {
    "duration": 300,
    "start_time": "2023-01-17T17:36:50.131Z"
   },
   {
    "duration": 491,
    "start_time": "2023-01-17T17:37:11.288Z"
   },
   {
    "duration": 56,
    "start_time": "2023-01-17T17:38:13.466Z"
   },
   {
    "duration": 4,
    "start_time": "2023-01-17T17:38:19.469Z"
   },
   {
    "duration": 183,
    "start_time": "2023-01-17T17:38:19.475Z"
   },
   {
    "duration": 7,
    "start_time": "2023-01-17T17:38:19.660Z"
   },
   {
    "duration": 38,
    "start_time": "2023-01-17T17:38:19.669Z"
   },
   {
    "duration": 5,
    "start_time": "2023-01-17T17:38:19.709Z"
   },
   {
    "duration": 13,
    "start_time": "2023-01-17T17:38:19.715Z"
   },
   {
    "duration": 7,
    "start_time": "2023-01-17T17:38:19.730Z"
   },
   {
    "duration": 80,
    "start_time": "2023-01-17T17:38:19.739Z"
   },
   {
    "duration": 53,
    "start_time": "2023-01-17T17:38:19.823Z"
   },
   {
    "duration": 25,
    "start_time": "2023-01-17T17:38:19.877Z"
   },
   {
    "duration": 28,
    "start_time": "2023-01-17T17:38:19.904Z"
   },
   {
    "duration": 93,
    "start_time": "2023-01-17T17:38:19.934Z"
   },
   {
    "duration": 40,
    "start_time": "2023-01-17T17:38:20.029Z"
   },
   {
    "duration": 60,
    "start_time": "2023-01-17T17:38:20.070Z"
   },
   {
    "duration": 24,
    "start_time": "2023-01-17T17:38:20.133Z"
   },
   {
    "duration": 42,
    "start_time": "2023-01-17T17:38:20.159Z"
   },
   {
    "duration": 348,
    "start_time": "2023-01-17T17:38:20.203Z"
   },
   {
    "duration": 68,
    "start_time": "2023-01-17T17:38:20.553Z"
   },
   {
    "duration": 607,
    "start_time": "2023-01-17T17:38:20.622Z"
   },
   {
    "duration": 664,
    "start_time": "2023-01-17T17:38:21.231Z"
   },
   {
    "duration": 21,
    "start_time": "2023-01-17T17:38:21.897Z"
   },
   {
    "duration": 43,
    "start_time": "2023-01-17T17:38:21.920Z"
   },
   {
    "duration": 55,
    "start_time": "2023-01-17T17:38:21.964Z"
   },
   {
    "duration": 30,
    "start_time": "2023-01-17T17:38:22.024Z"
   },
   {
    "duration": 176,
    "start_time": "2023-01-17T17:38:22.056Z"
   },
   {
    "duration": 55,
    "start_time": "2023-01-17T17:38:22.233Z"
   },
   {
    "duration": 17,
    "start_time": "2023-01-17T17:38:22.290Z"
   },
   {
    "duration": 15,
    "start_time": "2023-01-17T17:38:22.314Z"
   },
   {
    "duration": 85,
    "start_time": "2023-01-17T17:38:22.331Z"
   },
   {
    "duration": 18,
    "start_time": "2023-01-17T17:38:22.419Z"
   },
   {
    "duration": 88,
    "start_time": "2023-01-17T17:38:22.438Z"
   },
   {
    "duration": 104,
    "start_time": "2023-01-17T17:38:22.528Z"
   },
   {
    "duration": 7,
    "start_time": "2023-01-17T17:38:22.634Z"
   },
   {
    "duration": 13,
    "start_time": "2023-01-17T17:38:22.642Z"
   },
   {
    "duration": 8,
    "start_time": "2023-01-17T17:38:22.657Z"
   },
   {
    "duration": 8,
    "start_time": "2023-01-17T17:38:22.667Z"
   },
   {
    "duration": 11,
    "start_time": "2023-01-17T17:38:22.691Z"
   },
   {
    "duration": 17,
    "start_time": "2023-01-17T17:38:22.704Z"
   },
   {
    "duration": 11,
    "start_time": "2023-01-17T17:38:22.723Z"
   },
   {
    "duration": 13,
    "start_time": "2023-01-17T17:38:22.736Z"
   },
   {
    "duration": 40,
    "start_time": "2023-01-17T17:38:22.751Z"
   },
   {
    "duration": 29,
    "start_time": "2023-01-17T17:38:22.794Z"
   },
   {
    "duration": 12,
    "start_time": "2023-01-17T17:38:22.826Z"
   },
   {
    "duration": 11,
    "start_time": "2023-01-17T17:38:22.840Z"
   },
   {
    "duration": 8,
    "start_time": "2023-01-17T17:38:22.853Z"
   },
   {
    "duration": 10,
    "start_time": "2023-01-17T17:38:22.862Z"
   },
   {
    "duration": 1318,
    "start_time": "2023-01-17T17:38:41.875Z"
   },
   {
    "duration": 181,
    "start_time": "2023-01-17T17:38:43.197Z"
   },
   {
    "duration": 13,
    "start_time": "2023-01-17T17:38:43.380Z"
   },
   {
    "duration": 36,
    "start_time": "2023-01-17T17:38:43.397Z"
   },
   {
    "duration": 7,
    "start_time": "2023-01-17T17:38:43.435Z"
   },
   {
    "duration": 7,
    "start_time": "2023-01-17T17:38:43.444Z"
   },
   {
    "duration": 11,
    "start_time": "2023-01-17T17:38:43.453Z"
   },
   {
    "duration": 88,
    "start_time": "2023-01-17T17:38:43.465Z"
   },
   {
    "duration": 80,
    "start_time": "2023-01-17T17:38:43.555Z"
   },
   {
    "duration": 14,
    "start_time": "2023-01-17T17:38:43.638Z"
   },
   {
    "duration": 21,
    "start_time": "2023-01-17T17:38:43.653Z"
   },
   {
    "duration": 69,
    "start_time": "2023-01-17T17:38:43.693Z"
   },
   {
    "duration": 45,
    "start_time": "2023-01-17T17:38:43.764Z"
   },
   {
    "duration": 45,
    "start_time": "2023-01-17T17:38:43.811Z"
   },
   {
    "duration": 39,
    "start_time": "2023-01-17T17:38:43.858Z"
   },
   {
    "duration": 33,
    "start_time": "2023-01-17T17:38:43.899Z"
   },
   {
    "duration": 351,
    "start_time": "2023-01-17T17:38:43.934Z"
   },
   {
    "duration": 63,
    "start_time": "2023-01-17T17:38:44.286Z"
   },
   {
    "duration": 656,
    "start_time": "2023-01-17T17:38:44.350Z"
   },
   {
    "duration": 748,
    "start_time": "2023-01-17T17:38:45.010Z"
   },
   {
    "duration": 34,
    "start_time": "2023-01-17T17:38:45.760Z"
   },
   {
    "duration": 52,
    "start_time": "2023-01-17T17:38:45.797Z"
   },
   {
    "duration": 56,
    "start_time": "2023-01-17T17:38:45.851Z"
   },
   {
    "duration": 37,
    "start_time": "2023-01-17T17:38:45.911Z"
   },
   {
    "duration": 56,
    "start_time": "2023-01-17T17:38:45.950Z"
   },
   {
    "duration": 65,
    "start_time": "2023-01-17T17:38:46.008Z"
   },
   {
    "duration": 32,
    "start_time": "2023-01-17T17:38:46.075Z"
   },
   {
    "duration": 17,
    "start_time": "2023-01-17T17:38:46.113Z"
   },
   {
    "duration": 388,
    "start_time": "2023-01-17T17:38:46.133Z"
   },
   {
    "duration": 71,
    "start_time": "2023-01-17T17:38:46.524Z"
   },
   {
    "duration": 126,
    "start_time": "2023-01-17T17:38:46.597Z"
   },
   {
    "duration": 95,
    "start_time": "2023-01-17T17:38:46.725Z"
   },
   {
    "duration": 5,
    "start_time": "2023-01-17T17:38:46.822Z"
   },
   {
    "duration": 10,
    "start_time": "2023-01-17T17:38:46.829Z"
   },
   {
    "duration": 7,
    "start_time": "2023-01-17T17:38:46.841Z"
   },
   {
    "duration": 10,
    "start_time": "2023-01-17T17:38:46.850Z"
   },
   {
    "duration": 37,
    "start_time": "2023-01-17T17:38:46.862Z"
   },
   {
    "duration": 8,
    "start_time": "2023-01-17T17:38:46.901Z"
   },
   {
    "duration": 10,
    "start_time": "2023-01-17T17:38:46.911Z"
   },
   {
    "duration": 21,
    "start_time": "2023-01-17T17:38:46.922Z"
   },
   {
    "duration": 11,
    "start_time": "2023-01-17T17:38:46.945Z"
   },
   {
    "duration": 13,
    "start_time": "2023-01-17T17:38:46.958Z"
   },
   {
    "duration": 8,
    "start_time": "2023-01-17T17:38:46.992Z"
   },
   {
    "duration": 14,
    "start_time": "2023-01-17T17:38:47.002Z"
   },
   {
    "duration": 7,
    "start_time": "2023-01-17T17:38:47.018Z"
   },
   {
    "duration": 6,
    "start_time": "2023-01-17T17:38:47.027Z"
   },
   {
    "duration": 268,
    "start_time": "2023-01-17T17:40:32.361Z"
   },
   {
    "duration": 122,
    "start_time": "2023-01-17T17:40:38.715Z"
   },
   {
    "duration": 100,
    "start_time": "2023-01-17T17:40:46.704Z"
   },
   {
    "duration": 4,
    "start_time": "2023-01-17T17:40:50.026Z"
   },
   {
    "duration": 197,
    "start_time": "2023-01-17T17:40:50.032Z"
   },
   {
    "duration": 7,
    "start_time": "2023-01-17T17:40:50.231Z"
   },
   {
    "duration": 19,
    "start_time": "2023-01-17T17:40:50.240Z"
   },
   {
    "duration": 4,
    "start_time": "2023-01-17T17:40:50.261Z"
   },
   {
    "duration": 28,
    "start_time": "2023-01-17T17:40:50.267Z"
   },
   {
    "duration": 36,
    "start_time": "2023-01-17T17:40:50.297Z"
   },
   {
    "duration": 61,
    "start_time": "2023-01-17T17:40:50.335Z"
   },
   {
    "duration": 75,
    "start_time": "2023-01-17T17:40:50.402Z"
   },
   {
    "duration": 43,
    "start_time": "2023-01-17T17:40:50.479Z"
   },
   {
    "duration": 28,
    "start_time": "2023-01-17T17:40:50.524Z"
   },
   {
    "duration": 89,
    "start_time": "2023-01-17T17:40:50.556Z"
   },
   {
    "duration": 27,
    "start_time": "2023-01-17T17:40:50.647Z"
   },
   {
    "duration": 48,
    "start_time": "2023-01-17T17:40:50.676Z"
   },
   {
    "duration": 25,
    "start_time": "2023-01-17T17:40:50.726Z"
   },
   {
    "duration": 44,
    "start_time": "2023-01-17T17:40:50.753Z"
   },
   {
    "duration": 344,
    "start_time": "2023-01-17T17:40:50.802Z"
   },
   {
    "duration": 73,
    "start_time": "2023-01-17T17:40:51.148Z"
   },
   {
    "duration": 605,
    "start_time": "2023-01-17T17:40:51.223Z"
   },
   {
    "duration": 777,
    "start_time": "2023-01-17T17:40:51.830Z"
   },
   {
    "duration": 21,
    "start_time": "2023-01-17T17:40:52.618Z"
   },
   {
    "duration": 57,
    "start_time": "2023-01-17T17:40:52.641Z"
   },
   {
    "duration": 35,
    "start_time": "2023-01-17T17:40:52.700Z"
   },
   {
    "duration": 85,
    "start_time": "2023-01-17T17:40:52.738Z"
   },
   {
    "duration": 25,
    "start_time": "2023-01-17T17:40:52.825Z"
   },
   {
    "duration": 92,
    "start_time": "2023-01-17T17:40:52.852Z"
   },
   {
    "duration": 9,
    "start_time": "2023-01-17T17:40:52.946Z"
   },
   {
    "duration": 17,
    "start_time": "2023-01-17T17:40:52.956Z"
   },
   {
    "duration": 66,
    "start_time": "2023-01-17T17:40:52.974Z"
   },
   {
    "duration": 19,
    "start_time": "2023-01-17T17:40:53.042Z"
   },
   {
    "duration": 87,
    "start_time": "2023-01-17T17:40:53.062Z"
   },
   {
    "duration": 98,
    "start_time": "2023-01-17T17:40:53.151Z"
   },
   {
    "duration": 4,
    "start_time": "2023-01-17T17:40:53.251Z"
   },
   {
    "duration": 11,
    "start_time": "2023-01-17T17:40:53.257Z"
   },
   {
    "duration": 24,
    "start_time": "2023-01-17T17:40:53.270Z"
   },
   {
    "duration": 24,
    "start_time": "2023-01-17T17:40:53.297Z"
   },
   {
    "duration": 84,
    "start_time": "2023-01-17T17:40:53.325Z"
   },
   {
    "duration": 23,
    "start_time": "2023-01-17T17:40:53.414Z"
   },
   {
    "duration": 8,
    "start_time": "2023-01-17T17:40:53.439Z"
   },
   {
    "duration": 16,
    "start_time": "2023-01-17T17:40:53.449Z"
   },
   {
    "duration": 13,
    "start_time": "2023-01-17T17:40:53.467Z"
   },
   {
    "duration": 30,
    "start_time": "2023-01-17T17:40:53.482Z"
   },
   {
    "duration": 14,
    "start_time": "2023-01-17T17:40:53.514Z"
   },
   {
    "duration": 8,
    "start_time": "2023-01-17T17:40:53.531Z"
   },
   {
    "duration": 24,
    "start_time": "2023-01-17T17:40:53.541Z"
   },
   {
    "duration": 14,
    "start_time": "2023-01-17T17:40:53.567Z"
   }
  ],
  "kernelspec": {
   "display_name": "Python 3 (ipykernel)",
   "language": "python",
   "name": "python3"
  },
  "language_info": {
   "codemirror_mode": {
    "name": "ipython",
    "version": 3
   },
   "file_extension": ".py",
   "mimetype": "text/x-python",
   "name": "python",
   "nbconvert_exporter": "python",
   "pygments_lexer": "ipython3",
   "version": "3.9.12"
  },
  "toc": {
   "base_numbering": 1,
   "nav_menu": {},
   "number_sections": false,
   "sideBar": true,
   "skip_h1_title": false,
   "title_cell": "Table of Contents",
   "title_sidebar": "Contents",
   "toc_cell": false,
   "toc_position": {
    "height": "calc(100% - 180px)",
    "left": "10px",
    "top": "150px",
    "width": "189.254px"
   },
   "toc_section_display": true,
   "toc_window_display": true
  }
 },
 "nbformat": 4,
 "nbformat_minor": 4
}
