{
 "cells": [
  {
   "cell_type": "markdown",
   "metadata": {},
   "source": [
    "## Общая информация о проекте\n"
   ]
  },
  {
   "cell_type": "markdown",
   "metadata": {},
   "source": [
    "**Описание проекта:** Вы — аналитик крупного интернет-магазина. Вместе с отделом маркетинга вы подготовили список гипотез для увеличения выручки.\n",
    "*****\n",
    "**Цель проекта:** Приоритизировать гипотезы, запуститить A/B-тест и проанализировать результаты. "
   ]
  },
  {
   "cell_type": "markdown",
   "metadata": {},
   "source": [
    "**План работы:**\n",
    "\n",
    "- Загрузка данных и предобработка:\n",
    "  - Загрузка библиотек и данных\n",
    "  - Просмотр общей информации\n",
    "  - Проверка на дубликаты и пропуски\n",
    "  - Изменение названий столбцов\n",
    "  - Работа с датами\n",
    "  - Вывод\n",
    "****  \n",
    "\n",
    "**Часть 1. Приоритизация гипотез:**\n",
    "- Применить фреймворк ICE для приоритизации гипотез;\n",
    "- Применить фреймворк RICE для приоритизации гипотез; \n",
    "- Указать, как изменилась приоритизация гипотез при применении RICE вместо ICE. \n",
    "*****\n",
    "\n",
    "**Часть 2. Анализ A/B-теста:**\n",
    "- График кумулятивной выручки по группам;\n",
    "- График кумулятивного среднего чека по группам;\n",
    "- График относительного изменения кумулятивного среднего чека группы B к группе A;\n",
    "- График кумулятивного среднего количества заказов на посетителя (конверсия) по группам;\n",
    "- График относительного изменения кумулятивной конверсии посетителя группы B к группе A;\n",
    "- Точечный график количества заказов по пользователям;\n",
    "- 95-й и 99-й перцентили количества заказов на пользователя;\n",
    "- Точечный график стоимостей заказов;\n",
    "- 95-й и 99-й перцентили стоимости заказов;\n",
    "- Статистическую значимость различий в среднем количестве заказов на посетителя между группами по «сырым» данным;\n",
    "- Статистическую значимость различий в среднем чеке заказа между группами по «сырым» данным;\n",
    "- Статистическую значимость различий в среднем количестве заказов на посетителя между группами по «очищенным» данным;\n",
    "- Статистическую значимость различий в среднем чеке заказа между группами по «очищенным» данным;\n",
    "- Решение по результатам теста.\n",
    "\n",
    "*****"
   ]
  },
  {
   "cell_type": "markdown",
   "metadata": {},
   "source": [
    "**Описание датасетов:**\n",
    "\n",
    "**Данные для первой части**\n",
    "\n",
    "Файл */datasets/hypothesis.csv*\n",
    "\n",
    "Hypothesis — краткое описание гипотезы;\n",
    "\n",
    "Reach — охват пользователей по 10-балльной шкале;\n",
    "\n",
    "Impact — влияние на пользователей по 10-балльной шкале;\n",
    "\n",
    "Confidence — уверенность в гипотезе по 10-балльной шкале;\n",
    "\n",
    "Efforts — затраты ресурсов на проверку гипотезы по 10-балльной шкале. Чем больше значение Efforts, тем дороже проверка гипотезы.\n",
    "****\n",
    "\n",
    "**Данные для второй части** \n",
    "\n",
    "Файл */datasets/orders.csv*\n",
    "\n",
    "transactionId — идентификатор заказа;\n",
    "\n",
    "visitorId — идентификатор пользователя, совершившего заказ;\n",
    "\n",
    "date — дата, когда был совершён заказ;\n",
    "\n",
    "revenue — выручка заказа;\n",
    "\n",
    "group — группа A/B-теста, в которую попал заказ.\n",
    "*****\n",
    "\n",
    "Файл */datasets/visitors.csv*\n",
    "\n",
    "date — дата;\n",
    "\n",
    "group — группа A/B-теста;\n",
    "\n",
    "visitors — количество пользователей в указанную дату в указанной группе A/B-теста\n"
   ]
  },
  {
   "cell_type": "markdown",
   "metadata": {},
   "source": [
    "## Загрузка данных и предобработка"
   ]
  },
  {
   "cell_type": "markdown",
   "metadata": {},
   "source": [
    "### Загрузка библиотек и данных"
   ]
  },
  {
   "cell_type": "code",
   "execution_count": 1,
   "metadata": {},
   "outputs": [],
   "source": [
    "#импортируем нужные библиотеки\n",
    "import pandas as pd\n",
    "import pandas as pd\n",
    "import matplotlib.pyplot as plt\n",
    "import seaborn as sns\n",
    "import numpy as np\n",
    "import datetime as dt\n",
    "import scipy.stats as stats"
   ]
  },
  {
   "cell_type": "code",
   "execution_count": 2,
   "metadata": {},
   "outputs": [],
   "source": [
    "# грузим наши таблицы\n",
    "hypothesis, orders, visitors = (\n",
    "    pd.read_csv('/datasets/hypothesis.csv'),# гипотезы\n",
    "    pd.read_csv('/datasets/orders.csv'),  # заказы\n",
    "    pd.read_csv('/datasets/visitors.csv'),  # пользователи\n",
    ")\n"
   ]
  },
  {
   "cell_type": "markdown",
   "metadata": {},
   "source": [
    "### Просмотр общей информации"
   ]
  },
  {
   "cell_type": "code",
   "execution_count": 3,
   "metadata": {},
   "outputs": [
    {
     "data": {
      "text/html": [
       "<div>\n",
       "<style scoped>\n",
       "    .dataframe tbody tr th:only-of-type {\n",
       "        vertical-align: middle;\n",
       "    }\n",
       "\n",
       "    .dataframe tbody tr th {\n",
       "        vertical-align: top;\n",
       "    }\n",
       "\n",
       "    .dataframe thead th {\n",
       "        text-align: right;\n",
       "    }\n",
       "</style>\n",
       "<table border=\"1\" class=\"dataframe\">\n",
       "  <thead>\n",
       "    <tr style=\"text-align: right;\">\n",
       "      <th></th>\n",
       "      <th>Hypothesis</th>\n",
       "      <th>Reach</th>\n",
       "      <th>Impact</th>\n",
       "      <th>Confidence</th>\n",
       "      <th>Efforts</th>\n",
       "    </tr>\n",
       "  </thead>\n",
       "  <tbody>\n",
       "    <tr>\n",
       "      <th>0</th>\n",
       "      <td>Добавить два новых канала привлечения трафика,...</td>\n",
       "      <td>3</td>\n",
       "      <td>10</td>\n",
       "      <td>8</td>\n",
       "      <td>6</td>\n",
       "    </tr>\n",
       "    <tr>\n",
       "      <th>1</th>\n",
       "      <td>Запустить собственную службу доставки, что сок...</td>\n",
       "      <td>2</td>\n",
       "      <td>5</td>\n",
       "      <td>4</td>\n",
       "      <td>10</td>\n",
       "    </tr>\n",
       "    <tr>\n",
       "      <th>2</th>\n",
       "      <td>Добавить блоки рекомендаций товаров на сайт ин...</td>\n",
       "      <td>8</td>\n",
       "      <td>3</td>\n",
       "      <td>7</td>\n",
       "      <td>3</td>\n",
       "    </tr>\n",
       "    <tr>\n",
       "      <th>3</th>\n",
       "      <td>Изменить структура категорий, что увеличит кон...</td>\n",
       "      <td>8</td>\n",
       "      <td>3</td>\n",
       "      <td>3</td>\n",
       "      <td>8</td>\n",
       "    </tr>\n",
       "    <tr>\n",
       "      <th>4</th>\n",
       "      <td>Изменить цвет фона главной страницы, чтобы уве...</td>\n",
       "      <td>3</td>\n",
       "      <td>1</td>\n",
       "      <td>1</td>\n",
       "      <td>1</td>\n",
       "    </tr>\n",
       "  </tbody>\n",
       "</table>\n",
       "</div>"
      ],
      "text/plain": [
       "                                          Hypothesis  Reach  Impact  \\\n",
       "0  Добавить два новых канала привлечения трафика,...      3      10   \n",
       "1  Запустить собственную службу доставки, что сок...      2       5   \n",
       "2  Добавить блоки рекомендаций товаров на сайт ин...      8       3   \n",
       "3  Изменить структура категорий, что увеличит кон...      8       3   \n",
       "4  Изменить цвет фона главной страницы, чтобы уве...      3       1   \n",
       "\n",
       "   Confidence  Efforts  \n",
       "0           8        6  \n",
       "1           4       10  \n",
       "2           7        3  \n",
       "3           3        8  \n",
       "4           1        1  "
      ]
     },
     "metadata": {},
     "output_type": "display_data"
    },
    {
     "data": {
      "text/html": [
       "<div>\n",
       "<style scoped>\n",
       "    .dataframe tbody tr th:only-of-type {\n",
       "        vertical-align: middle;\n",
       "    }\n",
       "\n",
       "    .dataframe tbody tr th {\n",
       "        vertical-align: top;\n",
       "    }\n",
       "\n",
       "    .dataframe thead th {\n",
       "        text-align: right;\n",
       "    }\n",
       "</style>\n",
       "<table border=\"1\" class=\"dataframe\">\n",
       "  <thead>\n",
       "    <tr style=\"text-align: right;\">\n",
       "      <th></th>\n",
       "      <th>transactionId</th>\n",
       "      <th>visitorId</th>\n",
       "      <th>date</th>\n",
       "      <th>revenue</th>\n",
       "      <th>group</th>\n",
       "    </tr>\n",
       "  </thead>\n",
       "  <tbody>\n",
       "    <tr>\n",
       "      <th>0</th>\n",
       "      <td>3667963787</td>\n",
       "      <td>3312258926</td>\n",
       "      <td>2019-08-15</td>\n",
       "      <td>1650</td>\n",
       "      <td>B</td>\n",
       "    </tr>\n",
       "    <tr>\n",
       "      <th>1</th>\n",
       "      <td>2804400009</td>\n",
       "      <td>3642806036</td>\n",
       "      <td>2019-08-15</td>\n",
       "      <td>730</td>\n",
       "      <td>B</td>\n",
       "    </tr>\n",
       "    <tr>\n",
       "      <th>2</th>\n",
       "      <td>2961555356</td>\n",
       "      <td>4069496402</td>\n",
       "      <td>2019-08-15</td>\n",
       "      <td>400</td>\n",
       "      <td>A</td>\n",
       "    </tr>\n",
       "    <tr>\n",
       "      <th>3</th>\n",
       "      <td>3797467345</td>\n",
       "      <td>1196621759</td>\n",
       "      <td>2019-08-15</td>\n",
       "      <td>9759</td>\n",
       "      <td>B</td>\n",
       "    </tr>\n",
       "    <tr>\n",
       "      <th>4</th>\n",
       "      <td>2282983706</td>\n",
       "      <td>2322279887</td>\n",
       "      <td>2019-08-15</td>\n",
       "      <td>2308</td>\n",
       "      <td>B</td>\n",
       "    </tr>\n",
       "  </tbody>\n",
       "</table>\n",
       "</div>"
      ],
      "text/plain": [
       "   transactionId   visitorId        date  revenue group\n",
       "0     3667963787  3312258926  2019-08-15     1650     B\n",
       "1     2804400009  3642806036  2019-08-15      730     B\n",
       "2     2961555356  4069496402  2019-08-15      400     A\n",
       "3     3797467345  1196621759  2019-08-15     9759     B\n",
       "4     2282983706  2322279887  2019-08-15     2308     B"
      ]
     },
     "metadata": {},
     "output_type": "display_data"
    },
    {
     "data": {
      "text/html": [
       "<div>\n",
       "<style scoped>\n",
       "    .dataframe tbody tr th:only-of-type {\n",
       "        vertical-align: middle;\n",
       "    }\n",
       "\n",
       "    .dataframe tbody tr th {\n",
       "        vertical-align: top;\n",
       "    }\n",
       "\n",
       "    .dataframe thead th {\n",
       "        text-align: right;\n",
       "    }\n",
       "</style>\n",
       "<table border=\"1\" class=\"dataframe\">\n",
       "  <thead>\n",
       "    <tr style=\"text-align: right;\">\n",
       "      <th></th>\n",
       "      <th>date</th>\n",
       "      <th>group</th>\n",
       "      <th>visitors</th>\n",
       "    </tr>\n",
       "  </thead>\n",
       "  <tbody>\n",
       "    <tr>\n",
       "      <th>0</th>\n",
       "      <td>2019-08-01</td>\n",
       "      <td>A</td>\n",
       "      <td>719</td>\n",
       "    </tr>\n",
       "    <tr>\n",
       "      <th>1</th>\n",
       "      <td>2019-08-02</td>\n",
       "      <td>A</td>\n",
       "      <td>619</td>\n",
       "    </tr>\n",
       "    <tr>\n",
       "      <th>2</th>\n",
       "      <td>2019-08-03</td>\n",
       "      <td>A</td>\n",
       "      <td>507</td>\n",
       "    </tr>\n",
       "    <tr>\n",
       "      <th>3</th>\n",
       "      <td>2019-08-04</td>\n",
       "      <td>A</td>\n",
       "      <td>717</td>\n",
       "    </tr>\n",
       "    <tr>\n",
       "      <th>4</th>\n",
       "      <td>2019-08-05</td>\n",
       "      <td>A</td>\n",
       "      <td>756</td>\n",
       "    </tr>\n",
       "  </tbody>\n",
       "</table>\n",
       "</div>"
      ],
      "text/plain": [
       "         date group  visitors\n",
       "0  2019-08-01     A       719\n",
       "1  2019-08-02     A       619\n",
       "2  2019-08-03     A       507\n",
       "3  2019-08-04     A       717\n",
       "4  2019-08-05     A       756"
      ]
     },
     "metadata": {},
     "output_type": "display_data"
    }
   ],
   "source": [
    "display(hypothesis.head())\n",
    "display(orders.head())\n",
    "display(visitors.head())"
   ]
  },
  {
   "cell_type": "code",
   "execution_count": 4,
   "metadata": {},
   "outputs": [
    {
     "name": "stdout",
     "output_type": "stream",
     "text": [
      "<class 'pandas.core.frame.DataFrame'>\n",
      "RangeIndex: 9 entries, 0 to 8\n",
      "Data columns (total 5 columns):\n",
      " #   Column      Non-Null Count  Dtype \n",
      "---  ------      --------------  ----- \n",
      " 0   Hypothesis  9 non-null      object\n",
      " 1   Reach       9 non-null      int64 \n",
      " 2   Impact      9 non-null      int64 \n",
      " 3   Confidence  9 non-null      int64 \n",
      " 4   Efforts     9 non-null      int64 \n",
      "dtypes: int64(4), object(1)\n",
      "memory usage: 488.0+ bytes\n"
     ]
    },
    {
     "data": {
      "text/plain": [
       "None"
      ]
     },
     "metadata": {},
     "output_type": "display_data"
    },
    {
     "name": "stdout",
     "output_type": "stream",
     "text": [
      "<class 'pandas.core.frame.DataFrame'>\n",
      "RangeIndex: 1197 entries, 0 to 1196\n",
      "Data columns (total 5 columns):\n",
      " #   Column         Non-Null Count  Dtype \n",
      "---  ------         --------------  ----- \n",
      " 0   transactionId  1197 non-null   int64 \n",
      " 1   visitorId      1197 non-null   int64 \n",
      " 2   date           1197 non-null   object\n",
      " 3   revenue        1197 non-null   int64 \n",
      " 4   group          1197 non-null   object\n",
      "dtypes: int64(3), object(2)\n",
      "memory usage: 46.9+ KB\n"
     ]
    },
    {
     "data": {
      "text/plain": [
       "None"
      ]
     },
     "metadata": {},
     "output_type": "display_data"
    },
    {
     "name": "stdout",
     "output_type": "stream",
     "text": [
      "<class 'pandas.core.frame.DataFrame'>\n",
      "RangeIndex: 62 entries, 0 to 61\n",
      "Data columns (total 3 columns):\n",
      " #   Column    Non-Null Count  Dtype \n",
      "---  ------    --------------  ----- \n",
      " 0   date      62 non-null     object\n",
      " 1   group     62 non-null     object\n",
      " 2   visitors  62 non-null     int64 \n",
      "dtypes: int64(1), object(2)\n",
      "memory usage: 1.6+ KB\n"
     ]
    },
    {
     "data": {
      "text/plain": [
       "None"
      ]
     },
     "metadata": {},
     "output_type": "display_data"
    }
   ],
   "source": [
    "display(hypothesis.info())\n",
    "display(orders.info())\n",
    "display(visitors.info())"
   ]
  },
  {
   "cell_type": "markdown",
   "metadata": {},
   "source": [
    "### Проверка на дубликаты и пропуски"
   ]
  },
  {
   "cell_type": "code",
   "execution_count": 5,
   "metadata": {
    "scrolled": true
   },
   "outputs": [
    {
     "name": "stdout",
     "output_type": "stream",
     "text": [
      "Дубликатов обнаружено:0\n",
      "Дубликатов обнаружено:0\n",
      "Дубликатов обнаружено:0\n"
     ]
    }
   ],
   "source": [
    "# проверка на явные дубликаты\n",
    "print(f'Дубликатов обнаружено:{hypothesis.duplicated().sum()}')\n",
    "print(f'Дубликатов обнаружено:{orders.duplicated().sum()}')\n",
    "print(f'Дубликатов обнаружено:{visitors.duplicated().sum()}')"
   ]
  },
  {
   "cell_type": "code",
   "execution_count": 6,
   "metadata": {},
   "outputs": [
    {
     "data": {
      "text/plain": [
       "Hypothesis    0\n",
       "Reach         0\n",
       "Impact        0\n",
       "Confidence    0\n",
       "Efforts       0\n",
       "dtype: int64"
      ]
     },
     "metadata": {},
     "output_type": "display_data"
    },
    {
     "data": {
      "text/plain": [
       "transactionId    0\n",
       "visitorId        0\n",
       "date             0\n",
       "revenue          0\n",
       "group            0\n",
       "dtype: int64"
      ]
     },
     "metadata": {},
     "output_type": "display_data"
    },
    {
     "data": {
      "text/plain": [
       "date        0\n",
       "group       0\n",
       "visitors    0\n",
       "dtype: int64"
      ]
     },
     "metadata": {},
     "output_type": "display_data"
    }
   ],
   "source": [
    "# проверяем на пропуски\n",
    "display(hypothesis.isna().sum().sort_values())\n",
    "display(orders.isna().sum().sort_values())\n",
    "display(visitors.isna().sum().sort_values())"
   ]
  },
  {
   "cell_type": "markdown",
   "metadata": {},
   "source": [
    "### Изменение названий столбцов"
   ]
  },
  {
   "cell_type": "markdown",
   "metadata": {},
   "source": [
    "Названия колонок в таблице hypothesis в верхнем регистре., для удобства работы переведём в нижний:"
   ]
  },
  {
   "cell_type": "code",
   "execution_count": 7,
   "metadata": {},
   "outputs": [],
   "source": [
    "hypothesis.columns = hypothesis.columns.str.lower()"
   ]
  },
  {
   "cell_type": "markdown",
   "metadata": {},
   "source": [
    "В таблице orders тоже изменим названия:"
   ]
  },
  {
   "cell_type": "code",
   "execution_count": 8,
   "metadata": {},
   "outputs": [],
   "source": [
    "orders = orders.rename(columns = {'transactionId':'transaction_id', 'visitorId':'visitor_id'})"
   ]
  },
  {
   "cell_type": "markdown",
   "metadata": {},
   "source": [
    "### Работа с датами"
   ]
  },
  {
   "cell_type": "markdown",
   "metadata": {},
   "source": [
    "У даты в таблице пользователей и в таблице заказов формат object, исправим это:"
   ]
  },
  {
   "cell_type": "code",
   "execution_count": 9,
   "metadata": {},
   "outputs": [],
   "source": [
    "orders['date'] = orders['date'].map(\n",
    "    lambda x: dt.datetime.strptime(x, '%Y-%m-%d'))\n",
    "    \n",
    "visitors['date'] = visitors['date'].map(\n",
    "    lambda x: dt.datetime.strptime(x, '%Y-%m-%d'))"
   ]
  },
  {
   "cell_type": "markdown",
   "metadata": {},
   "source": [
    "### Проверка дубликатов по группам"
   ]
  },
  {
   "cell_type": "code",
   "execution_count": 10,
   "metadata": {},
   "outputs": [
    {
     "name": "stdout",
     "output_type": "stream",
     "text": [
      "Пользователей, попавших в обе группы: 58\n"
     ]
    }
   ],
   "source": [
    "# #проверим, есть ли пользователи, которые попали в  обе группы\n",
    "two_groups = orders.groupby('visitor_id').agg({'group':'nunique'})\n",
    "two_groups = two_groups.query('group > 1')\n",
    "\n",
    "print(f'Пользователей, попавших в обе группы:',two_groups['group'].count())"
   ]
  },
  {
   "cell_type": "markdown",
   "metadata": {},
   "source": [
    "### Выводы\n"
   ]
  },
  {
   "cell_type": "markdown",
   "metadata": {},
   "source": [
    "- Мы работаем с тремя таблицами, содержащими сведения о гипотезах, заказах и пользователях\n",
    "- Дубликатов и пропусков в данных не обнаружено\n",
    "- В таблице гипотез и заказов названия колонок были приведены к более удобному в работе виду\n",
    "- Скорректирован формат даты в таблице пользователей и в таблице заказов\n",
    "- Было обнаружено 58 пользователей, которые каким-то образом попали в обе группы и влияют на чистоту тестирования. В А-Б тестах подобного лучше избегать."
   ]
  },
  {
   "cell_type": "markdown",
   "metadata": {},
   "source": [
    "## Часть 1. Приоритизация гипотез"
   ]
  },
  {
   "cell_type": "markdown",
   "metadata": {},
   "source": [
    "- Применить фреймворк ICE для приоритизации гипотез;\n",
    "- Применить фреймворк RICE для приоритизации гипотез;\n",
    "- Указать, как изменилась приоритизация гипотез при применении RICE вместо ICE."
   ]
  },
  {
   "cell_type": "markdown",
   "metadata": {},
   "source": [
    "### Применить фреймворк ICE для приоритизации гипотез"
   ]
  },
  {
   "cell_type": "markdown",
   "metadata": {},
   "source": [
    "Формула расчета ICE = (impact * confidence) / efforts"
   ]
  },
  {
   "cell_type": "code",
   "execution_count": 11,
   "metadata": {},
   "outputs": [
    {
     "data": {
      "text/html": [
       "<div>\n",
       "<style scoped>\n",
       "    .dataframe tbody tr th:only-of-type {\n",
       "        vertical-align: middle;\n",
       "    }\n",
       "\n",
       "    .dataframe tbody tr th {\n",
       "        vertical-align: top;\n",
       "    }\n",
       "\n",
       "    .dataframe thead th {\n",
       "        text-align: right;\n",
       "    }\n",
       "</style>\n",
       "<table border=\"1\" class=\"dataframe\">\n",
       "  <thead>\n",
       "    <tr style=\"text-align: right;\">\n",
       "      <th></th>\n",
       "      <th>hypothesis</th>\n",
       "      <th>ICE</th>\n",
       "    </tr>\n",
       "  </thead>\n",
       "  <tbody>\n",
       "    <tr>\n",
       "      <th>8</th>\n",
       "      <td>Запустить акцию, дающую скидку на товар в день...</td>\n",
       "      <td>16.200000</td>\n",
       "    </tr>\n",
       "    <tr>\n",
       "      <th>0</th>\n",
       "      <td>Добавить два новых канала привлечения трафика,...</td>\n",
       "      <td>13.333333</td>\n",
       "    </tr>\n",
       "    <tr>\n",
       "      <th>7</th>\n",
       "      <td>Добавить форму подписки на все основные страни...</td>\n",
       "      <td>11.200000</td>\n",
       "    </tr>\n",
       "    <tr>\n",
       "      <th>6</th>\n",
       "      <td>Показать на главной странице баннеры с актуаль...</td>\n",
       "      <td>8.000000</td>\n",
       "    </tr>\n",
       "    <tr>\n",
       "      <th>2</th>\n",
       "      <td>Добавить блоки рекомендаций товаров на сайт ин...</td>\n",
       "      <td>7.000000</td>\n",
       "    </tr>\n",
       "    <tr>\n",
       "      <th>1</th>\n",
       "      <td>Запустить собственную службу доставки, что сок...</td>\n",
       "      <td>2.000000</td>\n",
       "    </tr>\n",
       "    <tr>\n",
       "      <th>5</th>\n",
       "      <td>Добавить страницу отзывов клиентов о магазине,...</td>\n",
       "      <td>1.333333</td>\n",
       "    </tr>\n",
       "    <tr>\n",
       "      <th>3</th>\n",
       "      <td>Изменить структура категорий, что увеличит кон...</td>\n",
       "      <td>1.125000</td>\n",
       "    </tr>\n",
       "    <tr>\n",
       "      <th>4</th>\n",
       "      <td>Изменить цвет фона главной страницы, чтобы уве...</td>\n",
       "      <td>1.000000</td>\n",
       "    </tr>\n",
       "  </tbody>\n",
       "</table>\n",
       "</div>"
      ],
      "text/plain": [
       "                                          hypothesis        ICE\n",
       "8  Запустить акцию, дающую скидку на товар в день...  16.200000\n",
       "0  Добавить два новых канала привлечения трафика,...  13.333333\n",
       "7  Добавить форму подписки на все основные страни...  11.200000\n",
       "6  Показать на главной странице баннеры с актуаль...   8.000000\n",
       "2  Добавить блоки рекомендаций товаров на сайт ин...   7.000000\n",
       "1  Запустить собственную службу доставки, что сок...   2.000000\n",
       "5  Добавить страницу отзывов клиентов о магазине,...   1.333333\n",
       "3  Изменить структура категорий, что увеличит кон...   1.125000\n",
       "4  Изменить цвет фона главной страницы, чтобы уве...   1.000000"
      ]
     },
     "execution_count": 11,
     "metadata": {},
     "output_type": "execute_result"
    }
   ],
   "source": [
    "hypothesis['ICE'] = (hypothesis.impact *  hypothesis.confidence) / hypothesis.efforts\n",
    "ice = hypothesis[['hypothesis','ICE']].sort_values( by ='ICE', ascending=False)\n",
    "ice "
   ]
  },
  {
   "cell_type": "markdown",
   "metadata": {},
   "source": [
    " **Вывод:** Согласно ICE самые приоритетные гипотезы восьмая, нулевая и седьмая"
   ]
  },
  {
   "cell_type": "markdown",
   "metadata": {},
   "source": [
    "### Применить фреймворк RICE для приоритизации гипотез"
   ]
  },
  {
   "cell_type": "markdown",
   "metadata": {},
   "source": [
    "Формула расчета RICE = (reach * impact * confidence) / efforts"
   ]
  },
  {
   "cell_type": "code",
   "execution_count": 12,
   "metadata": {},
   "outputs": [
    {
     "data": {
      "text/html": [
       "<div>\n",
       "<style scoped>\n",
       "    .dataframe tbody tr th:only-of-type {\n",
       "        vertical-align: middle;\n",
       "    }\n",
       "\n",
       "    .dataframe tbody tr th {\n",
       "        vertical-align: top;\n",
       "    }\n",
       "\n",
       "    .dataframe thead th {\n",
       "        text-align: right;\n",
       "    }\n",
       "</style>\n",
       "<table border=\"1\" class=\"dataframe\">\n",
       "  <thead>\n",
       "    <tr style=\"text-align: right;\">\n",
       "      <th></th>\n",
       "      <th>hypothesis</th>\n",
       "      <th>RICE</th>\n",
       "    </tr>\n",
       "  </thead>\n",
       "  <tbody>\n",
       "    <tr>\n",
       "      <th>7</th>\n",
       "      <td>Добавить форму подписки на все основные страни...</td>\n",
       "      <td>112.0</td>\n",
       "    </tr>\n",
       "    <tr>\n",
       "      <th>2</th>\n",
       "      <td>Добавить блоки рекомендаций товаров на сайт ин...</td>\n",
       "      <td>56.0</td>\n",
       "    </tr>\n",
       "    <tr>\n",
       "      <th>0</th>\n",
       "      <td>Добавить два новых канала привлечения трафика,...</td>\n",
       "      <td>40.0</td>\n",
       "    </tr>\n",
       "    <tr>\n",
       "      <th>6</th>\n",
       "      <td>Показать на главной странице баннеры с актуаль...</td>\n",
       "      <td>40.0</td>\n",
       "    </tr>\n",
       "    <tr>\n",
       "      <th>8</th>\n",
       "      <td>Запустить акцию, дающую скидку на товар в день...</td>\n",
       "      <td>16.2</td>\n",
       "    </tr>\n",
       "    <tr>\n",
       "      <th>3</th>\n",
       "      <td>Изменить структура категорий, что увеличит кон...</td>\n",
       "      <td>9.0</td>\n",
       "    </tr>\n",
       "    <tr>\n",
       "      <th>1</th>\n",
       "      <td>Запустить собственную службу доставки, что сок...</td>\n",
       "      <td>4.0</td>\n",
       "    </tr>\n",
       "    <tr>\n",
       "      <th>5</th>\n",
       "      <td>Добавить страницу отзывов клиентов о магазине,...</td>\n",
       "      <td>4.0</td>\n",
       "    </tr>\n",
       "    <tr>\n",
       "      <th>4</th>\n",
       "      <td>Изменить цвет фона главной страницы, чтобы уве...</td>\n",
       "      <td>3.0</td>\n",
       "    </tr>\n",
       "  </tbody>\n",
       "</table>\n",
       "</div>"
      ],
      "text/plain": [
       "                                          hypothesis   RICE\n",
       "7  Добавить форму подписки на все основные страни...  112.0\n",
       "2  Добавить блоки рекомендаций товаров на сайт ин...   56.0\n",
       "0  Добавить два новых канала привлечения трафика,...   40.0\n",
       "6  Показать на главной странице баннеры с актуаль...   40.0\n",
       "8  Запустить акцию, дающую скидку на товар в день...   16.2\n",
       "3  Изменить структура категорий, что увеличит кон...    9.0\n",
       "1  Запустить собственную службу доставки, что сок...    4.0\n",
       "5  Добавить страницу отзывов клиентов о магазине,...    4.0\n",
       "4  Изменить цвет фона главной страницы, чтобы уве...    3.0"
      ]
     },
     "execution_count": 12,
     "metadata": {},
     "output_type": "execute_result"
    }
   ],
   "source": [
    "hypothesis['RICE'] = (hypothesis.reach * hypothesis.impact *  hypothesis.confidence) / hypothesis.efforts\n",
    "rice = hypothesis[['hypothesis','RICE']].sort_values( by ='RICE', ascending=False)\n",
    "rice "
   ]
  },
  {
   "cell_type": "markdown",
   "metadata": {},
   "source": [
    "**Вывод:** Согласно RICE самые приоритетные гипотезы это седьмая, вторая и нулевая"
   ]
  },
  {
   "cell_type": "markdown",
   "metadata": {},
   "source": [
    "### Сравнение ICE и RICE"
   ]
  },
  {
   "cell_type": "code",
   "execution_count": 13,
   "metadata": {},
   "outputs": [
    {
     "data": {
      "text/html": [
       "<div>\n",
       "<style scoped>\n",
       "    .dataframe tbody tr th:only-of-type {\n",
       "        vertical-align: middle;\n",
       "    }\n",
       "\n",
       "    .dataframe tbody tr th {\n",
       "        vertical-align: top;\n",
       "    }\n",
       "\n",
       "    .dataframe thead th {\n",
       "        text-align: right;\n",
       "    }\n",
       "</style>\n",
       "<table border=\"1\" class=\"dataframe\">\n",
       "  <thead>\n",
       "    <tr style=\"text-align: right;\">\n",
       "      <th></th>\n",
       "      <th>hypothesis</th>\n",
       "      <th>reach</th>\n",
       "      <th>ICE</th>\n",
       "    </tr>\n",
       "  </thead>\n",
       "  <tbody>\n",
       "    <tr>\n",
       "      <th>8</th>\n",
       "      <td>Запустить акцию, дающую скидку на товар в день рождения</td>\n",
       "      <td>1</td>\n",
       "      <td>16.200</td>\n",
       "    </tr>\n",
       "    <tr>\n",
       "      <th>0</th>\n",
       "      <td>Добавить два новых канала привлечения трафика, что позволит привлекать на 30% больше пользователей</td>\n",
       "      <td>3</td>\n",
       "      <td>13.333</td>\n",
       "    </tr>\n",
       "    <tr>\n",
       "      <th>7</th>\n",
       "      <td>Добавить форму подписки на все основные страницы, чтобы собрать базу клиентов для email-рассылок</td>\n",
       "      <td>10</td>\n",
       "      <td>11.200</td>\n",
       "    </tr>\n",
       "    <tr>\n",
       "      <th>6</th>\n",
       "      <td>Показать на главной странице баннеры с актуальными акциями и распродажами, чтобы увеличить конверсию</td>\n",
       "      <td>5</td>\n",
       "      <td>8.000</td>\n",
       "    </tr>\n",
       "    <tr>\n",
       "      <th>2</th>\n",
       "      <td>Добавить блоки рекомендаций товаров на сайт интернет магазина, чтобы повысить конверсию и средний чек заказа</td>\n",
       "      <td>8</td>\n",
       "      <td>7.000</td>\n",
       "    </tr>\n",
       "    <tr>\n",
       "      <th>1</th>\n",
       "      <td>Запустить собственную службу доставки, что сократит срок доставки заказов</td>\n",
       "      <td>2</td>\n",
       "      <td>2.000</td>\n",
       "    </tr>\n",
       "    <tr>\n",
       "      <th>5</th>\n",
       "      <td>Добавить страницу отзывов клиентов о магазине, что позволит увеличить количество заказов</td>\n",
       "      <td>3</td>\n",
       "      <td>1.333</td>\n",
       "    </tr>\n",
       "    <tr>\n",
       "      <th>3</th>\n",
       "      <td>Изменить структура категорий, что увеличит конверсию, т.к. пользователи быстрее найдут нужный товар</td>\n",
       "      <td>8</td>\n",
       "      <td>1.125</td>\n",
       "    </tr>\n",
       "    <tr>\n",
       "      <th>4</th>\n",
       "      <td>Изменить цвет фона главной страницы, чтобы увеличить вовлеченность пользователей</td>\n",
       "      <td>3</td>\n",
       "      <td>1.000</td>\n",
       "    </tr>\n",
       "  </tbody>\n",
       "</table>\n",
       "</div>"
      ],
      "text/plain": [
       "                                                                                                     hypothesis  \\\n",
       "8                                                       Запустить акцию, дающую скидку на товар в день рождения   \n",
       "0            Добавить два новых канала привлечения трафика, что позволит привлекать на 30% больше пользователей   \n",
       "7              Добавить форму подписки на все основные страницы, чтобы собрать базу клиентов для email-рассылок   \n",
       "6          Показать на главной странице баннеры с актуальными акциями и распродажами, чтобы увеличить конверсию   \n",
       "2  Добавить блоки рекомендаций товаров на сайт интернет магазина, чтобы повысить конверсию и средний чек заказа   \n",
       "1                                     Запустить собственную службу доставки, что сократит срок доставки заказов   \n",
       "5                      Добавить страницу отзывов клиентов о магазине, что позволит увеличить количество заказов   \n",
       "3           Изменить структура категорий, что увеличит конверсию, т.к. пользователи быстрее найдут нужный товар   \n",
       "4                              Изменить цвет фона главной страницы, чтобы увеличить вовлеченность пользователей   \n",
       "\n",
       "   reach     ICE  \n",
       "8      1  16.200  \n",
       "0      3  13.333  \n",
       "7     10  11.200  \n",
       "6      5   8.000  \n",
       "2      8   7.000  \n",
       "1      2   2.000  \n",
       "5      3   1.333  \n",
       "3      8   1.125  \n",
       "4      3   1.000  "
      ]
     },
     "metadata": {},
     "output_type": "display_data"
    },
    {
     "data": {
      "text/html": [
       "<div>\n",
       "<style scoped>\n",
       "    .dataframe tbody tr th:only-of-type {\n",
       "        vertical-align: middle;\n",
       "    }\n",
       "\n",
       "    .dataframe tbody tr th {\n",
       "        vertical-align: top;\n",
       "    }\n",
       "\n",
       "    .dataframe thead th {\n",
       "        text-align: right;\n",
       "    }\n",
       "</style>\n",
       "<table border=\"1\" class=\"dataframe\">\n",
       "  <thead>\n",
       "    <tr style=\"text-align: right;\">\n",
       "      <th></th>\n",
       "      <th>hypothesis</th>\n",
       "      <th>reach</th>\n",
       "      <th>RICE</th>\n",
       "    </tr>\n",
       "  </thead>\n",
       "  <tbody>\n",
       "    <tr>\n",
       "      <th>7</th>\n",
       "      <td>Добавить форму подписки на все основные страницы, чтобы собрать базу клиентов для email-рассылок</td>\n",
       "      <td>10</td>\n",
       "      <td>112.0</td>\n",
       "    </tr>\n",
       "    <tr>\n",
       "      <th>2</th>\n",
       "      <td>Добавить блоки рекомендаций товаров на сайт интернет магазина, чтобы повысить конверсию и средний чек заказа</td>\n",
       "      <td>8</td>\n",
       "      <td>56.0</td>\n",
       "    </tr>\n",
       "    <tr>\n",
       "      <th>0</th>\n",
       "      <td>Добавить два новых канала привлечения трафика, что позволит привлекать на 30% больше пользователей</td>\n",
       "      <td>3</td>\n",
       "      <td>40.0</td>\n",
       "    </tr>\n",
       "    <tr>\n",
       "      <th>6</th>\n",
       "      <td>Показать на главной странице баннеры с актуальными акциями и распродажами, чтобы увеличить конверсию</td>\n",
       "      <td>5</td>\n",
       "      <td>40.0</td>\n",
       "    </tr>\n",
       "    <tr>\n",
       "      <th>8</th>\n",
       "      <td>Запустить акцию, дающую скидку на товар в день рождения</td>\n",
       "      <td>1</td>\n",
       "      <td>16.2</td>\n",
       "    </tr>\n",
       "    <tr>\n",
       "      <th>3</th>\n",
       "      <td>Изменить структура категорий, что увеличит конверсию, т.к. пользователи быстрее найдут нужный товар</td>\n",
       "      <td>8</td>\n",
       "      <td>9.0</td>\n",
       "    </tr>\n",
       "    <tr>\n",
       "      <th>1</th>\n",
       "      <td>Запустить собственную службу доставки, что сократит срок доставки заказов</td>\n",
       "      <td>2</td>\n",
       "      <td>4.0</td>\n",
       "    </tr>\n",
       "    <tr>\n",
       "      <th>5</th>\n",
       "      <td>Добавить страницу отзывов клиентов о магазине, что позволит увеличить количество заказов</td>\n",
       "      <td>3</td>\n",
       "      <td>4.0</td>\n",
       "    </tr>\n",
       "    <tr>\n",
       "      <th>4</th>\n",
       "      <td>Изменить цвет фона главной страницы, чтобы увеличить вовлеченность пользователей</td>\n",
       "      <td>3</td>\n",
       "      <td>3.0</td>\n",
       "    </tr>\n",
       "  </tbody>\n",
       "</table>\n",
       "</div>"
      ],
      "text/plain": [
       "                                                                                                     hypothesis  \\\n",
       "7              Добавить форму подписки на все основные страницы, чтобы собрать базу клиентов для email-рассылок   \n",
       "2  Добавить блоки рекомендаций товаров на сайт интернет магазина, чтобы повысить конверсию и средний чек заказа   \n",
       "0            Добавить два новых канала привлечения трафика, что позволит привлекать на 30% больше пользователей   \n",
       "6          Показать на главной странице баннеры с актуальными акциями и распродажами, чтобы увеличить конверсию   \n",
       "8                                                       Запустить акцию, дающую скидку на товар в день рождения   \n",
       "3           Изменить структура категорий, что увеличит конверсию, т.к. пользователи быстрее найдут нужный товар   \n",
       "1                                     Запустить собственную службу доставки, что сократит срок доставки заказов   \n",
       "5                      Добавить страницу отзывов клиентов о магазине, что позволит увеличить количество заказов   \n",
       "4                              Изменить цвет фона главной страницы, чтобы увеличить вовлеченность пользователей   \n",
       "\n",
       "   reach   RICE  \n",
       "7     10  112.0  \n",
       "2      8   56.0  \n",
       "0      3   40.0  \n",
       "6      5   40.0  \n",
       "8      1   16.2  \n",
       "3      8    9.0  \n",
       "1      2    4.0  \n",
       "5      3    4.0  \n",
       "4      3    3.0  "
      ]
     },
     "metadata": {},
     "output_type": "display_data"
    }
   ],
   "source": [
    "ice_reach= round(hypothesis[['hypothesis','reach','ICE']].sort_values( by ='ICE', ascending=False),3)\n",
    "rice_reach = hypothesis[['hypothesis','reach','RICE']].sort_values( by ='RICE', ascending=False)\n",
    "\n",
    "pd.set_option('display.max_colwidth',None)\n",
    "display(ice_reach)\n",
    "display(rice_reach)"
   ]
  },
  {
   "cell_type": "markdown",
   "metadata": {},
   "source": [
    "**Вывод:**  Мы видим, что по двум фреймворкам у нас разные приоритеты. Восьмая  гипотеза, что по ICE получила самый высший приоритет, не попала в топ по фреймворку RICE(пятое место), вторая гипотеза, которая в топе по RICE, в ICE занимает пятое место, а нулевая и седьмая гипотеза попадает в топ-3 по обоим фреймворкам. "
   ]
  },
  {
   "cell_type": "markdown",
   "metadata": {},
   "source": [
    "### Выводы\n",
    "\n"
   ]
  },
  {
   "cell_type": "markdown",
   "metadata": {},
   "source": [
    "- Согласно ICE самые приоритетные гипотезы:\n",
    "        - 8. Запустить акцию, дающую скидку на товар в день рождения;\n",
    "        - 0. Добавить два новых канала привлечения трафика, что позволит привлекать на 30% больше пользователей;\n",
    "        - 7. Добавить форму подписки на все основные страницы, чтобы собрать базу клиентов для email-рассылок.       \n",
    "- Согласно RICE самые приоритетные гипотезы:\n",
    "        - 7. Добавить форму подписки на все основные страницы, чтобы собрать базу клиентов для email-рассылок; \n",
    "        - 2. Добавить блоки рекомендаций товаров на сайт интернет магазина, чтобы повысить конверсию и средний чек заказа;\n",
    "        - 0. Добавить два новых канала привлечения трафика, что позволит привлекать на 30% больше пользователей.\n",
    "- Разные приоритеты гипотез по фреймворкам ICE и RICE связаны с тем, что в формуле RICE есть допонительный параметр reach, связанный с охватом пользователей и восьмая  гипотеза , что по ICE получила самый высший приоритет, в параметре reach оценены на 1, а нулевая и седьмая гипотеза попадает в топ-3 по обоим фреймворкам."
   ]
  },
  {
   "cell_type": "markdown",
   "metadata": {},
   "source": [
    "## Часть 2. Анализ A/B-теста"
   ]
  },
  {
   "cell_type": "markdown",
   "metadata": {},
   "source": [
    "- Сбор кумулятивных данных;\n",
    "- График кумулятивной выручки по группам;\n",
    "- График кумулятивного среднего чека по группам;\n",
    "- График относительного изменения кумулятивного среднего чека группы B к группе A;\n",
    "- График кумулятивного среднего количества заказов на посетителя (конверсия) по группам;\n",
    "- График относительного изменения кумулятивной конверсии посетителя группы B к группе A;\n",
    "- Точечный график количества заказов по пользователям;\n",
    "- 95-й и 99-й перцентили количества заказов на пользователя;\n",
    "- Точечный график стоимостей заказов;\n",
    "- 95-й и 99-й перцентили стоимости заказов;\n",
    "- Подготовка \"сырых\" данных для анализа;\n",
    "- Статистическую значимость различий в среднем количестве заказов на посетителя между группами по «сырым» данным;\n",
    "- Статистическую значимость различий в среднем чеке заказа между группами по «сырым» данным;\n",
    "- Подготовка \"очищенных\" данных для анализа;\n",
    "- Статистическую значимость различий в среднем количестве заказов на посетителя между группами по «очищенным» данным;\n",
    "- Статистическую значимость различий в среднем чеке заказа между группами по «очищенным» данным;\n",
    "- Решение по результатам теста."
   ]
  },
  {
   "cell_type": "markdown",
   "metadata": {},
   "source": [
    "### Сбор кумулятивных данных"
   ]
  },
  {
   "cell_type": "markdown",
   "metadata": {},
   "source": [
    "Чтобы построить графики, нужно собрать кумулятивные данные.\n",
    "****\n",
    "\n",
    "Объявим датафрейм *cumulativeData* со столбцами:\n",
    "\n",
    "date — дата;\n",
    "\n",
    "group — группа A/B-теста (A или B);\n",
    "\n",
    "orders — кумулятивное количество заказов на указанную дату в указанной группе;\n",
    "\n",
    "buyers — кумулятивное количество пользователей, совершивших хотя бы один заказ, на указанную дату в указанной группе;\n",
    "\n",
    "revenue — кумулятивная выручка на указанную дату в указанной группе (средний чек);\n",
    "\n",
    "visitors — кумулятивное количество посетителей интернет-магазина на указанную дату в определённой группе."
   ]
  },
  {
   "cell_type": "code",
   "execution_count": 14,
   "metadata": {},
   "outputs": [],
   "source": [
    "# создаем массив уникальных пар значений дат и групп теста\n",
    "datesGroups = orders[['date','group']].drop_duplicates() "
   ]
  },
  {
   "cell_type": "code",
   "execution_count": 15,
   "metadata": {},
   "outputs": [],
   "source": [
    "# получаем агрегированные кумулятивные по дням данные о заказах \n",
    "ordersAggregated = datesGroups.apply(lambda x: orders[np.logical_and(orders['date'] <= x['date'], orders['group'] == x['group'])]\\\n",
    ".agg({'date' : 'max', 'group' : 'max', 'transaction_id' : 'nunique', 'visitor_id' : 'nunique', 'revenue' : 'sum'}), axis=1).sort_values(by=['date','group'])"
   ]
  },
  {
   "cell_type": "code",
   "execution_count": 16,
   "metadata": {},
   "outputs": [],
   "source": [
    "# получаем агрегированные кумулятивные по дням данные о посетителях \n",
    "visitorsAggregated = datesGroups.apply(lambda x: visitors[np.logical_and(visitors['date'] <= x['date'], visitors['group'] == x['group'])].agg({'date' : 'max', 'group' : 'max', 'visitors' : 'sum'}), axis=1).sort_values(by=['date','group'])"
   ]
  },
  {
   "cell_type": "code",
   "execution_count": 17,
   "metadata": {
    "scrolled": true
   },
   "outputs": [
    {
     "data": {
      "text/html": [
       "<div>\n",
       "<style scoped>\n",
       "    .dataframe tbody tr th:only-of-type {\n",
       "        vertical-align: middle;\n",
       "    }\n",
       "\n",
       "    .dataframe tbody tr th {\n",
       "        vertical-align: top;\n",
       "    }\n",
       "\n",
       "    .dataframe thead th {\n",
       "        text-align: right;\n",
       "    }\n",
       "</style>\n",
       "<table border=\"1\" class=\"dataframe\">\n",
       "  <thead>\n",
       "    <tr style=\"text-align: right;\">\n",
       "      <th></th>\n",
       "      <th>date</th>\n",
       "      <th>group</th>\n",
       "      <th>orders</th>\n",
       "      <th>buyers</th>\n",
       "      <th>revenue</th>\n",
       "      <th>visitors</th>\n",
       "    </tr>\n",
       "  </thead>\n",
       "  <tbody>\n",
       "    <tr>\n",
       "      <th>0</th>\n",
       "      <td>2019-08-01</td>\n",
       "      <td>A</td>\n",
       "      <td>24</td>\n",
       "      <td>20</td>\n",
       "      <td>148579</td>\n",
       "      <td>719</td>\n",
       "    </tr>\n",
       "    <tr>\n",
       "      <th>1</th>\n",
       "      <td>2019-08-01</td>\n",
       "      <td>B</td>\n",
       "      <td>21</td>\n",
       "      <td>20</td>\n",
       "      <td>101217</td>\n",
       "      <td>713</td>\n",
       "    </tr>\n",
       "    <tr>\n",
       "      <th>2</th>\n",
       "      <td>2019-08-02</td>\n",
       "      <td>A</td>\n",
       "      <td>44</td>\n",
       "      <td>38</td>\n",
       "      <td>242401</td>\n",
       "      <td>1338</td>\n",
       "    </tr>\n",
       "    <tr>\n",
       "      <th>3</th>\n",
       "      <td>2019-08-02</td>\n",
       "      <td>B</td>\n",
       "      <td>45</td>\n",
       "      <td>43</td>\n",
       "      <td>266748</td>\n",
       "      <td>1294</td>\n",
       "    </tr>\n",
       "    <tr>\n",
       "      <th>4</th>\n",
       "      <td>2019-08-03</td>\n",
       "      <td>A</td>\n",
       "      <td>68</td>\n",
       "      <td>62</td>\n",
       "      <td>354874</td>\n",
       "      <td>1845</td>\n",
       "    </tr>\n",
       "  </tbody>\n",
       "</table>\n",
       "</div>"
      ],
      "text/plain": [
       "        date group  orders  buyers  revenue  visitors\n",
       "0 2019-08-01     A      24      20   148579       719\n",
       "1 2019-08-01     B      21      20   101217       713\n",
       "2 2019-08-02     A      44      38   242401      1338\n",
       "3 2019-08-02     B      45      43   266748      1294\n",
       "4 2019-08-03     A      68      62   354874      1845"
      ]
     },
     "execution_count": 17,
     "metadata": {},
     "output_type": "execute_result"
    }
   ],
   "source": [
    "# объединяем кумулятивные данные в одной таблице и присваиваем ее столбцам понятные названия\n",
    "cumulativeData = ordersAggregated.merge(visitorsAggregated, left_on=['date', 'group'], right_on=['date', 'group'])\n",
    "cumulativeData.columns = ['date', 'group', 'orders', 'buyers', 'revenue', 'visitors']\n",
    "cumulativeData.head(5)"
   ]
  },
  {
   "cell_type": "markdown",
   "metadata": {},
   "source": [
    "### График кумулятивной выручки по группам"
   ]
  },
  {
   "cell_type": "code",
   "execution_count": 18,
   "metadata": {},
   "outputs": [],
   "source": [
    "# датафрейм с кумулятивным количеством заказов и кумулятивной выручкой по дням в группе А\n",
    "cumulativeRevenueA = cumulativeData[cumulativeData['group'] == 'A'][['date', 'revenue', 'orders']]\n",
    "# датафрейм с кумулятивным количеством заказов и кумулятивной выручкой по дням в группе B\n",
    "cumulativeRevenueB = cumulativeData[cumulativeData['group']=='B'][['date','revenue', 'orders']]\n"
   ]
  },
  {
   "cell_type": "code",
   "execution_count": 19,
   "metadata": {},
   "outputs": [
    {
     "data": {
      "image/png": "[encoded data removed]",
      "text/plain": [
       "<Figure size 1080x360 with 1 Axes>"
      ]
     },
     "metadata": {
      "needs_background": "light"
     },
     "output_type": "display_data"
    }
   ],
   "source": [
    "plt.figure(figsize=(15,5))\n",
    "\n",
    "# Строим график выручки группы А\n",
    "plt.plot(cumulativeRevenueA['date'], cumulativeRevenueA['revenue'], label='A')\n",
    "\n",
    "# Строим график выручки группы B\n",
    "plt.plot(cumulativeRevenueB['date'], cumulativeRevenueB['revenue'], label='B')\n",
    "\n",
    "plt.title('График кумулятивной выручки по группам \\n')\n",
    "plt.xlabel(\"\\n Дата\")\n",
    "plt.ylabel(\"Выручка\\n \")\n",
    "plt.grid()\n",
    "plt.xticks(rotation=45)\n",
    "plt.legend();\n",
    "        "
   ]
  },
  {
   "cell_type": "markdown",
   "metadata": {},
   "source": [
    "**Вывод:** \n",
    "По графику видно, что кумулятивная выручка в обеих группах растет(что указывает на верность наших расчетов, ведь кумулятивная вырручка не может уменьшаться). В группе В рост выручки более стремительный, а в группе А более плавный. В группе В присутствует в данных резкий скачок 18 числа, что указывает на возможный выброс в данных."
   ]
  },
  {
   "cell_type": "markdown",
   "metadata": {},
   "source": [
    "### График кумулятивного среднего чека по группам"
   ]
  },
  {
   "cell_type": "markdown",
   "metadata": {},
   "source": [
    "Построим графики среднего чека по группам — разделим кумулятивную выручку на кумулятивное число заказов:"
   ]
  },
  {
   "cell_type": "code",
   "execution_count": 20,
   "metadata": {
    "scrolled": true
   },
   "outputs": [
    {
     "data": {
      "image/png": "[encoded data removed]",
      "text/plain": [
       "<Figure size 1080x360 with 1 Axes>"
      ]
     },
     "metadata": {
      "needs_background": "light"
     },
     "output_type": "display_data"
    }
   ],
   "source": [
    "plt.figure(figsize=(15,5))\n",
    "\n",
    "plt.plot(cumulativeRevenueA['date'], cumulativeRevenueA['revenue']/cumulativeRevenueA['orders'], label='A')\n",
    "plt.plot(cumulativeRevenueB['date'], cumulativeRevenueB['revenue']/cumulativeRevenueB['orders'], label='B')\n",
    "\n",
    "plt.title('График кумулятивного среднего чека по группам \\n')\n",
    "plt.xlabel(\"\\n Дата\")\n",
    "plt.ylabel(\"Средний чек\\n \")\n",
    "plt.grid()\n",
    "plt.xticks(rotation=45)\n",
    "plt.legend();"
   ]
  },
  {
   "cell_type": "markdown",
   "metadata": {},
   "source": [
    "**Вывод:** На данном графике еще очевиднее резкий скачок 18-ого числа.  В группее А средний чек выравнивается примерно после 14-ого числа. В группе В, после скачка, средний чек постепенно снижается."
   ]
  },
  {
   "cell_type": "markdown",
   "metadata": {},
   "source": [
    "### График относительного изменения кумулятивного среднего чека группы B к группе A;"
   ]
  },
  {
   "cell_type": "code",
   "execution_count": 21,
   "metadata": {},
   "outputs": [
    {
     "data": {
      "image/png": "[encoded data removed]",
      "text/plain": [
       "<Figure size 1080x360 with 1 Axes>"
      ]
     },
     "metadata": {
      "needs_background": "light"
     },
     "output_type": "display_data"
    }
   ],
   "source": [
    "# собираем данные в одном датафрейме\n",
    "mergedCumulativeRevenue = cumulativeRevenueA.merge(cumulativeRevenueB, left_on='date', right_on='date', how='left', suffixes=['A', 'B'])\n",
    "\n",
    "# cтроим отношение средних чеков\n",
    "plt.figure(figsize=(15,5))\n",
    "\n",
    "plt.plot(mergedCumulativeRevenue['date'], (mergedCumulativeRevenue['revenueB']/mergedCumulativeRevenue['ordersB'])/(mergedCumulativeRevenue['revenueA']/mergedCumulativeRevenue['ordersA'])-1)\n",
    "\n",
    "# добавляем ось X\n",
    "plt.axhline(y=0, color='black', linestyle='--') \n",
    "\n",
    "plt.title('График относительного изменения кумулятивного среднего чека группы B к группе A \\n')\n",
    "plt.xlabel(\"\\n Дата\")\n",
    "plt.ylabel(\"Изменения среднего чека\\n \")\n",
    "plt.grid()\n",
    "plt.xticks(rotation=45);"
   ]
  },
  {
   "cell_type": "markdown",
   "metadata": {},
   "source": [
    "**Выводы:** В нескольких точках графика различия между сегментами резко «скачет». Явно в данных присутствуют выбросы. "
   ]
  },
  {
   "cell_type": "markdown",
   "metadata": {},
   "source": [
    "### График кумулятивного среднего количества заказов на посетителя (конверсия) по группам"
   ]
  },
  {
   "cell_type": "code",
   "execution_count": 22,
   "metadata": {},
   "outputs": [
    {
     "data": {
      "image/png": "[encoded data removed]",
      "text/plain": [
       "<Figure size 1080x360 with 1 Axes>"
      ]
     },
     "metadata": {
      "needs_background": "light"
     },
     "output_type": "display_data"
    }
   ],
   "source": [
    "# считаем кумулятивную конверсию\n",
    "cumulativeData['conversion'] = cumulativeData['orders']/cumulativeData['visitors']\n",
    "\n",
    "# отделяем данные по группе A\n",
    "cumulativeDataA = cumulativeData[cumulativeData['group']=='A']\n",
    "\n",
    "# отделяем данные по группе B\n",
    "cumulativeDataB = cumulativeData[cumulativeData['group']=='B']\n",
    "\n",
    "# строим графики\n",
    "plt.figure(figsize=(15,5))\n",
    "\n",
    "plt.plot(cumulativeDataA['date'], cumulativeDataA['conversion'], label='A')\n",
    "plt.plot(cumulativeDataB['date'], cumulativeDataB['conversion'], label='B')\n",
    "\n",
    "plt.title('График кумулятивной конверсии по группам\\n')\n",
    "plt.xlabel(\"\\n Дата\")\n",
    "plt.ylabel(\"Конверсия\\n \")\n",
    "plt.grid()\n",
    "plt.xticks(rotation=45)\n",
    "plt.legend()\n",
    "\n",
    "# задаем масштаб осей\n",
    "plt.axis([dt.datetime(2019, 8, 1), dt.datetime(2019, 9, 1), 0.025, 0.04]);\n"
   ]
  },
  {
   "cell_type": "markdown",
   "metadata": {},
   "source": [
    "**Вывод:**  Мы видим скачки конверсии в начале периода, после 10-ого числа конверсия в обеих группах выравнивается  и конверсия в группе В стабильно выше конверсии в группе А."
   ]
  },
  {
   "cell_type": "markdown",
   "metadata": {},
   "source": [
    "### График относительного изменения кумулятивной конверсии посетителя группы B к группе A"
   ]
  },
  {
   "cell_type": "code",
   "execution_count": 23,
   "metadata": {},
   "outputs": [
    {
     "data": {
      "image/png": "[encoded data removed]",
      "text/plain": [
       "<Figure size 1080x360 with 1 Axes>"
      ]
     },
     "metadata": {
      "needs_background": "light"
     },
     "output_type": "display_data"
    }
   ],
   "source": [
    "mergedCumulativeConversions = cumulativeDataA[['date','conversion']].merge(cumulativeDataB[['date','conversion']], left_on='date', right_on='date', how='left', suffixes=['A', 'B'])\n",
    "\n",
    "# строим графики\n",
    "plt.figure(figsize=(15,5))\n",
    "plt.plot(mergedCumulativeConversions['date'], mergedCumulativeConversions['conversionB']/mergedCumulativeConversions['conversionA']-1)\n",
    "\n",
    "\n",
    "plt.axhline(y=0, color='red', linestyle='--')\n",
    "plt.axhline(y=-0.1, color='green', linestyle='--')\n",
    "plt.title('График относительного изменения кумулятивной конверсии по группам\\n')\n",
    "plt.xlabel(\"\\n Дата\")\n",
    "plt.ylabel(\"Изменение конверсии\\n \")\n",
    "plt.grid()\n",
    "plt.xticks(rotation=45)\n",
    "\n",
    "# задаем масштаб осей\n",
    "plt.axis([dt.datetime(2019, 8, 1), dt.datetime(2019, 9, 1), -0.2, 0.3]);"
   ]
  },
  {
   "cell_type": "markdown",
   "metadata": {},
   "source": [
    "**Вывод:**   В начале теста группа B проигрывала группе A( не считая аномального скачка примерно 3 числа), затем вырвалась вперёд, теперь конверсия постепенно растёт.\n",
    "Стоит проанализировать аномалии, возможно, они изменят картину."
   ]
  },
  {
   "cell_type": "markdown",
   "metadata": {},
   "source": [
    "### Точечный график количества заказов по пользователям"
   ]
  },
  {
   "cell_type": "markdown",
   "metadata": {},
   "source": [
    "Сгруппируем заказы по пользователям, подсчитаем число уникальных заказов по сгруппированным данным, отсортируем датафрейм по значению в столбце. Переименуем колонки."
   ]
  },
  {
   "cell_type": "code",
   "execution_count": 24,
   "metadata": {},
   "outputs": [],
   "source": [
    "ordersByUsers = orders \\\n",
    "                    .groupby('visitor_id', as_index=False) \\\n",
    "                    .agg({'transaction_id' : 'nunique',}) \\\n",
    "                    .sort_values(by='transaction_id',ascending=False)\n",
    "\n",
    "ordersByUsers.columns = ['visitor_id', 'orders']"
   ]
  },
  {
   "cell_type": "code",
   "execution_count": 25,
   "metadata": {
    "scrolled": true
   },
   "outputs": [
    {
     "data": {
      "image/png": "[encoded data removed]",
      "text/plain": [
       "<Figure size 1080x288 with 1 Axes>"
      ]
     },
     "metadata": {
      "needs_background": "light"
     },
     "output_type": "display_data"
    }
   ],
   "source": [
    "# серия из чисел от 0 до количества наблюдений в ordersByUsers\n",
    "x_values = pd.Series(range(0, len(ordersByUsers)))\n",
    "\n",
    "# строим график\n",
    "plt.figure(figsize=(15,4))\n",
    "plt.scatter(x_values, ordersByUsers['orders']) \n",
    "\n",
    "plt.title('График количества заказов по пользователям\\n')\n",
    "plt.xlabel('\\nПользователи')\n",
    "plt.ylabel('Заказы');"
   ]
  },
  {
   "cell_type": "markdown",
   "metadata": {},
   "source": [
    "**Вывод:** Большая часть пользователей совершает один заказ, но есть пользователи, совершившие более десятка заказов"
   ]
  },
  {
   "cell_type": "markdown",
   "metadata": {},
   "source": [
    "### 95-й и 99-й перцентили количества заказов на пользователя"
   ]
  },
  {
   "cell_type": "code",
   "execution_count": 26,
   "metadata": {},
   "outputs": [
    {
     "data": {
      "text/plain": [
       "array([2., 4.])"
      ]
     },
     "execution_count": 26,
     "metadata": {},
     "output_type": "execute_result"
    }
   ],
   "source": [
    "np.percentile(ordersByUsers['orders'], [95, 99])"
   ]
  },
  {
   "cell_type": "markdown",
   "metadata": {},
   "source": [
    "**Вывод:** 95% пользователей совершили до двух заказов включительно. И только 1% совершили больше 4 заказов"
   ]
  },
  {
   "cell_type": "markdown",
   "metadata": {},
   "source": [
    "### Точечный график стоимостей заказов"
   ]
  },
  {
   "cell_type": "code",
   "execution_count": 27,
   "metadata": {},
   "outputs": [
    {
     "data": {
      "image/png": "[encoded data removed]",
      "text/plain": [
       "<Figure size 1080x288 with 1 Axes>"
      ]
     },
     "metadata": {
      "needs_background": "light"
     },
     "output_type": "display_data"
    }
   ],
   "source": [
    "x_values = pd.Series(range(0, len(orders['revenue'])))\n",
    "\n",
    "plt.figure(figsize=(15,4))\n",
    "plt.scatter(x_values, orders['revenue']) \n",
    "\n",
    "plt.title('Стоимость заказов')\n",
    "plt.xlabel('Пользователи')\n",
    "plt.ylabel('Заказы')\n",
    "plt.axis([0, 1200, 0, 110000]);"
   ]
  },
  {
   "cell_type": "markdown",
   "metadata": {},
   "source": [
    "**Вывод:** Судя по полученному графику, большая часть заказов стоимостью до 20 000, но есть редкие заказы до почти 100 000"
   ]
  },
  {
   "cell_type": "markdown",
   "metadata": {},
   "source": [
    "### 95-й и 99-й перцентили стоимости заказов"
   ]
  },
  {
   "cell_type": "code",
   "execution_count": 28,
   "metadata": {},
   "outputs": [
    {
     "data": {
      "text/plain": [
       "array([28000. , 58233.2])"
      ]
     },
     "execution_count": 28,
     "metadata": {},
     "output_type": "execute_result"
    }
   ],
   "source": [
    "np.percentile(orders['revenue'], [95, 99])"
   ]
  },
  {
   "cell_type": "markdown",
   "metadata": {},
   "source": [
    "**Вывод:** Как мы видим, 95% всех заказов имеют стоимость до 28 000, и только 1 % всех заказов стоит дороже 58 233"
   ]
  },
  {
   "cell_type": "markdown",
   "metadata": {},
   "source": [
    "### Статистическую значимость различий в среднем количестве заказов на посетителя между группами по «сырым» данным"
   ]
  },
  {
   "cell_type": "markdown",
   "metadata": {},
   "source": [
    "Сформулируем гипотезы:\n",
    "\n",
    "- H_0: Различий в  среднем количестве заказов на посетителя между группами нет;\n",
    "\n",
    "- H_a: Различия в  среднем количестве заказов на посетителя между группами есть.\n",
    "\n",
    "alpha = 0.05"
   ]
  },
  {
   "cell_type": "markdown",
   "metadata": {},
   "source": [
    "Создадим переменные ordersByUsersA и ordersByUsersB со столбцами ['user_id', 'orders']. В них для пользователей, которые заказывали хотя бы 1 раз, укажем число совершённых заказов. "
   ]
  },
  {
   "cell_type": "code",
   "execution_count": 29,
   "metadata": {},
   "outputs": [],
   "source": [
    "ordersByUsersA = (\n",
    "    orders[orders['group'] == 'A']\n",
    "    .groupby('visitor_id', as_index=False)\n",
    "    .agg({'transaction_id': pd.Series.nunique})\n",
    ")\n",
    "ordersByUsersA.columns = ['user_id', 'orders']\n",
    "\n",
    "ordersByUsersB = (\n",
    "    orders[orders['group'] == 'B']\n",
    "    .groupby('visitor_id', as_index=False)\n",
    "    .agg({'transaction_id': pd.Series.nunique})\n",
    ")\n",
    "ordersByUsersB.columns = ['user_id', 'orders'] "
   ]
  },
  {
   "cell_type": "markdown",
   "metadata": {},
   "source": [
    "Разделим таблицу с кумулятивными данными по группам:"
   ]
  },
  {
   "cell_type": "code",
   "execution_count": 30,
   "metadata": {},
   "outputs": [],
   "source": [
    "cumulativeDataA = cumulativeData.query('group == \"A\"')"
   ]
  },
  {
   "cell_type": "code",
   "execution_count": 31,
   "metadata": {},
   "outputs": [],
   "source": [
    "cumulativeDataB =  cumulativeData.query('group == \"B\"')"
   ]
  },
  {
   "cell_type": "markdown",
   "metadata": {},
   "source": [
    "Объявим переменные sampleA и sampleB, в которых пользователям из разных групп будет соответствовать количество заказов. Тем, кто ничего не заказал, будут соответствовать нули. Это нужно, чтобы подготовить выборки к проверке критерием Манна-Уитни."
   ]
  },
  {
   "cell_type": "code",
   "execution_count": 32,
   "metadata": {},
   "outputs": [],
   "source": [
    "sampleA = pd.concat(\n",
    "    [\n",
    "        ordersByUsersA['orders'],\n",
    "        pd.Series(\n",
    "            0,\n",
    "            index=np.arange(\n",
    "                cumulativeDataA['visitors'].max() - len(ordersByUsersA['orders'])\n",
    "            ),\n",
    "            name='orders',\n",
    "        ),\n",
    "    ],\n",
    "    axis=0,\n",
    ")\n",
    "\n",
    "sampleB = pd.concat(\n",
    "    [\n",
    "        ordersByUsersB['orders'],\n",
    "        pd.Series(\n",
    "            0,\n",
    "            index=np.arange(\n",
    "                cumulativeDataB['visitors'].max() - len(ordersByUsersB['orders'])\n",
    "            ),\n",
    "            name='orders',\n",
    "        ),\n",
    "    ],\n",
    "    axis=0,\n",
    ")"
   ]
  },
  {
   "cell_type": "markdown",
   "metadata": {},
   "source": [
    "Выведем относительный прирост среднего числа заказов группы B: среднее число заказов группы B / среднее число заказов группы A - 1.  Округлим до трёх знаков после запятой."
   ]
  },
  {
   "cell_type": "code",
   "execution_count": 33,
   "metadata": {},
   "outputs": [
    {
     "name": "stdout",
     "output_type": "stream",
     "text": [
      "Отвергаем нулевую гипотезу\n",
      "p-значение:  0.017\n",
      "относительный прирост:0.138\n"
     ]
    }
   ],
   "source": [
    "p_value = stats.mannwhitneyu(sampleA, sampleB)[1]\n",
    "alpha = 0.05 \n",
    "\n",
    "if (p_value < alpha):\n",
    "    print(\"Отвергаем нулевую гипотезу\")\n",
    "else:\n",
    "    print(\"Не получилось отвергнуть нулевую гипотезу\")\n",
    "\n",
    "    \n",
    "    \n",
    "print('p-значение: ',\"{0:.3f}\".format(stats.mannwhitneyu(sampleA, sampleB)[1]))\n",
    "\n",
    "print('относительный прирост:'\"{0:.3f}\".format(sampleB.mean() / sampleA.mean() - 1))"
   ]
  },
  {
   "cell_type": "markdown",
   "metadata": {},
   "source": [
    "**Вывод:**  Как мы видим, статистическая значимость различий в среднем количестве заказов на посетителя между группами по \"сырым\" данным наблюдается. Отдельный прирост конверсии группы В к конверсии группы А равен 13.8% "
   ]
  },
  {
   "cell_type": "markdown",
   "metadata": {},
   "source": [
    "### Статистическую значимость различий в среднем чеке заказа между группами по «сырым» данным"
   ]
  },
  {
   "cell_type": "markdown",
   "metadata": {},
   "source": [
    "Сформулируем гипотезы:\n",
    "\n",
    "- H_0: Различий в среднем чеке между группами нет.;\n",
    "\n",
    "- H_a: Различия в среднем чеке между группами есть.\n",
    "\n",
    "alpha = 0.05"
   ]
  },
  {
   "cell_type": "code",
   "execution_count": 34,
   "metadata": {},
   "outputs": [
    {
     "name": "stdout",
     "output_type": "stream",
     "text": [
      "Не получилось отвергнуть нулевую гипотезу\n",
      "p-значение:  0.729\n",
      "относительный прирост: 0.259\n"
     ]
    }
   ],
   "source": [
    "p_value = stats.mannwhitneyu(orders[orders['group']=='A']['revenue'], orders[orders['group']=='B']['revenue'])[1]\n",
    "alpha = 0.05\n",
    "\n",
    "if (p_value < alpha):\n",
    "    print(\"Отвергаем нулевую гипотезу\")\n",
    "else:\n",
    "    print(\"Не получилось отвергнуть нулевую гипотезу\")\n",
    "\n",
    "print('p-значение: ','{0:.3f}'.format(stats.mannwhitneyu(orders[orders['group']=='A']['revenue'], orders[orders['group']=='B']['revenue'])[1]))\n",
    "print('относительный прирост:','{0:.3f}'.format(orders[orders['group']=='B']['revenue'].mean()/orders[orders['group']=='A']['revenue'].mean()-1)) "
   ]
  },
  {
   "cell_type": "markdown",
   "metadata": {},
   "source": [
    "**Вывод:** P-value значительно больше 0.05. Значит, причин отвергать нулевую гипотезу и считать, что в среднем чеке есть различия, нет. \n",
    "\n",
    "Относительное различие среднего чека между группами 25.9%.  Однако, в наших \"сырых\" данных присутствуют аномалии, с которыми нужно поработать"
   ]
  },
  {
   "cell_type": "markdown",
   "metadata": {},
   "source": [
    "### Подготовка \"очищенных\" данных для анализа"
   ]
  },
  {
   "cell_type": "markdown",
   "metadata": {},
   "source": [
    "Найденные  95-й и 99-й перцентили средних чеков равны 28 000 и 58 233.2м. А 95-й и 99-й перцентили количества заказов на одного пользователя равны 2 и 4 заказа на пользователя.\n",
    "\n",
    "Примем за аномальных пользователей тех, кто совершил от 2 заказов или совершил заказ дороже 28 000 рублей. Так мы уберём 5% пользователей с наибольшим числом заказов и  5% пользователей с дорогими заказами.\n",
    "\n",
    "Сделаем срезы пользователей с числом заказов больше 2 — usersWithManyOrders и пользователей, совершивших заказы дороже 28 000 — usersWithExpensiveOrders. Объединим их в таблице abnormalUsers. "
   ]
  },
  {
   "cell_type": "code",
   "execution_count": 35,
   "metadata": {},
   "outputs": [
    {
     "name": "stdout",
     "output_type": "stream",
     "text": [
      "1099    148427295\n",
      "18      199603092\n",
      "928     204675465\n",
      "23      237748145\n",
      "37      249864742\n",
      "dtype: int64\n",
      "74\n"
     ]
    }
   ],
   "source": [
    "usersWithManyOrders = pd.concat(\n",
    "    [\n",
    "        ordersByUsersA[ordersByUsersA['orders'] > 2]['user_id'],\n",
    "        ordersByUsersB[ordersByUsersB['orders'] > 2]['user_id'],\n",
    "    ],\n",
    "    axis=0,\n",
    ")\n",
    "\n",
    "usersWithExpensiveOrders = orders[orders['revenue'] > 28000]['visitor_id']\n",
    "\n",
    "abnormalUsers = (\n",
    "    pd.concat([usersWithManyOrders, usersWithExpensiveOrders], axis=0)\n",
    "    .drop_duplicates()\n",
    "    .sort_values()\n",
    ")\n",
    "\n",
    "print(abnormalUsers.head())\n",
    "print(abnormalUsers.shape[0]) "
   ]
  },
  {
   "cell_type": "markdown",
   "metadata": {},
   "source": [
    "Как мы видим, аномальных пользователей всего 74. Далее увидим, как же сильно они влияли на наши данные."
   ]
  },
  {
   "cell_type": "markdown",
   "metadata": {},
   "source": [
    "###  Статистическую значимость различий в среднем количестве заказов на посетителя между группами по «очищенным» данным"
   ]
  },
  {
   "cell_type": "markdown",
   "metadata": {},
   "source": [
    "Сформулируем гипотезы:\n",
    "\n",
    "- H_0: Различий в  среднем количестве заказов на посетителя между группами нет;\n",
    "\n",
    "- H_a: Различия в  среднем количестве заказов на посетителя между группами есть.\n",
    "\n",
    "alpha = 0.05"
   ]
  },
  {
   "cell_type": "markdown",
   "metadata": {},
   "source": [
    "Сначала подготовим выборки количества заказов по пользователям по группам теста:"
   ]
  },
  {
   "cell_type": "code",
   "execution_count": 36,
   "metadata": {},
   "outputs": [],
   "source": [
    "sampleAFiltered = pd.concat(\n",
    "    [\n",
    "        ordersByUsersA[\n",
    "            np.logical_not(ordersByUsersA['user_id'].isin(abnormalUsers))\n",
    "        ]['orders'],\n",
    "        pd.Series(\n",
    "            0,\n",
    "            index=np.arange(\n",
    "                cumulativeDataA['visitors'].max() - len(ordersByUsersA['orders'])\n",
    "            ),\n",
    "            name='orders',\n",
    "        ),\n",
    "    ],\n",
    "    axis=0,\n",
    ")\n",
    "\n",
    "sampleBFiltered = pd.concat(\n",
    "    [\n",
    "        ordersByUsersB[\n",
    "            np.logical_not(ordersByUsersB['user_id'].isin(abnormalUsers))\n",
    "        ]['orders'],\n",
    "        pd.Series(\n",
    "            0,\n",
    "            index=np.arange(\n",
    "                cumulativeDataA['visitors'].max() - len(ordersByUsersB['orders'])\n",
    "            ),\n",
    "            name='orders',\n",
    "        ),\n",
    "    ],\n",
    "    axis=0,\n",
    ") "
   ]
  },
  {
   "cell_type": "markdown",
   "metadata": {},
   "source": [
    "Применим статистический критерий Манна-Уитни к полученным выборкам:"
   ]
  },
  {
   "cell_type": "code",
   "execution_count": 37,
   "metadata": {},
   "outputs": [
    {
     "name": "stdout",
     "output_type": "stream",
     "text": [
      "Отвергаем нулевую гипотезу\n",
      "p-значение:  0.008\n",
      "относительный прирост: 0.184\n"
     ]
    }
   ],
   "source": [
    "p_value = stats.mannwhitneyu(sampleAFiltered, sampleBFiltered)[1]\n",
    "alpha = 0.05 \n",
    "\n",
    "if (p_value < alpha):\n",
    "    print(\"Отвергаем нулевую гипотезу\")\n",
    "else:\n",
    "    print(\"Не получилось отвергнуть нулевую гипотезу\")\n",
    "\n",
    "\n",
    "print('p-значение: ','{0:.3f}'.format(stats.mannwhitneyu(sampleAFiltered, sampleBFiltered)[1]))\n",
    "print('относительный прирост:','{0:.3f}'.format(sampleBFiltered.mean()/sampleAFiltered.mean()-1)) "
   ]
  },
  {
   "cell_type": "markdown",
   "metadata": {},
   "source": [
    "**Вывод:** Как мы видим различия между \"сырыми\" и \"очищенными\" данными наблюдаются, однако нулевая гипотеза отвергнута в обоих случаях. Относительное различие группы В относительно группы А равно 18.4%"
   ]
  },
  {
   "cell_type": "markdown",
   "metadata": {},
   "source": [
    "### Статистическую значимость различий в среднем чеке заказа между группами по «очищенным» данным"
   ]
  },
  {
   "cell_type": "markdown",
   "metadata": {},
   "source": [
    "Сформулируем гипотезы:\n",
    "\n",
    "H_0: Различий в среднем чеке между группами нет.;\n",
    "\n",
    "H_a: Различия в среднем чеке между группами есть.\n",
    "\n",
    "alpha = 0.05"
   ]
  },
  {
   "cell_type": "code",
   "execution_count": 38,
   "metadata": {},
   "outputs": [
    {
     "name": "stdout",
     "output_type": "stream",
     "text": [
      "Не получилось отвергнуть нулевую гипотезу\n",
      "p-значение:  0.738\n",
      "относительный прирост: -0.020\n"
     ]
    }
   ],
   "source": [
    "p_value = stats.mannwhitneyu(\n",
    "            orders[\n",
    "                np.logical_and(\n",
    "                    orders['group'] == 'A',\n",
    "                    np.logical_not(orders['visitor_id'].isin(abnormalUsers)),\n",
    "                )\n",
    "            ]['revenue'],\n",
    "            orders[\n",
    "                np.logical_and(\n",
    "                    orders['group'] == 'B',\n",
    "                    np.logical_not(orders['visitor_id'].isin(abnormalUsers)),\n",
    "                )\n",
    "            ]['revenue'],\n",
    "        )[1]\n",
    "alpha = 0.05 \n",
    "\n",
    "if (p_value < alpha):\n",
    "    print(\"Отвергаем нулевую гипотезу\")\n",
    "else:\n",
    "    print(\"Не получилось отвергнуть нулевую гипотезу\")\n",
    "\n",
    "\n",
    "\n",
    "print('p-значение: ',\n",
    "    '{0:.3f}'.format(\n",
    "        stats.mannwhitneyu(\n",
    "            orders[\n",
    "                np.logical_and(\n",
    "                    orders['group'] == 'A',\n",
    "                    np.logical_not(orders['visitor_id'].isin(abnormalUsers)),\n",
    "                )\n",
    "            ]['revenue'],\n",
    "            orders[\n",
    "                np.logical_and(\n",
    "                    orders['group'] == 'B',\n",
    "                    np.logical_not(orders['visitor_id'].isin(abnormalUsers)),\n",
    "                )\n",
    "            ]['revenue'],\n",
    "        )[1]\n",
    "    )\n",
    ")\n",
    "\n",
    "print('относительный прирост:',\n",
    "    \"{0:.3f}\".format(\n",
    "        orders[\n",
    "            np.logical_and(\n",
    "                orders['group'] == 'B',\n",
    "                np.logical_not(orders['visitor_id'].isin(abnormalUsers)),\n",
    "            )\n",
    "        ]['revenue'].mean()\n",
    "        / orders[\n",
    "            np.logical_and(\n",
    "                orders['group'] == 'A',\n",
    "                np.logical_not(orders['visitor_id'].isin(abnormalUsers)),\n",
    "            )\n",
    "        ]['revenue'].mean()\n",
    "        - 1\n",
    "    )\n",
    ") "
   ]
  },
  {
   "cell_type": "markdown",
   "metadata": {},
   "source": [
    "**Выводы:** В данном случае, очистка  данных практически не изменила p-value, нулевая гипотеза отвергается в обоих случаях, поэтому статистически значимых отличий между группами нет. Относительное различие среднего чека между группами на \"очищенных\" данных упало с  25.9% до -2%."
   ]
  },
  {
   "cell_type": "markdown",
   "metadata": {},
   "source": [
    "### Решение по результатам теста"
   ]
  },
  {
   "cell_type": "markdown",
   "metadata": {},
   "source": [
    "По результатам A/B-теста принимаем решение остановить тест, признать его успешным, зафиксировать победу группы B.\n",
    "\n",
    "- Мы обнаружили статистически значимое различие по конверсии между группами, причём как по \"сырым\" данным, так и по \"очищенным\" от аномалий;\n",
    "\n",
    "- Конверсия группы B увеличилась по сравнению с конверсией группы А;\n",
    "\n",
    "- Статистически значимых различий в среднем чеке между группами не было обнаружено.\n"
   ]
  },
  {
   "cell_type": "markdown",
   "metadata": {},
   "source": [
    "## Выводы"
   ]
  },
  {
   "cell_type": "markdown",
   "metadata": {},
   "source": [
    "### Для исследования нами были получены данные, содержащие информацию о гипотезах (предполагающих увеличение выручки магазина), о заказах и о посетителях сайта.\n",
    "\n",
    "Мы загрузили наши данные и провели предоработку: посмотрели общую информацию, привели названия столбцов к более удобному  для работы виду, изменили формат даты, провели проверки на дубликаты и пропуски в данных.\n",
    "\n",
    "****\n",
    "\n",
    "- В первой части основного исследования мы ознакомились с таблицей данных о гипотезах и занялись приоритизацией гипотез. Для анализа были использованы фреймворки ICE и RICE.\n",
    "    По результатам исследования, можно сделать следующие выводы:\n",
    "\n",
    "    Согласно фреймворку ICE самые приоритетные гипотезы:\n",
    "    \n",
    "        - 8. Запустить акцию, дающую скидку на товар в день рождения;\n",
    "          \n",
    "        - 0. Добавить два новых канала привлечения трафика, что позволит привлекать на 30% больше пользователей;\n",
    "          \n",
    "        - 7. Добавить форму подписки на все основные страницы, чтобы собрать базу клиентов для email-рассылок.\n",
    "          \n",
    "    Согласно  фреймворку RICE самые приоритетные гипотезы:\n",
    "    \n",
    "        - 7. Добавить форму подписки на все основные страницы, чтобы собрать базу клиентов для email-рассылок; \n",
    "          \n",
    "        - 2. Добавить блоки рекомендаций товаров на сайт интернет магазина, чтобы повысить конверсию и средний чек заказа;\n",
    "          \n",
    "        - 0. Добавить два новых канала привлечения трафика, что позволит привлекать на 30% больше пользователей.\n",
    "  \n",
    "  Разные приоритеты гипотез по фреймворкам ICE и RICE связаны с тем, что в формуле RICE есть допонительный параметр reach, связанный с охватом пользователей и восьмая гипотеза, что по ICE получила самый высший приоритет, в параметре reach оценена на 1, а нулевая и седьмая гипотеза попадает в топ-3 по обоим фреймворкам.\n",
    "\n",
    "****\n",
    "\n",
    "- Во второй части основного исследования мы провели анализ результатов А-В теста и расмотрели статистическую значимость различий между группами на \"сырых\" и \"очищенных\" данных.\n",
    "\n",
    "   Согласно нашему исследованию, найденные  95-й и 99-й перцентили средних чеков равны 28 000 и 58 233.2м. А 95-й и 99-й перцентили количества заказов на одного пользователя равны 2 и 4.\n",
    "\n",
    "   За аномальные значения были приняты пользователи, совершившие от 2 заказов или сделавшие заказ дороже 28 000 рублей. Таким образом, мы убрали 5% пользователей с наибольшим числом заказов и  5% пользователей с самыми дорогими заказами. Таких пользователей в наших данных оказалось 74.\n",
    "\n",
    "         - По количеству заказов:\n",
    "            Статистическая значимость различий в среднем количестве заказов на посетителя между группами наблюдается как по \"сырым\" данным, так и по \"очищенным\".  Отдельный прирост конверсии группы В к конверсии группы А по \"сырым\" данным равен 13.8%. Относительное различие группы В от группы А  по \"очищенным\" данным равно 18.4%\n",
    "            \n",
    "         - По среднему чеку:\n",
    "             Статистическая значимость различий в среднем чеке между группами  не наблюдается как по \"сырым\" данным, так и по \"очищенным\".  Относительное различие среднего чека между группами на \"очищенных\" данных упало с  25.9%  в пользу группы В до 2% в пользу группы А.\n",
    "*****\n",
    "\n",
    "- Исходя из полученных результатов исследования, было принято решение остановить А-В тест и зафиксировать победу группы В. Несмотря на то, что средний чек не изменился, разница конверсий наблюдается в пользу группы В на обоих видах данных, а значит можно прогнозировать рост выручки.\n",
    "\n",
    "             "
   ]
  }
 ],
 "metadata": {
  "ExecuteTimeLog": [
   {
    "duration": 50,
    "start_time": "2022-12-27T10:37:53.498Z"
   },
   {
    "duration": 1258,
    "start_time": "2022-12-27T10:37:55.644Z"
   },
   {
    "duration": 282,
    "start_time": "2022-12-27T10:37:56.904Z"
   },
   {
    "duration": 120,
    "start_time": "2022-12-27T10:38:02.025Z"
   },
   {
    "duration": 21,
    "start_time": "2022-12-27T10:38:21.670Z"
   },
   {
    "duration": 29,
    "start_time": "2022-12-27T10:38:47.256Z"
   },
   {
    "duration": 10,
    "start_time": "2022-12-27T10:39:36.674Z"
   },
   {
    "duration": 6,
    "start_time": "2022-12-27T10:39:49.354Z"
   },
   {
    "duration": 3,
    "start_time": "2022-12-27T10:41:38.746Z"
   },
   {
    "duration": 19,
    "start_time": "2022-12-27T10:41:48.530Z"
   },
   {
    "duration": 15,
    "start_time": "2022-12-27T10:44:46.411Z"
   },
   {
    "duration": 6,
    "start_time": "2022-12-27T10:51:06.729Z"
   },
   {
    "duration": 29,
    "start_time": "2022-12-27T10:51:12.050Z"
   },
   {
    "duration": 7,
    "start_time": "2022-12-27T10:51:53.828Z"
   },
   {
    "duration": 27,
    "start_time": "2022-12-27T10:51:59.982Z"
   },
   {
    "duration": 9,
    "start_time": "2022-12-27T10:58:37.709Z"
   },
   {
    "duration": 14,
    "start_time": "2022-12-27T11:00:37.756Z"
   },
   {
    "duration": 10,
    "start_time": "2022-12-27T11:03:15.877Z"
   },
   {
    "duration": 12,
    "start_time": "2022-12-27T11:04:16.409Z"
   },
   {
    "duration": 11,
    "start_time": "2022-12-27T11:04:20.593Z"
   },
   {
    "duration": 11,
    "start_time": "2022-12-27T11:04:32.211Z"
   },
   {
    "duration": 11,
    "start_time": "2022-12-27T11:04:52.644Z"
   },
   {
    "duration": 12,
    "start_time": "2022-12-27T11:08:36.730Z"
   },
   {
    "duration": 11,
    "start_time": "2022-12-27T11:12:40.719Z"
   },
   {
    "duration": 11,
    "start_time": "2022-12-27T11:13:02.799Z"
   },
   {
    "duration": 10,
    "start_time": "2022-12-27T11:14:09.540Z"
   },
   {
    "duration": 11,
    "start_time": "2022-12-27T11:14:12.269Z"
   },
   {
    "duration": 15,
    "start_time": "2022-12-27T11:20:48.349Z"
   },
   {
    "duration": 13,
    "start_time": "2022-12-27T11:27:46.707Z"
   },
   {
    "duration": 3,
    "start_time": "2022-12-27T11:32:01.812Z"
   },
   {
    "duration": 13,
    "start_time": "2022-12-27T11:32:07.692Z"
   },
   {
    "duration": 6,
    "start_time": "2022-12-27T11:40:57.545Z"
   },
   {
    "duration": 9,
    "start_time": "2022-12-27T11:42:23.608Z"
   },
   {
    "duration": 57,
    "start_time": "2022-12-27T11:43:24.626Z"
   },
   {
    "duration": 247,
    "start_time": "2022-12-27T11:43:38.237Z"
   },
   {
    "duration": 3,
    "start_time": "2022-12-27T11:44:06.782Z"
   },
   {
    "duration": 204,
    "start_time": "2022-12-27T11:44:12.134Z"
   },
   {
    "duration": 81,
    "start_time": "2022-12-27T11:44:50.057Z"
   },
   {
    "duration": 17,
    "start_time": "2022-12-27T11:44:52.263Z"
   },
   {
    "duration": 30,
    "start_time": "2022-12-27T11:44:52.712Z"
   },
   {
    "duration": 8,
    "start_time": "2022-12-27T11:44:54.232Z"
   },
   {
    "duration": 12,
    "start_time": "2022-12-27T11:44:54.889Z"
   },
   {
    "duration": 3,
    "start_time": "2022-12-27T11:44:58.690Z"
   },
   {
    "duration": 3,
    "start_time": "2022-12-27T11:45:00.552Z"
   },
   {
    "duration": 476,
    "start_time": "2022-12-27T11:45:02.753Z"
   },
   {
    "duration": 185,
    "start_time": "2022-12-27T11:45:48.244Z"
   },
   {
    "duration": 76,
    "start_time": "2022-12-27T11:45:58.637Z"
   },
   {
    "duration": 3,
    "start_time": "2022-12-27T11:46:05.589Z"
   },
   {
    "duration": 3,
    "start_time": "2022-12-27T11:46:06.357Z"
   },
   {
    "duration": 18,
    "start_time": "2022-12-27T11:46:07.917Z"
   },
   {
    "duration": 19,
    "start_time": "2022-12-27T11:46:16.454Z"
   },
   {
    "duration": 29,
    "start_time": "2022-12-27T11:46:27.304Z"
   },
   {
    "duration": 9,
    "start_time": "2022-12-27T11:46:35.262Z"
   },
   {
    "duration": 30,
    "start_time": "2022-12-27T11:48:15.572Z"
   },
   {
    "duration": 172,
    "start_time": "2022-12-27T11:48:47.606Z"
   },
   {
    "duration": 116,
    "start_time": "2022-12-27T11:48:59.006Z"
   },
   {
    "duration": 7,
    "start_time": "2022-12-27T11:49:34.016Z"
   },
   {
    "duration": 13,
    "start_time": "2022-12-27T11:49:54.154Z"
   },
   {
    "duration": 273,
    "start_time": "2022-12-27T11:51:27.485Z"
   },
   {
    "duration": 186,
    "start_time": "2022-12-27T11:51:52.440Z"
   },
   {
    "duration": 46,
    "start_time": "2022-12-27T11:52:53.956Z"
   },
   {
    "duration": 46,
    "start_time": "2022-12-27T11:53:05.861Z"
   },
   {
    "duration": 183,
    "start_time": "2022-12-27T11:53:16.813Z"
   },
   {
    "duration": 157,
    "start_time": "2022-12-27T11:53:50.634Z"
   },
   {
    "duration": 6,
    "start_time": "2022-12-27T11:55:03.084Z"
   },
   {
    "duration": 204,
    "start_time": "2022-12-27T11:55:54.687Z"
   },
   {
    "duration": 272,
    "start_time": "2022-12-27T11:56:15.467Z"
   },
   {
    "duration": 205,
    "start_time": "2022-12-27T11:56:32.561Z"
   },
   {
    "duration": 206,
    "start_time": "2022-12-27T11:56:41.634Z"
   },
   {
    "duration": 191,
    "start_time": "2022-12-27T11:56:48.258Z"
   },
   {
    "duration": 14,
    "start_time": "2022-12-27T12:00:30.296Z"
   },
   {
    "duration": 3,
    "start_time": "2022-12-27T12:01:21.747Z"
   },
   {
    "duration": 6,
    "start_time": "2022-12-27T12:01:22.298Z"
   },
   {
    "duration": 808,
    "start_time": "2022-12-27T12:10:38.142Z"
   },
   {
    "duration": 3,
    "start_time": "2022-12-27T12:10:58.989Z"
   },
   {
    "duration": 90,
    "start_time": "2022-12-27T12:10:58.993Z"
   },
   {
    "duration": 18,
    "start_time": "2022-12-27T12:10:59.085Z"
   },
   {
    "duration": 30,
    "start_time": "2022-12-27T12:10:59.105Z"
   },
   {
    "duration": 8,
    "start_time": "2022-12-27T12:10:59.137Z"
   },
   {
    "duration": 51,
    "start_time": "2022-12-27T12:10:59.147Z"
   },
   {
    "duration": 3,
    "start_time": "2022-12-27T12:10:59.199Z"
   },
   {
    "duration": 21,
    "start_time": "2022-12-27T12:10:59.204Z"
   },
   {
    "duration": 15,
    "start_time": "2022-12-27T12:10:59.228Z"
   },
   {
    "duration": 29,
    "start_time": "2022-12-27T12:10:59.244Z"
   },
   {
    "duration": 22,
    "start_time": "2022-12-27T12:10:59.274Z"
   },
   {
    "duration": 28,
    "start_time": "2022-12-27T12:10:59.298Z"
   },
   {
    "duration": 2,
    "start_time": "2022-12-27T12:10:59.328Z"
   },
   {
    "duration": 20,
    "start_time": "2022-12-27T12:10:59.332Z"
   },
   {
    "duration": 8,
    "start_time": "2022-12-27T12:10:59.354Z"
   },
   {
    "duration": 166,
    "start_time": "2022-12-27T12:10:59.364Z"
   },
   {
    "duration": 122,
    "start_time": "2022-12-27T12:10:59.531Z"
   },
   {
    "duration": 12,
    "start_time": "2022-12-27T12:10:59.655Z"
   },
   {
    "duration": 9,
    "start_time": "2022-12-27T12:10:59.668Z"
   },
   {
    "duration": 212,
    "start_time": "2022-12-27T12:10:59.678Z"
   },
   {
    "duration": 964,
    "start_time": "2022-12-27T12:11:02.463Z"
   },
   {
    "duration": 176,
    "start_time": "2022-12-27T12:17:48.138Z"
   },
   {
    "duration": 188,
    "start_time": "2022-12-27T12:18:28.514Z"
   },
   {
    "duration": 326,
    "start_time": "2022-12-27T12:21:46.294Z"
   },
   {
    "duration": 343,
    "start_time": "2022-12-27T12:22:30.985Z"
   },
   {
    "duration": 305,
    "start_time": "2022-12-27T12:22:40.217Z"
   },
   {
    "duration": 7,
    "start_time": "2022-12-27T12:26:53.639Z"
   },
   {
    "duration": 192,
    "start_time": "2022-12-27T12:26:54.272Z"
   },
   {
    "duration": 6,
    "start_time": "2022-12-27T12:27:22.169Z"
   },
   {
    "duration": 282,
    "start_time": "2022-12-27T12:27:22.738Z"
   },
   {
    "duration": 194,
    "start_time": "2022-12-27T12:27:39.947Z"
   },
   {
    "duration": 238,
    "start_time": "2022-12-27T12:32:43.846Z"
   },
   {
    "duration": 304,
    "start_time": "2022-12-27T12:33:02.654Z"
   },
   {
    "duration": 221,
    "start_time": "2022-12-27T12:33:18.800Z"
   },
   {
    "duration": 348,
    "start_time": "2022-12-27T12:33:45.001Z"
   },
   {
    "duration": 222,
    "start_time": "2022-12-27T12:37:08.918Z"
   },
   {
    "duration": 213,
    "start_time": "2022-12-27T12:37:33.359Z"
   },
   {
    "duration": 326,
    "start_time": "2022-12-27T12:38:09.354Z"
   },
   {
    "duration": 257,
    "start_time": "2022-12-27T12:38:15.730Z"
   },
   {
    "duration": 224,
    "start_time": "2022-12-27T12:38:21.978Z"
   },
   {
    "duration": 231,
    "start_time": "2022-12-27T12:38:34.852Z"
   },
   {
    "duration": 339,
    "start_time": "2022-12-27T12:40:22.986Z"
   },
   {
    "duration": 209,
    "start_time": "2022-12-27T12:41:58.579Z"
   },
   {
    "duration": 194,
    "start_time": "2022-12-27T12:42:10.417Z"
   },
   {
    "duration": 215,
    "start_time": "2022-12-27T12:42:13.785Z"
   },
   {
    "duration": 218,
    "start_time": "2022-12-27T12:43:23.958Z"
   },
   {
    "duration": 220,
    "start_time": "2022-12-27T12:43:32.013Z"
   },
   {
    "duration": 255,
    "start_time": "2022-12-27T12:44:10.303Z"
   },
   {
    "duration": 7,
    "start_time": "2022-12-27T12:44:30.818Z"
   },
   {
    "duration": 219,
    "start_time": "2022-12-27T12:45:17.036Z"
   },
   {
    "duration": 236,
    "start_time": "2022-12-27T12:46:44.617Z"
   },
   {
    "duration": 311,
    "start_time": "2022-12-27T13:14:14.635Z"
   },
   {
    "duration": 348,
    "start_time": "2022-12-27T13:14:34.284Z"
   },
   {
    "duration": 390,
    "start_time": "2022-12-27T13:15:46.116Z"
   },
   {
    "duration": 444,
    "start_time": "2022-12-27T13:16:21.938Z"
   },
   {
    "duration": 380,
    "start_time": "2022-12-27T13:16:41.787Z"
   },
   {
    "duration": 370,
    "start_time": "2022-12-27T13:16:48.911Z"
   },
   {
    "duration": 418,
    "start_time": "2022-12-27T13:17:06.972Z"
   },
   {
    "duration": 337,
    "start_time": "2022-12-27T13:19:13.325Z"
   },
   {
    "duration": 372,
    "start_time": "2022-12-27T13:19:28.789Z"
   },
   {
    "duration": 357,
    "start_time": "2022-12-27T13:19:38.486Z"
   },
   {
    "duration": 348,
    "start_time": "2022-12-27T13:22:16.894Z"
   },
   {
    "duration": 13,
    "start_time": "2022-12-27T14:15:42.834Z"
   },
   {
    "duration": 17,
    "start_time": "2022-12-27T14:16:02.651Z"
   },
   {
    "duration": 142,
    "start_time": "2022-12-27T14:16:20.172Z"
   },
   {
    "duration": 9,
    "start_time": "2022-12-27T14:16:56.999Z"
   },
   {
    "duration": 8,
    "start_time": "2022-12-27T14:17:17.351Z"
   },
   {
    "duration": 8,
    "start_time": "2022-12-27T14:18:29.155Z"
   },
   {
    "duration": 50,
    "start_time": "2022-12-27T14:18:52.608Z"
   },
   {
    "duration": 3,
    "start_time": "2022-12-27T14:19:21.004Z"
   },
   {
    "duration": 113,
    "start_time": "2022-12-27T14:21:02.261Z"
   },
   {
    "duration": 124,
    "start_time": "2022-12-27T14:21:51.512Z"
   },
   {
    "duration": 48,
    "start_time": "2022-12-27T14:22:24.418Z"
   },
   {
    "duration": 131,
    "start_time": "2022-12-27T14:22:32.129Z"
   },
   {
    "duration": 122,
    "start_time": "2022-12-27T14:22:49.284Z"
   },
   {
    "duration": 250,
    "start_time": "2022-12-27T14:26:05.385Z"
   },
   {
    "duration": 5,
    "start_time": "2022-12-27T14:29:05.626Z"
   },
   {
    "duration": 133,
    "start_time": "2022-12-27T14:32:49.383Z"
   },
   {
    "duration": 130,
    "start_time": "2022-12-27T14:32:58.031Z"
   },
   {
    "duration": 137,
    "start_time": "2022-12-27T14:33:06.821Z"
   },
   {
    "duration": 169,
    "start_time": "2022-12-27T14:33:16.648Z"
   },
   {
    "duration": 150,
    "start_time": "2022-12-27T14:33:23.465Z"
   },
   {
    "duration": 143,
    "start_time": "2022-12-27T14:34:12.060Z"
   },
   {
    "duration": 133,
    "start_time": "2022-12-27T14:36:53.534Z"
   },
   {
    "duration": 136,
    "start_time": "2022-12-27T14:37:01.262Z"
   },
   {
    "duration": 142,
    "start_time": "2022-12-27T14:37:12.655Z"
   },
   {
    "duration": 153,
    "start_time": "2022-12-27T14:37:40.752Z"
   },
   {
    "duration": 130,
    "start_time": "2022-12-27T14:38:21.188Z"
   },
   {
    "duration": 133,
    "start_time": "2022-12-27T14:38:26.715Z"
   },
   {
    "duration": 163,
    "start_time": "2022-12-27T14:38:30.484Z"
   },
   {
    "duration": 143,
    "start_time": "2022-12-27T14:38:58.878Z"
   },
   {
    "duration": 140,
    "start_time": "2022-12-27T14:39:35.647Z"
   },
   {
    "duration": 51,
    "start_time": "2022-12-28T10:21:34.420Z"
   },
   {
    "duration": 1302,
    "start_time": "2022-12-28T10:21:39.050Z"
   },
   {
    "duration": 188,
    "start_time": "2022-12-28T10:21:40.354Z"
   },
   {
    "duration": 21,
    "start_time": "2022-12-28T10:21:40.544Z"
   },
   {
    "duration": 27,
    "start_time": "2022-12-28T10:21:40.567Z"
   },
   {
    "duration": 7,
    "start_time": "2022-12-28T10:21:40.596Z"
   },
   {
    "duration": 38,
    "start_time": "2022-12-28T10:21:40.605Z"
   },
   {
    "duration": 5,
    "start_time": "2022-12-28T10:21:40.645Z"
   },
   {
    "duration": 7,
    "start_time": "2022-12-28T10:21:40.652Z"
   },
   {
    "duration": 16,
    "start_time": "2022-12-28T10:21:40.660Z"
   },
   {
    "duration": 19,
    "start_time": "2022-12-28T10:21:40.678Z"
   },
   {
    "duration": 11,
    "start_time": "2022-12-28T10:21:40.698Z"
   },
   {
    "duration": 35,
    "start_time": "2022-12-28T10:21:40.710Z"
   },
   {
    "duration": 6,
    "start_time": "2022-12-28T10:21:40.747Z"
   },
   {
    "duration": 7,
    "start_time": "2022-12-28T10:21:40.756Z"
   },
   {
    "duration": 10,
    "start_time": "2022-12-28T10:21:40.765Z"
   },
   {
    "duration": 192,
    "start_time": "2022-12-28T10:21:40.776Z"
   },
   {
    "duration": 135,
    "start_time": "2022-12-28T10:21:40.970Z"
   },
   {
    "duration": 12,
    "start_time": "2022-12-28T10:21:41.106Z"
   },
   {
    "duration": 20,
    "start_time": "2022-12-28T10:21:41.120Z"
   },
   {
    "duration": 320,
    "start_time": "2022-12-28T10:21:41.141Z"
   },
   {
    "duration": 240,
    "start_time": "2022-12-28T10:21:41.463Z"
   },
   {
    "duration": 417,
    "start_time": "2022-12-28T10:21:41.705Z"
   },
   {
    "duration": 247,
    "start_time": "2022-12-28T10:21:42.124Z"
   },
   {
    "duration": 364,
    "start_time": "2022-12-28T10:21:42.373Z"
   },
   {
    "duration": 7,
    "start_time": "2022-12-28T10:21:42.739Z"
   },
   {
    "duration": 147,
    "start_time": "2022-12-28T10:21:42.748Z"
   },
   {
    "duration": 152,
    "start_time": "2022-12-28T10:21:42.897Z"
   },
   {
    "duration": 5,
    "start_time": "2022-12-28T10:21:43.051Z"
   },
   {
    "duration": 232,
    "start_time": "2022-12-28T10:21:43.058Z"
   },
   {
    "duration": 138,
    "start_time": "2022-12-28T10:21:51.028Z"
   },
   {
    "duration": 11,
    "start_time": "2022-12-28T10:22:34.183Z"
   },
   {
    "duration": 6,
    "start_time": "2022-12-28T10:26:31.339Z"
   },
   {
    "duration": 196,
    "start_time": "2022-12-28T10:27:12.355Z"
   },
   {
    "duration": 145,
    "start_time": "2022-12-28T10:27:16.477Z"
   },
   {
    "duration": 137,
    "start_time": "2022-12-28T10:27:22.182Z"
   },
   {
    "duration": 131,
    "start_time": "2022-12-28T10:27:45.489Z"
   },
   {
    "duration": 145,
    "start_time": "2022-12-28T10:28:07.264Z"
   },
   {
    "duration": 137,
    "start_time": "2022-12-28T10:28:13.081Z"
   },
   {
    "duration": 137,
    "start_time": "2022-12-28T10:28:16.858Z"
   },
   {
    "duration": 152,
    "start_time": "2022-12-28T10:28:20.872Z"
   },
   {
    "duration": 156,
    "start_time": "2022-12-28T10:28:29.730Z"
   },
   {
    "duration": 153,
    "start_time": "2022-12-28T10:28:36.027Z"
   },
   {
    "duration": 20,
    "start_time": "2022-12-28T10:41:33.197Z"
   },
   {
    "duration": 177,
    "start_time": "2022-12-28T10:51:00.217Z"
   },
   {
    "duration": 241,
    "start_time": "2022-12-28T10:51:49.613Z"
   },
   {
    "duration": 21,
    "start_time": "2022-12-28T10:54:31.629Z"
   },
   {
    "duration": 226,
    "start_time": "2022-12-28T10:55:21.759Z"
   },
   {
    "duration": 59,
    "start_time": "2022-12-28T10:56:36.718Z"
   },
   {
    "duration": 13,
    "start_time": "2022-12-28T10:56:50.749Z"
   },
   {
    "duration": 7,
    "start_time": "2022-12-28T10:57:08.581Z"
   },
   {
    "duration": 13,
    "start_time": "2022-12-28T10:59:59.568Z"
   },
   {
    "duration": 3,
    "start_time": "2022-12-28T11:00:30.482Z"
   },
   {
    "duration": 29,
    "start_time": "2022-12-28T11:00:39.955Z"
   },
   {
    "duration": 11,
    "start_time": "2022-12-28T11:01:48.149Z"
   },
   {
    "duration": 11,
    "start_time": "2022-12-28T11:02:09.983Z"
   },
   {
    "duration": 25,
    "start_time": "2022-12-28T11:02:13.768Z"
   },
   {
    "duration": 136,
    "start_time": "2022-12-28T11:04:04.221Z"
   },
   {
    "duration": 8,
    "start_time": "2022-12-28T11:06:10.358Z"
   },
   {
    "duration": 38,
    "start_time": "2022-12-28T11:06:11.845Z"
   },
   {
    "duration": 21,
    "start_time": "2022-12-28T11:13:03.663Z"
   },
   {
    "duration": 31,
    "start_time": "2022-12-28T11:13:35.718Z"
   },
   {
    "duration": 23,
    "start_time": "2022-12-28T11:13:56.613Z"
   },
   {
    "duration": 45,
    "start_time": "2022-12-28T11:14:11.634Z"
   },
   {
    "duration": 53,
    "start_time": "2022-12-28T11:21:41.283Z"
   },
   {
    "duration": 15,
    "start_time": "2022-12-28T11:22:23.165Z"
   },
   {
    "duration": 9,
    "start_time": "2022-12-28T11:50:11.372Z"
   },
   {
    "duration": 747,
    "start_time": "2022-12-28T11:54:20.108Z"
   },
   {
    "duration": 9,
    "start_time": "2022-12-28T11:54:34.756Z"
   },
   {
    "duration": 52,
    "start_time": "2022-12-28T11:54:58.454Z"
   },
   {
    "duration": 25,
    "start_time": "2022-12-28T11:55:40.727Z"
   },
   {
    "duration": 47,
    "start_time": "2022-12-28T11:56:44.493Z"
   },
   {
    "duration": 748,
    "start_time": "2022-12-28T11:59:22.206Z"
   },
   {
    "duration": 813,
    "start_time": "2022-12-28T11:59:39.069Z"
   },
   {
    "duration": 18,
    "start_time": "2022-12-28T12:00:12.440Z"
   },
   {
    "duration": 21,
    "start_time": "2022-12-28T12:01:13.717Z"
   },
   {
    "duration": 59,
    "start_time": "2022-12-28T12:13:55.227Z"
   },
   {
    "duration": 3,
    "start_time": "2022-12-28T12:38:07.738Z"
   },
   {
    "duration": 103,
    "start_time": "2022-12-28T12:38:07.743Z"
   },
   {
    "duration": 17,
    "start_time": "2022-12-28T12:38:07.848Z"
   },
   {
    "duration": 40,
    "start_time": "2022-12-28T12:38:07.868Z"
   },
   {
    "duration": 8,
    "start_time": "2022-12-28T12:38:07.909Z"
   },
   {
    "duration": 29,
    "start_time": "2022-12-28T12:38:07.918Z"
   },
   {
    "duration": 14,
    "start_time": "2022-12-28T12:38:07.948Z"
   },
   {
    "duration": 21,
    "start_time": "2022-12-28T12:38:07.964Z"
   },
   {
    "duration": 44,
    "start_time": "2022-12-28T12:38:07.988Z"
   },
   {
    "duration": 37,
    "start_time": "2022-12-28T12:38:08.034Z"
   },
   {
    "duration": 34,
    "start_time": "2022-12-28T12:38:08.073Z"
   },
   {
    "duration": 51,
    "start_time": "2022-12-28T12:38:08.109Z"
   },
   {
    "duration": 11,
    "start_time": "2022-12-28T12:38:08.162Z"
   },
   {
    "duration": 171,
    "start_time": "2022-12-28T12:38:08.174Z"
   },
   {
    "duration": 130,
    "start_time": "2022-12-28T12:38:08.347Z"
   },
   {
    "duration": 14,
    "start_time": "2022-12-28T12:38:08.479Z"
   },
   {
    "duration": 19,
    "start_time": "2022-12-28T12:38:08.495Z"
   },
   {
    "duration": 255,
    "start_time": "2022-12-28T12:38:08.516Z"
   },
   {
    "duration": 335,
    "start_time": "2022-12-28T12:38:08.773Z"
   },
   {
    "duration": 395,
    "start_time": "2022-12-28T12:38:09.109Z"
   },
   {
    "duration": 258,
    "start_time": "2022-12-28T12:38:09.506Z"
   },
   {
    "duration": 331,
    "start_time": "2022-12-28T12:38:09.765Z"
   },
   {
    "duration": 9,
    "start_time": "2022-12-28T12:38:10.098Z"
   },
   {
    "duration": 173,
    "start_time": "2022-12-28T12:38:10.111Z"
   },
   {
    "duration": 162,
    "start_time": "2022-12-28T12:38:10.286Z"
   },
   {
    "duration": 5,
    "start_time": "2022-12-28T12:38:10.449Z"
   },
   {
    "duration": 173,
    "start_time": "2022-12-28T12:38:10.456Z"
   },
   {
    "duration": 6,
    "start_time": "2022-12-28T12:38:10.634Z"
   },
   {
    "duration": 243,
    "start_time": "2022-12-28T12:38:10.642Z"
   },
   {
    "duration": 177,
    "start_time": "2022-12-28T12:38:10.887Z"
   },
   {
    "duration": 8,
    "start_time": "2022-12-28T12:38:11.066Z"
   },
   {
    "duration": 65,
    "start_time": "2022-12-28T12:38:11.076Z"
   },
   {
    "duration": 19,
    "start_time": "2022-12-28T12:38:11.143Z"
   },
   {
    "duration": 11,
    "start_time": "2022-12-28T12:38:11.164Z"
   },
   {
    "duration": 14,
    "start_time": "2022-12-28T12:38:11.176Z"
   },
   {
    "duration": 61,
    "start_time": "2022-12-28T12:38:11.192Z"
   },
   {
    "duration": 20,
    "start_time": "2022-12-28T12:38:11.255Z"
   },
   {
    "duration": 136,
    "start_time": "2022-12-28T12:51:14.023Z"
   },
   {
    "duration": 138,
    "start_time": "2022-12-28T12:51:21.916Z"
   },
   {
    "duration": 5,
    "start_time": "2022-12-28T13:04:52.458Z"
   },
   {
    "duration": 101,
    "start_time": "2022-12-28T13:04:52.465Z"
   },
   {
    "duration": 21,
    "start_time": "2022-12-28T13:04:52.568Z"
   },
   {
    "duration": 43,
    "start_time": "2022-12-28T13:04:52.591Z"
   },
   {
    "duration": 11,
    "start_time": "2022-12-28T13:04:52.636Z"
   },
   {
    "duration": 22,
    "start_time": "2022-12-28T13:04:52.649Z"
   },
   {
    "duration": 17,
    "start_time": "2022-12-28T13:04:52.672Z"
   },
   {
    "duration": 24,
    "start_time": "2022-12-28T13:04:52.690Z"
   },
   {
    "duration": 28,
    "start_time": "2022-12-28T13:04:52.716Z"
   },
   {
    "duration": 33,
    "start_time": "2022-12-28T13:04:52.746Z"
   },
   {
    "duration": 28,
    "start_time": "2022-12-28T13:04:52.781Z"
   },
   {
    "duration": 41,
    "start_time": "2022-12-28T13:04:52.810Z"
   },
   {
    "duration": 26,
    "start_time": "2022-12-28T13:04:52.854Z"
   },
   {
    "duration": 177,
    "start_time": "2022-12-28T13:04:52.881Z"
   },
   {
    "duration": 125,
    "start_time": "2022-12-28T13:04:53.060Z"
   },
   {
    "duration": 13,
    "start_time": "2022-12-28T13:04:53.187Z"
   },
   {
    "duration": 35,
    "start_time": "2022-12-28T13:04:53.202Z"
   },
   {
    "duration": 250,
    "start_time": "2022-12-28T13:04:53.239Z"
   },
   {
    "duration": 228,
    "start_time": "2022-12-28T13:04:53.491Z"
   },
   {
    "duration": 447,
    "start_time": "2022-12-28T13:04:53.720Z"
   },
   {
    "duration": 246,
    "start_time": "2022-12-28T13:04:54.169Z"
   },
   {
    "duration": 341,
    "start_time": "2022-12-28T13:04:54.417Z"
   },
   {
    "duration": 7,
    "start_time": "2022-12-28T13:04:54.760Z"
   },
   {
    "duration": 156,
    "start_time": "2022-12-28T13:04:54.769Z"
   },
   {
    "duration": 9,
    "start_time": "2022-12-28T13:04:54.927Z"
   },
   {
    "duration": 168,
    "start_time": "2022-12-28T13:04:54.939Z"
   },
   {
    "duration": 5,
    "start_time": "2022-12-28T13:04:55.108Z"
   },
   {
    "duration": 275,
    "start_time": "2022-12-28T13:04:55.115Z"
   },
   {
    "duration": 146,
    "start_time": "2022-12-28T13:04:55.392Z"
   },
   {
    "duration": 7,
    "start_time": "2022-12-28T13:04:55.540Z"
   },
   {
    "duration": 68,
    "start_time": "2022-12-28T13:04:55.549Z"
   },
   {
    "duration": 16,
    "start_time": "2022-12-28T13:04:55.619Z"
   },
   {
    "duration": 32,
    "start_time": "2022-12-28T13:04:55.637Z"
   },
   {
    "duration": 27,
    "start_time": "2022-12-28T13:04:55.671Z"
   },
   {
    "duration": 62,
    "start_time": "2022-12-28T13:04:55.700Z"
   },
   {
    "duration": 20,
    "start_time": "2022-12-28T13:04:55.764Z"
   },
   {
    "duration": 1143,
    "start_time": "2022-12-28T16:21:38.176Z"
   },
   {
    "duration": 238,
    "start_time": "2022-12-28T16:21:39.321Z"
   },
   {
    "duration": 22,
    "start_time": "2022-12-28T16:21:39.560Z"
   },
   {
    "duration": 27,
    "start_time": "2022-12-28T16:21:39.585Z"
   },
   {
    "duration": 6,
    "start_time": "2022-12-28T16:21:39.614Z"
   },
   {
    "duration": 14,
    "start_time": "2022-12-28T16:21:39.622Z"
   },
   {
    "duration": 3,
    "start_time": "2022-12-28T16:21:39.638Z"
   },
   {
    "duration": 7,
    "start_time": "2022-12-28T16:21:39.643Z"
   },
   {
    "duration": 19,
    "start_time": "2022-12-28T16:21:39.652Z"
   },
   {
    "duration": 19,
    "start_time": "2022-12-28T16:21:39.674Z"
   },
   {
    "duration": 10,
    "start_time": "2022-12-28T16:21:39.695Z"
   },
   {
    "duration": 29,
    "start_time": "2022-12-28T16:21:39.706Z"
   },
   {
    "duration": 6,
    "start_time": "2022-12-28T16:21:39.736Z"
   },
   {
    "duration": 162,
    "start_time": "2022-12-28T16:21:39.744Z"
   },
   {
    "duration": 123,
    "start_time": "2022-12-28T16:21:39.908Z"
   },
   {
    "duration": 13,
    "start_time": "2022-12-28T16:21:40.032Z"
   },
   {
    "duration": 9,
    "start_time": "2022-12-28T16:21:40.047Z"
   },
   {
    "duration": 469,
    "start_time": "2022-12-28T16:21:40.058Z"
   },
   {
    "duration": 381,
    "start_time": "2022-12-28T16:21:40.529Z"
   },
   {
    "duration": 395,
    "start_time": "2022-12-28T16:21:40.912Z"
   },
   {
    "duration": 406,
    "start_time": "2022-12-28T16:21:41.309Z"
   },
   {
    "duration": 362,
    "start_time": "2022-12-28T16:21:41.716Z"
   },
   {
    "duration": 7,
    "start_time": "2022-12-28T16:21:42.079Z"
   },
   {
    "duration": 318,
    "start_time": "2022-12-28T16:21:42.088Z"
   },
   {
    "duration": 5,
    "start_time": "2022-12-28T16:21:42.407Z"
   },
   {
    "duration": 308,
    "start_time": "2022-12-28T16:21:42.414Z"
   },
   {
    "duration": 4,
    "start_time": "2022-12-28T16:21:42.724Z"
   },
   {
    "duration": 242,
    "start_time": "2022-12-28T16:21:42.731Z"
   },
   {
    "duration": 138,
    "start_time": "2022-12-28T16:21:42.974Z"
   },
   {
    "duration": 12,
    "start_time": "2022-12-28T16:21:43.114Z"
   },
   {
    "duration": 44,
    "start_time": "2022-12-28T16:21:43.128Z"
   },
   {
    "duration": 14,
    "start_time": "2022-12-28T16:21:43.174Z"
   },
   {
    "duration": 8,
    "start_time": "2022-12-28T16:21:43.189Z"
   },
   {
    "duration": 7,
    "start_time": "2022-12-28T16:21:43.222Z"
   },
   {
    "duration": 46,
    "start_time": "2022-12-28T16:21:43.231Z"
   },
   {
    "duration": 24,
    "start_time": "2022-12-28T16:21:43.278Z"
   },
   {
    "duration": 1252,
    "start_time": "2022-12-28T16:43:59.791Z"
   },
   {
    "duration": 74,
    "start_time": "2022-12-28T16:44:01.045Z"
   },
   {
    "duration": 22,
    "start_time": "2022-12-28T16:44:01.121Z"
   },
   {
    "duration": 51,
    "start_time": "2022-12-28T16:44:01.145Z"
   },
   {
    "duration": 12,
    "start_time": "2022-12-28T16:44:01.197Z"
   },
   {
    "duration": 27,
    "start_time": "2022-12-28T16:44:01.211Z"
   },
   {
    "duration": 28,
    "start_time": "2022-12-28T16:44:01.239Z"
   },
   {
    "duration": 28,
    "start_time": "2022-12-28T16:44:01.268Z"
   },
   {
    "duration": 23,
    "start_time": "2022-12-28T16:44:01.297Z"
   },
   {
    "duration": 22,
    "start_time": "2022-12-28T16:44:01.323Z"
   },
   {
    "duration": 24,
    "start_time": "2022-12-28T16:44:01.347Z"
   },
   {
    "duration": 37,
    "start_time": "2022-12-28T16:44:01.372Z"
   },
   {
    "duration": 22,
    "start_time": "2022-12-28T16:44:01.411Z"
   },
   {
    "duration": 203,
    "start_time": "2022-12-28T16:44:01.434Z"
   },
   {
    "duration": 137,
    "start_time": "2022-12-28T16:44:01.639Z"
   },
   {
    "duration": 12,
    "start_time": "2022-12-28T16:44:01.777Z"
   },
   {
    "duration": 18,
    "start_time": "2022-12-28T16:44:01.790Z"
   },
   {
    "duration": 480,
    "start_time": "2022-12-28T16:44:01.810Z"
   },
   {
    "duration": 405,
    "start_time": "2022-12-28T16:44:02.292Z"
   },
   {
    "duration": 422,
    "start_time": "2022-12-28T16:44:02.699Z"
   },
   {
    "duration": 382,
    "start_time": "2022-12-28T16:44:03.123Z"
   },
   {
    "duration": 369,
    "start_time": "2022-12-28T16:44:03.506Z"
   },
   {
    "duration": 7,
    "start_time": "2022-12-28T16:44:03.877Z"
   },
   {
    "duration": 320,
    "start_time": "2022-12-28T16:44:03.885Z"
   },
   {
    "duration": 15,
    "start_time": "2022-12-28T16:44:04.207Z"
   },
   {
    "duration": 299,
    "start_time": "2022-12-28T16:44:04.223Z"
   },
   {
    "duration": 5,
    "start_time": "2022-12-28T16:44:04.524Z"
   },
   {
    "duration": 229,
    "start_time": "2022-12-28T16:44:04.531Z"
   },
   {
    "duration": 165,
    "start_time": "2022-12-28T16:44:04.761Z"
   },
   {
    "duration": 6,
    "start_time": "2022-12-28T16:44:04.928Z"
   },
   {
    "duration": 42,
    "start_time": "2022-12-28T16:44:04.935Z"
   },
   {
    "duration": 13,
    "start_time": "2022-12-28T16:44:04.978Z"
   },
   {
    "duration": 8,
    "start_time": "2022-12-28T16:44:04.992Z"
   },
   {
    "duration": 26,
    "start_time": "2022-12-28T16:44:05.002Z"
   },
   {
    "duration": 47,
    "start_time": "2022-12-28T16:44:05.029Z"
   },
   {
    "duration": 19,
    "start_time": "2022-12-28T16:44:05.077Z"
   },
   {
    "duration": 43,
    "start_time": "2022-12-28T16:57:02.171Z"
   },
   {
    "duration": 1250,
    "start_time": "2022-12-28T16:57:07.643Z"
   },
   {
    "duration": 190,
    "start_time": "2022-12-28T16:57:08.894Z"
   },
   {
    "duration": 23,
    "start_time": "2022-12-28T16:57:09.085Z"
   },
   {
    "duration": 29,
    "start_time": "2022-12-28T16:57:09.110Z"
   },
   {
    "duration": 7,
    "start_time": "2022-12-28T16:57:09.141Z"
   },
   {
    "duration": 18,
    "start_time": "2022-12-28T16:57:09.150Z"
   },
   {
    "duration": 3,
    "start_time": "2022-12-28T16:57:09.198Z"
   },
   {
    "duration": 23,
    "start_time": "2022-12-28T16:57:09.203Z"
   },
   {
    "duration": 20,
    "start_time": "2022-12-28T16:57:09.228Z"
   },
   {
    "duration": 13,
    "start_time": "2022-12-28T16:57:09.251Z"
   },
   {
    "duration": 15,
    "start_time": "2022-12-28T16:57:09.266Z"
   },
   {
    "duration": 18,
    "start_time": "2022-12-28T16:57:09.283Z"
   },
   {
    "duration": 15,
    "start_time": "2022-12-28T16:57:09.303Z"
   },
   {
    "duration": 154,
    "start_time": "2022-12-28T16:57:09.319Z"
   },
   {
    "duration": 111,
    "start_time": "2022-12-28T16:57:09.474Z"
   },
   {
    "duration": 15,
    "start_time": "2022-12-28T16:57:09.587Z"
   },
   {
    "duration": 8,
    "start_time": "2022-12-28T16:57:09.604Z"
   },
   {
    "duration": 296,
    "start_time": "2022-12-28T16:57:09.613Z"
   },
   {
    "duration": 244,
    "start_time": "2022-12-28T16:57:09.910Z"
   },
   {
    "duration": 358,
    "start_time": "2022-12-28T16:57:10.155Z"
   },
   {
    "duration": 216,
    "start_time": "2022-12-28T16:57:10.515Z"
   },
   {
    "duration": 292,
    "start_time": "2022-12-28T16:57:10.732Z"
   },
   {
    "duration": 8,
    "start_time": "2022-12-28T16:57:11.026Z"
   },
   {
    "duration": 161,
    "start_time": "2022-12-28T16:57:11.036Z"
   },
   {
    "duration": 6,
    "start_time": "2022-12-28T16:57:11.199Z"
   },
   {
    "duration": 139,
    "start_time": "2022-12-28T16:57:11.206Z"
   },
   {
    "duration": 5,
    "start_time": "2022-12-28T16:57:11.346Z"
   },
   {
    "duration": 315,
    "start_time": "2022-12-28T16:57:11.354Z"
   },
   {
    "duration": 8,
    "start_time": "2022-12-28T16:57:11.670Z"
   },
   {
    "duration": 151,
    "start_time": "2022-12-28T16:57:11.680Z"
   },
   {
    "duration": 7,
    "start_time": "2022-12-28T16:57:11.833Z"
   },
   {
    "duration": 39,
    "start_time": "2022-12-28T16:57:11.842Z"
   },
   {
    "duration": 26,
    "start_time": "2022-12-28T16:57:11.882Z"
   },
   {
    "duration": 10,
    "start_time": "2022-12-28T16:57:11.910Z"
   },
   {
    "duration": 8,
    "start_time": "2022-12-28T16:57:11.922Z"
   },
   {
    "duration": 79,
    "start_time": "2022-12-28T16:57:11.932Z"
   },
   {
    "duration": 22,
    "start_time": "2022-12-28T16:57:12.013Z"
   },
   {
    "duration": 71,
    "start_time": "2022-12-28T17:04:09.658Z"
   },
   {
    "duration": 39,
    "start_time": "2022-12-28T17:04:27.650Z"
   },
   {
    "duration": 17,
    "start_time": "2022-12-28T17:04:51.109Z"
   },
   {
    "duration": 40,
    "start_time": "2022-12-28T17:05:15.342Z"
   },
   {
    "duration": 18,
    "start_time": "2022-12-28T17:05:38.334Z"
   },
   {
    "duration": 145,
    "start_time": "2022-12-28T17:07:16.516Z"
   },
   {
    "duration": 5,
    "start_time": "2022-12-28T17:07:18.388Z"
   },
   {
    "duration": 40,
    "start_time": "2022-12-28T17:07:19.976Z"
   },
   {
    "duration": 4,
    "start_time": "2022-12-28T17:07:28.295Z"
   },
   {
    "duration": 86,
    "start_time": "2022-12-28T17:07:28.301Z"
   },
   {
    "duration": 16,
    "start_time": "2022-12-28T17:07:28.388Z"
   },
   {
    "duration": 34,
    "start_time": "2022-12-28T17:07:28.406Z"
   },
   {
    "duration": 6,
    "start_time": "2022-12-28T17:07:28.441Z"
   },
   {
    "duration": 17,
    "start_time": "2022-12-28T17:07:28.449Z"
   },
   {
    "duration": 3,
    "start_time": "2022-12-28T17:07:28.467Z"
   },
   {
    "duration": 7,
    "start_time": "2022-12-28T17:07:28.471Z"
   },
   {
    "duration": 12,
    "start_time": "2022-12-28T17:07:28.497Z"
   },
   {
    "duration": 26,
    "start_time": "2022-12-28T17:07:28.511Z"
   },
   {
    "duration": 17,
    "start_time": "2022-12-28T17:07:28.538Z"
   },
   {
    "duration": 23,
    "start_time": "2022-12-28T17:07:28.556Z"
   },
   {
    "duration": 4,
    "start_time": "2022-12-28T17:07:28.581Z"
   },
   {
    "duration": 148,
    "start_time": "2022-12-28T17:07:28.587Z"
   },
   {
    "duration": 112,
    "start_time": "2022-12-28T17:07:28.737Z"
   },
   {
    "duration": 11,
    "start_time": "2022-12-28T17:07:28.851Z"
   },
   {
    "duration": 24,
    "start_time": "2022-12-28T17:07:28.863Z"
   },
   {
    "duration": 218,
    "start_time": "2022-12-28T17:07:28.888Z"
   },
   {
    "duration": 204,
    "start_time": "2022-12-28T17:07:29.108Z"
   },
   {
    "duration": 310,
    "start_time": "2022-12-28T17:07:29.313Z"
   },
   {
    "duration": 198,
    "start_time": "2022-12-28T17:07:29.625Z"
   },
   {
    "duration": 318,
    "start_time": "2022-12-28T17:07:29.825Z"
   },
   {
    "duration": 8,
    "start_time": "2022-12-28T17:07:30.145Z"
   },
   {
    "duration": 135,
    "start_time": "2022-12-28T17:07:30.154Z"
   },
   {
    "duration": 9,
    "start_time": "2022-12-28T17:07:30.291Z"
   },
   {
    "duration": 181,
    "start_time": "2022-12-28T17:07:30.302Z"
   },
   {
    "duration": 11,
    "start_time": "2022-12-28T17:07:30.486Z"
   },
   {
    "duration": 25,
    "start_time": "2022-12-28T17:07:30.501Z"
   },
   {
    "duration": 50,
    "start_time": "2022-12-28T17:07:30.528Z"
   },
   {
    "duration": 153,
    "start_time": "2022-12-28T17:07:30.580Z"
   },
   {
    "duration": 5,
    "start_time": "2022-12-28T17:07:30.735Z"
   },
   {
    "duration": 72,
    "start_time": "2022-12-28T17:07:30.741Z"
   },
   {
    "duration": 13,
    "start_time": "2022-12-28T17:07:30.814Z"
   },
   {
    "duration": 17,
    "start_time": "2022-12-28T17:07:30.828Z"
   },
   {
    "duration": 35,
    "start_time": "2022-12-28T17:07:30.846Z"
   },
   {
    "duration": 77,
    "start_time": "2022-12-28T17:07:30.883Z"
   },
   {
    "duration": 16,
    "start_time": "2022-12-28T17:07:30.962Z"
   },
   {
    "duration": 3,
    "start_time": "2022-12-28T17:08:24.413Z"
   },
   {
    "duration": 77,
    "start_time": "2022-12-28T17:08:24.418Z"
   },
   {
    "duration": 18,
    "start_time": "2022-12-28T17:08:24.497Z"
   },
   {
    "duration": 24,
    "start_time": "2022-12-28T17:08:24.516Z"
   },
   {
    "duration": 7,
    "start_time": "2022-12-28T17:08:24.542Z"
   },
   {
    "duration": 52,
    "start_time": "2022-12-28T17:08:24.550Z"
   },
   {
    "duration": 3,
    "start_time": "2022-12-28T17:08:24.604Z"
   },
   {
    "duration": 13,
    "start_time": "2022-12-28T17:08:24.608Z"
   },
   {
    "duration": 22,
    "start_time": "2022-12-28T17:08:24.623Z"
   },
   {
    "duration": 19,
    "start_time": "2022-12-28T17:08:24.648Z"
   },
   {
    "duration": 15,
    "start_time": "2022-12-28T17:08:24.671Z"
   },
   {
    "duration": 38,
    "start_time": "2022-12-28T17:08:24.688Z"
   },
   {
    "duration": 7,
    "start_time": "2022-12-28T17:08:24.728Z"
   },
   {
    "duration": 198,
    "start_time": "2022-12-28T17:08:24.737Z"
   },
   {
    "duration": 130,
    "start_time": "2022-12-28T17:08:24.937Z"
   },
   {
    "duration": 12,
    "start_time": "2022-12-28T17:08:25.068Z"
   },
   {
    "duration": 19,
    "start_time": "2022-12-28T17:08:25.082Z"
   },
   {
    "duration": 225,
    "start_time": "2022-12-28T17:08:25.102Z"
   },
   {
    "duration": 219,
    "start_time": "2022-12-28T17:08:25.329Z"
   },
   {
    "duration": 302,
    "start_time": "2022-12-28T17:08:25.550Z"
   },
   {
    "duration": 296,
    "start_time": "2022-12-28T17:08:25.854Z"
   },
   {
    "duration": 295,
    "start_time": "2022-12-28T17:08:26.152Z"
   },
   {
    "duration": 8,
    "start_time": "2022-12-28T17:08:26.448Z"
   },
   {
    "duration": 140,
    "start_time": "2022-12-28T17:08:26.458Z"
   },
   {
    "duration": 4,
    "start_time": "2022-12-28T17:08:26.600Z"
   },
   {
    "duration": 147,
    "start_time": "2022-12-28T17:08:26.605Z"
   },
   {
    "duration": 4,
    "start_time": "2022-12-28T17:08:26.753Z"
   },
   {
    "duration": 13,
    "start_time": "2022-12-28T17:08:26.758Z"
   },
   {
    "duration": 126,
    "start_time": "2022-12-28T17:08:26.775Z"
   },
   {
    "duration": 6,
    "start_time": "2022-12-28T17:08:26.903Z"
   },
   {
    "duration": 45,
    "start_time": "2022-12-28T17:08:26.910Z"
   },
   {
    "duration": 12,
    "start_time": "2022-12-28T17:08:26.957Z"
   },
   {
    "duration": 29,
    "start_time": "2022-12-28T17:08:26.970Z"
   },
   {
    "duration": 7,
    "start_time": "2022-12-28T17:08:27.000Z"
   },
   {
    "duration": 37,
    "start_time": "2022-12-28T17:08:27.009Z"
   },
   {
    "duration": 17,
    "start_time": "2022-12-28T17:08:27.047Z"
   },
   {
    "duration": 10,
    "start_time": "2022-12-28T17:18:44.925Z"
   },
   {
    "duration": 65,
    "start_time": "2022-12-28T17:36:31.004Z"
   },
   {
    "duration": 11,
    "start_time": "2022-12-28T17:36:43.995Z"
   },
   {
    "duration": 10,
    "start_time": "2022-12-28T17:38:04.683Z"
   },
   {
    "duration": 85,
    "start_time": "2022-12-28T17:39:58.288Z"
   },
   {
    "duration": 16,
    "start_time": "2022-12-28T17:40:33.698Z"
   },
   {
    "duration": 18,
    "start_time": "2022-12-28T17:42:46.411Z"
   },
   {
    "duration": 44,
    "start_time": "2022-12-28T17:43:11.325Z"
   },
   {
    "duration": 3,
    "start_time": "2022-12-28T17:48:58.682Z"
   },
   {
    "duration": 78,
    "start_time": "2022-12-28T17:48:58.687Z"
   },
   {
    "duration": 15,
    "start_time": "2022-12-28T17:48:58.767Z"
   },
   {
    "duration": 25,
    "start_time": "2022-12-28T17:48:58.783Z"
   },
   {
    "duration": 7,
    "start_time": "2022-12-28T17:48:58.810Z"
   },
   {
    "duration": 14,
    "start_time": "2022-12-28T17:48:58.818Z"
   },
   {
    "duration": 14,
    "start_time": "2022-12-28T17:48:58.833Z"
   },
   {
    "duration": 14,
    "start_time": "2022-12-28T17:48:58.848Z"
   },
   {
    "duration": 38,
    "start_time": "2022-12-28T17:48:58.864Z"
   },
   {
    "duration": 0,
    "start_time": "2022-12-28T17:48:58.905Z"
   },
   {
    "duration": 0,
    "start_time": "2022-12-28T17:48:58.906Z"
   },
   {
    "duration": 0,
    "start_time": "2022-12-28T17:48:58.907Z"
   },
   {
    "duration": 0,
    "start_time": "2022-12-28T17:48:58.908Z"
   },
   {
    "duration": 0,
    "start_time": "2022-12-28T17:48:58.909Z"
   },
   {
    "duration": 0,
    "start_time": "2022-12-28T17:48:58.910Z"
   },
   {
    "duration": 0,
    "start_time": "2022-12-28T17:48:58.911Z"
   },
   {
    "duration": 0,
    "start_time": "2022-12-28T17:48:58.913Z"
   },
   {
    "duration": 0,
    "start_time": "2022-12-28T17:48:58.913Z"
   },
   {
    "duration": 0,
    "start_time": "2022-12-28T17:48:58.914Z"
   },
   {
    "duration": 0,
    "start_time": "2022-12-28T17:48:58.915Z"
   },
   {
    "duration": 0,
    "start_time": "2022-12-28T17:48:58.917Z"
   },
   {
    "duration": 0,
    "start_time": "2022-12-28T17:48:58.918Z"
   },
   {
    "duration": 0,
    "start_time": "2022-12-28T17:48:58.919Z"
   },
   {
    "duration": 0,
    "start_time": "2022-12-28T17:48:58.920Z"
   },
   {
    "duration": 0,
    "start_time": "2022-12-28T17:48:58.921Z"
   },
   {
    "duration": 0,
    "start_time": "2022-12-28T17:48:58.922Z"
   },
   {
    "duration": 0,
    "start_time": "2022-12-28T17:48:58.923Z"
   },
   {
    "duration": 0,
    "start_time": "2022-12-28T17:48:58.924Z"
   },
   {
    "duration": 0,
    "start_time": "2022-12-28T17:48:58.925Z"
   },
   {
    "duration": 0,
    "start_time": "2022-12-28T17:48:58.926Z"
   },
   {
    "duration": 1,
    "start_time": "2022-12-28T17:48:58.927Z"
   },
   {
    "duration": 0,
    "start_time": "2022-12-28T17:48:58.929Z"
   },
   {
    "duration": 0,
    "start_time": "2022-12-28T17:48:58.930Z"
   },
   {
    "duration": 0,
    "start_time": "2022-12-28T17:48:58.931Z"
   },
   {
    "duration": 0,
    "start_time": "2022-12-28T17:48:58.932Z"
   },
   {
    "duration": 11,
    "start_time": "2022-12-28T17:49:36.587Z"
   },
   {
    "duration": 12,
    "start_time": "2022-12-28T17:49:54.211Z"
   },
   {
    "duration": 16,
    "start_time": "2022-12-28T17:50:08.941Z"
   },
   {
    "duration": 9,
    "start_time": "2022-12-28T17:51:19.207Z"
   },
   {
    "duration": 3,
    "start_time": "2022-12-28T17:51:28.120Z"
   },
   {
    "duration": 76,
    "start_time": "2022-12-28T17:51:28.125Z"
   },
   {
    "duration": 18,
    "start_time": "2022-12-28T17:51:28.203Z"
   },
   {
    "duration": 30,
    "start_time": "2022-12-28T17:51:28.223Z"
   },
   {
    "duration": 6,
    "start_time": "2022-12-28T17:51:28.254Z"
   },
   {
    "duration": 44,
    "start_time": "2022-12-28T17:51:28.261Z"
   },
   {
    "duration": 11,
    "start_time": "2022-12-28T17:51:28.307Z"
   },
   {
    "duration": 13,
    "start_time": "2022-12-28T17:51:28.320Z"
   },
   {
    "duration": 10,
    "start_time": "2022-12-28T17:51:28.335Z"
   },
   {
    "duration": 16,
    "start_time": "2022-12-28T17:51:28.346Z"
   },
   {
    "duration": 0,
    "start_time": "2022-12-28T17:51:28.364Z"
   },
   {
    "duration": 0,
    "start_time": "2022-12-28T17:51:28.365Z"
   },
   {
    "duration": 0,
    "start_time": "2022-12-28T17:51:28.366Z"
   },
   {
    "duration": 0,
    "start_time": "2022-12-28T17:51:28.367Z"
   },
   {
    "duration": 0,
    "start_time": "2022-12-28T17:51:28.369Z"
   },
   {
    "duration": 0,
    "start_time": "2022-12-28T17:51:28.397Z"
   },
   {
    "duration": 0,
    "start_time": "2022-12-28T17:51:28.399Z"
   },
   {
    "duration": 0,
    "start_time": "2022-12-28T17:51:28.400Z"
   },
   {
    "duration": 0,
    "start_time": "2022-12-28T17:51:28.401Z"
   },
   {
    "duration": 0,
    "start_time": "2022-12-28T17:51:28.402Z"
   },
   {
    "duration": 0,
    "start_time": "2022-12-28T17:51:28.404Z"
   },
   {
    "duration": 0,
    "start_time": "2022-12-28T17:51:28.405Z"
   },
   {
    "duration": 0,
    "start_time": "2022-12-28T17:51:28.406Z"
   },
   {
    "duration": 0,
    "start_time": "2022-12-28T17:51:28.407Z"
   },
   {
    "duration": 0,
    "start_time": "2022-12-28T17:51:28.408Z"
   },
   {
    "duration": 0,
    "start_time": "2022-12-28T17:51:28.409Z"
   },
   {
    "duration": 0,
    "start_time": "2022-12-28T17:51:28.410Z"
   },
   {
    "duration": 0,
    "start_time": "2022-12-28T17:51:28.412Z"
   },
   {
    "duration": 0,
    "start_time": "2022-12-28T17:51:28.413Z"
   },
   {
    "duration": 0,
    "start_time": "2022-12-28T17:51:28.413Z"
   },
   {
    "duration": 0,
    "start_time": "2022-12-28T17:51:28.414Z"
   },
   {
    "duration": 0,
    "start_time": "2022-12-28T17:51:28.416Z"
   },
   {
    "duration": 0,
    "start_time": "2022-12-28T17:51:28.416Z"
   },
   {
    "duration": 0,
    "start_time": "2022-12-28T17:51:28.418Z"
   },
   {
    "duration": 0,
    "start_time": "2022-12-28T17:51:28.418Z"
   },
   {
    "duration": 0,
    "start_time": "2022-12-28T17:51:28.419Z"
   },
   {
    "duration": 4,
    "start_time": "2022-12-28T17:51:50.980Z"
   },
   {
    "duration": 8,
    "start_time": "2022-12-28T17:51:56.397Z"
   },
   {
    "duration": 8,
    "start_time": "2022-12-28T17:51:58.250Z"
   },
   {
    "duration": 9,
    "start_time": "2022-12-28T17:52:07.687Z"
   },
   {
    "duration": 3,
    "start_time": "2022-12-28T17:52:21.275Z"
   },
   {
    "duration": 78,
    "start_time": "2022-12-28T17:52:21.280Z"
   },
   {
    "duration": 18,
    "start_time": "2022-12-28T17:52:21.360Z"
   },
   {
    "duration": 26,
    "start_time": "2022-12-28T17:52:21.380Z"
   },
   {
    "duration": 7,
    "start_time": "2022-12-28T17:52:21.408Z"
   },
   {
    "duration": 21,
    "start_time": "2022-12-28T17:52:21.417Z"
   },
   {
    "duration": 6,
    "start_time": "2022-12-28T17:52:21.439Z"
   },
   {
    "duration": 20,
    "start_time": "2022-12-28T17:52:21.447Z"
   },
   {
    "duration": 13,
    "start_time": "2022-12-28T17:52:21.468Z"
   },
   {
    "duration": 22,
    "start_time": "2022-12-28T17:52:21.483Z"
   },
   {
    "duration": 43,
    "start_time": "2022-12-28T17:52:21.506Z"
   },
   {
    "duration": 0,
    "start_time": "2022-12-28T17:52:21.551Z"
   },
   {
    "duration": 0,
    "start_time": "2022-12-28T17:52:21.553Z"
   },
   {
    "duration": 0,
    "start_time": "2022-12-28T17:52:21.554Z"
   },
   {
    "duration": 0,
    "start_time": "2022-12-28T17:52:21.555Z"
   },
   {
    "duration": 0,
    "start_time": "2022-12-28T17:52:21.556Z"
   },
   {
    "duration": 0,
    "start_time": "2022-12-28T17:52:21.557Z"
   },
   {
    "duration": 0,
    "start_time": "2022-12-28T17:52:21.558Z"
   },
   {
    "duration": 0,
    "start_time": "2022-12-28T17:52:21.559Z"
   },
   {
    "duration": 0,
    "start_time": "2022-12-28T17:52:21.560Z"
   },
   {
    "duration": 0,
    "start_time": "2022-12-28T17:52:21.561Z"
   },
   {
    "duration": 0,
    "start_time": "2022-12-28T17:52:21.562Z"
   },
   {
    "duration": 0,
    "start_time": "2022-12-28T17:52:21.563Z"
   },
   {
    "duration": 0,
    "start_time": "2022-12-28T17:52:21.565Z"
   },
   {
    "duration": 0,
    "start_time": "2022-12-28T17:52:21.566Z"
   },
   {
    "duration": 0,
    "start_time": "2022-12-28T17:52:21.569Z"
   },
   {
    "duration": 0,
    "start_time": "2022-12-28T17:52:21.570Z"
   },
   {
    "duration": 1,
    "start_time": "2022-12-28T17:52:21.571Z"
   },
   {
    "duration": 0,
    "start_time": "2022-12-28T17:52:21.573Z"
   },
   {
    "duration": 0,
    "start_time": "2022-12-28T17:52:21.574Z"
   },
   {
    "duration": 0,
    "start_time": "2022-12-28T17:52:21.576Z"
   },
   {
    "duration": 0,
    "start_time": "2022-12-28T17:52:21.577Z"
   },
   {
    "duration": 0,
    "start_time": "2022-12-28T17:52:21.598Z"
   },
   {
    "duration": 0,
    "start_time": "2022-12-28T17:52:21.600Z"
   },
   {
    "duration": 0,
    "start_time": "2022-12-28T17:52:21.601Z"
   },
   {
    "duration": 0,
    "start_time": "2022-12-28T17:52:21.602Z"
   },
   {
    "duration": 107,
    "start_time": "2022-12-28T17:55:05.013Z"
   },
   {
    "duration": 3,
    "start_time": "2022-12-28T17:55:07.461Z"
   },
   {
    "duration": 9,
    "start_time": "2022-12-28T17:55:20.184Z"
   },
   {
    "duration": 7,
    "start_time": "2022-12-28T17:55:25.711Z"
   },
   {
    "duration": 3,
    "start_time": "2022-12-28T17:55:35.561Z"
   },
   {
    "duration": 73,
    "start_time": "2022-12-28T17:55:35.575Z"
   },
   {
    "duration": 17,
    "start_time": "2022-12-28T17:55:35.650Z"
   },
   {
    "duration": 28,
    "start_time": "2022-12-28T17:55:35.669Z"
   },
   {
    "duration": 6,
    "start_time": "2022-12-28T17:55:35.699Z"
   },
   {
    "duration": 12,
    "start_time": "2022-12-28T17:55:35.706Z"
   },
   {
    "duration": 3,
    "start_time": "2022-12-28T17:55:35.720Z"
   },
   {
    "duration": 19,
    "start_time": "2022-12-28T17:55:35.725Z"
   },
   {
    "duration": 15,
    "start_time": "2022-12-28T17:55:35.745Z"
   },
   {
    "duration": 8,
    "start_time": "2022-12-28T17:55:35.762Z"
   },
   {
    "duration": 26,
    "start_time": "2022-12-28T17:55:35.773Z"
   },
   {
    "duration": 19,
    "start_time": "2022-12-28T17:55:35.801Z"
   },
   {
    "duration": 33,
    "start_time": "2022-12-28T17:55:35.822Z"
   },
   {
    "duration": 10,
    "start_time": "2022-12-28T17:55:35.857Z"
   },
   {
    "duration": 170,
    "start_time": "2022-12-28T17:55:35.869Z"
   },
   {
    "duration": 122,
    "start_time": "2022-12-28T17:55:36.041Z"
   },
   {
    "duration": 14,
    "start_time": "2022-12-28T17:55:36.165Z"
   },
   {
    "duration": 18,
    "start_time": "2022-12-28T17:55:36.180Z"
   },
   {
    "duration": 223,
    "start_time": "2022-12-28T17:55:36.199Z"
   },
   {
    "duration": 206,
    "start_time": "2022-12-28T17:55:36.424Z"
   },
   {
    "duration": 288,
    "start_time": "2022-12-28T17:55:36.632Z"
   },
   {
    "duration": 211,
    "start_time": "2022-12-28T17:55:36.922Z"
   },
   {
    "duration": 282,
    "start_time": "2022-12-28T17:55:37.134Z"
   },
   {
    "duration": 8,
    "start_time": "2022-12-28T17:55:37.418Z"
   },
   {
    "duration": 137,
    "start_time": "2022-12-28T17:55:37.428Z"
   },
   {
    "duration": 5,
    "start_time": "2022-12-28T17:55:37.566Z"
   },
   {
    "duration": 141,
    "start_time": "2022-12-28T17:55:37.572Z"
   },
   {
    "duration": 5,
    "start_time": "2022-12-28T17:55:37.715Z"
   },
   {
    "duration": 128,
    "start_time": "2022-12-28T17:55:37.723Z"
   },
   {
    "duration": 5,
    "start_time": "2022-12-28T17:55:37.853Z"
   },
   {
    "duration": 48,
    "start_time": "2022-12-28T17:55:37.859Z"
   },
   {
    "duration": 14,
    "start_time": "2022-12-28T17:55:37.909Z"
   },
   {
    "duration": 20,
    "start_time": "2022-12-28T17:55:37.924Z"
   },
   {
    "duration": 8,
    "start_time": "2022-12-28T17:55:37.946Z"
   },
   {
    "duration": 58,
    "start_time": "2022-12-28T17:55:37.955Z"
   },
   {
    "duration": 97,
    "start_time": "2022-12-28T17:55:38.014Z"
   },
   {
    "duration": 1176,
    "start_time": "2022-12-29T06:35:26.530Z"
   },
   {
    "duration": 77,
    "start_time": "2022-12-29T06:35:27.708Z"
   },
   {
    "duration": 22,
    "start_time": "2022-12-29T06:35:27.787Z"
   },
   {
    "duration": 26,
    "start_time": "2022-12-29T06:35:27.811Z"
   },
   {
    "duration": 7,
    "start_time": "2022-12-29T06:35:27.838Z"
   },
   {
    "duration": 12,
    "start_time": "2022-12-29T06:35:27.846Z"
   },
   {
    "duration": 3,
    "start_time": "2022-12-29T06:35:27.859Z"
   },
   {
    "duration": 8,
    "start_time": "2022-12-29T06:35:27.863Z"
   },
   {
    "duration": 49,
    "start_time": "2022-12-29T06:35:27.872Z"
   },
   {
    "duration": 17,
    "start_time": "2022-12-29T06:35:27.924Z"
   },
   {
    "duration": 12,
    "start_time": "2022-12-29T06:35:27.943Z"
   },
   {
    "duration": 15,
    "start_time": "2022-12-29T06:35:27.956Z"
   },
   {
    "duration": 25,
    "start_time": "2022-12-29T06:35:27.972Z"
   },
   {
    "duration": 23,
    "start_time": "2022-12-29T06:35:27.998Z"
   },
   {
    "duration": 153,
    "start_time": "2022-12-29T06:35:28.022Z"
   },
   {
    "duration": 113,
    "start_time": "2022-12-29T06:35:28.176Z"
   },
   {
    "duration": 13,
    "start_time": "2022-12-29T06:35:28.290Z"
   },
   {
    "duration": 27,
    "start_time": "2022-12-29T06:35:28.304Z"
   },
   {
    "duration": 476,
    "start_time": "2022-12-29T06:35:28.332Z"
   },
   {
    "duration": 390,
    "start_time": "2022-12-29T06:35:28.810Z"
   },
   {
    "duration": 406,
    "start_time": "2022-12-29T06:35:29.202Z"
   },
   {
    "duration": 385,
    "start_time": "2022-12-29T06:35:29.610Z"
   },
   {
    "duration": 379,
    "start_time": "2022-12-29T06:35:29.997Z"
   },
   {
    "duration": 7,
    "start_time": "2022-12-29T06:35:30.378Z"
   },
   {
    "duration": 317,
    "start_time": "2022-12-29T06:35:30.386Z"
   },
   {
    "duration": 5,
    "start_time": "2022-12-29T06:35:30.705Z"
   },
   {
    "duration": 309,
    "start_time": "2022-12-29T06:35:30.721Z"
   },
   {
    "duration": 5,
    "start_time": "2022-12-29T06:35:31.033Z"
   },
   {
    "duration": 146,
    "start_time": "2022-12-29T06:35:31.039Z"
   },
   {
    "duration": 103,
    "start_time": "2022-12-29T06:35:31.186Z"
   },
   {
    "duration": 0,
    "start_time": "2022-12-29T06:35:31.291Z"
   },
   {
    "duration": 0,
    "start_time": "2022-12-29T06:35:31.293Z"
   },
   {
    "duration": 0,
    "start_time": "2022-12-29T06:35:31.295Z"
   },
   {
    "duration": 0,
    "start_time": "2022-12-29T06:35:31.296Z"
   },
   {
    "duration": 0,
    "start_time": "2022-12-29T06:35:31.297Z"
   },
   {
    "duration": 0,
    "start_time": "2022-12-29T06:35:31.299Z"
   },
   {
    "duration": 1175,
    "start_time": "2022-12-29T06:47:04.056Z"
   },
   {
    "duration": 80,
    "start_time": "2022-12-29T06:47:05.233Z"
   },
   {
    "duration": 34,
    "start_time": "2022-12-29T06:47:05.316Z"
   },
   {
    "duration": 58,
    "start_time": "2022-12-29T06:47:05.352Z"
   },
   {
    "duration": 12,
    "start_time": "2022-12-29T06:47:05.413Z"
   },
   {
    "duration": 27,
    "start_time": "2022-12-29T06:47:05.427Z"
   },
   {
    "duration": 4,
    "start_time": "2022-12-29T06:47:05.455Z"
   },
   {
    "duration": 10,
    "start_time": "2022-12-29T06:47:05.461Z"
   },
   {
    "duration": 19,
    "start_time": "2022-12-29T06:47:05.472Z"
   },
   {
    "duration": 13,
    "start_time": "2022-12-29T06:47:05.493Z"
   },
   {
    "duration": 20,
    "start_time": "2022-12-29T06:47:05.507Z"
   },
   {
    "duration": 13,
    "start_time": "2022-12-29T06:47:05.529Z"
   },
   {
    "duration": 36,
    "start_time": "2022-12-29T06:47:05.544Z"
   },
   {
    "duration": 15,
    "start_time": "2022-12-29T06:47:05.582Z"
   },
   {
    "duration": 176,
    "start_time": "2022-12-29T06:47:05.599Z"
   },
   {
    "duration": 113,
    "start_time": "2022-12-29T06:47:05.777Z"
   },
   {
    "duration": 11,
    "start_time": "2022-12-29T06:47:05.892Z"
   },
   {
    "duration": 21,
    "start_time": "2022-12-29T06:47:05.904Z"
   },
   {
    "duration": 478,
    "start_time": "2022-12-29T06:47:05.926Z"
   },
   {
    "duration": 380,
    "start_time": "2022-12-29T06:47:06.406Z"
   },
   {
    "duration": 420,
    "start_time": "2022-12-29T06:47:06.788Z"
   },
   {
    "duration": 395,
    "start_time": "2022-12-29T06:47:07.210Z"
   },
   {
    "duration": 378,
    "start_time": "2022-12-29T06:47:07.607Z"
   },
   {
    "duration": 8,
    "start_time": "2022-12-29T06:47:07.987Z"
   },
   {
    "duration": 311,
    "start_time": "2022-12-29T06:47:07.996Z"
   },
   {
    "duration": 15,
    "start_time": "2022-12-29T06:47:08.309Z"
   },
   {
    "duration": 320,
    "start_time": "2022-12-29T06:47:08.325Z"
   },
   {
    "duration": 6,
    "start_time": "2022-12-29T06:47:08.647Z"
   },
   {
    "duration": 152,
    "start_time": "2022-12-29T06:47:08.655Z"
   },
   {
    "duration": 129,
    "start_time": "2022-12-29T06:47:08.809Z"
   },
   {
    "duration": 0,
    "start_time": "2022-12-29T06:47:08.940Z"
   },
   {
    "duration": 0,
    "start_time": "2022-12-29T06:47:08.941Z"
   },
   {
    "duration": 0,
    "start_time": "2022-12-29T06:47:08.942Z"
   },
   {
    "duration": 0,
    "start_time": "2022-12-29T06:47:08.944Z"
   },
   {
    "duration": 0,
    "start_time": "2022-12-29T06:47:08.945Z"
   },
   {
    "duration": 0,
    "start_time": "2022-12-29T06:47:08.947Z"
   },
   {
    "duration": 1246,
    "start_time": "2022-12-29T08:50:53.621Z"
   },
   {
    "duration": 200,
    "start_time": "2022-12-29T08:50:54.869Z"
   },
   {
    "duration": 19,
    "start_time": "2022-12-29T08:50:55.070Z"
   },
   {
    "duration": 27,
    "start_time": "2022-12-29T08:50:55.091Z"
   },
   {
    "duration": 7,
    "start_time": "2022-12-29T08:50:55.120Z"
   },
   {
    "duration": 16,
    "start_time": "2022-12-29T08:50:55.128Z"
   },
   {
    "duration": 35,
    "start_time": "2022-12-29T08:50:55.145Z"
   },
   {
    "duration": 7,
    "start_time": "2022-12-29T08:50:55.181Z"
   },
   {
    "duration": 19,
    "start_time": "2022-12-29T08:50:55.190Z"
   },
   {
    "duration": 11,
    "start_time": "2022-12-29T08:50:55.211Z"
   },
   {
    "duration": 10,
    "start_time": "2022-12-29T08:50:55.224Z"
   },
   {
    "duration": 14,
    "start_time": "2022-12-29T08:50:55.236Z"
   },
   {
    "duration": 40,
    "start_time": "2022-12-29T08:50:55.252Z"
   },
   {
    "duration": 13,
    "start_time": "2022-12-29T08:50:55.294Z"
   },
   {
    "duration": 177,
    "start_time": "2022-12-29T08:50:55.308Z"
   },
   {
    "duration": 125,
    "start_time": "2022-12-29T08:50:55.487Z"
   },
   {
    "duration": 12,
    "start_time": "2022-12-29T08:50:55.614Z"
   },
   {
    "duration": 7,
    "start_time": "2022-12-29T08:50:55.628Z"
   },
   {
    "duration": 318,
    "start_time": "2022-12-29T08:50:55.637Z"
   },
   {
    "duration": 214,
    "start_time": "2022-12-29T08:50:55.957Z"
   },
   {
    "duration": 359,
    "start_time": "2022-12-29T08:50:56.178Z"
   },
   {
    "duration": 242,
    "start_time": "2022-12-29T08:50:56.540Z"
   },
   {
    "duration": 332,
    "start_time": "2022-12-29T08:50:56.785Z"
   },
   {
    "duration": 7,
    "start_time": "2022-12-29T08:50:57.119Z"
   },
   {
    "duration": 157,
    "start_time": "2022-12-29T08:50:57.128Z"
   },
   {
    "duration": 6,
    "start_time": "2022-12-29T08:50:57.287Z"
   },
   {
    "duration": 157,
    "start_time": "2022-12-29T08:50:57.294Z"
   },
   {
    "duration": 5,
    "start_time": "2022-12-29T08:50:57.455Z"
   },
   {
    "duration": 153,
    "start_time": "2022-12-29T08:50:57.462Z"
   },
   {
    "duration": 117,
    "start_time": "2022-12-29T08:50:57.617Z"
   },
   {
    "duration": 0,
    "start_time": "2022-12-29T08:50:57.737Z"
   },
   {
    "duration": 0,
    "start_time": "2022-12-29T08:50:57.738Z"
   },
   {
    "duration": 0,
    "start_time": "2022-12-29T08:50:57.740Z"
   },
   {
    "duration": 0,
    "start_time": "2022-12-29T08:50:57.742Z"
   },
   {
    "duration": 0,
    "start_time": "2022-12-29T08:50:57.744Z"
   },
   {
    "duration": 0,
    "start_time": "2022-12-29T08:50:57.745Z"
   },
   {
    "duration": 15,
    "start_time": "2022-12-29T08:51:22.015Z"
   },
   {
    "duration": 8,
    "start_time": "2022-12-29T08:52:22.514Z"
   },
   {
    "duration": 7,
    "start_time": "2022-12-29T08:53:41.215Z"
   },
   {
    "duration": 7,
    "start_time": "2022-12-29T08:53:49.607Z"
   },
   {
    "duration": 13,
    "start_time": "2022-12-29T08:55:43.518Z"
   },
   {
    "duration": 19,
    "start_time": "2022-12-29T08:56:45.921Z"
   },
   {
    "duration": 16,
    "start_time": "2022-12-29T08:57:14.251Z"
   },
   {
    "duration": 3,
    "start_time": "2022-12-29T08:57:40.500Z"
   },
   {
    "duration": 18,
    "start_time": "2022-12-29T08:57:40.932Z"
   },
   {
    "duration": 82,
    "start_time": "2022-12-29T08:58:07.816Z"
   },
   {
    "duration": 17,
    "start_time": "2022-12-29T08:58:21.694Z"
   },
   {
    "duration": 6,
    "start_time": "2022-12-29T08:58:30.920Z"
   },
   {
    "duration": 29,
    "start_time": "2022-12-29T08:58:43.456Z"
   },
   {
    "duration": 4,
    "start_time": "2022-12-29T08:58:53.002Z"
   },
   {
    "duration": 11,
    "start_time": "2022-12-29T08:58:56.377Z"
   },
   {
    "duration": 6,
    "start_time": "2022-12-29T08:59:37.679Z"
   },
   {
    "duration": 11,
    "start_time": "2022-12-29T08:59:46.045Z"
   },
   {
    "duration": 12,
    "start_time": "2022-12-29T09:00:11.077Z"
   },
   {
    "duration": 18,
    "start_time": "2022-12-29T09:00:33.430Z"
   },
   {
    "duration": 567,
    "start_time": "2022-12-29T09:00:40.726Z"
   },
   {
    "duration": 10,
    "start_time": "2022-12-29T09:02:37.294Z"
   },
   {
    "duration": 9,
    "start_time": "2022-12-29T09:02:42.309Z"
   },
   {
    "duration": 18,
    "start_time": "2022-12-29T09:02:48.693Z"
   },
   {
    "duration": 620,
    "start_time": "2022-12-29T09:02:50.734Z"
   },
   {
    "duration": 19,
    "start_time": "2022-12-29T09:03:12.136Z"
   },
   {
    "duration": 3,
    "start_time": "2022-12-29T09:04:47.937Z"
   },
   {
    "duration": 100,
    "start_time": "2022-12-29T09:04:47.942Z"
   },
   {
    "duration": 24,
    "start_time": "2022-12-29T09:04:48.044Z"
   },
   {
    "duration": 28,
    "start_time": "2022-12-29T09:04:48.070Z"
   },
   {
    "duration": 7,
    "start_time": "2022-12-29T09:04:48.100Z"
   },
   {
    "duration": 17,
    "start_time": "2022-12-29T09:04:48.109Z"
   },
   {
    "duration": 3,
    "start_time": "2022-12-29T09:04:48.128Z"
   },
   {
    "duration": 9,
    "start_time": "2022-12-29T09:04:48.132Z"
   },
   {
    "duration": 41,
    "start_time": "2022-12-29T09:04:48.143Z"
   },
   {
    "duration": 25,
    "start_time": "2022-12-29T09:04:48.186Z"
   },
   {
    "duration": 10,
    "start_time": "2022-12-29T09:04:48.214Z"
   },
   {
    "duration": 18,
    "start_time": "2022-12-29T09:04:48.226Z"
   },
   {
    "duration": 17,
    "start_time": "2022-12-29T09:04:48.245Z"
   },
   {
    "duration": 6,
    "start_time": "2022-12-29T09:04:48.278Z"
   },
   {
    "duration": 188,
    "start_time": "2022-12-29T09:04:48.286Z"
   },
   {
    "duration": 126,
    "start_time": "2022-12-29T09:04:48.475Z"
   },
   {
    "duration": 13,
    "start_time": "2022-12-29T09:04:48.603Z"
   },
   {
    "duration": 14,
    "start_time": "2022-12-29T09:04:48.618Z"
   },
   {
    "duration": 237,
    "start_time": "2022-12-29T09:04:48.635Z"
   },
   {
    "duration": 237,
    "start_time": "2022-12-29T09:04:48.874Z"
   },
   {
    "duration": 327,
    "start_time": "2022-12-29T09:04:49.113Z"
   },
   {
    "duration": 236,
    "start_time": "2022-12-29T09:04:49.442Z"
   },
   {
    "duration": 321,
    "start_time": "2022-12-29T09:04:49.679Z"
   },
   {
    "duration": 7,
    "start_time": "2022-12-29T09:04:50.001Z"
   },
   {
    "duration": 158,
    "start_time": "2022-12-29T09:04:50.011Z"
   },
   {
    "duration": 10,
    "start_time": "2022-12-29T09:04:50.171Z"
   },
   {
    "duration": 166,
    "start_time": "2022-12-29T09:04:50.183Z"
   },
   {
    "duration": 4,
    "start_time": "2022-12-29T09:04:50.351Z"
   },
   {
    "duration": 146,
    "start_time": "2022-12-29T09:04:50.358Z"
   },
   {
    "duration": 5,
    "start_time": "2022-12-29T09:04:50.505Z"
   },
   {
    "duration": 15,
    "start_time": "2022-12-29T09:04:50.511Z"
   },
   {
    "duration": 21,
    "start_time": "2022-12-29T09:04:50.528Z"
   },
   {
    "duration": 585,
    "start_time": "2022-12-29T09:04:50.550Z"
   },
   {
    "duration": 14,
    "start_time": "2022-12-29T09:04:51.137Z"
   },
   {
    "duration": 28,
    "start_time": "2022-12-29T09:04:51.152Z"
   },
   {
    "duration": 31,
    "start_time": "2022-12-29T09:04:51.181Z"
   },
   {
    "duration": 569,
    "start_time": "2022-12-29T09:04:51.213Z"
   },
   {
    "duration": 18,
    "start_time": "2022-12-29T09:04:51.785Z"
   },
   {
    "duration": 1267,
    "start_time": "2022-12-29T15:12:30.992Z"
   },
   {
    "duration": 76,
    "start_time": "2022-12-29T15:12:32.261Z"
   },
   {
    "duration": 21,
    "start_time": "2022-12-29T15:12:32.338Z"
   },
   {
    "duration": 26,
    "start_time": "2022-12-29T15:12:32.360Z"
   },
   {
    "duration": 6,
    "start_time": "2022-12-29T15:12:32.387Z"
   },
   {
    "duration": 29,
    "start_time": "2022-12-29T15:12:32.395Z"
   },
   {
    "duration": 3,
    "start_time": "2022-12-29T15:12:32.426Z"
   },
   {
    "duration": 11,
    "start_time": "2022-12-29T15:12:32.430Z"
   },
   {
    "duration": 16,
    "start_time": "2022-12-29T15:12:32.443Z"
   },
   {
    "duration": 15,
    "start_time": "2022-12-29T15:12:32.462Z"
   },
   {
    "duration": 10,
    "start_time": "2022-12-29T15:12:32.478Z"
   },
   {
    "duration": 17,
    "start_time": "2022-12-29T15:12:32.490Z"
   },
   {
    "duration": 27,
    "start_time": "2022-12-29T15:12:32.508Z"
   },
   {
    "duration": 5,
    "start_time": "2022-12-29T15:12:32.536Z"
   },
   {
    "duration": 170,
    "start_time": "2022-12-29T15:12:32.542Z"
   },
   {
    "duration": 126,
    "start_time": "2022-12-29T15:12:32.714Z"
   },
   {
    "duration": 16,
    "start_time": "2022-12-29T15:12:32.842Z"
   },
   {
    "duration": 14,
    "start_time": "2022-12-29T15:12:32.860Z"
   },
   {
    "duration": 457,
    "start_time": "2022-12-29T15:12:32.876Z"
   },
   {
    "duration": 381,
    "start_time": "2022-12-29T15:12:33.334Z"
   },
   {
    "duration": 397,
    "start_time": "2022-12-29T15:12:33.716Z"
   },
   {
    "duration": 410,
    "start_time": "2022-12-29T15:12:34.114Z"
   },
   {
    "duration": 354,
    "start_time": "2022-12-29T15:12:34.526Z"
   },
   {
    "duration": 7,
    "start_time": "2022-12-29T15:12:34.881Z"
   },
   {
    "duration": 304,
    "start_time": "2022-12-29T15:12:34.889Z"
   },
   {
    "duration": 5,
    "start_time": "2022-12-29T15:12:35.194Z"
   },
   {
    "duration": 350,
    "start_time": "2022-12-29T15:12:35.201Z"
   },
   {
    "duration": 5,
    "start_time": "2022-12-29T15:12:35.555Z"
   },
   {
    "duration": 167,
    "start_time": "2022-12-29T15:12:35.562Z"
   },
   {
    "duration": 5,
    "start_time": "2022-12-29T15:12:35.730Z"
   },
   {
    "duration": 12,
    "start_time": "2022-12-29T15:12:35.736Z"
   },
   {
    "duration": 32,
    "start_time": "2022-12-29T15:12:35.749Z"
   },
   {
    "duration": 690,
    "start_time": "2022-12-29T15:12:35.783Z"
   },
   {
    "duration": 15,
    "start_time": "2022-12-29T15:12:36.474Z"
   },
   {
    "duration": 12,
    "start_time": "2022-12-29T15:12:36.490Z"
   },
   {
    "duration": 43,
    "start_time": "2022-12-29T15:12:36.503Z"
   },
   {
    "duration": 663,
    "start_time": "2022-12-29T15:12:36.547Z"
   },
   {
    "duration": 21,
    "start_time": "2022-12-29T15:12:37.212Z"
   },
   {
    "duration": 12,
    "start_time": "2022-12-29T15:16:43.821Z"
   },
   {
    "duration": 98,
    "start_time": "2022-12-29T15:19:20.391Z"
   },
   {
    "duration": 1207,
    "start_time": "2022-12-29T15:19:33.515Z"
   },
   {
    "duration": 76,
    "start_time": "2022-12-29T15:19:34.724Z"
   },
   {
    "duration": 22,
    "start_time": "2022-12-29T15:19:34.801Z"
   },
   {
    "duration": 29,
    "start_time": "2022-12-29T15:19:34.824Z"
   },
   {
    "duration": 8,
    "start_time": "2022-12-29T15:19:34.855Z"
   },
   {
    "duration": 21,
    "start_time": "2022-12-29T15:19:34.865Z"
   },
   {
    "duration": 34,
    "start_time": "2022-12-29T15:19:34.887Z"
   },
   {
    "duration": 4,
    "start_time": "2022-12-29T15:19:34.923Z"
   },
   {
    "duration": 23,
    "start_time": "2022-12-29T15:19:34.928Z"
   },
   {
    "duration": 26,
    "start_time": "2022-12-29T15:19:34.953Z"
   },
   {
    "duration": 20,
    "start_time": "2022-12-29T15:19:34.980Z"
   },
   {
    "duration": 12,
    "start_time": "2022-12-29T15:19:35.002Z"
   },
   {
    "duration": 30,
    "start_time": "2022-12-29T15:19:35.016Z"
   },
   {
    "duration": 6,
    "start_time": "2022-12-29T15:19:35.048Z"
   },
   {
    "duration": 214,
    "start_time": "2022-12-29T15:19:35.055Z"
   },
   {
    "duration": 178,
    "start_time": "2022-12-29T15:19:35.271Z"
   },
   {
    "duration": 12,
    "start_time": "2022-12-29T15:19:35.451Z"
   },
   {
    "duration": 9,
    "start_time": "2022-12-29T15:19:35.464Z"
   },
   {
    "duration": 437,
    "start_time": "2022-12-29T15:19:35.474Z"
   },
   {
    "duration": 388,
    "start_time": "2022-12-29T15:19:35.913Z"
   },
   {
    "duration": 395,
    "start_time": "2022-12-29T15:19:36.302Z"
   },
   {
    "duration": 404,
    "start_time": "2022-12-29T15:19:36.698Z"
   },
   {
    "duration": 360,
    "start_time": "2022-12-29T15:19:37.103Z"
   },
   {
    "duration": 7,
    "start_time": "2022-12-29T15:19:37.465Z"
   },
   {
    "duration": 281,
    "start_time": "2022-12-29T15:19:37.473Z"
   },
   {
    "duration": 5,
    "start_time": "2022-12-29T15:19:37.756Z"
   },
   {
    "duration": 275,
    "start_time": "2022-12-29T15:19:37.762Z"
   },
   {
    "duration": 4,
    "start_time": "2022-12-29T15:19:38.040Z"
   },
   {
    "duration": 138,
    "start_time": "2022-12-29T15:19:38.046Z"
   },
   {
    "duration": 4,
    "start_time": "2022-12-29T15:19:38.186Z"
   },
   {
    "duration": 14,
    "start_time": "2022-12-29T15:19:38.191Z"
   },
   {
    "duration": 15,
    "start_time": "2022-12-29T15:19:38.206Z"
   },
   {
    "duration": 109,
    "start_time": "2022-12-29T15:19:38.222Z"
   },
   {
    "duration": 0,
    "start_time": "2022-12-29T15:19:38.332Z"
   },
   {
    "duration": 0,
    "start_time": "2022-12-29T15:19:38.333Z"
   },
   {
    "duration": 0,
    "start_time": "2022-12-29T15:19:38.334Z"
   },
   {
    "duration": 0,
    "start_time": "2022-12-29T15:19:38.335Z"
   },
   {
    "duration": 0,
    "start_time": "2022-12-29T15:19:38.336Z"
   },
   {
    "duration": 0,
    "start_time": "2022-12-29T15:19:38.337Z"
   },
   {
    "duration": 6,
    "start_time": "2022-12-29T15:22:40.518Z"
   },
   {
    "duration": 40,
    "start_time": "2022-12-29T15:22:42.501Z"
   },
   {
    "duration": 1221,
    "start_time": "2022-12-29T15:30:37.285Z"
   },
   {
    "duration": 78,
    "start_time": "2022-12-29T15:30:38.508Z"
   },
   {
    "duration": 21,
    "start_time": "2022-12-29T15:30:38.588Z"
   },
   {
    "duration": 27,
    "start_time": "2022-12-29T15:30:38.610Z"
   },
   {
    "duration": 7,
    "start_time": "2022-12-29T15:30:38.638Z"
   },
   {
    "duration": 11,
    "start_time": "2022-12-29T15:30:38.646Z"
   },
   {
    "duration": 5,
    "start_time": "2022-12-29T15:30:38.658Z"
   },
   {
    "duration": 5,
    "start_time": "2022-12-29T15:30:38.665Z"
   },
   {
    "duration": 13,
    "start_time": "2022-12-29T15:30:38.672Z"
   },
   {
    "duration": 40,
    "start_time": "2022-12-29T15:30:38.687Z"
   },
   {
    "duration": 10,
    "start_time": "2022-12-29T15:30:38.728Z"
   },
   {
    "duration": 13,
    "start_time": "2022-12-29T15:30:38.739Z"
   },
   {
    "duration": 19,
    "start_time": "2022-12-29T15:30:38.753Z"
   },
   {
    "duration": 5,
    "start_time": "2022-12-29T15:30:38.775Z"
   },
   {
    "duration": 176,
    "start_time": "2022-12-29T15:30:38.782Z"
   },
   {
    "duration": 119,
    "start_time": "2022-12-29T15:30:38.959Z"
   },
   {
    "duration": 12,
    "start_time": "2022-12-29T15:30:39.079Z"
   },
   {
    "duration": 12,
    "start_time": "2022-12-29T15:30:39.092Z"
   },
   {
    "duration": 468,
    "start_time": "2022-12-29T15:30:39.106Z"
   },
   {
    "duration": 410,
    "start_time": "2022-12-29T15:30:39.575Z"
   },
   {
    "duration": 414,
    "start_time": "2022-12-29T15:30:39.987Z"
   },
   {
    "duration": 388,
    "start_time": "2022-12-29T15:30:40.402Z"
   },
   {
    "duration": 378,
    "start_time": "2022-12-29T15:30:40.792Z"
   },
   {
    "duration": 7,
    "start_time": "2022-12-29T15:30:41.172Z"
   },
   {
    "duration": 261,
    "start_time": "2022-12-29T15:30:41.180Z"
   },
   {
    "duration": 5,
    "start_time": "2022-12-29T15:30:41.442Z"
   },
   {
    "duration": 288,
    "start_time": "2022-12-29T15:30:41.448Z"
   },
   {
    "duration": 5,
    "start_time": "2022-12-29T15:30:41.738Z"
   },
   {
    "duration": 133,
    "start_time": "2022-12-29T15:30:41.744Z"
   },
   {
    "duration": 4,
    "start_time": "2022-12-29T15:30:41.879Z"
   },
   {
    "duration": 27,
    "start_time": "2022-12-29T15:30:41.885Z"
   },
   {
    "duration": 6,
    "start_time": "2022-12-29T15:30:41.914Z"
   },
   {
    "duration": 19,
    "start_time": "2022-12-29T15:30:41.921Z"
   },
   {
    "duration": 676,
    "start_time": "2022-12-29T15:30:41.942Z"
   },
   {
    "duration": 14,
    "start_time": "2022-12-29T15:30:42.621Z"
   },
   {
    "duration": 11,
    "start_time": "2022-12-29T15:30:42.636Z"
   },
   {
    "duration": 37,
    "start_time": "2022-12-29T15:30:42.649Z"
   },
   {
    "duration": 682,
    "start_time": "2022-12-29T15:30:42.688Z"
   },
   {
    "duration": 19,
    "start_time": "2022-12-29T15:30:43.371Z"
   },
   {
    "duration": 6,
    "start_time": "2022-12-29T16:09:09.180Z"
   },
   {
    "duration": 36,
    "start_time": "2022-12-29T16:09:12.724Z"
   },
   {
    "duration": 18,
    "start_time": "2022-12-29T16:09:25.315Z"
   },
   {
    "duration": 10,
    "start_time": "2022-12-29T16:09:29.051Z"
   },
   {
    "duration": 14,
    "start_time": "2022-12-29T16:09:32.843Z"
   },
   {
    "duration": 568,
    "start_time": "2022-12-29T16:09:36.252Z"
   },
   {
    "duration": 8,
    "start_time": "2022-12-29T16:09:52.854Z"
   },
   {
    "duration": 45,
    "start_time": "2022-12-29T16:09:53.999Z"
   },
   {
    "duration": 52,
    "start_time": "2022-12-29T16:09:58.117Z"
   },
   {
    "duration": 9,
    "start_time": "2022-12-29T16:10:38.256Z"
   },
   {
    "duration": 52,
    "start_time": "2022-12-29T16:10:39.903Z"
   },
   {
    "duration": 5,
    "start_time": "2022-12-29T16:13:29.814Z"
   },
   {
    "duration": 4,
    "start_time": "2022-12-29T16:13:32.916Z"
   },
   {
    "duration": 91,
    "start_time": "2022-12-29T16:13:32.923Z"
   },
   {
    "duration": 23,
    "start_time": "2022-12-29T16:13:33.016Z"
   },
   {
    "duration": 37,
    "start_time": "2022-12-29T16:13:33.041Z"
   },
   {
    "duration": 9,
    "start_time": "2022-12-29T16:13:33.081Z"
   },
   {
    "duration": 55,
    "start_time": "2022-12-29T16:13:33.093Z"
   },
   {
    "duration": 13,
    "start_time": "2022-12-29T16:13:33.150Z"
   },
   {
    "duration": 34,
    "start_time": "2022-12-29T16:13:33.165Z"
   },
   {
    "duration": 19,
    "start_time": "2022-12-29T16:13:33.201Z"
   },
   {
    "duration": 13,
    "start_time": "2022-12-29T16:13:33.222Z"
   },
   {
    "duration": 12,
    "start_time": "2022-12-29T16:13:33.238Z"
   },
   {
    "duration": 27,
    "start_time": "2022-12-29T16:13:33.252Z"
   },
   {
    "duration": 25,
    "start_time": "2022-12-29T16:13:33.281Z"
   },
   {
    "duration": 13,
    "start_time": "2022-12-29T16:13:33.308Z"
   },
   {
    "duration": 167,
    "start_time": "2022-12-29T16:13:33.323Z"
   },
   {
    "duration": 126,
    "start_time": "2022-12-29T16:13:33.492Z"
   },
   {
    "duration": 12,
    "start_time": "2022-12-29T16:13:33.620Z"
   },
   {
    "duration": 14,
    "start_time": "2022-12-29T16:13:33.634Z"
   },
   {
    "duration": 238,
    "start_time": "2022-12-29T16:13:33.650Z"
   },
   {
    "duration": 292,
    "start_time": "2022-12-29T16:13:33.889Z"
   },
   {
    "duration": 325,
    "start_time": "2022-12-29T16:13:34.182Z"
   },
   {
    "duration": 319,
    "start_time": "2022-12-29T16:13:34.509Z"
   },
   {
    "duration": 308,
    "start_time": "2022-12-29T16:13:34.830Z"
   },
   {
    "duration": 8,
    "start_time": "2022-12-29T16:13:35.140Z"
   },
   {
    "duration": 156,
    "start_time": "2022-12-29T16:13:35.150Z"
   },
   {
    "duration": 5,
    "start_time": "2022-12-29T16:13:35.307Z"
   },
   {
    "duration": 151,
    "start_time": "2022-12-29T16:13:35.314Z"
   },
   {
    "duration": 11,
    "start_time": "2022-12-29T16:13:35.467Z"
   },
   {
    "duration": 139,
    "start_time": "2022-12-29T16:13:35.481Z"
   },
   {
    "duration": 5,
    "start_time": "2022-12-29T16:13:35.622Z"
   },
   {
    "duration": 13,
    "start_time": "2022-12-29T16:13:35.629Z"
   },
   {
    "duration": 16,
    "start_time": "2022-12-29T16:13:35.644Z"
   },
   {
    "duration": 52,
    "start_time": "2022-12-29T16:13:35.663Z"
   },
   {
    "duration": 20,
    "start_time": "2022-12-29T16:13:35.717Z"
   },
   {
    "duration": 13,
    "start_time": "2022-12-29T16:13:35.738Z"
   },
   {
    "duration": 29,
    "start_time": "2022-12-29T16:13:35.753Z"
   },
   {
    "duration": 45,
    "start_time": "2022-12-29T16:13:35.784Z"
   },
   {
    "duration": 19,
    "start_time": "2022-12-29T16:13:35.831Z"
   },
   {
    "duration": 1219,
    "start_time": "2022-12-29T16:17:01.477Z"
   },
   {
    "duration": 78,
    "start_time": "2022-12-29T16:17:02.698Z"
   },
   {
    "duration": 23,
    "start_time": "2022-12-29T16:17:02.778Z"
   },
   {
    "duration": 27,
    "start_time": "2022-12-29T16:17:02.804Z"
   },
   {
    "duration": 8,
    "start_time": "2022-12-29T16:17:02.833Z"
   },
   {
    "duration": 46,
    "start_time": "2022-12-29T16:17:02.843Z"
   },
   {
    "duration": 11,
    "start_time": "2022-12-29T16:17:02.890Z"
   },
   {
    "duration": 29,
    "start_time": "2022-12-29T16:17:02.903Z"
   },
   {
    "duration": 47,
    "start_time": "2022-12-29T16:17:02.933Z"
   },
   {
    "duration": 29,
    "start_time": "2022-12-29T16:17:02.984Z"
   },
   {
    "duration": 25,
    "start_time": "2022-12-29T16:17:03.015Z"
   },
   {
    "duration": 39,
    "start_time": "2022-12-29T16:17:03.041Z"
   },
   {
    "duration": 37,
    "start_time": "2022-12-29T16:17:03.081Z"
   },
   {
    "duration": 19,
    "start_time": "2022-12-29T16:17:03.120Z"
   },
   {
    "duration": 174,
    "start_time": "2022-12-29T16:17:03.141Z"
   },
   {
    "duration": 127,
    "start_time": "2022-12-29T16:17:03.317Z"
   },
   {
    "duration": 13,
    "start_time": "2022-12-29T16:17:03.446Z"
   },
   {
    "duration": 9,
    "start_time": "2022-12-29T16:17:03.477Z"
   },
   {
    "duration": 334,
    "start_time": "2022-12-29T16:17:03.488Z"
   },
   {
    "duration": 284,
    "start_time": "2022-12-29T16:17:03.823Z"
   },
   {
    "duration": 353,
    "start_time": "2022-12-29T16:17:04.109Z"
   },
   {
    "duration": 249,
    "start_time": "2022-12-29T16:17:04.464Z"
   },
   {
    "duration": 322,
    "start_time": "2022-12-29T16:17:04.715Z"
   },
   {
    "duration": 8,
    "start_time": "2022-12-29T16:17:05.039Z"
   },
   {
    "duration": 164,
    "start_time": "2022-12-29T16:17:05.048Z"
   },
   {
    "duration": 6,
    "start_time": "2022-12-29T16:17:05.214Z"
   },
   {
    "duration": 160,
    "start_time": "2022-12-29T16:17:05.222Z"
   },
   {
    "duration": 4,
    "start_time": "2022-12-29T16:17:05.385Z"
   },
   {
    "duration": 165,
    "start_time": "2022-12-29T16:17:05.391Z"
   },
   {
    "duration": 4,
    "start_time": "2022-12-29T16:17:05.558Z"
   },
   {
    "duration": 17,
    "start_time": "2022-12-29T16:17:05.564Z"
   },
   {
    "duration": 9,
    "start_time": "2022-12-29T16:17:05.583Z"
   },
   {
    "duration": 41,
    "start_time": "2022-12-29T16:17:05.594Z"
   },
   {
    "duration": 117,
    "start_time": "2022-12-29T16:17:05.636Z"
   },
   {
    "duration": 26,
    "start_time": "2022-12-29T16:17:05.755Z"
   },
   {
    "duration": 8,
    "start_time": "2022-12-29T16:17:05.782Z"
   },
   {
    "duration": 39,
    "start_time": "2022-12-29T16:17:05.791Z"
   },
   {
    "duration": 47,
    "start_time": "2022-12-29T16:17:05.832Z"
   },
   {
    "duration": 8,
    "start_time": "2022-12-29T16:19:59.297Z"
   },
   {
    "duration": 46,
    "start_time": "2022-12-29T16:20:00.512Z"
   },
   {
    "duration": 1265,
    "start_time": "2022-12-30T04:08:59.450Z"
   },
   {
    "duration": 200,
    "start_time": "2022-12-30T04:09:00.717Z"
   },
   {
    "duration": 20,
    "start_time": "2022-12-30T04:09:00.918Z"
   },
   {
    "duration": 27,
    "start_time": "2022-12-30T04:09:00.940Z"
   },
   {
    "duration": 7,
    "start_time": "2022-12-30T04:09:00.968Z"
   },
   {
    "duration": 40,
    "start_time": "2022-12-30T04:09:00.976Z"
   },
   {
    "duration": 4,
    "start_time": "2022-12-30T04:09:01.018Z"
   },
   {
    "duration": 16,
    "start_time": "2022-12-30T04:09:01.023Z"
   },
   {
    "duration": 24,
    "start_time": "2022-12-30T04:09:01.040Z"
   },
   {
    "duration": 24,
    "start_time": "2022-12-30T04:09:01.067Z"
   },
   {
    "duration": 11,
    "start_time": "2022-12-30T04:09:01.092Z"
   },
   {
    "duration": 19,
    "start_time": "2022-12-30T04:09:01.105Z"
   },
   {
    "duration": 28,
    "start_time": "2022-12-30T04:09:01.126Z"
   },
   {
    "duration": 17,
    "start_time": "2022-12-30T04:09:01.156Z"
   },
   {
    "duration": 168,
    "start_time": "2022-12-30T04:09:01.176Z"
   },
   {
    "duration": 127,
    "start_time": "2022-12-30T04:09:01.346Z"
   },
   {
    "duration": 11,
    "start_time": "2022-12-30T04:09:01.475Z"
   },
   {
    "duration": 34,
    "start_time": "2022-12-30T04:09:01.488Z"
   },
   {
    "duration": 308,
    "start_time": "2022-12-30T04:09:01.524Z"
   },
   {
    "duration": 216,
    "start_time": "2022-12-30T04:09:01.834Z"
   },
   {
    "duration": 371,
    "start_time": "2022-12-30T04:09:02.051Z"
   },
   {
    "duration": 225,
    "start_time": "2022-12-30T04:09:02.423Z"
   },
   {
    "duration": 290,
    "start_time": "2022-12-30T04:09:02.650Z"
   },
   {
    "duration": 7,
    "start_time": "2022-12-30T04:09:02.941Z"
   },
   {
    "duration": 139,
    "start_time": "2022-12-30T04:09:02.949Z"
   },
   {
    "duration": 4,
    "start_time": "2022-12-30T04:09:03.090Z"
   },
   {
    "duration": 151,
    "start_time": "2022-12-30T04:09:03.096Z"
   },
   {
    "duration": 4,
    "start_time": "2022-12-30T04:09:03.250Z"
   },
   {
    "duration": 150,
    "start_time": "2022-12-30T04:09:03.255Z"
   },
   {
    "duration": 9,
    "start_time": "2022-12-30T04:09:03.407Z"
   },
   {
    "duration": 11,
    "start_time": "2022-12-30T04:09:03.418Z"
   },
   {
    "duration": 8,
    "start_time": "2022-12-30T04:09:03.431Z"
   },
   {
    "duration": 38,
    "start_time": "2022-12-30T04:09:03.440Z"
   },
   {
    "duration": 91,
    "start_time": "2022-12-30T04:09:03.479Z"
   },
   {
    "duration": 9,
    "start_time": "2022-12-30T04:09:03.571Z"
   },
   {
    "duration": 10,
    "start_time": "2022-12-30T04:09:03.582Z"
   },
   {
    "duration": 53,
    "start_time": "2022-12-30T04:09:03.593Z"
   },
   {
    "duration": 19,
    "start_time": "2022-12-30T04:09:03.648Z"
   },
   {
    "duration": 1184,
    "start_time": "2022-12-30T04:21:15.284Z"
   },
   {
    "duration": 83,
    "start_time": "2022-12-30T04:21:16.471Z"
   },
   {
    "duration": 25,
    "start_time": "2022-12-30T04:21:16.556Z"
   },
   {
    "duration": 36,
    "start_time": "2022-12-30T04:21:16.583Z"
   },
   {
    "duration": 7,
    "start_time": "2022-12-30T04:21:16.622Z"
   },
   {
    "duration": 20,
    "start_time": "2022-12-30T04:21:16.631Z"
   },
   {
    "duration": 16,
    "start_time": "2022-12-30T04:21:16.653Z"
   },
   {
    "duration": 19,
    "start_time": "2022-12-30T04:21:16.671Z"
   },
   {
    "duration": 17,
    "start_time": "2022-12-30T04:21:16.692Z"
   },
   {
    "duration": 13,
    "start_time": "2022-12-30T04:21:16.711Z"
   },
   {
    "duration": 11,
    "start_time": "2022-12-30T04:21:16.726Z"
   },
   {
    "duration": 17,
    "start_time": "2022-12-30T04:21:16.739Z"
   },
   {
    "duration": 22,
    "start_time": "2022-12-30T04:21:16.757Z"
   },
   {
    "duration": 32,
    "start_time": "2022-12-30T04:21:16.782Z"
   },
   {
    "duration": 169,
    "start_time": "2022-12-30T04:21:16.816Z"
   },
   {
    "duration": 139,
    "start_time": "2022-12-30T04:21:16.987Z"
   },
   {
    "duration": 12,
    "start_time": "2022-12-30T04:21:17.127Z"
   },
   {
    "duration": 11,
    "start_time": "2022-12-30T04:21:17.140Z"
   },
   {
    "duration": 295,
    "start_time": "2022-12-30T04:21:17.152Z"
   },
   {
    "duration": 219,
    "start_time": "2022-12-30T04:21:17.449Z"
   },
   {
    "duration": 344,
    "start_time": "2022-12-30T04:21:17.670Z"
   },
   {
    "duration": 232,
    "start_time": "2022-12-30T04:21:18.016Z"
   },
   {
    "duration": 300,
    "start_time": "2022-12-30T04:21:18.249Z"
   },
   {
    "duration": 6,
    "start_time": "2022-12-30T04:21:18.551Z"
   },
   {
    "duration": 141,
    "start_time": "2022-12-30T04:21:18.558Z"
   },
   {
    "duration": 12,
    "start_time": "2022-12-30T04:21:18.701Z"
   },
   {
    "duration": 152,
    "start_time": "2022-12-30T04:21:18.714Z"
   },
   {
    "duration": 6,
    "start_time": "2022-12-30T04:21:18.867Z"
   },
   {
    "duration": 133,
    "start_time": "2022-12-30T04:21:18.874Z"
   },
   {
    "duration": 4,
    "start_time": "2022-12-30T04:21:19.012Z"
   },
   {
    "duration": 9,
    "start_time": "2022-12-30T04:21:19.018Z"
   },
   {
    "duration": 11,
    "start_time": "2022-12-30T04:21:19.029Z"
   },
   {
    "duration": 40,
    "start_time": "2022-12-30T04:21:19.043Z"
   },
   {
    "duration": 109,
    "start_time": "2022-12-30T04:21:19.086Z"
   },
   {
    "duration": 22,
    "start_time": "2022-12-30T04:21:19.197Z"
   },
   {
    "duration": 7,
    "start_time": "2022-12-30T04:21:19.220Z"
   },
   {
    "duration": 59,
    "start_time": "2022-12-30T04:21:19.229Z"
   },
   {
    "duration": 23,
    "start_time": "2022-12-30T04:21:19.289Z"
   }
  ],
  "kernelspec": {
   "display_name": "Python 3 (ipykernel)",
   "language": "python",
   "name": "python3"
  },
  "language_info": {
   "codemirror_mode": {
    "name": "ipython",
    "version": 3
   },
   "file_extension": ".py",
   "mimetype": "text/x-python",
   "name": "python",
   "nbconvert_exporter": "python",
   "pygments_lexer": "ipython3",
   "version": "3.9.12"
  },
  "toc": {
   "base_numbering": 1,
   "nav_menu": {},
   "number_sections": true,
   "sideBar": true,
   "skip_h1_title": true,
   "title_cell": "Table of Contents",
   "title_sidebar": "Contents",
   "toc_cell": false,
   "toc_position": {
    "height": "calc(100% - 180px)",
    "left": "10px",
    "top": "150px",
    "width": "331.264px"
   },
   "toc_section_display": true,
   "toc_window_display": false
  }
 },
 "nbformat": 4,
 "nbformat_minor": 4
}
